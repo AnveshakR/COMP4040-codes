{
 "cells": [
  {
   "cell_type": "code",
   "execution_count": 3,
   "metadata": {},
   "outputs": [],
   "source": [
    "from random import choice, randint\n",
    "\n",
    "def myhash(key):\n",
    "    hash_value = 7 \n",
    "    for i in range(len(key)):\n",
    "        hash_value = hash_value * 31 + ord(key[i])\n",
    "        return hash_value\n",
    "\n",
    "class HashTable:\n",
    "    def __init__(self):\n",
    "        self.capacity = 8\n",
    "        self.size = 0\n",
    "        self.array = [0] * self.capacity\n",
    "        self.expansions = 0 # counter for expansions\n",
    "        self.contractions = 0 # counter for contractions\n",
    "    \n",
    "    def place_item(self, key_val):\n",
    "        i = 0\n",
    "        placed = False\n",
    "        while not placed:\n",
    "\n",
    "\n",
    "            index = (myhash(key_val[0]) + i) % self.capacity\n",
    "            \n",
    "            if self.array[index] == key_val:\n",
    "                placed == True\n",
    "                \n",
    "            elif self.array[index] == 0:\n",
    "                self.array[index] = key_val\n",
    "                self.size += 1\n",
    "                placed = True\n",
    "                \n",
    "            i+=1\n",
    "                \n",
    "        if placed:\n",
    "            self.resize()\n",
    "    \n",
    "    def remove_item(self, key):\n",
    "        i = 0\n",
    "        removed = False\n",
    "        while not removed:\n",
    "            \n",
    "            index = (myhash(key) + i) % self.capacity\n",
    "            \n",
    "            if self.array[index] == 0:\n",
    "                i += 1\n",
    "            elif self.array[index][0] == key:\n",
    "                self.array[index] = 0\n",
    "                self.size -= 1\n",
    "                removed = True\n",
    "            \n",
    "            i += 1\n",
    "    \n",
    "        if removed:\n",
    "            self.resize()\n",
    "    \n",
    "    def resize(self):\n",
    "        \n",
    "        load_factor = self.size / self.capacity\n",
    "        \n",
    "        if load_factor >= 0.5: # expansion\n",
    "            self.capacity *= 2\n",
    "            new_array = [0] * self.capacity\n",
    "            \n",
    "            for item in self.array:\n",
    "                if item != 0 and type(item) == tuple:\n",
    "                    i = 0\n",
    "                    key = item[0]\n",
    "                    placed = False\n",
    "                    while not placed:\n",
    "                        index = (myhash(key) + i) % self.capacity \n",
    "                        if new_array[index] == 0:\n",
    "                            new_array[index] = item\n",
    "                            placed = True\n",
    "                        i += 1\n",
    "                            \n",
    "            self.array = new_array\n",
    "            self.expansions += 1\n",
    "\n",
    "        if load_factor <= 0.25: # contraction\n",
    "            \n",
    "            self.capacity = int(self.capacity / 2) \n",
    "            new_array = [0] * self.capacity\n",
    "            \n",
    "            for item in self.array:\n",
    "                if item != 0 and type(item) == tuple:\n",
    "                    i = 0\n",
    "                    key = item[0]\n",
    "                    placed = False\n",
    "                    while not placed:\n",
    "                        index = (myhash(key) + i) % self.capacity \n",
    "                        if new_array[index] == 0:\n",
    "                            new_array[index] = item\n",
    "                            placed = True\n",
    "                        i += 1\n",
    "                            \n",
    "            self.array = new_array\n",
    "            self.contractions += 1\n"
   ]
  },
  {
   "cell_type": "code",
   "execution_count": 15,
   "metadata": {},
   "outputs": [
    {
     "name": "stdout",
     "output_type": "stream",
     "text": [
      "number 0:  0011101101110000010011100100111111000100111010010010110111101010101010111101100010000011111001010110\n"
     ]
    },
    {
     "ename": "KeyboardInterrupt",
     "evalue": "",
     "output_type": "error",
     "traceback": [
      "\u001b[1;31m---------------------------------------------------------------------------\u001b[0m",
      "\u001b[1;31mKeyboardInterrupt\u001b[0m                         Traceback (most recent call last)",
      "\u001b[1;32mc:\\Users\\anves\\Documents\\UML\\COMP4040\\CA10.ipynb Cell 2\u001b[0m in \u001b[0;36m<cell line: 4>\u001b[1;34m()\u001b[0m\n\u001b[0;32m     <a href='vscode-notebook-cell:/c%3A/Users/anves/Documents/UML/COMP4040/CA10.ipynb#W1sZmlsZQ%3D%3D?line=22'>23</a>\u001b[0m         key_val \u001b[39m=\u001b[39m choice(keys)\n\u001b[0;32m     <a href='vscode-notebook-cell:/c%3A/Users/anves/Documents/UML/COMP4040/CA10.ipynb#W1sZmlsZQ%3D%3D?line=23'>24</a>\u001b[0m         keys\u001b[39m.\u001b[39mremove(key_val)\n\u001b[1;32m---> <a href='vscode-notebook-cell:/c%3A/Users/anves/Documents/UML/COMP4040/CA10.ipynb#W1sZmlsZQ%3D%3D?line=24'>25</a>\u001b[0m         table\u001b[39m.\u001b[39;49mremove_item(key_val)\n\u001b[0;32m     <a href='vscode-notebook-cell:/c%3A/Users/anves/Documents/UML/COMP4040/CA10.ipynb#W1sZmlsZQ%3D%3D?line=26'>27</a>\u001b[0m expansion_count\u001b[39m.\u001b[39mappend(table\u001b[39m.\u001b[39mexpansions)\n\u001b[0;32m     <a href='vscode-notebook-cell:/c%3A/Users/anves/Documents/UML/COMP4040/CA10.ipynb#W1sZmlsZQ%3D%3D?line=27'>28</a>\u001b[0m contraction_count\u001b[39m.\u001b[39mappend(table\u001b[39m.\u001b[39mcontractions)\n",
      "\u001b[1;32mc:\\Users\\anves\\Documents\\UML\\COMP4040\\CA10.ipynb Cell 2\u001b[0m in \u001b[0;36mHashTable.remove_item\u001b[1;34m(self, key)\u001b[0m\n\u001b[0;32m     <a href='vscode-notebook-cell:/c%3A/Users/anves/Documents/UML/COMP4040/CA10.ipynb#W1sZmlsZQ%3D%3D?line=48'>49</a>\u001b[0m         \u001b[39mself\u001b[39m\u001b[39m.\u001b[39msize \u001b[39m-\u001b[39m\u001b[39m=\u001b[39m \u001b[39m1\u001b[39m\n\u001b[0;32m     <a href='vscode-notebook-cell:/c%3A/Users/anves/Documents/UML/COMP4040/CA10.ipynb#W1sZmlsZQ%3D%3D?line=49'>50</a>\u001b[0m         removed \u001b[39m=\u001b[39m \u001b[39mTrue\u001b[39;00m\n\u001b[1;32m---> <a href='vscode-notebook-cell:/c%3A/Users/anves/Documents/UML/COMP4040/CA10.ipynb#W1sZmlsZQ%3D%3D?line=51'>52</a>\u001b[0m     i \u001b[39m+\u001b[39m\u001b[39m=\u001b[39m \u001b[39m1\u001b[39m\n\u001b[0;32m     <a href='vscode-notebook-cell:/c%3A/Users/anves/Documents/UML/COMP4040/CA10.ipynb#W1sZmlsZQ%3D%3D?line=53'>54</a>\u001b[0m \u001b[39mif\u001b[39;00m removed:\n\u001b[0;32m     <a href='vscode-notebook-cell:/c%3A/Users/anves/Documents/UML/COMP4040/CA10.ipynb#W1sZmlsZQ%3D%3D?line=54'>55</a>\u001b[0m     \u001b[39mself\u001b[39m\u001b[39m.\u001b[39mresize()\n",
      "\u001b[1;31mKeyboardInterrupt\u001b[0m: "
     ]
    }
   ],
   "source": [
    "expansion_count = []\n",
    "contraction_count = []\n",
    "\n",
    "for j in range(20):\n",
    "\n",
    "    binary = \"\"\n",
    "    table = HashTable()\n",
    "    keys = []\n",
    "\n",
    "    for i in range(100):\n",
    "        binary += str(choice([0,1]))\n",
    "\n",
    "    print(\"number {}: \".format(j), binary)\n",
    "\n",
    "    for digit in binary:\n",
    "\n",
    "        if digit == '1':\n",
    "            num = randint(100,999)\n",
    "            keys.append(str(num))\n",
    "            table.place_item((str(num), num))\n",
    "\n",
    "        if digit == '0' and len(keys) > 0:\n",
    "            key_val = choice(keys)\n",
    "            keys.remove(key_val)\n",
    "            table.remove_item(key_val)\n",
    "\n",
    "    expansion_count.append(table.expansions)\n",
    "    contraction_count.append(table.contractions)\n",
    "\n",
    "    del table"
   ]
  },
  {
   "cell_type": "code",
   "execution_count": 10,
   "metadata": {},
   "outputs": [
    {
     "name": "stdout",
     "output_type": "stream",
     "text": [
      "average expansions =  6.8\n",
      "average expansions =  6.95\n"
     ]
    }
   ],
   "source": [
    "print(\"average expansions = \", (sum(expansion_count)/len(expansion_count)))\n",
    "print(\"average expansions = \", (sum(contraction_count)/len(contraction_count)))"
   ]
  },
  {
   "cell_type": "code",
   "execution_count": null,
   "metadata": {},
   "outputs": [],
   "source": []
  }
 ],
 "metadata": {
  "kernelspec": {
   "display_name": "Python 3",
   "language": "python",
   "name": "python3"
  },
  "language_info": {
   "codemirror_mode": {
    "name": "ipython",
    "version": 3
   },
   "file_extension": ".py",
   "mimetype": "text/x-python",
   "name": "python",
   "nbconvert_exporter": "python",
   "pygments_lexer": "ipython3",
   "version": "3.8.6"
  },
  "orig_nbformat": 4,
  "vscode": {
   "interpreter": {
    "hash": "e2cde104f4d18245c788b079dac12b495c585d850f7488bacbf703b0b6afa06c"
   }
  }
 },
 "nbformat": 4,
 "nbformat_minor": 2
}
