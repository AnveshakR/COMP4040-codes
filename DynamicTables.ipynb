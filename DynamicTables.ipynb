{
 "cells": [
  {
   "cell_type": "code",
   "execution_count": 1,
   "id": "3328018a",
   "metadata": {
    "ExecuteTime": {
     "end_time": "2022-08-26T18:43:55.575745Z",
     "start_time": "2022-08-26T18:43:55.544400Z"
    }
   },
   "outputs": [],
   "source": [
    "from collections import namedtuple\n",
    "\n",
    "TableEntry = namedtuple('Element', 'hash key value')\n",
    "\n",
    "class HashTable(object):\n",
    "    DEFAULT_SIZE = 8\n",
    "    EMPTY_VALUE = TableEntry(None, None, None)\n",
    "    DELETED_VALUE = TableEntry(None, None, None)\n",
    "    LOAD_FACTOR = 1/2\n",
    "    MIN_FACTOR = 1/4\n",
    "\n",
    "    def __init__(self):\n",
    "        self.container = [self.EMPTY_VALUE] * self.DEFAULT_SIZE\n",
    "        self.size = 0\n",
    "        self.deleted_size = 0\n",
    "        self.container_size = self.DEFAULT_SIZE\n",
    "    \n",
    "    def __len__(self):\n",
    "        return self.size\n",
    "    \n",
    "    def __contains__(self, key):\n",
    "        try:\n",
    "            _ = self.get(key)\n",
    "            return True\n",
    "        except KeyError:\n",
    "            return False\n",
    "\n",
    "    def _resize(self):\n",
    "        old_container = self.container\n",
    "        old_size = self.size\n",
    "        self.container_size = int(old_size // self.MIN_FACTOR)\n",
    "        self.container = [self.EMPTY_VALUE] * self.container_size\n",
    "        self.size = 0\n",
    "        self.deleted_size = 0\n",
    "        for element in old_container:\n",
    "            if element is not self.EMPTY_VALUE and element is not self.DELETED_VALUE:\n",
    "                self.set(element.key, element.value)\n",
    "\n",
    "    def __repr__(self):\n",
    "        tokens = []\n",
    "        for element in self.container:\n",
    "            if element is not self.EMPTY_VALUE and element is not self.DELETED_VALUE:\n",
    "                tokens.append(\"{0} : {1}\".format(element.key, element.value))\n",
    "        return \"{\" + \"\\n\".join(tokens) + \"}\"\n",
    "\n",
    "    def _get_entry(self, key):\n",
    "        \"\"\" Return (E0,E1) where E0 is the value or EMPTY_VALUE\n",
    "        E1 is the index where it was found or if E0 is\n",
    "        EMPTY_VALUE then the next insert index for the given key\n",
    "        \"\"\"\n",
    "        key_hash = hash(key)\n",
    "        root_index = key_hash\n",
    "        for offset in range(self.container_size):\n",
    "            index = (root_index + offset) % self.container_size\n",
    "            element = self.container[index]\n",
    "            if element is self.EMPTY_VALUE \\\n",
    "                or element.hash == key_hash and element.key == key:\n",
    "                return (element, index)\n",
    "        raise KeyError\n",
    "\n",
    "    def set(self, key, value):\n",
    "        entry, index = self._get_entry(key)\n",
    "        self.container[index] = TableEntry(hash(key), key, value)\n",
    "        if entry is self.EMPTY_VALUE:\n",
    "            self.size += 1\n",
    "        if (self.deleted_size + self.size) / self.container_size > self.LOAD_FACTOR:\n",
    "            self._resize()\n",
    "    \n",
    "    def __setitem__(self, key, value):\n",
    "        self.set(key, value)\n",
    "\n",
    "    def get(self, key):\n",
    "        entry, _ = self._get_entry(key)\n",
    "        if entry is self.EMPTY_VALUE:\n",
    "            raise KeyError('Key {0} not in hash table'.format(key))\n",
    "        else:\n",
    "            return entry.value\n",
    "            \n",
    "    def __getitem__(self, key):\n",
    "        return self.get(key)\n",
    "\n",
    "    def delete(self, key):\n",
    "        entry, index = self._get_entry(key)\n",
    "        if entry is self.EMPTY_VALUE:\n",
    "            raise KeyError('Key {0} not in hash table'.format(key))\n",
    "        else:\n",
    "            self.container[index] = self.DELETED_VALUE\n",
    "            self.size -= 1\n",
    "            self.deleted_size += 1\n",
    "    \n",
    "    def __delitem__(self, key):\n",
    "        self.delete(key)"
   ]
  },
  {
   "cell_type": "code",
   "execution_count": 2,
   "id": "bf672518",
   "metadata": {
    "ExecuteTime": {
     "end_time": "2022-08-26T18:45:51.712613Z",
     "start_time": "2022-08-26T18:45:51.692980Z"
    }
   },
   "outputs": [],
   "source": [
    "class MyHashSet(object):\n",
    "\n",
    "    def __init__(self):\n",
    "        \"\"\"\n",
    "        Initialize your data structure here.\n",
    "        \"\"\"\n",
    "        self.capacity = 8\n",
    "        self.size = 0\n",
    "        self.s = [None]*8\n",
    "        self.lf = float(2)/3\n",
    "        \n",
    "    def myhash(self, key): # can be modified to hash other hashable objects like built in python hash function\n",
    "        return key % self.capacity\n",
    "        \n",
    "\n",
    "    def add(self, key):\n",
    "        \"\"\"\n",
    "        :type key: int\n",
    "        :rtype: void\n",
    "        \"\"\"\n",
    "        if float(self.size)/self.capacity >= self.lf:\n",
    "            self.capacity <<= 1\n",
    "            ns = [None]*self.capacity\n",
    "            for i in range(self.capacity >> 1):\n",
    "                if self.s[i] and self.s[i] != \"==TOMBSTONE==\":\n",
    "                    n = self.myhash(self.s[i])\n",
    "                    while ns[n] is not None:\n",
    "                        n = (5*n+1)%self.capacity\n",
    "                    ns[n] = self.s[i]\n",
    "            self.s = ns\n",
    "        h = self.myhash(key)\n",
    "        while self.s[h] is not None:\n",
    "            if self.s[h] == key:\n",
    "                return\n",
    "            h = (5*h + 1) % self.capacity\n",
    "            if self.s[h] == \"==TOMBSTONE==\":\n",
    "                break\n",
    "        self.s[h] = key\n",
    "        self.size += 1\n",
    "        \n",
    "        \n",
    "\n",
    "    def remove(self, key):\n",
    "        \"\"\"\n",
    "        :type key: int\n",
    "        :rtype: void\n",
    "        \"\"\"\n",
    "        h = self.myhash(key)\n",
    "        while self.s[h]:\n",
    "            if self.s[h] == key:\n",
    "                self.s[h] = \"==TOMBSTONE==\"\n",
    "                self.size -= 1\n",
    "                return\n",
    "            h = (5*h+1)%self.capacity\n",
    "        \n",
    "\n",
    "    def contains(self, key):\n",
    "        \"\"\"\n",
    "        Returns true if this set contains the specified element\n",
    "        :type key: int\n",
    "        :rtype: bool\n",
    "        \"\"\"\n",
    "        h = self.myhash(key)\n",
    "        while self.s[h] is not None:\n",
    "            if self.s[h] == key:\n",
    "                return True\n",
    "            h = (5*h + 1)%self.capacity\n",
    "        return False"
   ]
  },
  {
   "cell_type": "code",
   "execution_count": 13,
   "id": "f623e169",
   "metadata": {},
   "outputs": [
    {
     "name": "stdout",
     "output_type": "stream",
     "text": [
      "0110100001011100100010010010010000100000001000100010100000101001100110110000011101000011110110011001\n",
      "100\n"
     ]
    }
   ],
   "source": [
    "from random import choice\n",
    "num = \"\"\n",
    "\n",
    "for _ in range(20):\n",
    "    for i in range(100):\n",
    "        num += str(choice([1,0]))\n",
    "\n",
    "\n",
    "print(num)\n",
    "print(len(num))"
   ]
  },
  {
   "cell_type": "code",
   "execution_count": null,
   "id": "4bdaf978",
   "metadata": {},
   "outputs": [],
   "source": [
    "table = MyHashSet()\n",
    "table.add"
   ]
  },
  {
   "cell_type": "code",
   "execution_count": null,
   "id": "c444fe4b",
   "metadata": {},
   "outputs": [
    {
     "ename": "",
     "evalue": "",
     "output_type": "error",
     "traceback": [
      "\u001b[1;31mThe kernel failed to start as 'filefind' could not be imported from 'c:\\Users\\anves\\AppData\\Local\\Programs\\Python\\Python38\\lib\\site-packages\\traitlets\\utils\\__init__.py'.\n",
      "\u001b[1;31mClick <a href='https://aka.ms/kernelFailuresModuleImportErrFromFile'>here</a> for more info."
     ]
    }
   ],
   "source": [
    "num = 0\n",
    "for _ in range(2):\n",
    "    for i in range(10):\n",
    "        num += 10**i * (choice([1,0]))\n",
    "\n",
    "    print(num)\n",
    "\n",
    "    while(num>=0):\n",
    "        temp = num%10\n",
    "        print(temp)\n",
    "        num /= 10"
   ]
  }
 ],
 "metadata": {
  "kernelspec": {
   "display_name": "Python 3",
   "language": "python",
   "name": "python3"
  },
  "language_info": {
   "codemirror_mode": {
    "name": "ipython",
    "version": 3
   },
   "file_extension": ".py",
   "mimetype": "text/x-python",
   "name": "python",
   "nbconvert_exporter": "python",
   "pygments_lexer": "ipython3",
   "version": "3.8.6 (tags/v3.8.6:db45529, Sep 23 2020, 15:52:53) [MSC v.1927 64 bit (AMD64)]"
  },
  "toc": {
   "base_numbering": 1,
   "nav_menu": {},
   "number_sections": true,
   "sideBar": true,
   "skip_h1_title": false,
   "title_cell": "Table of Contents",
   "title_sidebar": "Contents",
   "toc_cell": false,
   "toc_position": {},
   "toc_section_display": true,
   "toc_window_display": false
  },
  "varInspector": {
   "cols": {
    "lenName": 16,
    "lenType": 16,
    "lenVar": 40
   },
   "kernels_config": {
    "python": {
     "delete_cmd_postfix": "",
     "delete_cmd_prefix": "del ",
     "library": "var_list.py",
     "varRefreshCmd": "print(var_dic_list())"
    },
    "r": {
     "delete_cmd_postfix": ") ",
     "delete_cmd_prefix": "rm(",
     "library": "var_list.r",
     "varRefreshCmd": "cat(var_dic_list()) "
    }
   },
   "types_to_exclude": [
    "module",
    "function",
    "builtin_function_or_method",
    "instance",
    "_Feature"
   ],
   "window_display": false
  },
  "vscode": {
   "interpreter": {
    "hash": "e2cde104f4d18245c788b079dac12b495c585d850f7488bacbf703b0b6afa06c"
   }
  }
 },
 "nbformat": 4,
 "nbformat_minor": 5
}
