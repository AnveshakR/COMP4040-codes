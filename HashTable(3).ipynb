{
 "cells": [
  {
   "cell_type": "markdown",
   "id": "0cbe4d1c",
   "metadata": {},
   "source": [
    "# Hash Functions and Hash Tables\n",
    "\n",
    "A hash table is a data structure to store data for fast searching. In particular, it is often implemented as an array of buckets holding your data and the data is indexed by hashing their keys using a hash function that converts a text string into an integer referred to as hash value. The hash value of the key modular the bucket size determines the index of the bucket to hold the data with that key.\n",
    "\n",
    "In Python there’s no need to create your custom implementation of hash functions and hash tables since you may directly use built-in hash function hash(), and directly use dictionaries as hash tables. \n",
    "\n",
    "From the point of learning hash functions and hash tables, it helps to see Python code to create both."
   ]
  },
  {
   "cell_type": "code",
   "execution_count": 1,
   "id": "9e04d58e",
   "metadata": {
    "ExecuteTime": {
     "end_time": "2022-10-31T18:28:51.639766Z",
     "start_time": "2022-10-31T18:28:51.602491Z"
    }
   },
   "outputs": [
    {
     "name": "stdout",
     "output_type": "stream",
     "text": [
      "[[('Canada', 'Ottawa')],\n",
      " [],\n",
      " [('United States', 'Washington D.C.'), ('Italy', 'Rome')],\n",
      " [('France', 'Paris')]]\n",
      "The capital of Italy is Rome\n"
     ]
    }
   ],
   "source": [
    "import pprint\n",
    "\n",
    "def myhash(key): # key is a text string\n",
    "    hash_value = 7; # better use a prime number and 7 is a prime\n",
    "    for i in range(len(key)):\n",
    "        hash_value = hash_value * 31 + ord(key[i]) # better use a prime number and 31 is a prime\n",
    "        return hash_value\n",
    "\n",
    "class Hashtable:\n",
    "    def __init__(self, elements):\n",
    "        self.bucket_size = len(elements)\n",
    "        self.buckets = [[] for _ in range(self.bucket_size)]\n",
    "        self._assign_buckets(elements)\n",
    "        \n",
    "    def _assign_buckets(self, elements):\n",
    "        for key, value in elements:\n",
    "            hashed_value = myhash(key)\n",
    "            #print(type(hashed_value))\n",
    "            index = hashed_value % self.bucket_size\n",
    "            self.buckets[index].append((key, value))\n",
    "\n",
    "    def get_value(self, input_key):\n",
    "        hashed_value = myhash(input_key)\n",
    "        index = hashed_value % self.bucket_size\n",
    "        bucket = self.buckets[index]\n",
    "        for key, value in bucket:\n",
    "            if key == input_key:\n",
    "                return(value)\n",
    "        return None\n",
    "\n",
    "    def __str__(self):\n",
    "        return pprint.pformat(self.buckets) # here pformat is used to return a printable representation of the object\n",
    "\n",
    "if __name__ == \"__main__\":\n",
    "     capitals = [\n",
    "        ('France', 'Paris'),\n",
    "        ('United States', 'Washington D.C.'),\n",
    "        ('Italy', 'Rome'),\n",
    "        ('Canada', 'Ottawa')\n",
    "    ]\n",
    "hashtable = Hashtable(capitals)\n",
    "print(hashtable)\n",
    "print(f\"The capital of Italy is {hashtable.get_value('Italy')}\")\n"
   ]
  },
  {
   "cell_type": "markdown",
   "id": "ed9cd40a",
   "metadata": {},
   "source": [
    "# Collision Remedies\n",
    "\n",
    "When two different keys having the same hash value, a collison occurs. This will happen when we are dealing with a large data set. When two keys collide, the common remedy is to create a linked list (a chain) to store the data with these keys under the same bucket. To search for data with a given key, we first identify the bucket for the key, and then use a linear search to find the data with the key in the linked list. So we want to have a hash function that would uniformly distribute the hash values so that the length of each chain is approximately the same. \n",
    "\n",
    "The Hashtables() function we built above uses a simple division method, which works quite well in practice. Namely, let $b$ denote the number of buckets and $k$ be the integer \"converted\" from the input key string, then $k \\% b$ is pretty evenly distributed.  \n",
    "\n",
    "Let $\\alpha = n/b$. Then in a hash table in which collisions are resolved by chaining, a successful search\n",
    "takes expected time $O(1+\\alpha)$ under the assumption of simple uniform hashing. This result is intuitive enough to see it. We can formally prove this result as follows: \n",
    "\n",
    "We assume that the element being searched for is equally likely to be any\n",
    "of the $n$ elements stored in the table. Note the an element inserted into a chain is either in the front or at the end (but only one should be followed throughout), which takes $O(1)$ time. Let $x_1, \\ldots, x_n$ be the elements inserted into the hashtable in this order. Let $x_i$ be just inserted into the table. Then any element $x_j$ that collides with $x_i$ after $x_i$ is inserted must have $j > i$.\n",
    "The number of elements examined during a\n",
    "successful search for an element $x_i$ is one more than the number of elements that\n",
    "appear after $x_i$ (assuming insertion is at the end). This is because elements before $x_i$ in the list were all inserted after $x_i$ was inserted.\n",
    "\n",
    "Under our assumption, we have $p(\\mbox{keys $k_i$ and $k_j$ collide}) = 1/b$. Let $X_{ij}$ be a random variable such taht $X_{ij} = 1$ if $x_i$ and $x_j$ collide, and 0 otherwise. Thus, $E[X_{ij}] = 1/b$. Then the expected number of elements examined in a successful search on an $n$-element hashtable, assuming that each element is equaly likely to be searched for, is\n",
    "\\begin{align*}\n",
    "&E\\left[\\left(1 + \\sum_{i=1}^n \\sum_{j=i+1}^n X_{ij}\\right)\\right] \\\\\n",
    "&= 1 + E\\left[\\sum_{i=1}^n\\sum_{j=i+1}^n X_{ij}\\right] \\\\\n",
    "&= 1 + \\frac{1}{nb}\\sum_{i=1}^n (n-i) \\\\\n",
    "&= 1 + \\frac{n(n-1)}{2nb} \\\\\n",
    "&= 1 + \\frac{\\alpha}{2} - \\frac{\\alpha}{2n} \\\\\n",
    "&< 1 + \\frac{\\alpha}{2}.\n",
    "\\end{align*}\n",
    "This completes the proof."
   ]
  },
  {
   "cell_type": "code",
   "execution_count": 5,
   "id": "46d7d702",
   "metadata": {
    "ExecuteTime": {
     "end_time": "2022-10-31T18:37:25.812604Z",
     "start_time": "2022-10-31T18:37:25.792756Z"
    }
   },
   "outputs": [],
   "source": [
    "# Capacity for internal array\n",
    "INITIAL_CAPACITY = 50\n",
    "\n",
    "# Node data structure - essentially a LinkedList node\n",
    "class Node:\n",
    "    def __init__(self, key, value):\n",
    "        self.key = key\n",
    "        self.value = value\n",
    "        self.next = None\n",
    "    def __str__(self):\n",
    "        return \"<Node: (%s, %s), next: %s>\" % (self.key, self.value, self.next != None)\n",
    "    def __repr__(self):\n",
    "        return str(self)\n",
    "\n",
    "# Hash table with separate chaining to resolve collision\n",
    "class HashTable:\n",
    "    # Initialize hash table\n",
    "    def __init__(self):\n",
    "        self.capacity = INITIAL_CAPACITY\n",
    "        self.size = 0\n",
    "        self.buckets = [None]*self.capacity\n",
    "    \n",
    "    # Generate a hash for a given key\n",
    "    # Input:  key - string\n",
    "    # Output: Index from 0 to self.capacity\n",
    "    # same as myhash(key) defined earlier\n",
    "    def hash(self, key):\n",
    "        hash_value = 7; # better use a prime number and 7 is a prime\n",
    "        for i in range(len(key)):\n",
    "            hash_value = hash_value * 31 + ord(key[i]) # better use a prime number and 31 is a prime\n",
    "        # Perform modulus to keep hash_value in range [0, self.capacity - 1]\n",
    "        hash_value = hash_value % self.capacity\n",
    "        return hash_value\n",
    "\n",
    "    # Insert a key,value pair to the hashtable\n",
    "    # Input:  key - string\n",
    "    #         value - anything\n",
    "    # Output: void\n",
    "    def insert(self, key, value):\n",
    "        # 1. Increment size\n",
    "        self.size += 1\n",
    "        # 2. Compute index of key\n",
    "        index = self.hash(key)\n",
    "        # Go to the node corresponding to the hash\n",
    "        node = self.buckets[index]\n",
    "        # 3. If bucket is empty:\n",
    "        if node is None:\n",
    "            # Create node, add it, return\n",
    "            self.buckets[index] = Node(key, value)\n",
    "            return\n",
    "        # 4. Iterate to the end of the linked list at provided index\n",
    "        prev = node\n",
    "        while node is not None:\n",
    "            prev = node\n",
    "            node = node.next\n",
    "        # Add a new node at the end of the list with provided key/value\n",
    "        prev.next = Node(key, value)\n",
    "\n",
    "    # Search a data value based on key\n",
    "    # Input:  key - string\n",
    "    # Output: value stored under \"key\" or None if not found\n",
    "    def search(self, key):\n",
    "        # 1. Compute hash\n",
    "        index = self.hash(key)\n",
    "        # 2. Go to first node in list at bucket\n",
    "        node = self.buckets[index]\n",
    "        # 3. Traverse the linked list at this node\n",
    "        while node is not None and node.key != key:\n",
    "            node = node.next\n",
    "        # 4. Now, node is the requested key/value pair or None\n",
    "        if node is None:\n",
    "            # Not found\n",
    "            return None\n",
    "        else:\n",
    "            # Found - return the data value\n",
    "            return node.value\n",
    "\n",
    "    # Remove node stored at key\n",
    "    # Input:  key - string\n",
    "    # Output: removed data value or None if not found\n",
    "    def remove(self, key):\n",
    "        # 1. Compute hash\n",
    "        index = self.hash(key)\n",
    "        node = self.buckets[index]\n",
    "        prev = None\n",
    "        # 2. Iterate to the requested node\n",
    "        while node is not None and node.key != key:\n",
    "            prev = node\n",
    "            node = node.next\n",
    "        # Now, node is either the requested node or none\n",
    "        if node is None:\n",
    "            # 3. Key not found\n",
    "            return None\n",
    "        else:\n",
    "            # 4. The key was found.\n",
    "            self.size -= 1\n",
    "            result = node.value\n",
    "            # Delete this element in linked list\n",
    "            if prev is None:\n",
    "                self.buckets[index] = node.next # May be None, or the next match\n",
    "            else:\n",
    "                prev.next = prev.next.next # LinkedList delete by skipping over\n",
    "            # Return the deleted result \n",
    "            return result"
   ]
  },
  {
   "cell_type": "code",
   "execution_count": 6,
   "id": "3f4cdf8f",
   "metadata": {
    "ExecuteTime": {
     "end_time": "2022-10-31T18:37:29.881969Z",
     "start_time": "2022-10-31T18:37:29.875657Z"
    }
   },
   "outputs": [
    {
     "name": "stdout",
     "output_type": "stream",
     "text": [
      "['555-555-5555', '444-444-4444']\n"
     ]
    }
   ],
   "source": [
    "# Create a new HashTable\n",
    "\n",
    "ht = HashTable()\n",
    "# Create some data to be stored\n",
    "\n",
    "phone_numbers = [\"555-555-5555\", \"444-444-4444\"]\n",
    "# Insert our data under the key \"phoneDirectory\"\n",
    "\n",
    "ht.insert(\"phoneDirectory\", phone_numbers)\n",
    "# Do whatever we need with the phone_numbers variable\n",
    "\n",
    "phone_numbers = None\n",
    "# Later on...\n",
    "\n",
    "# Retrieve the data we stored in the HashTable\n",
    "\n",
    "phone_numbers = ht.search(\"phoneDirectory\")\n",
    "# search() retrieved our list object\n",
    "\n",
    "print(phone_numbers)\n",
    "# phone_numbers is now equal to [\"555-555-5555\", \"444-444-4444\"]"
   ]
  },
  {
   "cell_type": "code",
   "execution_count": 7,
   "id": "ece4f847",
   "metadata": {
    "ExecuteTime": {
     "end_time": "2022-10-31T18:37:36.547479Z",
     "start_time": "2022-10-31T18:37:36.491111Z"
    }
   },
   "outputs": [
    {
     "name": "stderr",
     "output_type": "stream",
     "text": [
      "test_capacity (__main__.TestHashTable) ... ok\n",
      "test_hash (__main__.TestHashTable) ... ok\n",
      "test_insert (__main__.TestHashTable) ... ok\n",
      "test_issue2 (__main__.TestHashTable) ... ok\n",
      "test_remove (__main__.TestHashTable) ... ok\n",
      "test_search (__main__.TestHashTable) ... ok\n",
      "\n",
      "----------------------------------------------------------------------\n",
      "Ran 6 tests in 0.022s\n",
      "\n",
      "OK\n"
     ]
    },
    {
     "data": {
      "text/plain": [
       "<unittest.main.TestProgram at 0x7f8ab0134e80>"
      ]
     },
     "execution_count": 7,
     "metadata": {},
     "output_type": "execute_result"
    }
   ],
   "source": [
    "#from hashtable import HashTable\n",
    "import unittest\n",
    "\n",
    "class TestHashTable(unittest.TestCase):\n",
    "    def setUp(self):\n",
    "        self.ht = HashTable()\n",
    "    def test_hash(self):\n",
    "        self.assertEqual(self.ht.hash(\"hello\"), self.ht.hash(\"hello\"))\n",
    "        self.assertTrue(self.ht.hash(\"hello\") < self.ht.capacity)\n",
    "    def test_insert(self):\n",
    "        self.assertEqual(self.ht.size, 0)\n",
    "        self.ht.insert(\"test_key\", \"test_value\")\n",
    "        self.assertEqual(self.ht.size, 1)\n",
    "        self.assertEqual(self.ht.buckets[self.ht.hash(\"test_key\")].value, \"test_value\")\n",
    "    def test_search(self):\n",
    "        self.assertEqual(self.ht.size, 0)\n",
    "        obj = \"hello\"\n",
    "        self.ht.insert(\"key1\", obj)\n",
    "        self.assertEqual(obj, self.ht.search(\"key1\"))\n",
    "        obj = [\"this\", \"is\", \"a\", \"list\"]\n",
    "        self.ht.insert(\"key2\", obj)\n",
    "        self.assertEqual(obj, self.ht.search(\"key2\"))\n",
    "    def test_remove(self):\n",
    "        self.assertEqual(self.ht.size, 0)\n",
    "        obj = \"test object\"\n",
    "        self.ht.insert(\"key1\", obj)\n",
    "        self.assertEqual(1, self.ht.size)\n",
    "        self.assertEqual(obj, self.ht.remove(\"key1\"))\n",
    "        self.assertEqual(0, self.ht.size)\n",
    "        self.assertEqual(None, self.ht.remove(\"some random key\"))\n",
    "    def test_capacity(self):\n",
    "        # Test all public methods in one run at a large capacity\n",
    "        for i in range(0,1000):\n",
    "            self.assertEqual(i, self.ht.size)\n",
    "            self.ht.insert(\"key\" + str(i), \"value\")\n",
    "        self.assertEqual(self.ht.size, 1000)\n",
    "        for i in range(0,1000):\n",
    "            self.assertEqual(1000-i, self.ht.size)\n",
    "            self.assertEqual(self.ht.search(\"key\" + str(i)), self.ht.remove(\"key\" + str(i)))\n",
    "    def test_issue2(self):\n",
    "        self.assertEqual(self.ht.size, 0)\n",
    "        self.ht.insert('A', 5)\n",
    "        self.assertEqual(self.ht.size, 1)\n",
    "        self.ht.insert('B', 10)\n",
    "        self.assertEqual(self.ht.size, 2)\n",
    "        self.ht.insert('Ball', 'hello')\n",
    "        self.assertEqual(self.ht.size, 3)\n",
    "\n",
    "        self.assertEqual(5, self.ht.remove('A'))\n",
    "        self.assertEqual(self.ht.size, 2)\n",
    "        self.assertEqual(None, self.ht.remove('A'))\n",
    "        self.assertEqual(self.ht.size, 2)\n",
    "        self.assertEqual(None, self.ht.remove('A'))\n",
    "        self.assertEqual(self.ht.size, 2)\n",
    "        \n",
    "unittest.main(argv=[''], verbosity=2, exit=False)"
   ]
  },
  {
   "cell_type": "code",
   "execution_count": null,
   "id": "42a3407f",
   "metadata": {},
   "outputs": [],
   "source": []
  }
 ],
 "metadata": {
  "kernelspec": {
   "display_name": "Python 3",
   "language": "python",
   "name": "python3"
  },
  "language_info": {
   "codemirror_mode": {
    "name": "ipython",
    "version": 3
   },
   "file_extension": ".py",
   "mimetype": "text/x-python",
   "name": "python",
   "nbconvert_exporter": "python",
   "pygments_lexer": "ipython3",
   "version": "3.8.6 (tags/v3.8.6:db45529, Sep 23 2020, 15:52:53) [MSC v.1927 64 bit (AMD64)]"
  },
  "toc": {
   "base_numbering": 1,
   "nav_menu": {},
   "number_sections": true,
   "sideBar": true,
   "skip_h1_title": false,
   "title_cell": "Table of Contents",
   "title_sidebar": "Contents",
   "toc_cell": false,
   "toc_position": {},
   "toc_section_display": true,
   "toc_window_display": false
  },
  "varInspector": {
   "cols": {
    "lenName": 16,
    "lenType": 16,
    "lenVar": 40
   },
   "kernels_config": {
    "python": {
     "delete_cmd_postfix": "",
     "delete_cmd_prefix": "del ",
     "library": "var_list.py",
     "varRefreshCmd": "print(var_dic_list())"
    },
    "r": {
     "delete_cmd_postfix": ") ",
     "delete_cmd_prefix": "rm(",
     "library": "var_list.r",
     "varRefreshCmd": "cat(var_dic_list()) "
    }
   },
   "types_to_exclude": [
    "module",
    "function",
    "builtin_function_or_method",
    "instance",
    "_Feature"
   ],
   "window_display": false
  },
  "vscode": {
   "interpreter": {
    "hash": "e2cde104f4d18245c788b079dac12b495c585d850f7488bacbf703b0b6afa06c"
   }
  }
 },
 "nbformat": 4,
 "nbformat_minor": 5
}
