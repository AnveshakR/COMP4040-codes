{
 "cells": [
  {
   "cell_type": "markdown",
   "metadata": {},
   "source": [
    "# Using lists as queues\n",
    "\n",
    "A queue is a list with one-side in and the other-side out: An item is entered one one side and removed on the other side. Thus, a queue is a first-in-first-out (FIFO) data structure, which is equivalent to last-in-last-out (LILO).\n",
    "\n",
    "Python emplementation of queues using lists are left to you as exercise. (Hint: Implementation is similar to that of stacks.)"
   ]
  },
  {
   "cell_type": "markdown",
   "metadata": {},
   "source": [
    "- enqueue\n",
    "- dequeue\n",
    "- traverse"
   ]
  },
  {
   "cell_type": "code",
   "execution_count": 2,
   "metadata": {},
   "outputs": [],
   "source": [
    "class Node:\n",
    "    def __init__(self, value):\n",
    "        # initializing node and its characteristics\n",
    "\n",
    "        self.value = value # data contained by the node\n",
    "        self.next = None # pointer to the location of the next node\n",
    "\n",
    "class Queue:\n",
    "    def __init__(self):\n",
    "        # initializing a queue and its characteristics\n",
    "\n",
    "        self.head = self.tail = None # head and tail point to the front and back of the queue respectively\n",
    "        self.size = 0 #size of the queue\n",
    "\n",
    "    def __str__(self):\n",
    "        # function for traversing and printing the queue\n",
    "\n",
    "        cursor = self.head\n",
    "        op = \"\"\n",
    "        while cursor:\n",
    "            op += \" - \" + (str(cursor.value))[::-1]\n",
    "            cursor = cursor.next\n",
    "        return (\"(tail) \" + op[::-1][:-3] + \" (head)\")\n",
    "\n",
    "    def getSize(self):\n",
    "        # function to get the size of the queue\n",
    "\n",
    "        return self.size\n",
    "\n",
    "    def isEmpty(self):\n",
    "        # function to check if the queue is empty\n",
    "\n",
    "        return self.size == 0\n",
    "\n",
    "    def Enqueue(self, item):\n",
    "        # function to add a node to the tail of the queue\n",
    "\n",
    "        print(\"Enqueued\")\n",
    "        node = Node(item)\n",
    "        self.size += 1\n",
    "        if self.tail == None:\n",
    "            self.head = self.tail = node # if queue is empty, make the incoming node both the head and tail\n",
    "\n",
    "            print(\"Queue: \", self)\n",
    "            return\n",
    "\n",
    "        self.tail.next = node # if queue has items, point the earlier tail node to the new node\n",
    "        self.tail = node # and then set the queue's tail to the new node\n",
    "\n",
    "        print(\"Queue: \", self)\n",
    "        return\n",
    "\n",
    "    def DeQueue(self):\n",
    "        # function to remove the node at the front of the queue\n",
    "\n",
    "        if self.isEmpty(): # checking if queue is empty because you cant dequeue an empty queue\n",
    "            print(\"Queue empty\")\n",
    "            return\n",
    "\n",
    "        print(\"Dequeued\")\n",
    "\n",
    "        node = self.head # \"relocating\" the head node to a different variable\n",
    "        self.head = node.next # pointing the head of the queue to the \"next\" node of the former head of the queue\n",
    "\n",
    "        if self.head == None: # if front of the queue is None, then it means the queue has become empty\n",
    "            self.rear = None # so we set the rear of the queue as None to match\n",
    "\n",
    "        print(\"Queue: \", self)\n",
    "\n",
    "        self.size -= 1"
   ]
  },
  {
   "cell_type": "code",
   "execution_count": 5,
   "metadata": {},
   "outputs": [
    {
     "name": "stdout",
     "output_type": "stream",
     "text": [
      "Enqueued\n",
      "Queue:  (tail) 20 (head)\n",
      "Enqueued\n",
      "Queue:  (tail) 40 - 20 (head)\n",
      "Enqueued\n",
      "Queue:  (tail) 60 - 40 - 20 (head)\n",
      "Dequeued\n",
      "Queue:  (tail) 60 - 40 (head)\n",
      "Dequeued\n",
      "Queue:  (tail) 60 (head)\n",
      "Dequeued\n",
      "Queue:  (tail)  (head)\n",
      "Queue empty\n"
     ]
    }
   ],
   "source": [
    "if __name__ == \"__main__\":\n",
    "    q = Queue()\n",
    "    q.Enqueue(20)\n",
    "    q.Enqueue(40)\n",
    "    q.Enqueue(60)\n",
    "    q.DeQueue()\n",
    "    q.DeQueue()\n",
    "    q.DeQueue()\n",
    "    q.DeQueue()"
   ]
  },
  {
   "cell_type": "code",
   "execution_count": null,
   "metadata": {},
   "outputs": [],
   "source": []
  }
 ],
 "metadata": {
  "kernelspec": {
   "display_name": "Python 3.8.6 64-bit",
   "language": "python",
   "name": "python3"
  },
  "language_info": {
   "codemirror_mode": {
    "name": "ipython",
    "version": 3
   },
   "file_extension": ".py",
   "mimetype": "text/x-python",
   "name": "python",
   "nbconvert_exporter": "python",
   "pygments_lexer": "ipython3",
   "version": "3.8.6"
  },
  "orig_nbformat": 4,
  "vscode": {
   "interpreter": {
    "hash": "e2cde104f4d18245c788b079dac12b495c585d850f7488bacbf703b0b6afa06c"
   }
  }
 },
 "nbformat": 4,
 "nbformat_minor": 2
}
