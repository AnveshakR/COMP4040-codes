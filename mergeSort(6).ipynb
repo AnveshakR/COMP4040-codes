{
 "cells": [
  {
   "cell_type": "markdown",
   "id": "e1683d89",
   "metadata": {},
   "source": [
    "# Divide and Conquer \n",
    "\n",
    "Divide and conquer is a common technique in algorithm designs. The idea is to break the original problem into subproblems of the same kind with smaller sizes, and keep breaking subproblems into subproblems of even smaller sizes until the size of a subproblem becomes so small that it's trivial to solve it. Then combine solutions to subproblems to form a solution to larger subproblems and keep on doing this combining business until a solution to the original problem is found. "
   ]
  },
  {
   "cell_type": "markdown",
   "id": "32c2359a",
   "metadata": {},
   "source": [
    "# Merge Sort\n",
    "\n",
    "Let's take a look at one of the simplest divide and conquer algorithm called merge sort. The task is to sort a list of numbers. This time we take a different approach. We keep dividing the list into halves until each subproblem only consists of one number, which is sorted. Then we keep merging sorted sublists into longer sorted lists until the original list is sorted.\n",
    "\n",
    "Here the divide part is straightforward. The conquer part (merging two sorted sublists into one longer sorted list) requires some work, but still quite simple:\n",
    "\n",
    "Let $L_1$ and $L_2$ be two sorted lists, both in ascending order. To merge $L_1$ and $L_2$ into a sorted list $L$, we compare $L_1[0]$ and $L_2[0]$, if $L_1[0] \\leq L_2[0]$, then place $L_1[0]$ into $L[0]$, and repeat the same procedure on $L_1[1]$ and $L_2[0]$. The case that $L_1[0] > L_2[0]$ is handled similarly: Place $L_2[0]$ into $L[0]$ and repeat the same procedure on $L_1[0]$ and $L_2[1]$. Keep doing this until we reach the end of one list. We append the remaining numbers of the other list to $L$ in the same their order.\n"
   ]
  },
  {
   "cell_type": "markdown",
   "id": "db802482",
   "metadata": {},
   "source": [
    "## Implementation of merge sort"
   ]
  },
  {
   "cell_type": "code",
   "execution_count": null,
   "id": "2210cdfb",
   "metadata": {
    "ExecuteTime": {
     "end_time": "2022-09-12T18:33:14.257302Z",
     "start_time": "2022-09-12T18:33:14.240592Z"
    }
   },
   "outputs": [],
   "source": [
    "# Python program for implementation of MergeSort\n",
    "\"\"\"\n",
    "Merges two sublists of list A.\n",
    "First sublist is A[p..q], \n",
    "Second sublist is A[q+1..r]\n",
    "\"\"\"\n",
    "def merge(A, p, q, r):\n",
    "    n_1 = q - p + 1\n",
    "    n_2 = r - q\n",
    "    \n",
    "    # create temp arrays\n",
    "    L = [0] * n_1\n",
    "    R = [0] * n_2\n",
    "    \n",
    "    # Copy data to temp arrays L[] and R[]\n",
    "    for i in range(n_1):\n",
    "        L[i] = A[p + i]\n",
    " \n",
    "    for j in range(n_2):\n",
    "        R[j] = A[q + 1 + j]\n",
    "        \n",
    "    # Merge L and R to A\n",
    "    i = 0     # Initial index of first sublist\n",
    "    j = 0     # Initial index of second sublist\n",
    "    k = p     # Initial index of merged sublist\n",
    " \n",
    "    while i < n_1 and j < n_2:\n",
    "        if L[i] <= R[j]:\n",
    "            A[k] = L[i]\n",
    "            i += 1\n",
    "        else:\n",
    "            A[k] = R[j]\n",
    "            j += 1\n",
    "        k += 1\n",
    " \n",
    "    # Copy the remaining elements of L, if there are any\n",
    "    while i < n_1:\n",
    "        A[k] = L[i]\n",
    "        i += 1\n",
    "        k += 1\n",
    " \n",
    "    # Copy the remaining elements of R, if there are any\n",
    "    while j < n_2:\n",
    "        A[k] = R[j]\n",
    "        j += 1\n",
    "        k += 1\n",
    "        \n",
    "    # Note that Python uses call by reference, and so here there is no need to return A"
   ]
  },
  {
   "cell_type": "code",
   "execution_count": null,
   "id": "8a814b61",
   "metadata": {
    "ExecuteTime": {
     "end_time": "2022-09-12T18:33:14.996385Z",
     "start_time": "2022-09-12T18:33:14.990417Z"
    }
   },
   "outputs": [],
   "source": [
    "def mergeSort_(A, l, r):\n",
    "    if l < r:\n",
    "        # Same as (l + r)//2, but helps to avoid overflow for large l + r\n",
    "        m = l + (r - l)//2 # take the floor of the middle point\n",
    " \n",
    "        # Sort first and second halves\n",
    "        mergeSort_(A, l, m) # divide recursively\n",
    "        mergeSort_(A, m + 1, r) # divide recursively\n",
    "        merge(A, l, m, r) # when recurrsion stops, merge"
   ]
  },
  {
   "cell_type": "code",
   "execution_count": null,
   "id": "58fbb97b",
   "metadata": {
    "ExecuteTime": {
     "end_time": "2022-09-12T18:33:15.668207Z",
     "start_time": "2022-09-12T18:33:15.664328Z"
    }
   },
   "outputs": [],
   "source": [
    "def mergeSort(A):\n",
    "    mergeSort_(A, 0, len(A) - 1)"
   ]
  },
  {
   "cell_type": "code",
   "execution_count": null,
   "id": "da6e4ece",
   "metadata": {
    "ExecuteTime": {
     "end_time": "2022-09-12T18:33:16.573158Z",
     "start_time": "2022-09-12T18:33:16.562446Z"
    }
   },
   "outputs": [],
   "source": [
    "# Driver code to test \n",
    "A = [20, 10, 12, 5, 5, 7, 4]\n",
    "n = len(A)\n",
    "print(\"Given list is\")\n",
    "for i in range(n):\n",
    "    print(\"%d\" % A[i], end=\" \")\n",
    "\n",
    "mergeSort(A)\n",
    "print(\"\\nSorted list is\")\n",
    "for i in range(n):\n",
    "    print(\"%d\" % A[i], end=\" \")"
   ]
  },
  {
   "cell_type": "code",
   "execution_count": null,
   "id": "a2db12ba",
   "metadata": {
    "ExecuteTime": {
     "end_time": "2022-09-12T18:33:17.677603Z",
     "start_time": "2022-09-12T18:33:17.670524Z"
    }
   },
   "outputs": [],
   "source": [
    "# Let's build a function to run insertion sort contineously\n",
    "def main():\n",
    "    while True: \n",
    "        A = input(\"Enter a sequence of numbers, separted by space: \")\n",
    "        A = list(map(int, A.split()))\n",
    "        mergeSort(A)\n",
    "        print(\"Sorted in ascending order: \", end='')\n",
    "        for i in range(len(A)):\n",
    "            print(A[i], end=' ')\n",
    "        print(\"\\n\")\n",
    "        answer = input(\"Want to continue? (yes or no)\")\n",
    "        if answer in {'yes', 'Yes', 'y', 'yes'}:\n",
    "            continue\n",
    "        else:\n",
    "            break\n",
    "    print(\"Good bye!\")"
   ]
  },
  {
   "cell_type": "code",
   "execution_count": null,
   "id": "a4c41977",
   "metadata": {
    "ExecuteTime": {
     "end_time": "2022-09-12T18:33:26.682917Z",
     "start_time": "2022-09-12T18:33:18.864672Z"
    }
   },
   "outputs": [],
   "source": [
    "main()"
   ]
  },
  {
   "cell_type": "markdown",
   "id": "5f9847f8",
   "metadata": {
    "ExecuteTime": {
     "end_time": "2022-08-07T20:25:13.727149Z",
     "start_time": "2022-08-07T20:25:13.719945Z"
    }
   },
   "source": [
    "import numpy as np\n",
    "int(np.ceil(7/2))"
   ]
  },
  {
   "cell_type": "markdown",
   "id": "521a90cc",
   "metadata": {},
   "source": [
    "## Time complexity analysis\n",
    "\n",
    "<b>Remark</b>: Should you find <b>any</b> of the following materials hard to follow, it means that you'd need to brush up your calculus. Implementations of algorithms and complexity analysis are equally important in this course. \n",
    "\n",
    "Time complexity of merging $L_1$ and $L_2$ is $c(l_1+l_2)$, where $len(L_i) = l_i$ for $i=1,2$, and $c>0$ is a fixed constant. (Why? If you find this statement hard to figure out, then it means that you'd need to brush up your basic programming understanding.)\n",
    "\n",
    "Let $T(n)$ denote the time for merge sort on a list of $n$ numbers. \n",
    "\n",
    "Assume that, for simplicity, $n$ is a power of 2. (You'd need to figure out why. If you have trouble figuring it out, then it means that you'd need to brush up your basic arithmetic understanding.) Then we have\n",
    "\\begin{align*}\n",
    "T(n) &= 2T(n/2) + cn \\\\\n",
    "& = 2(2T(n/2^2) + cn/2) + cn \\\\\n",
    "& = 2^2T(n/2^2) + 2cn \\\\\n",
    "& = \\cdots \\\\\n",
    "& = 2^kT(n/2^k) + kcn.\n",
    "\\end{align*}\n",
    "When $k = \\log n$ (we use $\\log$ to denote $\\log_2$), we have $T(n/2^k) = T(1)$. (Why? If you have trouble figuring it out, then it meeans that you'd need to brush up your understanding of logarithms.) That is, after $k$ iterations we reach subproblems of size 1, and the recurrence stops. Namely, \n",
    "$$T(n) = 2^{\\log n} T(1) + (\\log n)(cn) = O(n\\log n).$$\n",
    "Note that $n\\log n$ is much smaller than $n^2$, and so we have obtained an asymptoctically much faster sorting algorithm than insertion sort. \n",
    "\n",
    "$T(n) = 2T(n/2) + cn/2$ is referred to as a recurrence relation for the time complexity of the algorithm and $k = \\log n$ is the halting point, which comes from $n/2^k = 1$.\n",
    "\n",
    "What happens if $n$ is not a power of 2? (This is a harder part in analysis, but should still be within your reach. As mentioned earlier, if you find the following proof hard to follow, then it means that your calculus is rusty and you should brush it up yourself.) \n",
    "\n",
    "In this case we have\n",
    "$$T(n) = T(\\lfloor n/2 \\rfloor) + T(\\lceil n/2 \\rceil) + cn$$\n",
    "for some $c > 1$ and $T(1) = 1$. Note that in Python, $n//2 = \\lfloor n/2 \\rfloor$, while\n",
    "$\\text{np.ceil}(n/2) = \\lceil n/2 \\rceil$ under numpy. We suspect that $T(n) = O(n\\log n)$.\n",
    "\n",
    "It suffices to show that $T(n) \\leq c'n\\log n$ for some constant $c'>0$ when $n$ is sufficiently large.\n",
    "We do so using mathematical induction. \n",
    "\n",
    "We first note that $\\lim_{n\\rightarrow \\infty} \\log ((n+1)/n) = \\lim_{n\\rightarrow \\infty}\\log (1+1/n) = 0$. Thus,\n",
    "there is a fixed $n_0 > 1$ such that for all $n \\geq n_0$, we have $\\log ((n+1)/n) - 1/2 < 0$.\n",
    "Namely, $\\log (n+1) - 1/2 < \\log n$.\n",
    "Chose $c' = \\max\\{T(n_0), 2c\\}$. \n",
    "\n",
    "Induction basis: $n = n_0$. It's trivial, for $T(n_0) \\leq c' < c'n_0\\log n_0$. \n",
    "\n",
    "Induction hypothesis: Assume that for all $n_0 \\leq k \\leq n-1$, \n",
    "we have $T(k) \\leq c'k\\log k$.\n",
    "\n",
    "Induction step: Let $n > n_0$.\n",
    "\n",
    "Case 1: $n$ is even. Then\n",
    "$T(n) = 2T(n/2) + cn$. Since $n/2 \\leq n-1$, by induction hypthesis, we have $T(n/2) \\leq c' n/2 \\log (n/2)$.\n",
    "Thus, \n",
    "\\begin{align*}\n",
    "T(n) &\\leq c'n\\log(n/2) + cn \\\\\n",
    "&< c'n(\\log n - \\log 2 + 1/2) \\\\\n",
    "&= c'n(\\log n -1/2) \\\\\n",
    "&< c'n\\log n.\n",
    "\\end{align*}\n",
    "The induction step is proven. \n",
    "\n",
    "Case 2: $n$ is odd. Then\n",
    "$T(n) = T((n-1)/2) + T((n-1)/2 +1) + cn$. By induction hypothesis, we have $T((n-1)/2) \\leq c'(n-1)/2\\cdot \\log((n-1)/2) < c'(n-1)/2 \\cdot \\log((n-1)/2+1)$ and\n",
    "$T((n-1)/2+1) \\leq c'((n-1)/2+1)\\log ((n-1)/2+1)$. Thus,\n",
    "\\begin{align*}\n",
    "T(n) &< c'(n-1)/2\\log((n-1)/2+1) + c'((n-1)/2+1)\\log ((n-1)/2+1) + c'n/2 \\\\\n",
    "&= c'n(\\log((n-1)/2+1) + 1/2) \\\\\n",
    "&= c'n(\\log (n+1) -\\log 2 + 1/2 ) \\\\\n",
    "&= c'n(\\log(n+1) -1/2) \\\\\n",
    "&< c'n\\log n.\n",
    "\\end{align*}\n",
    "The induction step is proven.\n",
    "\n",
    "This completes the proof."
   ]
  },
  {
   "cell_type": "code",
   "execution_count": null,
   "id": "0fdd546f",
   "metadata": {
    "ExecuteTime": {
     "end_time": "2022-09-12T18:34:15.672804Z",
     "start_time": "2022-09-12T18:34:15.663160Z"
    }
   },
   "outputs": [],
   "source": [
    "import sys\n",
    " \n",
    "# adding a folder to the system path\n",
    "sys.path.append('../Week01')\n",
    "from InsertionSort import insertionSort"
   ]
  },
  {
   "cell_type": "code",
   "execution_count": null,
   "id": "51c51a38",
   "metadata": {
    "ExecuteTime": {
     "end_time": "2022-09-12T18:34:18.266648Z",
     "start_time": "2022-09-12T18:34:18.223038Z"
    }
   },
   "outputs": [],
   "source": [
    "import random\n",
    "\n",
    "data = [random.randrange(1, 100) for i in range(20_000)] # generate 20k random numbers\n",
    "print(data)"
   ]
  },
  {
   "cell_type": "code",
   "execution_count": null,
   "id": "ddb885f9",
   "metadata": {
    "ExecuteTime": {
     "end_time": "2022-09-12T18:34:48.213850Z",
     "start_time": "2022-09-12T18:34:31.566911Z"
    }
   },
   "outputs": [],
   "source": [
    "# Let's compare the running time between insertionSort and mergeSort\n",
    "print(\"Insertion Sort: \")\n",
    "insertionSort(data)\n",
    "print(\"Sorted in ascending order:\")\n",
    "for i in range(len(data)):\n",
    "    print(data[i], end=' ')\n",
    "print(\"\\n\")"
   ]
  },
  {
   "cell_type": "code",
   "execution_count": null,
   "id": "e8455bc5",
   "metadata": {
    "ExecuteTime": {
     "end_time": "2022-09-12T18:35:11.062971Z",
     "start_time": "2022-09-12T18:35:09.272824Z"
    }
   },
   "outputs": [],
   "source": [
    "print(\"Merge Sort: \")\n",
    "mergeSort(data)\n",
    "print(\"Sorted in ascending order:\")\n",
    "for i in range(len(data)):\n",
    "    print(data[i], end=' ')\n",
    "print(\"\\n\")"
   ]
  },
  {
   "cell_type": "code",
   "execution_count": null,
   "id": "b06072f3",
   "metadata": {},
   "outputs": [],
   "source": []
  }
 ],
 "metadata": {
  "kernelspec": {
   "display_name": "Python 3.8.6 64-bit",
   "language": "python",
   "name": "python3"
  },
  "language_info": {
   "codemirror_mode": {
    "name": "ipython",
    "version": 3
   },
   "file_extension": ".py",
   "mimetype": "text/x-python",
   "name": "python",
   "nbconvert_exporter": "python",
   "pygments_lexer": "ipython3",
   "version": "3.8.6"
  },
  "toc": {
   "base_numbering": 1,
   "nav_menu": {},
   "number_sections": true,
   "sideBar": true,
   "skip_h1_title": false,
   "title_cell": "Table of Contents",
   "title_sidebar": "Contents",
   "toc_cell": false,
   "toc_position": {
    "height": "calc(100% - 180px)",
    "left": "10px",
    "top": "150px",
    "width": "165px"
   },
   "toc_section_display": true,
   "toc_window_display": false
  },
  "varInspector": {
   "cols": {
    "lenName": 16,
    "lenType": 16,
    "lenVar": 40
   },
   "kernels_config": {
    "python": {
     "delete_cmd_postfix": "",
     "delete_cmd_prefix": "del ",
     "library": "var_list.py",
     "varRefreshCmd": "print(var_dic_list())"
    },
    "r": {
     "delete_cmd_postfix": ") ",
     "delete_cmd_prefix": "rm(",
     "library": "var_list.r",
     "varRefreshCmd": "cat(var_dic_list()) "
    }
   },
   "types_to_exclude": [
    "module",
    "function",
    "builtin_function_or_method",
    "instance",
    "_Feature"
   ],
   "window_display": false
  },
  "vscode": {
   "interpreter": {
    "hash": "e2cde104f4d18245c788b079dac12b495c585d850f7488bacbf703b0b6afa06c"
   }
  }
 },
 "nbformat": 4,
 "nbformat_minor": 5
}
