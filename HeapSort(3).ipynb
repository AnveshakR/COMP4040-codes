{
 "cells": [
  {
   "cell_type": "markdown",
   "id": "f6ca1997",
   "metadata": {},
   "source": [
    "# Heapsort\n",
    "\n",
    "Heapsort combines the better attributes of insertion sort and merge sort: it runs in time $O(n\\log n)$ like merge sort, and uses insertion operation like insertion sort, but on a balanced binary structure called heap. Using an appropriate data structure for designin algorithm is another algorithm design technique.\n",
    "\n",
    "A heap is a full binary tree except possibly the bottom (leaf) level, where each node holds a number such that for each non-leaf node, its number is greater than or equal to the largest numbers of its childen. The heap is also a good mechanis for implementing a priorty queue.\n",
    "\n",
    "Given a list (an array) $A$ of $n$ numbers, heapsort first builds a heap for these numbers, then repeat the following: (1) remove the root and place it to an array, and (2) heapify the remaining tree, until only one node is left.\n",
    "\n",
    "In particular, we view $A$ as a binary tree as follows: $A[0]$ is the root, $A[1]$ and $A[2]$ are the left child and the right child of the root, respectively. Recursively, for any $i \\leq \\lfloor n/2\\rfloor-1$, $A[2i+1]$ and $A[2i+2]$ are the left child and the right child of $A[i]$ (if exists), respectively. \n",
    "\n",
    "For example, let $A = [1, 2, 3, 4, 5, 6, 7]$ with $n = 7$. Let $i = 2$, then $A[5] = 6$ and $A[6] = 7$ are\n",
    "left and right child of $A[2] = 3$, respectively. If $A = [1, 2, 3, 4, 5, 6, 7, 8]$ with $n = 8$, then\n",
    "$A[3] = 4$, $A[7] = 8$ is the left child of $A[3]$, but $A[3]$ doesn't have a right child.\n",
    "\n",
    "Now we would need to place the largest number of a subtree to the root of the subtree by comparisons and swapping. Recursively, start from the root of the subtree at the lowest level and build a heap up. This procedure is called heapify."
   ]
  },
  {
   "cell_type": "code",
   "execution_count": 1,
   "id": "52d057bf",
   "metadata": {
    "ExecuteTime": {
     "end_time": "2022-09-21T13:39:04.741999Z",
     "start_time": "2022-09-21T13:39:04.726527Z"
    }
   },
   "outputs": [],
   "source": [
    "# To heapify subtree rooted at index i.\n",
    "# n is size of heap\n",
    "\n",
    "# Build a max heap\n",
    "def heapify_max(A, n, i):\n",
    "    largest = i # Initialize largest as root of the subtree\n",
    "    l = 2 * i + 1 # left = 2*i + 1\n",
    "    r = 2 * i + 2 # right = 2*i + 2\n",
    "\n",
    "    # See if left child of root exists and is\n",
    "    # greater than root\n",
    "    if l < n and A[i] < A[l]:\n",
    "        largest = l\n",
    "\n",
    "    # See if right child of root exists and is\n",
    "    # greater than root\n",
    "    if r < n and A[largest] < A[r]:\n",
    "        largest = r\n",
    "\n",
    "    # Change root, if needed\n",
    "    if largest != i:\n",
    "        A[i], A[largest] = A[largest], A[i] # swap\n",
    "        # Heapify the root.\n",
    "        heapify_max(A, n, largest)\n",
    "\n",
    "# Build a heap\n",
    "def buildHeap_max(A):\n",
    "    n = len(A)\n",
    "    # Build a maxheap.\n",
    "    # Since last parent will be at ((n//2)-1) we can start at that location.\n",
    "    # Build a heap from bottom up\n",
    "    for i in range(n // 2 - 1, -1, -1):\n",
    "        heapify_max(A, n, i)\n",
    "\n",
    "# The main function to sort an array of given size\n",
    "def heapSort_max(A):\n",
    "    n = len(A)\n",
    "    buildHeap_max(A)\n",
    "    # One by one extract elements\n",
    "    print('Sorted array is:', end= \" \")\n",
    "    for i in range(n - 1, -1, -1):\n",
    "        print(A[0], end=\" \")\n",
    "        A[i], A[0] = A[0], A[i] # swap\n",
    "        heapify_max(A, i, 0)\n"
   ]
  },
  {
   "cell_type": "code",
   "execution_count": 2,
   "id": "6e7a58b1",
   "metadata": {
    "ExecuteTime": {
     "end_time": "2022-09-21T13:39:05.452001Z",
     "start_time": "2022-09-21T13:39:05.446034Z"
    }
   },
   "outputs": [
    {
     "name": "stdout",
     "output_type": "stream",
     "text": [
      "Sorted array is: 13 12 11 10 9 7 6 5 2 1 "
     ]
    }
   ],
   "source": [
    "# Driver code to test above\n",
    "A = [10, 9, 12, 11, 13, 5, 6, 7, 2, 1]\n",
    "heapSort_max(A)\n"
   ]
  },
  {
   "cell_type": "markdown",
   "id": "1b3e52b2",
   "metadata": {},
   "source": [
    "# Complexity analysis\n",
    "\n",
    "For buildHeap($A$), we start from the subtrees at lowest level and build up the tree by moving up. Thus, when we move up to one level of the tree starting from the bottom, for each node at that level, it is the root of two subtrees that are already heaps. Thus, to make the new subtree a heap, the number of comparisions and swapping is propotional to the height $h$ of the subtree; namely, $ch$ for a constant $c > 0$. At the leaf level, there are no more than $n/2$ nodes, and the height of each node is 0. At a higher level there are $n/4$ nodes that are roots of subtrees of height 0 with the height of the subtree being 1. Let $h_{\\max} = \\log n$ be the height of the tree, then the number of operations is the following:\n",
    "\\begin{align*}\n",
    "& c(0 \\cdot n/2 + 1 \\cdot n/2^2 + 2 \\cdot n/2^3 + \\cdots h_{\\max} \\cdot 1) \\\\\n",
    "& = c \\cdot \\sum_{h=1}^{\\log n} \\frac{n}{2^{h+1}} \\\\\n",
    "& = \\frac{cn}{2} \\frac{1/2-1/2^{\\log n +1}}{1 - 1/2} \\\\\n",
    "& < cn/2 \\\\\n",
    "& = O(n).\n",
    "\\end{align*}\n",
    "\n",
    "For heapSort(A), we remove the number on the root, then heapify the remaining numbers, which takes $O(\\log m)$ operations with $m$ being the number of the corresponding subtree. Since $m \\leq n$ and there are $n$ numbers to move, heap sort takes $O(n \\log n)$ time."
   ]
  },
  {
   "cell_type": "markdown",
   "id": "c279972c",
   "metadata": {},
   "source": [
    "# Is Heapsort Stable?\n",
    "\n",
    "No. Reason: Operations can change the relative order of equivalent keys. \n",
    "\n",
    "Challenge question for you to think about: Can you make heapsort stable as an in-place algorithm?\n",
    "\n",
    "We could use additional information to use heapsort and reverse unstabled items back to the original order as follows:\n",
    "\n",
    "Let $A$ be the original list. Create a new array \n",
    "<code>B = [(A[i], i) for i in range(len(A))]</code>\n",
    "Then heapsort B on the first element. For the sorted array, still call it $B$, for those items with the same first element, sort these items on the second elements to restore the original order. Then out the first elements in order."
   ]
  },
  {
   "cell_type": "code",
   "execution_count": 19,
   "id": "35d267ed",
   "metadata": {
    "ExecuteTime": {
     "end_time": "2022-09-21T15:51:36.966128Z",
     "start_time": "2022-09-21T15:51:36.950637Z"
    }
   },
   "outputs": [
    {
     "data": {
      "text/plain": [
       "3.0"
      ]
     },
     "execution_count": 19,
     "metadata": {},
     "output_type": "execute_result"
    }
   ],
   "source": [
    "import math\n",
    "print(math.log(10,2)) # base 2, value 10\n",
    "print(math.log(10,2)//1) # the same as int(math.log(10,2))\n",
    "print"
   ]
  },
  {
   "cell_type": "code",
   "execution_count": null,
   "id": "beb98ffd",
   "metadata": {},
   "outputs": [],
   "source": []
  }
 ],
 "metadata": {
  "kernelspec": {
   "display_name": "Python 3.8.6 64-bit",
   "language": "python",
   "name": "python3"
  },
  "language_info": {
   "codemirror_mode": {
    "name": "ipython",
    "version": 3
   },
   "file_extension": ".py",
   "mimetype": "text/x-python",
   "name": "python",
   "nbconvert_exporter": "python",
   "pygments_lexer": "ipython3",
   "version": "3.8.6"
  },
  "toc": {
   "base_numbering": 1,
   "nav_menu": {},
   "number_sections": true,
   "sideBar": true,
   "skip_h1_title": false,
   "title_cell": "Table of Contents",
   "title_sidebar": "Contents",
   "toc_cell": false,
   "toc_position": {},
   "toc_section_display": true,
   "toc_window_display": false
  },
  "varInspector": {
   "cols": {
    "lenName": 16,
    "lenType": 16,
    "lenVar": 40
   },
   "kernels_config": {
    "python": {
     "delete_cmd_postfix": "",
     "delete_cmd_prefix": "del ",
     "library": "var_list.py",
     "varRefreshCmd": "print(var_dic_list())"
    },
    "r": {
     "delete_cmd_postfix": ") ",
     "delete_cmd_prefix": "rm(",
     "library": "var_list.r",
     "varRefreshCmd": "cat(var_dic_list()) "
    }
   },
   "types_to_exclude": [
    "module",
    "function",
    "builtin_function_or_method",
    "instance",
    "_Feature"
   ],
   "window_display": false
  },
  "vscode": {
   "interpreter": {
    "hash": "e2cde104f4d18245c788b079dac12b495c585d850f7488bacbf703b0b6afa06c"
   }
  }
 },
 "nbformat": 4,
 "nbformat_minor": 5
}
