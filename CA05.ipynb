{
 "cells": [
  {
   "cell_type": "markdown",
   "id": "5dcf48c3",
   "metadata": {},
   "source": [
    "Required: Generate at random an array of n = 1,000 numbers using a PRNG in the range from 1 to n. Build a BST on the array from left to right and compute the height of the BST. Repeat this process for n times, what is the average height? Note that the theoretical upper bound of the height of a BST built on n randomy generated numbers is log (n+3)(n+2)(n+1)/24, where each number has an equal chance to become the root of the BST (for a proof see your textbook on pages. 299 - 303 if you are interested in seeing it; otherwise, just take it as granted). Is your result close to the threotical upper bound? Explain your answer. \n",
    "    \n",
    "Optional (50 bonus points): In the above, change the value range to 1 to 20 and compute the average height. Is your average height about the same as that you obtained above? Explain why your result is what it is. \n"
   ]
  },
  {
   "cell_type": "code",
   "execution_count": 24,
   "id": "113e7e9f",
   "metadata": {},
   "outputs": [],
   "source": [
    "from __future__ import print_function\n",
    "import random\n",
    "\n",
    "class Node(object):\n",
    "\n",
    "    def __init__(self, data):\n",
    "\n",
    "        self.left = None\n",
    "        self.right = None\n",
    "        self.data = data\n",
    "\n",
    "    def insert(self, data):\n",
    "\n",
    "        if self.data:\n",
    "            if data < self.data:\n",
    "                if self.left is None:\n",
    "                    self.left = Node(data)\n",
    "                else:\n",
    "                    self.left.insert(data)\n",
    "            elif data > self.data:\n",
    "                if self.right is None:\n",
    "                    self.right = Node(data)\n",
    "                else:\n",
    "                    self.right.insert(data)\n",
    "        else:\n",
    "            self.data = data\n",
    "\n",
    "    def print_tree(self):\n",
    "\n",
    "        if self.left:\n",
    "            self.left.print_tree()\n",
    "        print(self.data, end=\" \")\n",
    "        if self.right:\n",
    "            self.right.print_tree()\n",
    "\n",
    "    def height(self, root):\n",
    "        if root is None:\n",
    "            return 0\n",
    "        else:\n",
    "            return max(self.height(root.left), self.height(root.right)) + 1"
   ]
  },
  {
   "cell_type": "code",
   "execution_count": 59,
   "id": "291307db",
   "metadata": {},
   "outputs": [],
   "source": [
    "from math import log\n",
    "from math import floor\n",
    "\n",
    "def get_stats(n):\n",
    "    bst = Node(n)\n",
    "    avg_height = []\n",
    "\n",
    "    for j in range(n):\n",
    "        arr = [random.choice(range(n)) for _ in range(n)]\n",
    "        for i in range(n):\n",
    "            bst.insert(arr[i])\n",
    "        avg_height.append(bst.height(bst))\n",
    "\n",
    "    print(\"For n = \",n)\n",
    "    print(\"Average Height: \".format(n), floor(sum(avg_height)/n))\n",
    "    print(\"Maximum Height: \", max(avg_height))\n",
    "\n",
    "    upper_bound = log(((n+3)*(n+2)*(n+1))/24, 2)\n",
    "    print(\"Upper bound is: \",floor(upper_bound))\n",
    "    print(\"\\n\")\n"
   ]
  },
  {
   "cell_type": "code",
   "execution_count": 64,
   "id": "f624894a",
   "metadata": {},
   "outputs": [
    {
     "name": "stdout",
     "output_type": "stream",
     "text": [
      "For n =  1000\n",
      "Average Height:  24\n",
      "Maximum Height:  24\n",
      "Upper bound is:  25\n",
      "\n",
      "\n",
      "For n =  20\n",
      "Average Height:  7\n",
      "Maximum Height:  8\n",
      "Upper bound is:  8\n",
      "\n",
      "\n"
     ]
    }
   ],
   "source": [
    "get_stats(1000)\n",
    "get_stats(20)"
   ]
  }
 ],
 "metadata": {
  "kernelspec": {
   "display_name": "Python 3",
   "language": "python",
   "name": "python3"
  },
  "language_info": {
   "codemirror_mode": {
    "name": "ipython",
    "version": 3
   },
   "file_extension": ".py",
   "mimetype": "text/x-python",
   "name": "python",
   "nbconvert_exporter": "python",
   "pygments_lexer": "ipython3",
   "version": "3.8.6"
  },
  "vscode": {
   "interpreter": {
    "hash": "e2cde104f4d18245c788b079dac12b495c585d850f7488bacbf703b0b6afa06c"
   }
  }
 },
 "nbformat": 4,
 "nbformat_minor": 5
}
