{
 "cells": [
  {
   "cell_type": "markdown",
   "id": "c6ffb06f",
   "metadata": {},
   "source": [
    "# Randomized Quicksort\n",
    "\n",
    "Quicksort is a three-way divide-and-conquer procedure for sorting an array. Let $A[p..r]$ be a subarray.\n",
    "\n",
    "Divide: Partition (rearrange) the array $A[p..r]$ into two (possibly empty) subarrays $A[p..q-1]$ and $A[q+1..r]$\n",
    "such that each element of $A[p..q-1]$ is less than or equal to $A[q]$, which, in turn, is less than or equal to\n",
    "every element of $A[q+1..r]$. Compute the index $q$ as part of the partition process. One way to do so is to select at random\n",
    "an element from $A[p..r]$ as a pivot and use comparisons and swaps to produce the partition. \n",
    "\n",
    "Conquer: Sort the two subarrays $A[p..q-1]$ and $A[q+1..r]$ by recursive calls to quicksort.\n",
    "\n",
    "Combine: Because the subarrays are already sorted, no work is needed to combine them: the entire array $A[p..r]$\n",
    "is now sorted.\n"
   ]
  },
  {
   "cell_type": "code",
   "execution_count": 22,
   "id": "7851a6e8",
   "metadata": {
    "ExecuteTime": {
     "end_time": "2022-09-20T14:05:32.609720Z",
     "start_time": "2022-09-20T14:05:32.595179Z"
    }
   },
   "outputs": [],
   "source": [
    "import random\n",
    "\n",
    "# Python program for implementation of Quicksort Sort using randomly selected pivot\n",
    " \n",
    "# This implementation utilizes pivot as the last element in A\n",
    "# It has a pointer to keep track of the elements smaller than the pivot\n",
    "# At the very end of partition() function, the pointer is swapped with the pivot\n",
    "# to come up with a \"sorted\" nums relative to the pivot\n",
    " \n",
    "def partitionR(A, p, r):\n",
    "    # Last element will be the pivot and the first element the pointer\n",
    "    j = random.randrange(p, r)\n",
    "    A[j], A[r] = A[r], A[j]\n",
    "    pivot, ptr = A[r], p\n",
    "    for i in range(p, r):\n",
    "        if A[i] < pivot: ### Pivot comparison\n",
    "            # Swapping values smaller than the pivot to the front\n",
    "            A[i], A[ptr] = A[ptr], A[i]\n",
    "            ptr += 1\n",
    "    # Finally swap the number at pivot location with the pointer-indexed number\n",
    "    A[ptr], A[r] = A[r], A[ptr]\n",
    "    return ptr\n",
    " \n",
    "# With quicksort() function, we will be utilizing the above code to obtain the pointer\n",
    "# at which the left values are all smaller than the number at pointer index and vice versa\n",
    "# for the right values.\n",
    " \n",
    "def quickSortR(A, p, r):\n",
    "    if len(A) == 1:  # Terminating Condition for recursion. VERY IMPORTANT!\n",
    "        return A\n",
    "    if p < r:\n",
    "        q = partitionR(A, p, r)\n",
    "        quickSortR(A, p, q - 1)  # Recursively sorting the left values\n",
    "        quickSortR(A, q + 1, r)  # Recursively sorting the right values\n",
    "    return A\n"
   ]
  },
  {
   "cell_type": "code",
   "execution_count": 21,
   "id": "8063d535",
   "metadata": {
    "ExecuteTime": {
     "end_time": "2022-09-20T14:01:13.035956Z",
     "start_time": "2022-09-20T14:01:13.028252Z"
    }
   },
   "outputs": [
    {
     "name": "stdout",
     "output_type": "stream",
     "text": [
      "[0, 1, 2, 3, 4, 5]\n",
      "[1, 2, 2, 3, 4, 4, 5, 6, 6, 7, 8]\n"
     ]
    }
   ],
   "source": [
    "A = [4, 5, 1, 2, 3, 0]\n",
    "#A = [1, 2, 3, 4, 5]\n",
    "print(quickSortR(A, 0, len(A)-1))\n",
    " \n",
    "B = [2, 5, 6, 1, 4, 6, 2, 4, 7, 8, 3]\n",
    "#B = [1, 2, 2, 4, 4, 5, 6, 6, 7, 8]\n",
    "# As you can see, it works for duplicates too\n",
    "print(quickSortR(B, 0, len(B)-1))\n",
    "\n"
   ]
  }
 ],
 "metadata": {
  "kernelspec": {
   "display_name": "Python 3.8.6 64-bit",
   "language": "python",
   "name": "python3"
  },
  "language_info": {
   "codemirror_mode": {
    "name": "ipython",
    "version": 3
   },
   "file_extension": ".py",
   "mimetype": "text/x-python",
   "name": "python",
   "nbconvert_exporter": "python",
   "pygments_lexer": "ipython3",
   "version": "3.8.6"
  },
  "toc": {
   "base_numbering": 1,
   "nav_menu": {},
   "number_sections": true,
   "sideBar": true,
   "skip_h1_title": false,
   "title_cell": "Table of Contents",
   "title_sidebar": "Contents",
   "toc_cell": false,
   "toc_position": {},
   "toc_section_display": true,
   "toc_window_display": true
  },
  "varInspector": {
   "cols": {
    "lenName": 16,
    "lenType": 16,
    "lenVar": 40
   },
   "kernels_config": {
    "python": {
     "delete_cmd_postfix": "",
     "delete_cmd_prefix": "del ",
     "library": "var_list.py",
     "varRefreshCmd": "print(var_dic_list())"
    },
    "r": {
     "delete_cmd_postfix": ") ",
     "delete_cmd_prefix": "rm(",
     "library": "var_list.r",
     "varRefreshCmd": "cat(var_dic_list()) "
    }
   },
   "types_to_exclude": [
    "module",
    "function",
    "builtin_function_or_method",
    "instance",
    "_Feature"
   ],
   "window_display": false
  },
  "vscode": {
   "interpreter": {
    "hash": "e2cde104f4d18245c788b079dac12b495c585d850f7488bacbf703b0b6afa06c"
   }
  }
 },
 "nbformat": 4,
 "nbformat_minor": 5
}
