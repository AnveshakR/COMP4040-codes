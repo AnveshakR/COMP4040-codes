{
 "cells": [
  {
   "cell_type": "markdown",
   "id": "da65fdb8",
   "metadata": {},
   "source": [
    "# Python Data Types\n",
    "\n",
    "Python supports the following built-in data types: lists, sets, dictionaries, and dataframes. We will use them to store and manage data. They can be used to implement your familiar data structures pretty easily. \n",
    "\n",
    "You may find the following online tutorials useful: \n",
    "<ol>\n",
    "    <li> <a>https://www.geeksforgeeks.org/</a>, \n",
    "    </li>\n",
    "    <li> <a> https://www.w3schools.com/python/default.asp</a>, \n",
    "    </li>\n",
    "    <li> <a>https://www.tutorialspoint.com/python/index.htm</a>.\n",
    "    </li>\n",
    "    </ol>"
   ]
  },
  {
   "cell_type": "markdown",
   "id": "ad5aff04",
   "metadata": {},
   "source": [
    "## Lists\n",
    "\n",
    "A list is a sequence of items, where some items may be the same and items may also be lists. For example, [] is an empty list, ['a'] is a list of letter a, ['a', 1] is a list, and [[],'b'] is a list. \n",
    "\n",
    "<b>List operations:</b> \n",
    "\n",
    "<ol>\n",
    "    <li> list.append(x): Add an item to the end of the list. Equivalent to a[len(a):] = [x].\n",
    "    </li>\n",
    "    <li> list.extend(iterable): Extend the list by appending all the items from the iterable. Equivalent to a[len(a):] = iterable.\n",
    "    </li>\n",
    "    <li> list.insert(i, x): Insert an item at a given position. The first argument is the index of the element before which to insert, so a.insert(0, x) inserts at the front of the list, and a.insert(len(a), x) is equivalent to a.append(x).\n",
    "    </li>\n",
    "    <li> list.remove(x): Remove the first item from the list whose value is equal to x. It raises a ValueError if there is no such item.\n",
    "    </li>\n",
    "<li>\n",
    "list.pop([i]):\n",
    "Remove the item at the given position in the list, and return it. If no index is specified, a.pop() removes and returns the last item in the list. (The square brackets around the i in the method signature denote that the parameter is optional, not that you should type square brackets at that position. You will see this notation frequently in the Python Library Reference.)\n",
    "    </li>\n",
    "<li> list.clear():\n",
    "Remove all items from the list. Equivalent to del a[:].\n",
    "    </li>\n",
    "<li>list.index(x[, start[, end]]):\n",
    "Return zero-based index in the list of the first item whose value is equal to x. Raises a ValueError if there is no such item.\n",
    "    \n",
    "The optional arguments start and end are interpreted as in the slice notation and are used to limit the search to a particular subsequence of the list. The returned index is computed relative to the beginning of the full sequence rather than the start argument.\n",
    "</li>\n",
    "<li>list.count(x):\n",
    "Return the number of times x appears in the list.\n",
    "    </li>\n",
    "    <li>\n",
    "list.sort(*, key=None, reverse=False):\n",
    "Sort the items of the list in place (the arguments can be used for sort customization, see sorted() for their explanation).\n",
    "    </li>\n",
    "<li> list.reverse():\n",
    "Reverse the elements of the list in place.\n",
    "    </li>\n",
    "<li> list.copy():\n",
    "Return a shallow copy of the list. Equivalent to a[:].\n",
    "    </li>\n",
    "    </ol>"
   ]
  },
  {
   "cell_type": "code",
   "execution_count": 1,
   "id": "a6d9aa24",
   "metadata": {
    "ExecuteTime": {
     "end_time": "2022-09-04T18:46:00.868992Z",
     "start_time": "2022-09-04T18:46:00.834607Z"
    }
   },
   "outputs": [
    {
     "data": {
      "text/plain": [
       "['orange', 'apple', 'pear', 'banana', 'kiwi', 'apple', 'banana']"
      ]
     },
     "execution_count": 1,
     "metadata": {},
     "output_type": "execute_result"
    }
   ],
   "source": [
    "fruits = ['orange', 'apple', 'pear', 'banana', 'kiwi', 'apple', 'banana']\n",
    "fruits"
   ]
  },
  {
   "cell_type": "code",
   "execution_count": 2,
   "id": "347bca25",
   "metadata": {
    "ExecuteTime": {
     "end_time": "2022-09-04T18:46:01.510355Z",
     "start_time": "2022-09-04T18:46:01.503932Z"
    }
   },
   "outputs": [
    {
     "data": {
      "text/plain": [
       "2"
      ]
     },
     "execution_count": 2,
     "metadata": {},
     "output_type": "execute_result"
    }
   ],
   "source": [
    "fruits.count('apple')"
   ]
  },
  {
   "cell_type": "code",
   "execution_count": 3,
   "id": "e297976e",
   "metadata": {
    "ExecuteTime": {
     "end_time": "2022-09-04T18:46:02.078146Z",
     "start_time": "2022-09-04T18:46:02.070151Z"
    }
   },
   "outputs": [
    {
     "data": {
      "text/plain": [
       "['orange', 'apple', 'pear', 'banana', 'Fuji apple', 'kiwi', 'apple', 'banana']"
      ]
     },
     "execution_count": 3,
     "metadata": {},
     "output_type": "execute_result"
    }
   ],
   "source": [
    "fruits.insert(4, 'Fuji apple')\n",
    "fruits"
   ]
  },
  {
   "cell_type": "code",
   "execution_count": 4,
   "id": "673f8943",
   "metadata": {
    "ExecuteTime": {
     "end_time": "2022-09-04T18:46:02.533591Z",
     "start_time": "2022-09-04T18:46:02.528059Z"
    }
   },
   "outputs": [
    {
     "data": {
      "text/plain": [
       "0"
      ]
     },
     "execution_count": 4,
     "metadata": {},
     "output_type": "execute_result"
    }
   ],
   "source": [
    "fruits.count('tangerine')"
   ]
  },
  {
   "cell_type": "code",
   "execution_count": 5,
   "id": "5df2d0d4",
   "metadata": {
    "ExecuteTime": {
     "end_time": "2022-09-04T18:46:02.796431Z",
     "start_time": "2022-09-04T18:46:02.790908Z"
    }
   },
   "outputs": [
    {
     "data": {
      "text/plain": [
       "3"
      ]
     },
     "execution_count": 5,
     "metadata": {},
     "output_type": "execute_result"
    }
   ],
   "source": [
    "fruits.index('banana')"
   ]
  },
  {
   "cell_type": "code",
   "execution_count": 6,
   "id": "70afc526",
   "metadata": {
    "ExecuteTime": {
     "end_time": "2022-09-04T18:46:03.277565Z",
     "start_time": "2022-09-04T18:46:03.270723Z"
    }
   },
   "outputs": [
    {
     "data": {
      "text/plain": [
       "7"
      ]
     },
     "execution_count": 6,
     "metadata": {},
     "output_type": "execute_result"
    }
   ],
   "source": [
    "fruits.index('banana', 4)  # Find next banana starting a position 4"
   ]
  },
  {
   "cell_type": "code",
   "execution_count": 7,
   "id": "60f2b39d",
   "metadata": {
    "ExecuteTime": {
     "end_time": "2022-09-04T18:46:03.563150Z",
     "start_time": "2022-09-04T18:46:03.557446Z"
    }
   },
   "outputs": [
    {
     "data": {
      "text/plain": [
       "['banana', 'apple', 'kiwi', 'Fuji apple', 'banana', 'pear', 'apple', 'orange']"
      ]
     },
     "execution_count": 7,
     "metadata": {},
     "output_type": "execute_result"
    }
   ],
   "source": [
    "fruits.reverse()\n",
    "fruits"
   ]
  },
  {
   "cell_type": "code",
   "execution_count": 8,
   "id": "925b3253",
   "metadata": {
    "ExecuteTime": {
     "end_time": "2022-09-04T18:46:03.850731Z",
     "start_time": "2022-09-04T18:46:03.845190Z"
    }
   },
   "outputs": [
    {
     "data": {
      "text/plain": [
       "['banana',\n",
       " 'apple',\n",
       " 'kiwi',\n",
       " 'Fuji apple',\n",
       " 'banana',\n",
       " 'pear',\n",
       " 'apple',\n",
       " 'orange',\n",
       " 'grape']"
      ]
     },
     "execution_count": 8,
     "metadata": {},
     "output_type": "execute_result"
    }
   ],
   "source": [
    "fruits.append('grape')\n",
    "fruits"
   ]
  },
  {
   "cell_type": "code",
   "execution_count": 9,
   "id": "92f0dfc9",
   "metadata": {
    "ExecuteTime": {
     "end_time": "2022-09-04T18:46:04.526246Z",
     "start_time": "2022-09-04T18:46:04.520702Z"
    }
   },
   "outputs": [
    {
     "data": {
      "text/plain": [
       "['Fuji apple',\n",
       " 'apple',\n",
       " 'apple',\n",
       " 'banana',\n",
       " 'banana',\n",
       " 'grape',\n",
       " 'kiwi',\n",
       " 'orange',\n",
       " 'pear']"
      ]
     },
     "execution_count": 9,
     "metadata": {},
     "output_type": "execute_result"
    }
   ],
   "source": [
    "fruits.sort()\n",
    "fruits"
   ]
  },
  {
   "cell_type": "code",
   "execution_count": 10,
   "id": "4430df63",
   "metadata": {
    "ExecuteTime": {
     "end_time": "2022-09-04T18:46:05.025455Z",
     "start_time": "2022-09-04T18:46:05.018642Z"
    }
   },
   "outputs": [
    {
     "data": {
      "text/plain": [
       "'pear'"
      ]
     },
     "execution_count": 10,
     "metadata": {},
     "output_type": "execute_result"
    }
   ],
   "source": [
    "fruits.pop()"
   ]
  },
  {
   "cell_type": "code",
   "execution_count": 11,
   "id": "e4c00cb2",
   "metadata": {
    "ExecuteTime": {
     "end_time": "2022-09-04T18:46:05.277181Z",
     "start_time": "2022-09-04T18:46:05.270923Z"
    }
   },
   "outputs": [
    {
     "data": {
      "text/plain": [
       "['Fuji apple', 'apple', 'apple', 'banana', 'banana', 'grape', 'kiwi', 'orange']"
      ]
     },
     "execution_count": 11,
     "metadata": {},
     "output_type": "execute_result"
    }
   ],
   "source": [
    "fruits"
   ]
  },
  {
   "cell_type": "code",
   "execution_count": 12,
   "id": "5df28ed5",
   "metadata": {
    "ExecuteTime": {
     "end_time": "2022-09-04T18:46:05.758410Z",
     "start_time": "2022-09-04T18:46:05.752019Z"
    }
   },
   "outputs": [
    {
     "data": {
      "text/plain": [
       "'banana'"
      ]
     },
     "execution_count": 12,
     "metadata": {},
     "output_type": "execute_result"
    }
   ],
   "source": [
    "fruits.pop(3)"
   ]
  },
  {
   "cell_type": "code",
   "execution_count": 13,
   "id": "0ddf8dcc",
   "metadata": {
    "ExecuteTime": {
     "end_time": "2022-09-04T18:46:05.984564Z",
     "start_time": "2022-09-04T18:46:05.979294Z"
    }
   },
   "outputs": [
    {
     "data": {
      "text/plain": [
       "['Fuji apple', 'apple', 'apple', 'banana', 'grape', 'kiwi', 'orange']"
      ]
     },
     "execution_count": 13,
     "metadata": {},
     "output_type": "execute_result"
    }
   ],
   "source": [
    "fruits"
   ]
  },
  {
   "cell_type": "code",
   "execution_count": 14,
   "id": "e90035d8",
   "metadata": {
    "ExecuteTime": {
     "end_time": "2022-09-04T18:46:06.255597Z",
     "start_time": "2022-09-04T18:46:06.250773Z"
    }
   },
   "outputs": [
    {
     "data": {
      "text/plain": [
       "[]"
      ]
     },
     "execution_count": 14,
     "metadata": {},
     "output_type": "execute_result"
    }
   ],
   "source": [
    "fruits.clear()\n",
    "fruits"
   ]
  },
  {
   "cell_type": "code",
   "execution_count": 15,
   "id": "f52409b9",
   "metadata": {
    "ExecuteTime": {
     "end_time": "2022-09-04T18:46:06.555373Z",
     "start_time": "2022-09-04T18:46:06.549806Z"
    }
   },
   "outputs": [
    {
     "data": {
      "text/plain": [
       "['a', []]"
      ]
     },
     "execution_count": 15,
     "metadata": {},
     "output_type": "execute_result"
    }
   ],
   "source": [
    "L = []\n",
    "L.append([])\n",
    "L.insert(0, 'a')\n",
    "L"
   ]
  },
  {
   "cell_type": "markdown",
   "id": "b0004903",
   "metadata": {},
   "source": [
    "### Using lists as stacks\n",
    "\n",
    "A stacks is a list with the same-side in and out: items are pushed in and popped out at the same side. Thus, a stack is a first-in-last-out (FILO) data structure, which is equivalent to last-in-first-out (LIFO)."
   ]
  },
  {
   "cell_type": "code",
   "execution_count": 16,
   "id": "1c3474a3",
   "metadata": {
    "ExecuteTime": {
     "end_time": "2022-09-04T18:46:23.482657Z",
     "start_time": "2022-09-04T18:46:23.475915Z"
    }
   },
   "outputs": [
    {
     "data": {
      "text/plain": [
       "[3, 4, 5, 6, 7]"
      ]
     },
     "execution_count": 16,
     "metadata": {},
     "output_type": "execute_result"
    }
   ],
   "source": [
    "stack = [3, 4, 5]\n",
    "stack.append(6)\n",
    "stack.append(7)\n",
    "stack"
   ]
  },
  {
   "cell_type": "code",
   "execution_count": 17,
   "id": "066008b6",
   "metadata": {
    "ExecuteTime": {
     "end_time": "2022-09-04T18:46:24.008607Z",
     "start_time": "2022-09-04T18:46:24.005946Z"
    }
   },
   "outputs": [
    {
     "data": {
      "text/plain": [
       "7"
      ]
     },
     "execution_count": 17,
     "metadata": {},
     "output_type": "execute_result"
    }
   ],
   "source": [
    "stack.pop()"
   ]
  },
  {
   "cell_type": "code",
   "execution_count": 18,
   "id": "79770bdf",
   "metadata": {
    "ExecuteTime": {
     "end_time": "2022-09-04T18:46:24.652674Z",
     "start_time": "2022-09-04T18:46:24.646140Z"
    }
   },
   "outputs": [
    {
     "data": {
      "text/plain": [
       "[3, 4, 5, 6]"
      ]
     },
     "execution_count": 18,
     "metadata": {},
     "output_type": "execute_result"
    }
   ],
   "source": [
    "stack"
   ]
  },
  {
   "cell_type": "code",
   "execution_count": 19,
   "id": "b1e9a2af",
   "metadata": {
    "ExecuteTime": {
     "end_time": "2022-09-04T18:46:25.435279Z",
     "start_time": "2022-09-04T18:46:25.429982Z"
    }
   },
   "outputs": [
    {
     "data": {
      "text/plain": [
       "6"
      ]
     },
     "execution_count": 19,
     "metadata": {},
     "output_type": "execute_result"
    }
   ],
   "source": [
    "stack.pop()"
   ]
  },
  {
   "cell_type": "code",
   "execution_count": 20,
   "id": "29d527d7",
   "metadata": {
    "ExecuteTime": {
     "end_time": "2022-09-04T18:46:26.167868Z",
     "start_time": "2022-09-04T18:46:26.162630Z"
    }
   },
   "outputs": [
    {
     "data": {
      "text/plain": [
       "[3, 4, 5]"
      ]
     },
     "execution_count": 20,
     "metadata": {},
     "output_type": "execute_result"
    }
   ],
   "source": [
    "stack"
   ]
  },
  {
   "cell_type": "markdown",
   "id": "72e4b41c",
   "metadata": {},
   "source": [
    "### List comprehensions\n",
    "\n",
    "List comprehensions provide a concise way to create lists. Common applications are to make new lists where each element is the result of some operations applied to each member of another sequence or iterable, or to create a subsequence of those elements that satisfy a certain condition."
   ]
  },
  {
   "cell_type": "code",
   "execution_count": 21,
   "id": "2afa4435",
   "metadata": {
    "ExecuteTime": {
     "end_time": "2022-06-23T03:58:46.850748Z",
     "start_time": "2022-06-23T03:58:46.847163Z"
    }
   },
   "outputs": [
    {
     "data": {
      "text/plain": [
       "[0, 1, 4, 9, 16, 25, 36, 49, 64, 81]"
      ]
     },
     "execution_count": 21,
     "metadata": {},
     "output_type": "execute_result"
    }
   ],
   "source": [
    "squares = []\n",
    "for x in range(10):\n",
    "    squares.append(x**2)\n",
    "squares"
   ]
  },
  {
   "cell_type": "code",
   "execution_count": 22,
   "id": "c77d0f36",
   "metadata": {
    "ExecuteTime": {
     "end_time": "2022-06-23T03:58:46.855764Z",
     "start_time": "2022-06-23T03:58:46.852254Z"
    }
   },
   "outputs": [
    {
     "data": {
      "text/plain": [
       "[0, 1, 4, 9, 16, 25, 36, 49, 64, 81]"
      ]
     },
     "execution_count": 22,
     "metadata": {},
     "output_type": "execute_result"
    }
   ],
   "source": [
    "squares = list(map(lambda x: x**2, range(10))) # a different implementation\n",
    "squares"
   ]
  },
  {
   "cell_type": "code",
   "execution_count": 23,
   "id": "f8dd5272",
   "metadata": {
    "ExecuteTime": {
     "end_time": "2022-06-23T03:58:46.860937Z",
     "start_time": "2022-06-23T03:58:46.857167Z"
    }
   },
   "outputs": [
    {
     "data": {
      "text/plain": [
       "[0, 1, 4, 9, 16, 25, 36, 49, 64, 81]"
      ]
     },
     "execution_count": 23,
     "metadata": {},
     "output_type": "execute_result"
    }
   ],
   "source": [
    "squares = [x**2 for x in range(10)] # yet another different implementation\n",
    "squares"
   ]
  },
  {
   "cell_type": "code",
   "execution_count": 24,
   "id": "daf35032",
   "metadata": {
    "ExecuteTime": {
     "end_time": "2022-06-23T03:58:46.866761Z",
     "start_time": "2022-06-23T03:58:46.862890Z"
    }
   },
   "outputs": [
    {
     "data": {
      "text/plain": [
       "[(1, 3), (1, 4), (2, 3), (2, 1), (2, 4), (3, 1), (3, 4)]"
      ]
     },
     "execution_count": 24,
     "metadata": {},
     "output_type": "execute_result"
    }
   ],
   "source": [
    "[(x, y) for x in [1,2,3] for y in [3,1,4] if x != y]"
   ]
  },
  {
   "cell_type": "code",
   "execution_count": 25,
   "id": "287127aa",
   "metadata": {
    "ExecuteTime": {
     "end_time": "2022-06-23T03:58:46.871178Z",
     "start_time": "2022-06-23T03:58:46.867929Z"
    }
   },
   "outputs": [
    {
     "data": {
      "text/plain": [
       "[(1, 3), (1, 4), (2, 3), (2, 1), (2, 4), (3, 1), (3, 4)]"
      ]
     },
     "execution_count": 25,
     "metadata": {},
     "output_type": "execute_result"
    }
   ],
   "source": [
    "combs = [] # or equivalently\n",
    "for x in [1,2,3]:\n",
    "    for y in [3,1,4]:\n",
    "        if x != y:\n",
    "            combs.append((x, y))\n",
    "combs"
   ]
  },
  {
   "cell_type": "code",
   "execution_count": 28,
   "id": "a0b0323a",
   "metadata": {
    "ExecuteTime": {
     "end_time": "2022-06-23T03:58:46.875015Z",
     "start_time": "2022-06-23T03:58:46.872376Z"
    }
   },
   "outputs": [
    {
     "data": {
      "text/plain": [
       "[-8, -4, 0, 4, 8]"
      ]
     },
     "execution_count": 28,
     "metadata": {},
     "output_type": "execute_result"
    }
   ],
   "source": [
    "vec = [-4, -2, 0, 2, 4]\n",
    "# create a new list with the values doubled\n",
    "[x*2 for x in vec]"
   ]
  },
  {
   "cell_type": "code",
   "execution_count": 29,
   "id": "3d09ce5e",
   "metadata": {
    "ExecuteTime": {
     "end_time": "2022-06-23T03:58:46.883079Z",
     "start_time": "2022-06-23T03:58:46.880231Z"
    }
   },
   "outputs": [
    {
     "data": {
      "text/plain": [
       "[0, 2, 4]"
      ]
     },
     "execution_count": 29,
     "metadata": {},
     "output_type": "execute_result"
    }
   ],
   "source": [
    "# filter the list to exclude negative numbers\n",
    "[x for x in vec if x >= 0]"
   ]
  },
  {
   "cell_type": "code",
   "execution_count": 30,
   "id": "52c55390",
   "metadata": {
    "ExecuteTime": {
     "end_time": "2022-06-23T03:58:46.886818Z",
     "start_time": "2022-06-23T03:58:46.883968Z"
    }
   },
   "outputs": [
    {
     "data": {
      "text/plain": [
       "[4, 2, 0, 2, 4]"
      ]
     },
     "execution_count": 30,
     "metadata": {},
     "output_type": "execute_result"
    }
   ],
   "source": [
    "# apply a function to all the elements\n",
    "[abs(x) for x in vec]"
   ]
  },
  {
   "cell_type": "code",
   "execution_count": 31,
   "id": "225ae1e4",
   "metadata": {
    "ExecuteTime": {
     "end_time": "2022-06-23T03:58:46.890384Z",
     "start_time": "2022-06-23T03:58:46.887969Z"
    }
   },
   "outputs": [
    {
     "data": {
      "text/plain": [
       "['banana', 'loganberry', 'passion fruit']"
      ]
     },
     "execution_count": 31,
     "metadata": {},
     "output_type": "execute_result"
    }
   ],
   "source": [
    "# call a method on each element\n",
    "freshfruit = ['  banana', '  loganberry ', 'passion fruit  ']\n",
    "[fruit.strip() for fruit in freshfruit]"
   ]
  },
  {
   "cell_type": "code",
   "execution_count": 32,
   "id": "f36a400b",
   "metadata": {
    "ExecuteTime": {
     "end_time": "2022-06-23T03:58:46.894028Z",
     "start_time": "2022-06-23T03:58:46.891470Z"
    }
   },
   "outputs": [
    {
     "data": {
      "text/plain": [
       "[(0, 0), (1, 1), (2, 4), (3, 9), (4, 16), (5, 25)]"
      ]
     },
     "execution_count": 32,
     "metadata": {},
     "output_type": "execute_result"
    }
   ],
   "source": [
    "# create a list of 2-tuples like (number, square)\n",
    "[(x, x**2) for x in range(6)]"
   ]
  },
  {
   "cell_type": "code",
   "execution_count": 33,
   "id": "7611e8b9",
   "metadata": {
    "ExecuteTime": {
     "end_time": "2022-06-23T03:58:46.897274Z",
     "start_time": "2022-06-23T03:58:46.895179Z"
    }
   },
   "outputs": [
    {
     "ename": "SyntaxError",
     "evalue": "invalid syntax (3265058268.py, line 2)",
     "output_type": "error",
     "traceback": [
      "\u001b[0;36m  Input \u001b[0;32mIn [33]\u001b[0;36m\u001b[0m\n\u001b[0;31m    [x, x**2 for x in range(6)]\u001b[0m\n\u001b[0m             ^\u001b[0m\n\u001b[0;31mSyntaxError\u001b[0m\u001b[0;31m:\u001b[0m invalid syntax\n"
     ]
    }
   ],
   "source": [
    "# the tuple must be parenthesized, otherwise an error is raised\n",
    "[x, x**2 for x in range(6)]"
   ]
  },
  {
   "cell_type": "code",
   "execution_count": 35,
   "id": "656d05eb",
   "metadata": {
    "ExecuteTime": {
     "end_time": "2022-06-23T03:59:21.079101Z",
     "start_time": "2022-06-23T03:59:21.064327Z"
    }
   },
   "outputs": [
    {
     "data": {
      "text/plain": [
       "[1, 2, 3, 4, 5, 6, 7, 8, 9]"
      ]
     },
     "execution_count": 35,
     "metadata": {},
     "output_type": "execute_result"
    }
   ],
   "source": [
    "# flatten a list using a listcomp with two 'for'\n",
    "vec_ = [[1,2,3], [4,5,6], [7,8,9]]\n",
    "[num for elem in vec_ for num in elem]"
   ]
  },
  {
   "cell_type": "markdown",
   "id": "ef836abd",
   "metadata": {},
   "source": [
    "List comprehensions can contain complex expressions and nested functions:"
   ]
  },
  {
   "cell_type": "code",
   "execution_count": 36,
   "id": "b6c9ef6c",
   "metadata": {
    "ExecuteTime": {
     "end_time": "2022-06-23T03:59:22.471695Z",
     "start_time": "2022-06-23T03:59:22.463620Z"
    }
   },
   "outputs": [
    {
     "data": {
      "text/plain": [
       "['3.1',\n",
       " '3.14',\n",
       " '3.142',\n",
       " '3.1416',\n",
       " '3.14159',\n",
       " '3.141593',\n",
       " '3.1415927',\n",
       " '3.14159265',\n",
       " '3.141592654',\n",
       " '3.1415926536',\n",
       " '3.14159265359']"
      ]
     },
     "execution_count": 36,
     "metadata": {},
     "output_type": "execute_result"
    }
   ],
   "source": [
    "from math import pi\n",
    "[str(round(pi, i)) for i in range(1, 12)]"
   ]
  },
  {
   "cell_type": "markdown",
   "id": "4724fc5f",
   "metadata": {},
   "source": [
    "### Nested list comprehensions\n",
    "\n",
    "The initial expression in a list comprehension can be any arbitrary expression, including another list comprehension."
   ]
  },
  {
   "cell_type": "code",
   "execution_count": 26,
   "id": "a8a44437",
   "metadata": {
    "ExecuteTime": {
     "end_time": "2022-06-23T03:59:24.533476Z",
     "start_time": "2022-06-23T03:59:24.525300Z"
    }
   },
   "outputs": [
    {
     "data": {
      "text/plain": [
       "[[1, 2, 3, 4], [5, 6, 7, 8], [9, 10, 11, 12]]"
      ]
     },
     "execution_count": 26,
     "metadata": {},
     "output_type": "execute_result"
    }
   ],
   "source": [
    "matrix = [\n",
    "    [1, 2, 3, 4],\n",
    "    [5, 6, 7, 8],\n",
    "    [9, 10, 11, 12],\n",
    "]\n",
    "matrix"
   ]
  },
  {
   "cell_type": "code",
   "execution_count": 38,
   "id": "a047b0be",
   "metadata": {
    "ExecuteTime": {
     "end_time": "2022-06-23T03:59:25.184015Z",
     "start_time": "2022-06-23T03:59:25.177795Z"
    }
   },
   "outputs": [
    {
     "data": {
      "text/plain": [
       "[1, 2, 3, 4]"
      ]
     },
     "execution_count": 38,
     "metadata": {},
     "output_type": "execute_result"
    }
   ],
   "source": [
    "matrix[0]"
   ]
  },
  {
   "cell_type": "markdown",
   "id": "c8f5d5a7",
   "metadata": {},
   "source": [
    "### Three ways to do transpose"
   ]
  },
  {
   "cell_type": "code",
   "execution_count": 39,
   "id": "0c33ec90",
   "metadata": {
    "ExecuteTime": {
     "end_time": "2022-06-23T03:59:26.471126Z",
     "start_time": "2022-06-23T03:59:26.468475Z"
    }
   },
   "outputs": [
    {
     "data": {
      "text/plain": [
       "[[1, 5, 9], [2, 6, 10], [3, 7, 11], [4, 8, 12]]"
      ]
     },
     "execution_count": 39,
     "metadata": {},
     "output_type": "execute_result"
    }
   ],
   "source": [
    "[[row[i] for row in matrix] for i in range(4)] # transposed of matrix"
   ]
  },
  {
   "cell_type": "code",
   "execution_count": 40,
   "id": "6839b140",
   "metadata": {
    "ExecuteTime": {
     "end_time": "2022-06-23T03:59:27.128729Z",
     "start_time": "2022-06-23T03:59:27.120241Z"
    }
   },
   "outputs": [
    {
     "data": {
      "text/plain": [
       "[[1, 5, 9], [2, 6, 10], [3, 7, 11], [4, 8, 12]]"
      ]
     },
     "execution_count": 40,
     "metadata": {},
     "output_type": "execute_result"
    }
   ],
   "source": [
    "# or equivalently\n",
    "transposed = [] \n",
    "for i in range(4):\n",
    "    transposed.append([row[i] for row in matrix])\n",
    "transposed"
   ]
  },
  {
   "cell_type": "code",
   "execution_count": 41,
   "id": "71ec2c1e",
   "metadata": {
    "ExecuteTime": {
     "end_time": "2022-06-23T03:59:27.886104Z",
     "start_time": "2022-06-23T03:59:27.876604Z"
    }
   },
   "outputs": [
    {
     "data": {
      "text/plain": [
       "[[1, 5, 9], [2, 6, 10], [3, 7, 11], [4, 8, 12]]"
      ]
     },
     "execution_count": 41,
     "metadata": {},
     "output_type": "execute_result"
    }
   ],
   "source": [
    "# yet another way to do transpose\n",
    "transposed = []\n",
    "for i in range(4): \n",
    "    # the following 3 lines implement the nested listcomp\n",
    "    transposed_row = []\n",
    "    for row in matrix:\n",
    "        transposed_row.append(row[i])\n",
    "    transposed.append(transposed_row)\n",
    "transposed"
   ]
  },
  {
   "cell_type": "markdown",
   "id": "6f9a5c74",
   "metadata": {},
   "source": [
    "### The zip() function\n",
    "\n",
    "In the real world, you should prefer built-in functions to complex flow statements. The zip() function would do a great job for doing matrix transpose. \n",
    "\n",
    "The zip() function returns a zip object, which is an iterator of tuples where the first item in each passed iterator is paired together, and then the second item in each passed iterator are paired together etc."
   ]
  },
  {
   "cell_type": "code",
   "execution_count": 30,
   "id": "bb904866",
   "metadata": {},
   "outputs": [
    {
     "data": {
      "text/plain": [
       "[[1, 2, 3, 4], [5, 6, 7, 8], [9, 10, 11, 12]]"
      ]
     },
     "execution_count": 30,
     "metadata": {},
     "output_type": "execute_result"
    }
   ],
   "source": [
    "matrix"
   ]
  },
  {
   "cell_type": "code",
   "execution_count": 27,
   "id": "273c3749",
   "metadata": {
    "ExecuteTime": {
     "end_time": "2022-06-23T03:59:29.121847Z",
     "start_time": "2022-06-23T03:59:29.116148Z"
    }
   },
   "outputs": [
    {
     "data": {
      "text/plain": [
       "[(1, 5, 9), (2, 6, 10), (3, 7, 11), (4, 8, 12)]"
      ]
     },
     "execution_count": 27,
     "metadata": {},
     "output_type": "execute_result"
    }
   ],
   "source": [
    "# The simplist implemenation of transpose\n",
    "list(zip(*matrix)) "
   ]
  },
  {
   "cell_type": "code",
   "execution_count": 43,
   "id": "a5eb7a67",
   "metadata": {
    "ExecuteTime": {
     "end_time": "2022-06-23T03:59:29.780945Z",
     "start_time": "2022-06-23T03:59:29.774138Z"
    }
   },
   "outputs": [
    {
     "data": {
      "text/plain": [
       "[(1, 5, 9), (2, 6, 10), (3, 7, 11), (4, 8, 12)]"
      ]
     },
     "execution_count": 43,
     "metadata": {},
     "output_type": "execute_result"
    }
   ],
   "source": [
    "list(zip(matrix[0], matrix[1], matrix[2]))"
   ]
  },
  {
   "cell_type": "markdown",
   "id": "576124b1",
   "metadata": {},
   "source": [
    "### The del statement"
   ]
  },
  {
   "cell_type": "code",
   "execution_count": 44,
   "id": "24f9d988",
   "metadata": {
    "ExecuteTime": {
     "end_time": "2022-06-23T03:59:31.119352Z",
     "start_time": "2022-06-23T03:59:31.112092Z"
    }
   },
   "outputs": [
    {
     "data": {
      "text/plain": [
       "[1, 66.25, 333, 333, 1234.5]"
      ]
     },
     "execution_count": 44,
     "metadata": {},
     "output_type": "execute_result"
    }
   ],
   "source": [
    "a = [-1, 1, 66.25, 333, 333, 1234.5]\n",
    "del a[0]\n",
    "a"
   ]
  },
  {
   "cell_type": "code",
   "execution_count": 45,
   "id": "0af34d69",
   "metadata": {
    "ExecuteTime": {
     "end_time": "2022-06-23T03:59:31.749963Z",
     "start_time": "2022-06-23T03:59:31.744525Z"
    }
   },
   "outputs": [
    {
     "data": {
      "text/plain": [
       "[1, 66.25, 1234.5]"
      ]
     },
     "execution_count": 45,
     "metadata": {},
     "output_type": "execute_result"
    }
   ],
   "source": [
    "del a[2:4]\n",
    "a"
   ]
  },
  {
   "cell_type": "code",
   "execution_count": 46,
   "id": "124020ed",
   "metadata": {
    "ExecuteTime": {
     "end_time": "2022-06-23T03:59:32.401128Z",
     "start_time": "2022-06-23T03:59:32.395160Z"
    }
   },
   "outputs": [
    {
     "data": {
      "text/plain": [
       "[]"
      ]
     },
     "execution_count": 46,
     "metadata": {},
     "output_type": "execute_result"
    }
   ],
   "source": [
    "del a[:]\n",
    "a"
   ]
  },
  {
   "cell_type": "code",
   "execution_count": 47,
   "id": "d2ef85c1",
   "metadata": {
    "ExecuteTime": {
     "end_time": "2022-06-23T03:59:33.095541Z",
     "start_time": "2022-06-23T03:59:33.090854Z"
    }
   },
   "outputs": [],
   "source": [
    "del a # a is removed"
   ]
  },
  {
   "cell_type": "code",
   "execution_count": 48,
   "id": "86f289df",
   "metadata": {
    "ExecuteTime": {
     "end_time": "2022-06-23T03:59:34.266352Z",
     "start_time": "2022-06-23T03:59:34.240045Z"
    }
   },
   "outputs": [
    {
     "ename": "NameError",
     "evalue": "name 'a' is not defined",
     "output_type": "error",
     "traceback": [
      "\u001b[0;31m---------------------------------------------------------------------------\u001b[0m",
      "\u001b[0;31mNameError\u001b[0m                                 Traceback (most recent call last)",
      "Input \u001b[0;32mIn [48]\u001b[0m, in \u001b[0;36m<cell line: 1>\u001b[0;34m()\u001b[0m\n\u001b[0;32m----> 1\u001b[0m \u001b[43ma\u001b[49m\n",
      "\u001b[0;31mNameError\u001b[0m: name 'a' is not defined"
     ]
    }
   ],
   "source": [
    "a"
   ]
  },
  {
   "cell_type": "markdown",
   "id": "f0251268",
   "metadata": {},
   "source": [
    "## Tuples and sequences\n",
    "\n",
    "Lists and strings are two examples of sequence data types. There is also another standard sequence data type: the tuple, which is a sequence of items enclosed by parentheses."
   ]
  },
  {
   "cell_type": "code",
   "execution_count": 49,
   "id": "de4bf2a2",
   "metadata": {
    "ExecuteTime": {
     "end_time": "2022-06-23T03:59:35.693988Z",
     "start_time": "2022-06-23T03:59:35.688134Z"
    }
   },
   "outputs": [
    {
     "data": {
      "text/plain": [
       "(12345, 54321, 'hello!')"
      ]
     },
     "execution_count": 49,
     "metadata": {},
     "output_type": "execute_result"
    }
   ],
   "source": [
    "t = 12345, 54321, 'hello!'\n",
    "t"
   ]
  },
  {
   "cell_type": "code",
   "execution_count": 50,
   "id": "f33a0ad0",
   "metadata": {
    "ExecuteTime": {
     "end_time": "2022-06-23T03:59:36.266847Z",
     "start_time": "2022-06-23T03:59:36.261132Z"
    }
   },
   "outputs": [
    {
     "data": {
      "text/plain": [
       "54321"
      ]
     },
     "execution_count": 50,
     "metadata": {},
     "output_type": "execute_result"
    }
   ],
   "source": [
    "t[1]"
   ]
  },
  {
   "cell_type": "code",
   "execution_count": 51,
   "id": "99eb8a1d",
   "metadata": {
    "ExecuteTime": {
     "end_time": "2022-06-23T03:59:36.898080Z",
     "start_time": "2022-06-23T03:59:36.889947Z"
    }
   },
   "outputs": [
    {
     "data": {
      "text/plain": [
       "((12345, 54321, 'hello!'), (1, 2, 3, 4, 5))"
      ]
     },
     "execution_count": 51,
     "metadata": {},
     "output_type": "execute_result"
    }
   ],
   "source": [
    "# Tuples may be nested:\n",
    "u = t, (1, 2, 3, 4, 5)\n",
    "u"
   ]
  },
  {
   "cell_type": "code",
   "execution_count": 52,
   "id": "36a5511b",
   "metadata": {
    "ExecuteTime": {
     "end_time": "2022-06-23T03:59:37.458886Z",
     "start_time": "2022-06-23T03:59:37.431925Z"
    }
   },
   "outputs": [
    {
     "ename": "TypeError",
     "evalue": "'tuple' object does not support item assignment",
     "output_type": "error",
     "traceback": [
      "\u001b[0;31m---------------------------------------------------------------------------\u001b[0m",
      "\u001b[0;31mTypeError\u001b[0m                                 Traceback (most recent call last)",
      "Input \u001b[0;32mIn [52]\u001b[0m, in \u001b[0;36m<cell line: 2>\u001b[0;34m()\u001b[0m\n\u001b[1;32m      1\u001b[0m \u001b[38;5;66;03m# Tuples are immutable:\u001b[39;00m\n\u001b[0;32m----> 2\u001b[0m t[\u001b[38;5;241m0\u001b[39m] \u001b[38;5;241m=\u001b[39m \u001b[38;5;241m88888\u001b[39m\n",
      "\u001b[0;31mTypeError\u001b[0m: 'tuple' object does not support item assignment"
     ]
    }
   ],
   "source": [
    "# Tuples are immutable:\n",
    "t[0] = 88888"
   ]
  },
  {
   "cell_type": "code",
   "execution_count": 53,
   "id": "64d5e43a",
   "metadata": {
    "ExecuteTime": {
     "end_time": "2022-06-23T03:59:37.981279Z",
     "start_time": "2022-06-23T03:59:37.974810Z"
    }
   },
   "outputs": [
    {
     "data": {
      "text/plain": [
       "([1, 2, 3], [3, 2, 1])"
      ]
     },
     "execution_count": 53,
     "metadata": {},
     "output_type": "execute_result"
    }
   ],
   "source": [
    "# but they can contain mutable objects:\n",
    "v = ([1, 2, 3], [3, 2, 1])\n",
    "v"
   ]
  },
  {
   "cell_type": "code",
   "execution_count": 54,
   "id": "aa2b5031",
   "metadata": {
    "ExecuteTime": {
     "end_time": "2022-06-23T03:59:42.250197Z",
     "start_time": "2022-06-23T03:59:42.247345Z"
    }
   },
   "outputs": [
    {
     "data": {
      "text/plain": [
       "0"
      ]
     },
     "execution_count": 54,
     "metadata": {},
     "output_type": "execute_result"
    }
   ],
   "source": [
    "empty = ()\n",
    "singleton = 'hello',    # <-- note trailing comma\n",
    "len(empty)"
   ]
  },
  {
   "cell_type": "code",
   "execution_count": 55,
   "id": "d4432d86",
   "metadata": {
    "ExecuteTime": {
     "end_time": "2022-06-23T03:59:42.851474Z",
     "start_time": "2022-06-23T03:59:42.846334Z"
    }
   },
   "outputs": [
    {
     "data": {
      "text/plain": [
       "1"
      ]
     },
     "execution_count": 55,
     "metadata": {},
     "output_type": "execute_result"
    }
   ],
   "source": [
    "len(singleton)"
   ]
  },
  {
   "cell_type": "code",
   "execution_count": 56,
   "id": "4f1186ce",
   "metadata": {
    "ExecuteTime": {
     "end_time": "2022-06-23T03:59:43.666300Z",
     "start_time": "2022-06-23T03:59:43.661396Z"
    }
   },
   "outputs": [
    {
     "data": {
      "text/plain": [
       "('hello',)"
      ]
     },
     "execution_count": 56,
     "metadata": {},
     "output_type": "execute_result"
    }
   ],
   "source": [
    "singleton"
   ]
  },
  {
   "cell_type": "markdown",
   "id": "c1b2da1e",
   "metadata": {},
   "source": [
    "### Tuple packing\n",
    "\n",
    "The statement t = 12345, 54321, 'hello!' is an example of tuple packing: the values 12345, 54321 and 'hello!' are packed together in a tuple. \n",
    "\n",
    "### Tuple unpacking\n",
    "\n",
    "The reverse operation is also possible:"
   ]
  },
  {
   "cell_type": "code",
   "execution_count": 57,
   "id": "c90a9ee3",
   "metadata": {
    "ExecuteTime": {
     "end_time": "2022-06-23T03:59:45.034932Z",
     "start_time": "2022-06-23T03:59:45.029501Z"
    }
   },
   "outputs": [
    {
     "data": {
      "text/plain": [
       "(12345, 54321, 'hello!')"
      ]
     },
     "execution_count": 57,
     "metadata": {},
     "output_type": "execute_result"
    }
   ],
   "source": [
    "x, y, z = t\n",
    "t"
   ]
  },
  {
   "cell_type": "code",
   "execution_count": 58,
   "id": "04e484fe",
   "metadata": {
    "ExecuteTime": {
     "end_time": "2022-06-23T03:59:45.538331Z",
     "start_time": "2022-06-23T03:59:45.533977Z"
    }
   },
   "outputs": [
    {
     "data": {
      "text/plain": [
       "12345"
      ]
     },
     "execution_count": 58,
     "metadata": {},
     "output_type": "execute_result"
    }
   ],
   "source": [
    "x"
   ]
  },
  {
   "cell_type": "code",
   "execution_count": 59,
   "id": "50406f2b",
   "metadata": {
    "ExecuteTime": {
     "end_time": "2022-06-23T03:59:46.016551Z",
     "start_time": "2022-06-23T03:59:46.011243Z"
    }
   },
   "outputs": [
    {
     "data": {
      "text/plain": [
       "54321"
      ]
     },
     "execution_count": 59,
     "metadata": {},
     "output_type": "execute_result"
    }
   ],
   "source": [
    "y"
   ]
  },
  {
   "cell_type": "code",
   "execution_count": 60,
   "id": "f0706e09",
   "metadata": {
    "ExecuteTime": {
     "end_time": "2022-06-23T03:59:46.457597Z",
     "start_time": "2022-06-23T03:59:46.452253Z"
    }
   },
   "outputs": [
    {
     "data": {
      "text/plain": [
       "'hello!'"
      ]
     },
     "execution_count": 60,
     "metadata": {},
     "output_type": "execute_result"
    }
   ],
   "source": [
    "z"
   ]
  },
  {
   "cell_type": "markdown",
   "id": "45fc6b96",
   "metadata": {},
   "source": [
    "## Sets\n",
    "\n",
    "A set is an unordered collection with no duplicate elements. Basic uses include membership testing and eliminating duplicate entries. Set objects also support mathematical operations like union, intersection, difference, and symmetric difference.\n",
    "\n",
    "Curly braces or the set() function can be used to create sets. Note: to create an empty set you have to use set(), not {}; the latter creates an empty dictionary, a data structure that we discuss in the next section."
   ]
  },
  {
   "cell_type": "code",
   "execution_count": 61,
   "id": "8bee9a2a",
   "metadata": {
    "ExecuteTime": {
     "end_time": "2022-06-23T03:59:47.470850Z",
     "start_time": "2022-06-23T03:59:47.463785Z"
    }
   },
   "outputs": [
    {
     "data": {
      "text/plain": [
       "{'apple', 'banana', 'orange', 'pear'}"
      ]
     },
     "execution_count": 61,
     "metadata": {},
     "output_type": "execute_result"
    }
   ],
   "source": [
    "basket = {'apple', 'orange', 'apple', 'pear', 'orange', 'banana'}\n",
    "basket"
   ]
  },
  {
   "cell_type": "code",
   "execution_count": 62,
   "id": "66628e94",
   "metadata": {
    "ExecuteTime": {
     "end_time": "2022-06-23T03:59:47.892284Z",
     "start_time": "2022-06-23T03:59:47.886869Z"
    }
   },
   "outputs": [
    {
     "data": {
      "text/plain": [
       "True"
      ]
     },
     "execution_count": 62,
     "metadata": {},
     "output_type": "execute_result"
    }
   ],
   "source": [
    "'orange' in basket                 # fast membership testing"
   ]
  },
  {
   "cell_type": "code",
   "execution_count": 63,
   "id": "e2b33a0d",
   "metadata": {
    "ExecuteTime": {
     "end_time": "2022-06-23T03:59:48.221533Z",
     "start_time": "2022-06-23T03:59:48.215729Z"
    }
   },
   "outputs": [
    {
     "data": {
      "text/plain": [
       "False"
      ]
     },
     "execution_count": 63,
     "metadata": {},
     "output_type": "execute_result"
    }
   ],
   "source": [
    "'crabgrass' in basket"
   ]
  },
  {
   "cell_type": "code",
   "execution_count": 64,
   "id": "01696b3b",
   "metadata": {
    "ExecuteTime": {
     "end_time": "2022-06-23T03:59:48.559886Z",
     "start_time": "2022-06-23T03:59:48.553788Z"
    }
   },
   "outputs": [
    {
     "data": {
      "text/plain": [
       "{'a', 'b', 'c', 'd', 'r'}"
      ]
     },
     "execution_count": 64,
     "metadata": {},
     "output_type": "execute_result"
    }
   ],
   "source": [
    "a = set('abracadabra')\n",
    "b = set('alacazam')\n",
    "a "
   ]
  },
  {
   "cell_type": "code",
   "execution_count": 65,
   "id": "f7b4cab9",
   "metadata": {
    "ExecuteTime": {
     "end_time": "2022-06-23T03:59:48.850032Z",
     "start_time": "2022-06-23T03:59:48.844215Z"
    }
   },
   "outputs": [
    {
     "data": {
      "text/plain": [
       "{'a', 'c', 'l', 'm', 'z'}"
      ]
     },
     "execution_count": 65,
     "metadata": {},
     "output_type": "execute_result"
    }
   ],
   "source": [
    "b"
   ]
  },
  {
   "cell_type": "code",
   "execution_count": 66,
   "id": "8271d32c",
   "metadata": {
    "ExecuteTime": {
     "end_time": "2022-06-23T03:59:49.212171Z",
     "start_time": "2022-06-23T03:59:49.206548Z"
    }
   },
   "outputs": [
    {
     "data": {
      "text/plain": [
       "{'a', 'b', 'c', 'd', 'l', 'm', 'r', 'z'}"
      ]
     },
     "execution_count": 66,
     "metadata": {},
     "output_type": "execute_result"
    }
   ],
   "source": [
    "a | b #union"
   ]
  },
  {
   "cell_type": "code",
   "execution_count": 67,
   "id": "6f83ba32",
   "metadata": {
    "ExecuteTime": {
     "end_time": "2022-06-23T03:59:49.639679Z",
     "start_time": "2022-06-23T03:59:49.634067Z"
    }
   },
   "outputs": [
    {
     "data": {
      "text/plain": [
       "{'b', 'd', 'r'}"
      ]
     },
     "execution_count": 67,
     "metadata": {},
     "output_type": "execute_result"
    }
   ],
   "source": [
    "a - b #difference"
   ]
  },
  {
   "cell_type": "code",
   "execution_count": 68,
   "id": "bf95794a",
   "metadata": {
    "ExecuteTime": {
     "end_time": "2022-06-23T03:59:49.878476Z",
     "start_time": "2022-06-23T03:59:49.873410Z"
    }
   },
   "outputs": [
    {
     "data": {
      "text/plain": [
       "{'a', 'c'}"
      ]
     },
     "execution_count": 68,
     "metadata": {},
     "output_type": "execute_result"
    }
   ],
   "source": [
    "a & b #intersection"
   ]
  },
  {
   "cell_type": "code",
   "execution_count": 69,
   "id": "bee00464",
   "metadata": {
    "ExecuteTime": {
     "end_time": "2022-06-23T03:59:50.120505Z",
     "start_time": "2022-06-23T03:59:50.114727Z"
    }
   },
   "outputs": [
    {
     "data": {
      "text/plain": [
       "{'b', 'd', 'l', 'm', 'r', 'z'}"
      ]
     },
     "execution_count": 69,
     "metadata": {},
     "output_type": "execute_result"
    }
   ],
   "source": [
    "a ^ b #exclusive or"
   ]
  },
  {
   "cell_type": "code",
   "execution_count": 70,
   "id": "cd82b2ee",
   "metadata": {
    "ExecuteTime": {
     "end_time": "2022-06-23T03:59:50.371031Z",
     "start_time": "2022-06-23T03:59:50.364630Z"
    }
   },
   "outputs": [
    {
     "data": {
      "text/plain": [
       "{'b', 'd', 'l', 'm', 'r', 'z'}"
      ]
     },
     "execution_count": 70,
     "metadata": {},
     "output_type": "execute_result"
    }
   ],
   "source": [
    "(a | b) - (a & b) # same as a ^ b"
   ]
  },
  {
   "cell_type": "code",
   "execution_count": 71,
   "id": "cd428801",
   "metadata": {
    "ExecuteTime": {
     "end_time": "2022-06-23T03:59:50.622020Z",
     "start_time": "2022-06-23T03:59:50.615675Z"
    }
   },
   "outputs": [
    {
     "data": {
      "text/plain": [
       "{'d', 'r'}"
      ]
     },
     "execution_count": 71,
     "metadata": {},
     "output_type": "execute_result"
    }
   ],
   "source": [
    "a = {x for x in 'abracadabra' if x not in 'abc'}\n",
    "a"
   ]
  },
  {
   "cell_type": "markdown",
   "id": "7f2c02d5",
   "metadata": {},
   "source": [
    "## Dictionaries\n",
    "\n",
    "Dictionaries are sometimes found in other languages as “associative memories” or “associative arrays”. Unlike sequences, which are indexed by a range of numbers, dictionaries are indexed by keys, which can be any immutable type; strings and numbers can always be keys. Tuples can be used as keys if they contain only strings, numbers, or tuples; if a tuple contains any mutable object either directly or indirectly, it cannot be used as a key. You can’t use lists as keys, since lists can be modified in place using index assignments, slice assignments, or methods like append() and extend().\n",
    "\n",
    "It is best to think of a dictionary as a set of key: value pairs, with the requirement that the keys are unique (within one dictionary). A pair of braces creates an empty dictionary: {}. Placing a comma-separated list of key:value pairs within the braces adds initial key:value pairs to the dictionary; this is also the way dictionaries are written on output.\n",
    "\n",
    "The main operations on a dictionary are storing a value with some key and extracting the value given the key. It is also possible to delete a key:value pair with del. If you store using a key that is already in use, the old value associated with that key is forgotten. It is an error to extract a value using a non-existent key.\n",
    "\n",
    "Performing list(d) on a dictionary returns a list of all the keys used in the dictionary, in insertion order (if you want it sorted, just use sorted(d) instead). To check whether a single key is in the dictionary, use the in keyword."
   ]
  },
  {
   "cell_type": "code",
   "execution_count": 72,
   "id": "9824e90d",
   "metadata": {
    "ExecuteTime": {
     "end_time": "2022-06-23T03:59:51.623375Z",
     "start_time": "2022-06-23T03:59:51.616472Z"
    }
   },
   "outputs": [
    {
     "data": {
      "text/plain": [
       "{'jack': 4098, 'sape': 4139, 'guido': 4127}"
      ]
     },
     "execution_count": 72,
     "metadata": {},
     "output_type": "execute_result"
    }
   ],
   "source": [
    "tel = {'jack': 4098, 'sape': 4139}\n",
    "tel['guido'] = 4127\n",
    "tel"
   ]
  },
  {
   "cell_type": "code",
   "execution_count": 73,
   "id": "86034f87",
   "metadata": {
    "ExecuteTime": {
     "end_time": "2022-06-23T03:59:52.138160Z",
     "start_time": "2022-06-23T03:59:52.133142Z"
    }
   },
   "outputs": [
    {
     "data": {
      "text/plain": [
       "4098"
      ]
     },
     "execution_count": 73,
     "metadata": {},
     "output_type": "execute_result"
    }
   ],
   "source": [
    "tel['jack']"
   ]
  },
  {
   "cell_type": "code",
   "execution_count": 74,
   "id": "51cbf38e",
   "metadata": {
    "ExecuteTime": {
     "end_time": "2022-06-23T03:59:52.695651Z",
     "start_time": "2022-06-23T03:59:52.690301Z"
    }
   },
   "outputs": [
    {
     "data": {
      "text/plain": [
       "{'jack': 4098, 'guido': 4127}"
      ]
     },
     "execution_count": 74,
     "metadata": {},
     "output_type": "execute_result"
    }
   ],
   "source": [
    "del tel['sape']\n",
    "tel"
   ]
  },
  {
   "cell_type": "code",
   "execution_count": 75,
   "id": "fe2b6f78",
   "metadata": {
    "ExecuteTime": {
     "end_time": "2022-06-23T03:59:53.452359Z",
     "start_time": "2022-06-23T03:59:53.445660Z"
    }
   },
   "outputs": [
    {
     "data": {
      "text/plain": [
       "{'jack': 4098, 'guido': 4127, 'irv': 4127}"
      ]
     },
     "execution_count": 75,
     "metadata": {},
     "output_type": "execute_result"
    }
   ],
   "source": [
    "tel['irv'] = 4127\n",
    "tel"
   ]
  },
  {
   "cell_type": "code",
   "execution_count": 76,
   "id": "a422d904",
   "metadata": {
    "ExecuteTime": {
     "end_time": "2022-06-23T03:59:53.786650Z",
     "start_time": "2022-06-23T03:59:53.780251Z"
    }
   },
   "outputs": [
    {
     "data": {
      "text/plain": [
       "['jack', 'guido', 'irv']"
      ]
     },
     "execution_count": 76,
     "metadata": {},
     "output_type": "execute_result"
    }
   ],
   "source": [
    "list(tel)"
   ]
  },
  {
   "cell_type": "code",
   "execution_count": 77,
   "id": "b6d3ade0",
   "metadata": {
    "ExecuteTime": {
     "end_time": "2022-06-23T03:59:54.020538Z",
     "start_time": "2022-06-23T03:59:54.014599Z"
    }
   },
   "outputs": [
    {
     "data": {
      "text/plain": [
       "['guido', 'irv', 'jack']"
      ]
     },
     "execution_count": 77,
     "metadata": {},
     "output_type": "execute_result"
    }
   ],
   "source": [
    "sorted(tel)"
   ]
  },
  {
   "cell_type": "code",
   "execution_count": 78,
   "id": "b41c1816",
   "metadata": {
    "ExecuteTime": {
     "end_time": "2022-06-23T03:59:54.238015Z",
     "start_time": "2022-06-23T03:59:54.232167Z"
    }
   },
   "outputs": [
    {
     "data": {
      "text/plain": [
       "True"
      ]
     },
     "execution_count": 78,
     "metadata": {},
     "output_type": "execute_result"
    }
   ],
   "source": [
    "'guido' in tel"
   ]
  },
  {
   "cell_type": "code",
   "execution_count": 79,
   "id": "4232ff9b",
   "metadata": {
    "ExecuteTime": {
     "end_time": "2022-06-23T03:59:54.454821Z",
     "start_time": "2022-06-23T03:59:54.449281Z"
    }
   },
   "outputs": [
    {
     "data": {
      "text/plain": [
       "False"
      ]
     },
     "execution_count": 79,
     "metadata": {},
     "output_type": "execute_result"
    }
   ],
   "source": [
    "'jack' not in tel"
   ]
  },
  {
   "cell_type": "markdown",
   "id": "8a57a40f",
   "metadata": {},
   "source": [
    "### dict() constructor \n",
    "\n",
    "It builds dictionaries directly from sequences of key-value pairs:"
   ]
  },
  {
   "cell_type": "code",
   "execution_count": 80,
   "id": "626b6ca6",
   "metadata": {
    "ExecuteTime": {
     "end_time": "2022-06-23T03:59:54.974628Z",
     "start_time": "2022-06-23T03:59:54.967712Z"
    }
   },
   "outputs": [
    {
     "data": {
      "text/plain": [
       "{'sape': 4139, 'guido': 4127, 'jack': 4098}"
      ]
     },
     "execution_count": 80,
     "metadata": {},
     "output_type": "execute_result"
    }
   ],
   "source": [
    "dict([('sape', 4139), ('guido', 4127), ('jack', 4098)])"
   ]
  },
  {
   "cell_type": "code",
   "execution_count": 81,
   "id": "fb4fc35b",
   "metadata": {
    "ExecuteTime": {
     "end_time": "2022-06-23T03:59:55.286389Z",
     "start_time": "2022-06-23T03:59:55.279576Z"
    }
   },
   "outputs": [
    {
     "data": {
      "text/plain": [
       "{2: 4, 4: 16, 6: 36}"
      ]
     },
     "execution_count": 81,
     "metadata": {},
     "output_type": "execute_result"
    }
   ],
   "source": [
    "{x: x**2 for x in (2, 4, 6)}"
   ]
  },
  {
   "cell_type": "code",
   "execution_count": 82,
   "id": "55d9bdb0",
   "metadata": {
    "ExecuteTime": {
     "end_time": "2022-06-23T03:59:55.527007Z",
     "start_time": "2022-06-23T03:59:55.521011Z"
    }
   },
   "outputs": [
    {
     "data": {
      "text/plain": [
       "{'sape': 4139, 'guido': 4127, 'jack': 4098}"
      ]
     },
     "execution_count": 82,
     "metadata": {},
     "output_type": "execute_result"
    }
   ],
   "source": [
    "dict(sape=4139, guido=4127, jack=4098)"
   ]
  },
  {
   "cell_type": "markdown",
   "id": "0cabf6e9",
   "metadata": {},
   "source": [
    "## Pandas data frames\n",
    "\n",
    "A data frame, supported by Pandas (i.e., not a Python's built-in data type), is a two-dimensional data structure like a table/matix of rows and columns. Widely used in practice, Pandas DataFrame consists of three principal components: data, rows, and columns."
   ]
  },
  {
   "cell_type": "markdown",
   "id": "3eac87aa",
   "metadata": {
    "ExecuteTime": {
     "end_time": "2022-06-23T03:43:18.945190Z",
     "start_time": "2022-06-23T03:43:18.936642Z"
    }
   },
   "source": [
    "### Create a dataframe using lists\n",
    "\n",
    "DataFrame can be created using a single list or a list of lists."
   ]
  },
  {
   "cell_type": "code",
   "execution_count": 83,
   "id": "6b87a184",
   "metadata": {
    "ExecuteTime": {
     "end_time": "2022-06-23T04:00:00.370543Z",
     "start_time": "2022-06-23T03:59:56.210264Z"
    }
   },
   "outputs": [
    {
     "data": {
      "text/html": [
       "<div>\n",
       "<style scoped>\n",
       "    .dataframe tbody tr th:only-of-type {\n",
       "        vertical-align: middle;\n",
       "    }\n",
       "\n",
       "    .dataframe tbody tr th {\n",
       "        vertical-align: top;\n",
       "    }\n",
       "\n",
       "    .dataframe thead th {\n",
       "        text-align: right;\n",
       "    }\n",
       "</style>\n",
       "<table border=\"1\" class=\"dataframe\">\n",
       "  <thead>\n",
       "    <tr style=\"text-align: right;\">\n",
       "      <th></th>\n",
       "      <th>0</th>\n",
       "    </tr>\n",
       "  </thead>\n",
       "  <tbody>\n",
       "    <tr>\n",
       "      <th>0</th>\n",
       "      <td>Geeks</td>\n",
       "    </tr>\n",
       "    <tr>\n",
       "      <th>1</th>\n",
       "      <td>For</td>\n",
       "    </tr>\n",
       "    <tr>\n",
       "      <th>2</th>\n",
       "      <td>Geeks</td>\n",
       "    </tr>\n",
       "    <tr>\n",
       "      <th>3</th>\n",
       "      <td>is</td>\n",
       "    </tr>\n",
       "    <tr>\n",
       "      <th>4</th>\n",
       "      <td>portal</td>\n",
       "    </tr>\n",
       "    <tr>\n",
       "      <th>5</th>\n",
       "      <td>for</td>\n",
       "    </tr>\n",
       "    <tr>\n",
       "      <th>6</th>\n",
       "      <td>Geeks</td>\n",
       "    </tr>\n",
       "  </tbody>\n",
       "</table>\n",
       "</div>"
      ],
      "text/plain": [
       "        0\n",
       "0   Geeks\n",
       "1     For\n",
       "2   Geeks\n",
       "3      is\n",
       "4  portal\n",
       "5     for\n",
       "6   Geeks"
      ]
     },
     "execution_count": 83,
     "metadata": {},
     "output_type": "execute_result"
    }
   ],
   "source": [
    "import pandas as pd\n",
    " \n",
    "# list of strings\n",
    "lst = ['Geeks', 'For', 'Geeks', 'is', 'portal', 'for', 'Geeks']\n",
    " \n",
    "df = pd.DataFrame(lst)\n",
    "df"
   ]
  },
  {
   "cell_type": "markdown",
   "id": "494e8117",
   "metadata": {},
   "source": [
    "### Creat a dataframe using dictionaries"
   ]
  },
  {
   "cell_type": "code",
   "execution_count": 84,
   "id": "f1a8baab",
   "metadata": {
    "ExecuteTime": {
     "end_time": "2022-06-23T04:00:00.395609Z",
     "start_time": "2022-06-23T04:00:00.384665Z"
    }
   },
   "outputs": [
    {
     "data": {
      "text/html": [
       "<div>\n",
       "<style scoped>\n",
       "    .dataframe tbody tr th:only-of-type {\n",
       "        vertical-align: middle;\n",
       "    }\n",
       "\n",
       "    .dataframe tbody tr th {\n",
       "        vertical-align: top;\n",
       "    }\n",
       "\n",
       "    .dataframe thead th {\n",
       "        text-align: right;\n",
       "    }\n",
       "</style>\n",
       "<table border=\"1\" class=\"dataframe\">\n",
       "  <thead>\n",
       "    <tr style=\"text-align: right;\">\n",
       "      <th></th>\n",
       "      <th>Name</th>\n",
       "      <th>Age</th>\n",
       "    </tr>\n",
       "  </thead>\n",
       "  <tbody>\n",
       "    <tr>\n",
       "      <th>0</th>\n",
       "      <td>Tom</td>\n",
       "      <td>20</td>\n",
       "    </tr>\n",
       "    <tr>\n",
       "      <th>1</th>\n",
       "      <td>nick</td>\n",
       "      <td>21</td>\n",
       "    </tr>\n",
       "    <tr>\n",
       "      <th>2</th>\n",
       "      <td>krish</td>\n",
       "      <td>19</td>\n",
       "    </tr>\n",
       "    <tr>\n",
       "      <th>3</th>\n",
       "      <td>jack</td>\n",
       "      <td>18</td>\n",
       "    </tr>\n",
       "  </tbody>\n",
       "</table>\n",
       "</div>"
      ],
      "text/plain": [
       "    Name  Age\n",
       "0    Tom   20\n",
       "1   nick   21\n",
       "2  krish   19\n",
       "3   jack   18"
      ]
     },
     "execution_count": 84,
     "metadata": {},
     "output_type": "execute_result"
    }
   ],
   "source": [
    "# intialise data of lists.\n",
    "data = {'Name':['Tom', 'nick', 'krish', 'jack'],\n",
    "        'Age':[20, 21, 19, 18]}\n",
    " \n",
    "# Create DataFrame\n",
    "df = pd.DataFrame(data)\n",
    "df"
   ]
  },
  {
   "cell_type": "markdown",
   "id": "12f5689e",
   "metadata": {},
   "source": [
    "### Working with rows and columns\n",
    "\n",
    "We can perform basic operations on rows/columns including selecting, deleting, adding, and renaming."
   ]
  },
  {
   "cell_type": "code",
   "execution_count": 85,
   "id": "a530d03e",
   "metadata": {
    "ExecuteTime": {
     "end_time": "2022-06-23T04:00:00.415003Z",
     "start_time": "2022-06-23T04:00:00.407298Z"
    }
   },
   "outputs": [
    {
     "data": {
      "text/html": [
       "<div>\n",
       "<style scoped>\n",
       "    .dataframe tbody tr th:only-of-type {\n",
       "        vertical-align: middle;\n",
       "    }\n",
       "\n",
       "    .dataframe tbody tr th {\n",
       "        vertical-align: top;\n",
       "    }\n",
       "\n",
       "    .dataframe thead th {\n",
       "        text-align: right;\n",
       "    }\n",
       "</style>\n",
       "<table border=\"1\" class=\"dataframe\">\n",
       "  <thead>\n",
       "    <tr style=\"text-align: right;\">\n",
       "      <th></th>\n",
       "      <th>Name</th>\n",
       "      <th>Age</th>\n",
       "      <th>Address</th>\n",
       "      <th>Qualification</th>\n",
       "    </tr>\n",
       "  </thead>\n",
       "  <tbody>\n",
       "    <tr>\n",
       "      <th>0</th>\n",
       "      <td>Jai</td>\n",
       "      <td>27</td>\n",
       "      <td>Delhi</td>\n",
       "      <td>Msc</td>\n",
       "    </tr>\n",
       "    <tr>\n",
       "      <th>1</th>\n",
       "      <td>Princi</td>\n",
       "      <td>24</td>\n",
       "      <td>Kanpur</td>\n",
       "      <td>MA</td>\n",
       "    </tr>\n",
       "    <tr>\n",
       "      <th>2</th>\n",
       "      <td>Gaurav</td>\n",
       "      <td>22</td>\n",
       "      <td>Allahabad</td>\n",
       "      <td>MCA</td>\n",
       "    </tr>\n",
       "    <tr>\n",
       "      <th>3</th>\n",
       "      <td>Anuj</td>\n",
       "      <td>32</td>\n",
       "      <td>Kannauj</td>\n",
       "      <td>PhD</td>\n",
       "    </tr>\n",
       "  </tbody>\n",
       "</table>\n",
       "</div>"
      ],
      "text/plain": [
       "     Name  Age    Address Qualification\n",
       "0     Jai   27      Delhi           Msc\n",
       "1  Princi   24     Kanpur            MA\n",
       "2  Gaurav   22  Allahabad           MCA\n",
       "3    Anuj   32    Kannauj           PhD"
      ]
     },
     "execution_count": 85,
     "metadata": {},
     "output_type": "execute_result"
    }
   ],
   "source": [
    "# Define a dictionary containing of employee data\n",
    "data = {'Name':['Jai', 'Princi', 'Gaurav', 'Anuj'],\n",
    "        'Age':[27, 24, 22, 32],\n",
    "        'Address':['Delhi', 'Kanpur', 'Allahabad', 'Kannauj'],\n",
    "        'Qualification':['Msc', 'MA', 'MCA', 'PhD']}\n",
    " \n",
    "# Convert the dictionary into DataFrame \n",
    "df = pd.DataFrame(data)\n",
    "df"
   ]
  },
  {
   "cell_type": "markdown",
   "id": "436b5933",
   "metadata": {},
   "source": [
    "### Row selection"
   ]
  },
  {
   "cell_type": "code",
   "execution_count": 96,
   "id": "34d74d70",
   "metadata": {
    "ExecuteTime": {
     "end_time": "2022-06-23T04:04:41.220628Z",
     "start_time": "2022-06-23T04:04:41.184107Z"
    }
   },
   "outputs": [
    {
     "data": {
      "text/html": [
       "<div>\n",
       "<style scoped>\n",
       "    .dataframe tbody tr th:only-of-type {\n",
       "        vertical-align: middle;\n",
       "    }\n",
       "\n",
       "    .dataframe tbody tr th {\n",
       "        vertical-align: top;\n",
       "    }\n",
       "\n",
       "    .dataframe thead th {\n",
       "        text-align: right;\n",
       "    }\n",
       "</style>\n",
       "<table border=\"1\" class=\"dataframe\">\n",
       "  <thead>\n",
       "    <tr style=\"text-align: right;\">\n",
       "      <th></th>\n",
       "      <th>Team</th>\n",
       "      <th>Number</th>\n",
       "      <th>Position</th>\n",
       "      <th>Age</th>\n",
       "      <th>Height</th>\n",
       "      <th>Weight</th>\n",
       "      <th>College</th>\n",
       "      <th>Salary</th>\n",
       "    </tr>\n",
       "    <tr>\n",
       "      <th>Name</th>\n",
       "      <th></th>\n",
       "      <th></th>\n",
       "      <th></th>\n",
       "      <th></th>\n",
       "      <th></th>\n",
       "      <th></th>\n",
       "      <th></th>\n",
       "      <th></th>\n",
       "    </tr>\n",
       "  </thead>\n",
       "  <tbody>\n",
       "    <tr>\n",
       "      <th>Avery Bradley</th>\n",
       "      <td>Boston Celtics</td>\n",
       "      <td>0</td>\n",
       "      <td>PG</td>\n",
       "      <td>25</td>\n",
       "      <td>2-Jun</td>\n",
       "      <td>180</td>\n",
       "      <td>Texas</td>\n",
       "      <td>7730337.0</td>\n",
       "    </tr>\n",
       "    <tr>\n",
       "      <th>Jae Crowder</th>\n",
       "      <td>Boston Celtics</td>\n",
       "      <td>99</td>\n",
       "      <td>SF</td>\n",
       "      <td>25</td>\n",
       "      <td>6-Jun</td>\n",
       "      <td>235</td>\n",
       "      <td>Marquette</td>\n",
       "      <td>6796117.0</td>\n",
       "    </tr>\n",
       "    <tr>\n",
       "      <th>John Holland</th>\n",
       "      <td>Boston Celtics</td>\n",
       "      <td>30</td>\n",
       "      <td>SG</td>\n",
       "      <td>27</td>\n",
       "      <td>5-Jun</td>\n",
       "      <td>205</td>\n",
       "      <td>Boston University</td>\n",
       "      <td>NaN</td>\n",
       "    </tr>\n",
       "    <tr>\n",
       "      <th>R.J. Hunter</th>\n",
       "      <td>Boston Celtics</td>\n",
       "      <td>28</td>\n",
       "      <td>SG</td>\n",
       "      <td>22</td>\n",
       "      <td>5-Jun</td>\n",
       "      <td>185</td>\n",
       "      <td>Georgia State</td>\n",
       "      <td>1148640.0</td>\n",
       "    </tr>\n",
       "    <tr>\n",
       "      <th>Jonas Jerebko</th>\n",
       "      <td>Boston Celtics</td>\n",
       "      <td>8</td>\n",
       "      <td>PF</td>\n",
       "      <td>29</td>\n",
       "      <td>10-Jun</td>\n",
       "      <td>231</td>\n",
       "      <td>NaN</td>\n",
       "      <td>5000000.0</td>\n",
       "    </tr>\n",
       "  </tbody>\n",
       "</table>\n",
       "</div>"
      ],
      "text/plain": [
       "                         Team  Number Position  Age  Height  Weight  \\\n",
       "Name                                                                  \n",
       "Avery Bradley  Boston Celtics       0       PG   25   2-Jun     180   \n",
       "Jae Crowder    Boston Celtics      99       SF   25   6-Jun     235   \n",
       "John Holland   Boston Celtics      30       SG   27   5-Jun     205   \n",
       "R.J. Hunter    Boston Celtics      28       SG   22   5-Jun     185   \n",
       "Jonas Jerebko  Boston Celtics       8       PF   29  10-Jun     231   \n",
       "\n",
       "                         College     Salary  \n",
       "Name                                         \n",
       "Avery Bradley              Texas  7730337.0  \n",
       "Jae Crowder            Marquette  6796117.0  \n",
       "John Holland   Boston University        NaN  \n",
       "R.J. Hunter        Georgia State  1148640.0  \n",
       "Jonas Jerebko                NaN  5000000.0  "
      ]
     },
     "execution_count": 96,
     "metadata": {},
     "output_type": "execute_result"
    }
   ],
   "source": [
    "# making data frame from csv file\n",
    "data = pd.read_csv(\"nba.csv\", index_col =\"Name\")\n",
    "data.head(5)"
   ]
  },
  {
   "cell_type": "code",
   "execution_count": 92,
   "id": "0c7e5472",
   "metadata": {
    "ExecuteTime": {
     "end_time": "2022-06-23T04:02:48.725632Z",
     "start_time": "2022-06-23T04:02:48.715274Z"
    }
   },
   "outputs": [
    {
     "name": "stdout",
     "output_type": "stream",
     "text": [
      "Team        Boston Celtics\n",
      "Number                   0\n",
      "Position                PG\n",
      "Age                     25\n",
      "Height               2-Jun\n",
      "Weight                 180\n",
      "College              Texas\n",
      "Salary           7730337.0\n",
      "Name: Avery Bradley, dtype: object \n",
      "\n",
      "\n",
      " Team        Boston Celtics\n",
      "Number                  28\n",
      "Position                SG\n",
      "Age                     22\n",
      "Height               5-Jun\n",
      "Weight                 185\n",
      "College      Georgia State\n",
      "Salary           1148640.0\n",
      "Name: R.J. Hunter, dtype: object\n"
     ]
    }
   ],
   "source": [
    "# retrieving row by loc method\n",
    "first = data.loc[\"Avery Bradley\"]\n",
    "second = data.loc[\"R.J. Hunter\"]\n",
    " \n",
    "print(first, \"\\n\\n\\n\", second)"
   ]
  },
  {
   "cell_type": "markdown",
   "id": "dedf4aea",
   "metadata": {},
   "source": [
    "### Indexing and selecting data\n",
    "\n",
    "Indexing in pandas data frames means simply selecting particular rows and columns of data from a DataFrame. Indexing could mean selecting all the rows and some of the columns, some of the rows and all of the columns, or some of each of the rows and columns. Indexing can also be known as Subset Selection.\n",
    "\n",
    "There are three indexing methods: [], .loc, and .iloc."
   ]
  },
  {
   "cell_type": "code",
   "execution_count": 97,
   "id": "b77ee087",
   "metadata": {
    "ExecuteTime": {
     "end_time": "2022-06-23T04:08:38.506124Z",
     "start_time": "2022-06-23T04:08:38.486054Z"
    }
   },
   "outputs": [
    {
     "data": {
      "text/plain": [
       "Name\n",
       "Avery Bradley    25\n",
       "Jae Crowder      25\n",
       "John Holland     27\n",
       "R.J. Hunter      22\n",
       "Jonas Jerebko    29\n",
       "                 ..\n",
       "Trey Lyles       20\n",
       "Shelvin Mack     26\n",
       "Raul Neto        24\n",
       "Tibor Pleiss     26\n",
       "Jeff Withey      26\n",
       "Name: Age, Length: 457, dtype: int64"
      ]
     },
     "execution_count": 97,
     "metadata": {},
     "output_type": "execute_result"
    }
   ],
   "source": [
    "# retrieving columns by indexing operator [] on column attributes (boldface)\n",
    "first = data[\"Age\"]\n",
    "first"
   ]
  },
  {
   "cell_type": "code",
   "execution_count": 98,
   "id": "bf8ea5a9",
   "metadata": {
    "ExecuteTime": {
     "end_time": "2022-06-23T04:10:43.951203Z",
     "start_time": "2022-06-23T04:10:43.933275Z"
    }
   },
   "outputs": [
    {
     "name": "stdout",
     "output_type": "stream",
     "text": [
      "Team        Boston Celtics\n",
      "Number                   0\n",
      "Position                PG\n",
      "Age                     25\n",
      "Height               2-Jun\n",
      "Weight                 180\n",
      "College              Texas\n",
      "Salary           7730337.0\n",
      "Name: Avery Bradley, dtype: object \n",
      "\n",
      "\n",
      " Team        Boston Celtics\n",
      "Number                  28\n",
      "Position                SG\n",
      "Age                     22\n",
      "Height               5-Jun\n",
      "Weight                 185\n",
      "College      Georgia State\n",
      "Salary           1148640.0\n",
      "Name: R.J. Hunter, dtype: object\n"
     ]
    }
   ],
   "source": [
    "# retrieving row by loc method on row attributes (boldface)\n",
    "first = data.loc[\"Avery Bradley\"]\n",
    "second = data.loc[\"R.J. Hunter\"]\n",
    "\n",
    "print(first, \"\\n\\n\\n\", second)"
   ]
  },
  {
   "cell_type": "code",
   "execution_count": 99,
   "id": "e8dffc8a",
   "metadata": {
    "ExecuteTime": {
     "end_time": "2022-06-23T04:13:17.524549Z",
     "start_time": "2022-06-23T04:13:17.506242Z"
    }
   },
   "outputs": [
    {
     "data": {
      "text/plain": [
       "Team        Boston Celtics\n",
       "Number                  28\n",
       "Position                SG\n",
       "Age                     22\n",
       "Height               5-Jun\n",
       "Weight                 185\n",
       "College      Georgia State\n",
       "Salary           1148640.0\n",
       "Name: R.J. Hunter, dtype: object"
      ]
     },
     "execution_count": 99,
     "metadata": {},
     "output_type": "execute_result"
    }
   ],
   "source": [
    "# retrieving rows by iloc method on row index\n",
    "row2 = data.iloc[3] "
   ]
  },
  {
   "cell_type": "markdown",
   "id": "89233c24",
   "metadata": {},
   "source": [
    "### Working with missing data\n",
    "\n",
    "Check for missing values using isnull() and notnull(). Fill missing values using fillna(), replace(), and interpolate()."
   ]
  },
  {
   "cell_type": "code",
   "execution_count": 100,
   "id": "025c2fba",
   "metadata": {
    "ExecuteTime": {
     "end_time": "2022-06-23T04:28:37.725041Z",
     "start_time": "2022-06-23T04:28:37.651496Z"
    }
   },
   "outputs": [
    {
     "data": {
      "text/html": [
       "<div>\n",
       "<style scoped>\n",
       "    .dataframe tbody tr th:only-of-type {\n",
       "        vertical-align: middle;\n",
       "    }\n",
       "\n",
       "    .dataframe tbody tr th {\n",
       "        vertical-align: top;\n",
       "    }\n",
       "\n",
       "    .dataframe thead th {\n",
       "        text-align: right;\n",
       "    }\n",
       "</style>\n",
       "<table border=\"1\" class=\"dataframe\">\n",
       "  <thead>\n",
       "    <tr style=\"text-align: right;\">\n",
       "      <th></th>\n",
       "      <th>First Score</th>\n",
       "      <th>Second Score</th>\n",
       "      <th>Third Score</th>\n",
       "    </tr>\n",
       "  </thead>\n",
       "  <tbody>\n",
       "    <tr>\n",
       "      <th>0</th>\n",
       "      <td>False</td>\n",
       "      <td>False</td>\n",
       "      <td>True</td>\n",
       "    </tr>\n",
       "    <tr>\n",
       "      <th>1</th>\n",
       "      <td>False</td>\n",
       "      <td>False</td>\n",
       "      <td>False</td>\n",
       "    </tr>\n",
       "    <tr>\n",
       "      <th>2</th>\n",
       "      <td>True</td>\n",
       "      <td>False</td>\n",
       "      <td>False</td>\n",
       "    </tr>\n",
       "    <tr>\n",
       "      <th>3</th>\n",
       "      <td>False</td>\n",
       "      <td>True</td>\n",
       "      <td>False</td>\n",
       "    </tr>\n",
       "  </tbody>\n",
       "</table>\n",
       "</div>"
      ],
      "text/plain": [
       "   First Score  Second Score  Third Score\n",
       "0        False         False         True\n",
       "1        False         False        False\n",
       "2         True         False        False\n",
       "3        False          True        False"
      ]
     },
     "execution_count": 100,
     "metadata": {},
     "output_type": "execute_result"
    }
   ],
   "source": [
    "# dictionary of lists\n",
    "dict = {'First Score':[100, 90, np.nan, 95],\n",
    "        'Second Score': [30, 45, 56, np.nan],\n",
    "        'Third Score':[np.nan, 40, 80, 98]}\n",
    " \n",
    "# creating a dataframe from list\n",
    "df = pd.DataFrame(dict)\n",
    " \n",
    "# using isnull() function  \n",
    "df.isnull()"
   ]
  },
  {
   "cell_type": "code",
   "execution_count": 101,
   "id": "b7c371a6",
   "metadata": {
    "ExecuteTime": {
     "end_time": "2022-06-23T04:30:41.514065Z",
     "start_time": "2022-06-23T04:30:41.491690Z"
    }
   },
   "outputs": [
    {
     "data": {
      "text/html": [
       "<div>\n",
       "<style scoped>\n",
       "    .dataframe tbody tr th:only-of-type {\n",
       "        vertical-align: middle;\n",
       "    }\n",
       "\n",
       "    .dataframe tbody tr th {\n",
       "        vertical-align: top;\n",
       "    }\n",
       "\n",
       "    .dataframe thead th {\n",
       "        text-align: right;\n",
       "    }\n",
       "</style>\n",
       "<table border=\"1\" class=\"dataframe\">\n",
       "  <thead>\n",
       "    <tr style=\"text-align: right;\">\n",
       "      <th></th>\n",
       "      <th>First Score</th>\n",
       "      <th>Second Score</th>\n",
       "      <th>Third Score</th>\n",
       "    </tr>\n",
       "  </thead>\n",
       "  <tbody>\n",
       "    <tr>\n",
       "      <th>0</th>\n",
       "      <td>100.0</td>\n",
       "      <td>30.0</td>\n",
       "      <td>0.0</td>\n",
       "    </tr>\n",
       "    <tr>\n",
       "      <th>1</th>\n",
       "      <td>90.0</td>\n",
       "      <td>45.0</td>\n",
       "      <td>40.0</td>\n",
       "    </tr>\n",
       "    <tr>\n",
       "      <th>2</th>\n",
       "      <td>0.0</td>\n",
       "      <td>56.0</td>\n",
       "      <td>80.0</td>\n",
       "    </tr>\n",
       "    <tr>\n",
       "      <th>3</th>\n",
       "      <td>95.0</td>\n",
       "      <td>0.0</td>\n",
       "      <td>98.0</td>\n",
       "    </tr>\n",
       "  </tbody>\n",
       "</table>\n",
       "</div>"
      ],
      "text/plain": [
       "   First Score  Second Score  Third Score\n",
       "0        100.0          30.0          0.0\n",
       "1         90.0          45.0         40.0\n",
       "2          0.0          56.0         80.0\n",
       "3         95.0           0.0         98.0"
      ]
     },
     "execution_count": 101,
     "metadata": {},
     "output_type": "execute_result"
    }
   ],
   "source": [
    "# filling missing value using fillna()  \n",
    "df.fillna(0)\n",
    "df"
   ]
  },
  {
   "cell_type": "code",
   "execution_count": 102,
   "id": "5e9fe3fe",
   "metadata": {
    "ExecuteTime": {
     "end_time": "2022-06-23T04:31:53.159906Z",
     "start_time": "2022-06-23T04:31:53.136456Z"
    }
   },
   "outputs": [
    {
     "data": {
      "text/html": [
       "<div>\n",
       "<style scoped>\n",
       "    .dataframe tbody tr th:only-of-type {\n",
       "        vertical-align: middle;\n",
       "    }\n",
       "\n",
       "    .dataframe tbody tr th {\n",
       "        vertical-align: top;\n",
       "    }\n",
       "\n",
       "    .dataframe thead th {\n",
       "        text-align: right;\n",
       "    }\n",
       "</style>\n",
       "<table border=\"1\" class=\"dataframe\">\n",
       "  <thead>\n",
       "    <tr style=\"text-align: right;\">\n",
       "      <th></th>\n",
       "      <th>First Score</th>\n",
       "      <th>Second Score</th>\n",
       "      <th>Third Score</th>\n",
       "      <th>Fourth Score</th>\n",
       "    </tr>\n",
       "  </thead>\n",
       "  <tbody>\n",
       "    <tr>\n",
       "      <th>0</th>\n",
       "      <td>100.0</td>\n",
       "      <td>30.0</td>\n",
       "      <td>52</td>\n",
       "      <td>NaN</td>\n",
       "    </tr>\n",
       "    <tr>\n",
       "      <th>1</th>\n",
       "      <td>90.0</td>\n",
       "      <td>NaN</td>\n",
       "      <td>40</td>\n",
       "      <td>NaN</td>\n",
       "    </tr>\n",
       "    <tr>\n",
       "      <th>2</th>\n",
       "      <td>NaN</td>\n",
       "      <td>45.0</td>\n",
       "      <td>80</td>\n",
       "      <td>NaN</td>\n",
       "    </tr>\n",
       "    <tr>\n",
       "      <th>3</th>\n",
       "      <td>95.0</td>\n",
       "      <td>56.0</td>\n",
       "      <td>98</td>\n",
       "      <td>65.0</td>\n",
       "    </tr>\n",
       "  </tbody>\n",
       "</table>\n",
       "</div>"
      ],
      "text/plain": [
       "   First Score  Second Score  Third Score  Fourth Score\n",
       "0        100.0          30.0           52           NaN\n",
       "1         90.0           NaN           40           NaN\n",
       "2          NaN          45.0           80           NaN\n",
       "3         95.0          56.0           98          65.0"
      ]
     },
     "execution_count": 102,
     "metadata": {},
     "output_type": "execute_result"
    }
   ],
   "source": [
    "# dictionary of lists\n",
    "dict = {'First Score':[100, 90, np.nan, 95],\n",
    "        'Second Score': [30, np.nan, 45, 56],\n",
    "        'Third Score':[52, 40, 80, 98],\n",
    "        'Fourth Score':[np.nan, np.nan, np.nan, 65]}\n",
    " \n",
    "# creating a dataframe from dictionary\n",
    "df = pd.DataFrame(dict)\n",
    "df"
   ]
  },
  {
   "cell_type": "code",
   "execution_count": 103,
   "id": "055a4b36",
   "metadata": {
    "ExecuteTime": {
     "end_time": "2022-06-23T04:32:48.391945Z",
     "start_time": "2022-06-23T04:32:48.365319Z"
    }
   },
   "outputs": [
    {
     "data": {
      "text/html": [
       "<div>\n",
       "<style scoped>\n",
       "    .dataframe tbody tr th:only-of-type {\n",
       "        vertical-align: middle;\n",
       "    }\n",
       "\n",
       "    .dataframe tbody tr th {\n",
       "        vertical-align: top;\n",
       "    }\n",
       "\n",
       "    .dataframe thead th {\n",
       "        text-align: right;\n",
       "    }\n",
       "</style>\n",
       "<table border=\"1\" class=\"dataframe\">\n",
       "  <thead>\n",
       "    <tr style=\"text-align: right;\">\n",
       "      <th></th>\n",
       "      <th>First Score</th>\n",
       "      <th>Second Score</th>\n",
       "      <th>Third Score</th>\n",
       "      <th>Fourth Score</th>\n",
       "    </tr>\n",
       "  </thead>\n",
       "  <tbody>\n",
       "    <tr>\n",
       "      <th>3</th>\n",
       "      <td>95.0</td>\n",
       "      <td>56.0</td>\n",
       "      <td>98</td>\n",
       "      <td>65.0</td>\n",
       "    </tr>\n",
       "  </tbody>\n",
       "</table>\n",
       "</div>"
      ],
      "text/plain": [
       "   First Score  Second Score  Third Score  Fourth Score\n",
       "3         95.0          56.0           98          65.0"
      ]
     },
     "execution_count": 103,
     "metadata": {},
     "output_type": "execute_result"
    }
   ],
   "source": [
    "# drop rows with at least one Nan value (Null value)\n",
    "df.dropna()"
   ]
  },
  {
   "cell_type": "markdown",
   "id": "53656629",
   "metadata": {},
   "source": [
    "### Iterating over rows and columns\n",
    "\n",
    "We iterate a dataframe like a dictionary."
   ]
  },
  {
   "cell_type": "code",
   "execution_count": 105,
   "id": "5f44b738",
   "metadata": {
    "ExecuteTime": {
     "end_time": "2022-06-23T04:36:09.970001Z",
     "start_time": "2022-06-23T04:36:09.957056Z"
    }
   },
   "outputs": [
    {
     "data": {
      "text/html": [
       "<div>\n",
       "<style scoped>\n",
       "    .dataframe tbody tr th:only-of-type {\n",
       "        vertical-align: middle;\n",
       "    }\n",
       "\n",
       "    .dataframe tbody tr th {\n",
       "        vertical-align: top;\n",
       "    }\n",
       "\n",
       "    .dataframe thead th {\n",
       "        text-align: right;\n",
       "    }\n",
       "</style>\n",
       "<table border=\"1\" class=\"dataframe\">\n",
       "  <thead>\n",
       "    <tr style=\"text-align: right;\">\n",
       "      <th></th>\n",
       "      <th>name</th>\n",
       "      <th>degree</th>\n",
       "      <th>score</th>\n",
       "    </tr>\n",
       "  </thead>\n",
       "  <tbody>\n",
       "    <tr>\n",
       "      <th>0</th>\n",
       "      <td>aparna</td>\n",
       "      <td>MBA</td>\n",
       "      <td>90</td>\n",
       "    </tr>\n",
       "    <tr>\n",
       "      <th>1</th>\n",
       "      <td>pankaj</td>\n",
       "      <td>BCA</td>\n",
       "      <td>40</td>\n",
       "    </tr>\n",
       "    <tr>\n",
       "      <th>2</th>\n",
       "      <td>sudhir</td>\n",
       "      <td>M.Tech</td>\n",
       "      <td>80</td>\n",
       "    </tr>\n",
       "    <tr>\n",
       "      <th>3</th>\n",
       "      <td>Geeku</td>\n",
       "      <td>MBA</td>\n",
       "      <td>98</td>\n",
       "    </tr>\n",
       "  </tbody>\n",
       "</table>\n",
       "</div>"
      ],
      "text/plain": [
       "     name  degree  score\n",
       "0  aparna     MBA     90\n",
       "1  pankaj     BCA     40\n",
       "2  sudhir  M.Tech     80\n",
       "3   Geeku     MBA     98"
      ]
     },
     "execution_count": 105,
     "metadata": {},
     "output_type": "execute_result"
    }
   ],
   "source": [
    "# dictionary of lists\n",
    "dict = {'name':[\"aparna\", \"pankaj\", \"sudhir\", \"Geeku\"],\n",
    "        'degree': [\"MBA\", \"BCA\", \"M.Tech\", \"MBA\"],\n",
    "        'score':[90, 40, 80, 98]}\n",
    " \n",
    "# creating a dataframe from a dictionary \n",
    "df = pd.DataFrame(dict)\n",
    "df"
   ]
  },
  {
   "cell_type": "code",
   "execution_count": 106,
   "id": "bb38c413",
   "metadata": {
    "ExecuteTime": {
     "end_time": "2022-06-23T04:37:09.469995Z",
     "start_time": "2022-06-23T04:37:09.453985Z"
    }
   },
   "outputs": [
    {
     "name": "stdout",
     "output_type": "stream",
     "text": [
      "0 name      aparna\n",
      "degree       MBA\n",
      "score         90\n",
      "Name: 0, dtype: object\n",
      "\n",
      "1 name      pankaj\n",
      "degree       BCA\n",
      "score         40\n",
      "Name: 1, dtype: object\n",
      "\n",
      "2 name      sudhir\n",
      "degree    M.Tech\n",
      "score         80\n",
      "Name: 2, dtype: object\n",
      "\n",
      "3 name      Geeku\n",
      "degree      MBA\n",
      "score        98\n",
      "Name: 3, dtype: object\n",
      "\n"
     ]
    }
   ],
   "source": [
    "# iterating over rows using iterrows() function \n",
    "for i, j in df.iterrows():\n",
    "    print(i, j)\n",
    "    print()"
   ]
  },
  {
   "cell_type": "code",
   "execution_count": 107,
   "id": "848bf90c",
   "metadata": {
    "ExecuteTime": {
     "end_time": "2022-06-23T04:37:57.792877Z",
     "start_time": "2022-06-23T04:37:57.781843Z"
    }
   },
   "outputs": [
    {
     "name": "stdout",
     "output_type": "stream",
     "text": [
      "sudhir\n",
      "M.Tech\n",
      "80\n"
     ]
    }
   ],
   "source": [
    "columns = list(df)\n",
    " \n",
    "for i in columns:\n",
    "    # printing the third element of the column\n",
    "    print (df[i][2])"
   ]
  },
  {
   "cell_type": "markdown",
   "id": "187bd0f9",
   "metadata": {},
   "source": [
    "## Arrays\n",
    "\n",
    "Python uses Lists for Arrays. To work with arrays in Python you will have to import a library, such as the array or NumPy libraries. "
   ]
  },
  {
   "cell_type": "markdown",
   "id": "e5bfd60c",
   "metadata": {},
   "source": [
    "### Create an array"
   ]
  },
  {
   "cell_type": "code",
   "execution_count": 121,
   "id": "aeaecb30",
   "metadata": {
    "ExecuteTime": {
     "end_time": "2022-06-23T16:52:31.405820Z",
     "start_time": "2022-06-23T16:52:31.398594Z"
    }
   },
   "outputs": [
    {
     "name": "stdout",
     "output_type": "stream",
     "text": [
      "The new created array is:\n",
      "1 2 3 \n",
      "The new created array is: 2.5 3.2 3.3 "
     ]
    }
   ],
   "source": [
    "# Python program to demonstrate\n",
    "# Creation of Array\n",
    " \n",
    "# importing \"array\" for array creations\n",
    "import array as arr\n",
    " \n",
    "# creating an array with integer type\n",
    "a = arr.array('i', [1, 2, 3])\n",
    " \n",
    "# printing original array\n",
    "print (\"The new created array is:\")\n",
    "for i in range (0, 3):\n",
    "    print (a[i], end =\" \") # end = \" \" print space without carriage return\n",
    "print() # print a new line\n",
    " \n",
    "# creating an array with float type\n",
    "b = arr.array('d', [2.5, 3.2, 3.3])\n",
    " \n",
    "# printing original array\n",
    "print (\"The new created array is:\", end =\" \")\n",
    "for i in range (0, 3):\n",
    "    print (b[i], end =\" \")"
   ]
  },
  {
   "cell_type": "markdown",
   "id": "2bb008fe",
   "metadata": {},
   "source": [
    "### Add an element to an existing array"
   ]
  },
  {
   "cell_type": "code",
   "execution_count": 122,
   "id": "d165d2e8",
   "metadata": {
    "ExecuteTime": {
     "end_time": "2022-06-23T16:59:19.150906Z",
     "start_time": "2022-06-23T16:59:19.137156Z"
    }
   },
   "outputs": [
    {
     "name": "stdout",
     "output_type": "stream",
     "text": [
      "Array before insertion: 1 2 3 \n",
      "Array after insertion: 1 4 2 3 \n",
      "Array before insertion: 2.5 3.2 3.3 \n",
      "Array after insertion: 2.5 3.2 3.3 4.4 \n"
     ]
    }
   ],
   "source": [
    "# Python program to demonstrate\n",
    "# Adding Elements to a Array\n",
    " \n",
    "# importing \"array\" for array creations\n",
    "import array as arr\n",
    " \n",
    "# array with int type\n",
    "a = arr.array('i', [1, 2, 3])\n",
    " \n",
    "print (\"Array before insertion:\", end =\" \")\n",
    "for i in range (0, 3):\n",
    "    print (a[i], end =\" \")\n",
    "print()\n",
    " \n",
    "# inserting array using\n",
    "# insert() function\n",
    "a.insert(1, 4)\n",
    " \n",
    "print (\"Array after insertion:\", end =\" \")\n",
    "for i in (a):\n",
    "    print (i, end =\" \")\n",
    "print()\n",
    " \n",
    "# array with float type\n",
    "b = arr.array('d', [2.5, 3.2, 3.3])\n",
    " \n",
    "print (\"Array before insertion:\", end =\" \")\n",
    "for i in range (0, 3):\n",
    "    print (b[i], end =\" \")\n",
    "print()\n",
    " \n",
    "# adding an element using append()\n",
    "b.append(4.4)\n",
    "\n",
    "print (\"Array after insertion:\", end =\" \")\n",
    "for i in (b):\n",
    "    print (i, end =\" \")\n",
    "print()"
   ]
  },
  {
   "cell_type": "markdown",
   "id": "bd83f6ec",
   "metadata": {},
   "source": [
    "### Remove elements from an array"
   ]
  },
  {
   "cell_type": "code",
   "execution_count": 123,
   "id": "b4f36e23",
   "metadata": {
    "ExecuteTime": {
     "end_time": "2022-06-23T17:02:28.550954Z",
     "start_time": "2022-06-23T17:02:28.540220Z"
    }
   },
   "outputs": [
    {
     "name": "stdout",
     "output_type": "stream",
     "text": [
      "The new created array is: 1 2 3 1 5 \r\n",
      "The popped element is: 3\n",
      "The array after popping is: 1 2 1 5 \r\n",
      "The array after removing is: 2 1 5 "
     ]
    }
   ],
   "source": [
    "# Python program to demonstrate\n",
    "# Removal of elements in a Array\n",
    "  \n",
    "# importing \"array\" for array operations\n",
    "import array\n",
    "  \n",
    "# initializing array with array values\n",
    "# initializes array with signed integers\n",
    "arr = array.array('i', [1, 2, 3, 1, 5])\n",
    " \n",
    "# printing original array\n",
    "print (\"The new created array is: \", end =\"\")\n",
    "for i in range (0, 5):\n",
    "    print (arr[i], end =\" \")\n",
    " \n",
    "print (\"\\r\")\n",
    " \n",
    "# using pop() to remove element at 2nd position\n",
    "print (\"The popped element is: \", end =\"\")\n",
    "print (arr.pop(2))\n",
    " \n",
    "# printing array after popping\n",
    "print (\"The array after popping is: \", end =\"\")\n",
    "for i in range (0, 4):\n",
    "    print (arr[i], end =\" \")\n",
    " \n",
    "print(\"\\r\")\n",
    " \n",
    "# using remove() to remove 1st occurrence of 1\n",
    "arr.remove(1)\n",
    " \n",
    "# printing array after removing\n",
    "print (\"The array after removing is: \", end =\"\")\n",
    "for i in range (0, 3):\n",
    "    print (arr[i], end =\" \")"
   ]
  },
  {
   "cell_type": "markdown",
   "id": "5da519c1",
   "metadata": {},
   "source": [
    "### Slice an array"
   ]
  },
  {
   "cell_type": "code",
   "execution_count": 124,
   "id": "2ba27aad",
   "metadata": {
    "ExecuteTime": {
     "end_time": "2022-06-23T17:04:06.589529Z",
     "start_time": "2022-06-23T17:04:06.576474Z"
    }
   },
   "outputs": [
    {
     "name": "stdout",
     "output_type": "stream",
     "text": [
      "Initial Array: \n",
      "1 2 3 4 5 6 7 8 9 10 \n",
      "Slicing elements in a range 3-8: \n",
      "array('i', [4, 5, 6, 7, 8])\n",
      "\n",
      "Elements sliced from 5th element till the end: \n",
      "array('i', [6, 7, 8, 9, 10])\n",
      "\n",
      "Printing all elements using slice operation: \n",
      "array('i', [1, 2, 3, 4, 5, 6, 7, 8, 9, 10])\n"
     ]
    }
   ],
   "source": [
    "# Python program to demonstrate\n",
    "# slicing of elements in a Array\n",
    " \n",
    "# importing array module\n",
    "import array as arr\n",
    " \n",
    "# creating a list\n",
    "l = [1, 2, 3, 4, 5, 6, 7, 8, 9, 10]\n",
    " \n",
    "a = arr.array('i', l)\n",
    "print(\"Initial Array: \")\n",
    "for i in (a):\n",
    "    print(i, end =\" \")\n",
    " \n",
    "# Print elements of a range\n",
    "# using Slice operation\n",
    "Sliced_array = a[3:8]\n",
    "print(\"\\nSlicing elements in a range 3-8: \")\n",
    "print(Sliced_array)\n",
    " \n",
    "# Print elements from a\n",
    "# pre-defined point to end\n",
    "Sliced_array = a[5:]\n",
    "print(\"\\nElements sliced from 5th \"\n",
    "      \"element till the end: \")\n",
    "print(Sliced_array)\n",
    " \n",
    "# Printing elements from\n",
    "# beginning till end\n",
    "Sliced_array = a[:]\n",
    "print(\"\\nPrinting all elements using slice operation: \")\n",
    "print(Sliced_array)"
   ]
  },
  {
   "cell_type": "markdown",
   "id": "c29ffd26",
   "metadata": {},
   "source": [
    "## Looping techniques\n",
    "\n",
    "When looping through dictionaries, the key and corresponding value can be retrieved at the same time using the items() method."
   ]
  },
  {
   "cell_type": "code",
   "execution_count": 108,
   "id": "72dcf542",
   "metadata": {
    "ExecuteTime": {
     "end_time": "2022-06-23T04:42:32.334761Z",
     "start_time": "2022-06-23T04:42:32.326882Z"
    }
   },
   "outputs": [
    {
     "name": "stdout",
     "output_type": "stream",
     "text": [
      "gallahad the pure\n",
      "robin the brave\n"
     ]
    }
   ],
   "source": [
    "knights = {'gallahad': 'the pure', 'robin': 'the brave'}\n",
    "for k, v in knights.items():\n",
    "    print(k, v)"
   ]
  },
  {
   "cell_type": "code",
   "execution_count": 109,
   "id": "bb86f4a4",
   "metadata": {
    "ExecuteTime": {
     "end_time": "2022-06-23T04:43:42.671343Z",
     "start_time": "2022-06-23T04:43:42.662721Z"
    }
   },
   "outputs": [
    {
     "name": "stdout",
     "output_type": "stream",
     "text": [
      "0 tic\n",
      "1 tac\n",
      "2 toe\n"
     ]
    }
   ],
   "source": [
    "for i, v in enumerate(['tic', 'tac', 'toe']):\n",
    "    print(i, v)"
   ]
  },
  {
   "cell_type": "code",
   "execution_count": 110,
   "id": "29fd61c9",
   "metadata": {
    "ExecuteTime": {
     "end_time": "2022-06-23T04:44:19.667280Z",
     "start_time": "2022-06-23T04:44:19.660541Z"
    }
   },
   "outputs": [
    {
     "name": "stdout",
     "output_type": "stream",
     "text": [
      "What is your name?  It is lancelot.\n",
      "What is your quest?  It is the holy grail.\n",
      "What is your favorite color?  It is blue.\n"
     ]
    }
   ],
   "source": [
    "questions = ['name', 'quest', 'favorite color']\n",
    "answers = ['lancelot', 'the holy grail', 'blue']\n",
    "for q, a in zip(questions, answers):\n",
    "    print('What is your {0}?  It is {1}.'.format(q, a))"
   ]
  },
  {
   "cell_type": "code",
   "execution_count": 111,
   "id": "ddb541ea",
   "metadata": {
    "ExecuteTime": {
     "end_time": "2022-06-23T04:45:45.016539Z",
     "start_time": "2022-06-23T04:45:45.002925Z"
    }
   },
   "outputs": [
    {
     "name": "stdout",
     "output_type": "stream",
     "text": [
      "9\n",
      "7\n",
      "5\n",
      "3\n",
      "1\n"
     ]
    }
   ],
   "source": [
    "for i in reversed(range(1, 10, 2)): # the first two specifies the range lower and upper bounds; the 3rd for gap\n",
    "    print(i) "
   ]
  },
  {
   "cell_type": "code",
   "execution_count": 112,
   "id": "b01d64f4",
   "metadata": {
    "ExecuteTime": {
     "end_time": "2022-06-23T04:46:23.602695Z",
     "start_time": "2022-06-23T04:46:23.595072Z"
    }
   },
   "outputs": [
    {
     "name": "stdout",
     "output_type": "stream",
     "text": [
      "apple\n",
      "apple\n",
      "banana\n",
      "orange\n",
      "orange\n",
      "pear\n"
     ]
    }
   ],
   "source": [
    "basket = ['apple', 'orange', 'apple', 'pear', 'orange', 'banana']\n",
    "for i in sorted(basket):\n",
    "    print(i)"
   ]
  },
  {
   "cell_type": "code",
   "execution_count": 113,
   "id": "df99c9ee",
   "metadata": {
    "ExecuteTime": {
     "end_time": "2022-06-23T04:47:17.522557Z",
     "start_time": "2022-06-23T04:47:17.516513Z"
    }
   },
   "outputs": [
    {
     "name": "stdout",
     "output_type": "stream",
     "text": [
      "apple\n",
      "banana\n",
      "orange\n",
      "pear\n"
     ]
    }
   ],
   "source": [
    "basket = ['apple', 'orange', 'apple', 'pear', 'orange', 'banana']\n",
    "for f in sorted(set(basket)):\n",
    "     print(f)"
   ]
  },
  {
   "cell_type": "code",
   "execution_count": 114,
   "id": "183e4360",
   "metadata": {
    "ExecuteTime": {
     "end_time": "2022-06-23T04:48:06.698623Z",
     "start_time": "2022-06-23T04:48:06.688756Z"
    }
   },
   "outputs": [
    {
     "data": {
      "text/plain": [
       "[56.2, 51.7, 55.3, 52.5, 47.8]"
      ]
     },
     "execution_count": 114,
     "metadata": {},
     "output_type": "execute_result"
    }
   ],
   "source": [
    "import math\n",
    "raw_data = [56.2, float('NaN'), 51.7, 55.3, 52.5, float('NaN'), 47.8]\n",
    "filtered_data = []\n",
    "for value in raw_data:\n",
    "     if not math.isnan(value):\n",
    "         filtered_data.append(value)\n",
    "\n",
    "filtered_data"
   ]
  },
  {
   "cell_type": "code",
   "execution_count": null,
   "id": "074144b5",
   "metadata": {},
   "outputs": [],
   "source": []
  }
 ],
 "metadata": {
  "kernelspec": {
   "display_name": "Python 3.8.6 64-bit",
   "language": "python",
   "name": "python3"
  },
  "language_info": {
   "codemirror_mode": {
    "name": "ipython",
    "version": 3
   },
   "file_extension": ".py",
   "mimetype": "text/x-python",
   "name": "python",
   "nbconvert_exporter": "python",
   "pygments_lexer": "ipython3",
   "version": "3.8.6"
  },
  "toc": {
   "base_numbering": 1,
   "nav_menu": {},
   "number_sections": true,
   "sideBar": true,
   "skip_h1_title": false,
   "title_cell": "Table of Contents",
   "title_sidebar": "Contents",
   "toc_cell": false,
   "toc_position": {},
   "toc_section_display": true,
   "toc_window_display": true
  },
  "varInspector": {
   "cols": {
    "lenName": 16,
    "lenType": 16,
    "lenVar": 40
   },
   "kernels_config": {
    "python": {
     "delete_cmd_postfix": "",
     "delete_cmd_prefix": "del ",
     "library": "var_list.py",
     "varRefreshCmd": "print(var_dic_list())"
    },
    "r": {
     "delete_cmd_postfix": ") ",
     "delete_cmd_prefix": "rm(",
     "library": "var_list.r",
     "varRefreshCmd": "cat(var_dic_list()) "
    }
   },
   "types_to_exclude": [
    "module",
    "function",
    "builtin_function_or_method",
    "instance",
    "_Feature"
   ],
   "window_display": false
  },
  "vscode": {
   "interpreter": {
    "hash": "e2cde104f4d18245c788b079dac12b495c585d850f7488bacbf703b0b6afa06c"
   }
  }
 },
 "nbformat": 4,
 "nbformat_minor": 5
}
