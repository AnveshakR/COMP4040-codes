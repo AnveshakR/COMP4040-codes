{
 "cells": [
  {
   "cell_type": "code",
   "execution_count": 46,
   "metadata": {},
   "outputs": [],
   "source": [
    "from __future__ import print_function"
   ]
  },
  {
   "cell_type": "code",
   "execution_count": 47,
   "metadata": {},
   "outputs": [],
   "source": [
    "def bottom_up_lcs_path(X, Y):\n",
    "    # find the length of the strings\n",
    "    m = len(X)\n",
    "    n = len(Y)\n",
    " \n",
    "    # declaring the array for storing the dp values\n",
    "    L = [[None]*(n + 1) for i in range(m + 1)]\n",
    "    P = [[0]*(n + 1) for i in range(m + 1)]\n",
    "    for i in range(m + 1):\n",
    "        L[i][0] = 0\n",
    "    for j in range(n + 1):\n",
    "        L[0][j] = 0\n",
    "    for i in range(1, m + 1):\n",
    "        for j in range(1, n + 1):\n",
    "            if X[i-1] == Y[j-1]:\n",
    "                L[i][j] = L[i-1][j-1]+1\n",
    "                P[i][j] = \"upleft\"\n",
    "            elif L[i-1][j] >= L[i][j-1]: \n",
    "                L[i][j] = L[i-1][j]\n",
    "                P[i][j] = \"up\"\n",
    "            else:\n",
    "                L[i][j] = L[i][j-1]\n",
    "                P[i][j] = \"left\"\n",
    "    return L[m][n], P"
   ]
  },
  {
   "cell_type": "code",
   "execution_count": 48,
   "metadata": {},
   "outputs": [],
   "source": [
    "def print_lcs(P, X, i, j, result):\n",
    "    if i == 0 or j == 0:\n",
    "        return\n",
    "    if P[i][j] == \"upleft\":\n",
    "        print_lcs(P, X, i - 1, j - 1, result)\n",
    "        result.append(X[i-1])\n",
    "    elif P[i][j] == \"up\":\n",
    "        print_lcs(P, X, i - 1, j, result)\n",
    "    else:\n",
    "        print_lcs(P, X, i, j - 1, result)"
   ]
  },
  {
   "cell_type": "code",
   "execution_count": 49,
   "metadata": {},
   "outputs": [
    {
     "name": "stdout",
     "output_type": "stream",
     "text": [
      "String 1:  AABCCDIEEDSCYBA\n",
      "String 2:  ABBCDDEFDHCNBAT\n"
     ]
    }
   ],
   "source": [
    "X = \"AABCCDIEEDSCYBA\"\n",
    "Y = \"ABBCDDEFDHCNBAT\"\n",
    "\n",
    "print(\"String 1: \", X)\n",
    "print(\"String 2: \", Y)\n"
   ]
  },
  {
   "cell_type": "code",
   "execution_count": 50,
   "metadata": {},
   "outputs": [
    {
     "name": "stdout",
     "output_type": "stream",
     "text": [
      "LCS from left side: ABCDEDCBA\n"
     ]
    }
   ],
   "source": [
    "# for LCS from left side\n",
    "\n",
    "result = []\n",
    "\n",
    "P = bottom_up_lcs_path(X, Y)[1] # building path for input strings\n",
    "m = len(X)\n",
    "n = len(Y)\n",
    "\n",
    "print_lcs(P, X, m, n, result)\n",
    "print(\"LCS from left side: \", *result, sep=\"\")"
   ]
  },
  {
   "cell_type": "code",
   "execution_count": 51,
   "metadata": {},
   "outputs": [
    {
     "name": "stdout",
     "output_type": "stream",
     "text": [
      "LCS from left side: ABCDEDCBA\n"
     ]
    }
   ],
   "source": [
    "# for LCS from right side\n",
    "\n",
    "result = []\n",
    "\n",
    "P = bottom_up_lcs_path(X[::-1], Y[::-1])[1] # building path for reversed strings\n",
    "m = len(X)\n",
    "n = len(Y)\n",
    "\n",
    "print_lcs(P, X[::-1], m, n, result)\n",
    "print(\"LCS from right side: \", *result, sep=\"\")"
   ]
  },
  {
   "cell_type": "code",
   "execution_count": null,
   "metadata": {},
   "outputs": [],
   "source": []
  }
 ],
 "metadata": {
  "kernelspec": {
   "display_name": "Python 3.8.6 64-bit",
   "language": "python",
   "name": "python3"
  },
  "language_info": {
   "codemirror_mode": {
    "name": "ipython",
    "version": 3
   },
   "file_extension": ".py",
   "mimetype": "text/x-python",
   "name": "python",
   "nbconvert_exporter": "python",
   "pygments_lexer": "ipython3",
   "version": "3.8.6 (tags/v3.8.6:db45529, Sep 23 2020, 15:52:53) [MSC v.1927 64 bit (AMD64)]"
  },
  "orig_nbformat": 4,
  "vscode": {
   "interpreter": {
    "hash": "e2cde104f4d18245c788b079dac12b495c585d850f7488bacbf703b0b6afa06c"
   }
  }
 },
 "nbformat": 4,
 "nbformat_minor": 2
}
