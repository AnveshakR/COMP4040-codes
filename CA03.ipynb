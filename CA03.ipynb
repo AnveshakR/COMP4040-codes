{
 "cells": [
  {
   "cell_type": "markdown",
   "metadata": {},
   "source": [
    "Write a Python program to simulate poker card shuffling to generate a random permutation of all 52 cards (excluding jokers). Then simulate four players to draw 11 cards for each player, where each plays takes turn to draw one card at each round following a fixed order of drawing (actually, this is equivalent to randomly selecting 9 cards for each player at a time provided that shuffling is truely random). The rest of the cards are discarded. These are the cards for playing one game. Run your program until one player receives all 4 A's in his/her hand. How many games will have to be played for this to happen? When this happens, it is considered as one success, Keep playing the games for 100 successes. What is the average number of games to play to get all A's in one hand? \n",
    "Repeat this experiment for 100 times. What can you conclude about the expected number of games to play for a success?"
   ]
  },
  {
   "cell_type": "code",
   "execution_count": 1,
   "metadata": {},
   "outputs": [],
   "source": [
    "from random import choice\n",
    "import itertools\n",
    "import time"
   ]
  },
  {
   "cell_type": "code",
   "execution_count": 2,
   "metadata": {},
   "outputs": [],
   "source": [
    "cards = [str(x) for x in range(2,11)]+['King', 'Queen', 'Jack', 'Ace']\n",
    "types = ['Spades', 'Clubs', 'Hearts', 'Diamonds']\n",
    "\n",
    "deck_test = list(itertools.product(cards,types))"
   ]
  },
  {
   "cell_type": "code",
   "execution_count": 3,
   "metadata": {},
   "outputs": [],
   "source": [
    "def middleSquare(max_num):\n",
    "\n",
    "    number = int(time.time() - time.time()%1) * time.time_ns()\n",
    "    range_num = []\n",
    "\n",
    "    k = len(str(number))\n",
    "    already_seen = set()\n",
    "    counter = 0\n",
    "\n",
    "    while number not in already_seen:\n",
    "        counter += 1\n",
    "        already_seen.add(number)\n",
    "        l = k - k//2 \n",
    "        r = k + k//2 + 1\n",
    "        number = int(str(number * number).zfill(2*k)[l:r])  # zfill adds padding of zeroes in front\n",
    "        if (number % pow(10, len(str(max_num))) < max_num):\n",
    "            if number % pow(10, len(str(max_num))) not in range_num:\n",
    "                range_num.append(number % pow(10, len(str(max_num))))\n",
    "        \n",
    "        if (len(range_num) == max_num):\n",
    "            return range_num"
   ]
  },
  {
   "cell_type": "code",
   "execution_count": 4,
   "metadata": {},
   "outputs": [],
   "source": [
    "def swap_shuffler(deck):\n",
    "    rand_index = middleSquare(len(deck))\n",
    "    for i in range(len(deck)):\n",
    "        deck[i], deck[rand_index[i]] = deck[rand_index[i]], deck[i]\n",
    "    return deck"
   ]
  },
  {
   "cell_type": "code",
   "execution_count": 5,
   "metadata": {},
   "outputs": [],
   "source": [
    "def remake():\n",
    "\n",
    "    deck = list(itertools.product(cards,types))\n",
    "    deck = swap_shuffler(deck)\n",
    "    players =  [[0 for j in range(11)] for i in range(4)]\n",
    "\n",
    "    for i in range(11):\n",
    "        for j in range(4):\n",
    "            players[j][i] = (deck[j])\n",
    "            deck.remove(deck[j])\n",
    "\n",
    "    return players"
   ]
  },
  {
   "cell_type": "code",
   "execution_count": 7,
   "metadata": {},
   "outputs": [
    {
     "name": "stdout",
     "output_type": "stream",
     "text": [
      "581.06, 496.14, 529.82, 440.89, 546.52, 534.08, 499.7, 661.49, 528.4, 546.76, 480.4, 510.29, 672.52, 697.52, 559.77, 500.0, 448.44, 511.24, 547.07, 627.19, 457.73, 497.09, 659.7, 655.08, 495.48, 373.57, 437.82, 554.87, 475.06, 445.39, 567.3, 472.21, 568.86, 534.04, 412.6, 645.67, 542.12, 341.44, 490.01, 639.96, 523.76, 495.78, 564.53, 577.51, 573.99, 541.69, 475.37, 492.46, 612.33, 475.4, 522.81, 479.88, 560.48, 529.24, 670.71, 500.41, 442.87, 499.54, 603.82, 580.56, 469.62, 428.91, 559.72, 618.23, 611.09, 477.32, 417.29, 579.93, 548.41, 450.77, 514.24, 429.86, 602.26, 450.84, 459.93, 469.22, 614.39, 514.2, 490.23, 556.18, 624.12, 658.89, 462.06, 507.25, 575.48, 563.15, 472.54, 548.15, 478.98, 612.43, 537.19, 682.57, 579.91, 612.37, 539.23, 556.08, 550.21, 551.98, 523.58, 613.18, 516.88, "
     ]
    }
   ],
   "source": [
    "\n",
    "avg_counter = 0\n",
    "avg_games = []\n",
    "\n",
    "while(avg_counter <= 100):\n",
    "    games_counter = 0\n",
    "    break_counter = 0\n",
    "    successes = 100\n",
    "    while(break_counter < successes):\n",
    "        player_cards = remake()\n",
    "        games_counter+=1\n",
    "        for player in player_cards:\n",
    "            ace_counter = 0\n",
    "            for card in [x[0] for x in player]:\n",
    "                if card == 'Ace':\n",
    "                    ace_counter+=1\n",
    "            if(ace_counter == 4):\n",
    "                # [print(x[0]+\" of \"+x[1]) for x in player]\n",
    "                break_counter+=1\n",
    "                break\n",
    "    print(games_counter/100, end= \", \")\n",
    "    avg_games.append(games_counter/100)\n",
    "    avg_counter +=1"
   ]
  },
  {
   "cell_type": "code",
   "execution_count": 8,
   "metadata": {},
   "outputs": [
    {
     "name": "stdout",
     "output_type": "stream",
     "text": [
      "697.52 341.44\n"
     ]
    }
   ],
   "source": [
    "print(max(avg_games), min(avg_games))"
   ]
  },
  {
   "cell_type": "code",
   "execution_count": null,
   "metadata": {},
   "outputs": [],
   "source": []
  }
 ],
 "metadata": {
  "kernelspec": {
   "display_name": "Python 3.8.6 64-bit",
   "language": "python",
   "name": "python3"
  },
  "language_info": {
   "codemirror_mode": {
    "name": "ipython",
    "version": 3
   },
   "file_extension": ".py",
   "mimetype": "text/x-python",
   "name": "python",
   "nbconvert_exporter": "python",
   "pygments_lexer": "ipython3",
   "version": "3.8.6"
  },
  "orig_nbformat": 4,
  "vscode": {
   "interpreter": {
    "hash": "e2cde104f4d18245c788b079dac12b495c585d850f7488bacbf703b0b6afa06c"
   }
  }
 },
 "nbformat": 4,
 "nbformat_minor": 2
}
