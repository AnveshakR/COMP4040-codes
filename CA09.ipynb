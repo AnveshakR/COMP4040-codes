{
  "cells": [
    {
      "cell_type": "code",
      "execution_count": 1,
      "id": "4cc60a29",
      "metadata": {
        "id": "4cc60a29"
      },
      "outputs": [],
      "source": [
        "# myhash hash function\n",
        "def myhash(key): \n",
        "    hash_value = 7; \n",
        "    for i in range(len(key)):\n",
        "        hash_value = hash_value * 31 + ord(key[i]) \n",
        "        return hash_value\n",
        "    \n",
        "# linear probe function\n",
        "def linear_myhash(key, i):\n",
        "    return myhash(key) + i\n",
        "\n",
        "\n",
        "# Quadratic probe function\n",
        "def quadratic_myhash(key, i):\n",
        "    return myhash(key) +  2 * (i**2) + 3 * i"
      ]
    },
    {
      "cell_type": "code",
      "execution_count": 2,
      "id": "be5c7ef2",
      "metadata": {
        "id": "be5c7ef2"
      },
      "outputs": [],
      "source": [
        "class Hashtable:\n",
        "    def __init__(self, elements, mode):\n",
        "        self.m = 128\n",
        "        self.array = [0] * self.m\n",
        "        self.mode = mode # selecting quadratic or linear probe mode\n",
        "        self.probes = 0 # saves the number of probes.\n",
        "        self.place_element(elements)\n",
        "\n",
        "        \n",
        "    def hash(self, key, i):\n",
        "        if self.mode == \"linear\":\n",
        "            return linear_myhash(key, i)\n",
        "        elif self.mode == \"quadratic\":\n",
        "            return quadratic_myhash(key, i)\n",
        "        else:\n",
        "            raise Exception(\"Choose an available mode.\")\n",
        "    \n",
        "    \n",
        "    def place_element(self, elements):\n",
        "        for key, value in elements:\n",
        "            i = 0\n",
        "            while True:\n",
        "                index = self.hash(key, i) % self.m\n",
        "                if self.array[index] == 0:\n",
        "                    self.array[index] = (key, value)\n",
        "                    self.probes += i\n",
        "                    break\n",
        "                i+=1\n",
        "    def get_value(self, key):\n",
        "        i=0\n",
        "        while True:\n",
        "            index = self.hash(key, i) % self.m\n",
        "            val = self.array[index]\n",
        "            if key != val[0]:\n",
        "                i+=1\n",
        "            else:\n",
        "                return val[1], i\n",
        "                break\n",
        "            \n",
        "                \n",
        "    def get_probes(self):\n",
        "        return self.probes\n",
        "    \n",
        "    def __str__(self):\n",
        "        return print(self.array)"
      ]
    },
    {
      "cell_type": "code",
      "execution_count": 4,
      "id": "5422c7c5",
      "metadata": {
        "colab": {
          "base_uri": "https://localhost:8080/",
          "height": 131
        },
        "id": "5422c7c5",
        "outputId": "5a8a6cd2-4cf5-44f8-dabb-df753f0db34e",
        "scrolled": true
      },
      "outputs": [
        {
          "name": "stdout",
          "output_type": "stream",
          "text": [
            "Linear probing average: 7617.13\n",
            "Quadratic probing average: 1891.33\n",
            "\n",
            "Linear probing average for each element: 59.508828125\n",
            "Quadratic probing average for each element: 14.776015625\n"
          ]
        }
      ],
      "source": [
        "import random\n",
        "\n",
        "\n",
        "linear_probing_times = []\n",
        "quadratic_probing_times = []\n",
        "\n",
        "for k in range(100):\n",
        "    test_array = [(x:=random.randint(1000, 10_000), str(x)) for i in range(128)]\n",
        "    test_array = [(y, x) for x,y in test_array]\n",
        "\n",
        "    linearHashTable = Hashtable(test_array, \"linear\")\n",
        "  \n",
        "    quadraticHashTable = Hashtable(test_array, \"quadratic\")\n",
        "  \n",
        "    linear_probing_times.append(linearHashTable.get_probes())\n",
        "    quadratic_probing_times.append(quadraticHashTable.get_probes())\n",
        "    \n",
        "\n",
        "print(f\"Linear probing average: {sum(linear_probing_times) / 100}\")\n",
        "print(f\"Quadratic probing average: {sum(quadratic_probing_times) / 100}\\n\")\n",
        "\n",
        "print(f\"Linear probing average for each element: {sum(linear_probing_times) / 12800}\")\n",
        "print(f\"Quadratic probing average for each element: {sum(quadratic_probing_times) / 12800}\")\n",
        "    "
      ]
    },
    {
      "cell_type": "markdown",
      "id": "73ed1fa6",
      "metadata": {
        "id": "73ed1fa6"
      },
      "source": [
        "Quadratic probing is definitely a better option because its almost 4 times more efficient than linear probing but on the other hand, find a quadratic function that can place all the items in a hashtable is difficult. "
      ]
    },
    {
      "cell_type": "markdown",
      "id": "71d9229d",
      "metadata": {},
      "source": []
    }
  ],
  "metadata": {
    "colab": {
      "provenance": []
    },
    "kernelspec": {
      "display_name": "Python 3",
      "language": "python",
      "name": "python3"
    },
    "language_info": {
      "codemirror_mode": {
        "name": "ipython",
        "version": 3
      },
      "file_extension": ".py",
      "mimetype": "text/x-python",
      "name": "python",
      "nbconvert_exporter": "python",
      "pygments_lexer": "ipython3",
      "version": "3.8.6 (tags/v3.8.6:db45529, Sep 23 2020, 15:52:53) [MSC v.1927 64 bit (AMD64)]"
    },
    "vscode": {
      "interpreter": {
        "hash": "e2cde104f4d18245c788b079dac12b495c585d850f7488bacbf703b0b6afa06c"
      }
    }
  },
  "nbformat": 4,
  "nbformat_minor": 5
}
