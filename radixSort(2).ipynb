{
 "cells": [
  {
   "cell_type": "markdown",
   "id": "00ad21fc",
   "metadata": {},
   "source": [
    "# Radix Sort\n",
    "\n",
    "Radix sort uses counting sort to sort $d$-digit integers in a $b$-radix number system ($b = 10$ for the decimal system, $b = 2$ for the binary system, and $b = 16$ for the hexadecimal system). It is evident that in this case, counting sort may waste a lot of space. However, we may apply counting sort to sort digits one significance position at a time to cut down the use of extra space. Radix sort is such a sorting algorithm.\n",
    "\n",
    "Radix sort first sorts the numbers according to the least significant digit using counting sort with $k \\leq r$. Then sort the numbers according to the next significant digit using counting sort. Repeat this one significant digit at a time to the most signifcant digit. After that the numbers are sorted.\n",
    "\n",
    "<img src =\"radixsort.png\" width=400>\n",
    "\n",
    "Note that counting sort is stable (you should try to convince yourself that this is the case). Thus, radix sort is also stable."
   ]
  },
  {
   "cell_type": "code",
   "execution_count": 6,
   "id": "4cfcfabb",
   "metadata": {
    "ExecuteTime": {
     "end_time": "2022-09-22T20:15:49.981749Z",
     "start_time": "2022-09-22T20:15:49.957097Z"
    }
   },
   "outputs": [],
   "source": [
    "# Python program for implementation of d-Radix Sort\n",
    "\n",
    "# A function to do counting sort of A[] according to the digit represented by the significance position\n",
    "def countingSort(A, pos, b=10): # pos indicates which digit is to be sorted\n",
    "\n",
    "    n = len(A)\n",
    "\n",
    "    # The output array elements that will have sorted array\n",
    "    output = [0] * n\n",
    "\n",
    "    # initialize count array as 0\n",
    "    count = [0] * b\n",
    "\n",
    "    # Store count of occurrences in count[]\n",
    "    for i in range(n):\n",
    "        index = (A[i] / pos)\n",
    "        count[int((index) % b)] += 1\n",
    "\n",
    "    # Change count[i] so that count[i] now contains actual\n",
    "    # position of this digit in output array\n",
    "    for i in range(1, b):\n",
    "        count[i] += count[i - 1]\n",
    "\n",
    "    # Build the output array\n",
    "    i = n - 1\n",
    "    while i>=0:\n",
    "        index = int(A[i] / pos)\n",
    "        output[count[int((index) % b)] - 1] = A[i]\n",
    "        count[int((index) % b)] -= 1\n",
    "        i -= 1\n",
    "\n",
    "    # Copying the output array to A[],\n",
    "    # so that arr now contains sorted numbers\n",
    "    for i in range(n):\n",
    "        A[i] = output[i]\n",
    "\n",
    "# Method to do Radix Sort\n",
    "def radixSort(A, b=10):\n",
    "\n",
    "    # Find the maximum number to know number of digits\n",
    "    k = max(A)\n",
    "\n",
    "    # Do counting sort for every digit. Note that instead\n",
    "    # of passing digit number, exp is passed. exp is b^i\n",
    "    # where i is current digit number\n",
    "    pos = 1\n",
    "    while k/pos > 0:\n",
    "        countingSort(A, pos, b)\n",
    "        pos *= b\n"
   ]
  },
  {
   "cell_type": "code",
   "execution_count": 5,
   "id": "1fed619e",
   "metadata": {
    "ExecuteTime": {
     "end_time": "2022-09-22T20:12:00.889484Z",
     "start_time": "2022-09-22T20:12:00.874416Z"
    }
   },
   "outputs": [
    {
     "name": "stdout",
     "output_type": "stream",
     "text": [
      "[2, 24, 45, 66, 75, 90, 170, 802]\n"
     ]
    }
   ],
   "source": [
    "# Driver code to test above\n",
    "A = [ 170, 45, 75, 90, 802, 24, 2, 66]\n",
    "radixSort(A)\n",
    "print(A)"
   ]
  },
  {
   "cell_type": "markdown",
   "id": "86e47d90",
   "metadata": {},
   "source": [
    "# Complexity Analysis\n",
    "\n",
    "Given $n$ $d$-digit numbers in which each digit can take on up to $k$ possible values, radixSort\n",
    "correctly sorts these numbers in $O(d(n+k))$ time since the stable counting sort takes $O(n+k)$ time.\n"
   ]
  },
  {
   "cell_type": "code",
   "execution_count": null,
   "id": "dafd05ea",
   "metadata": {},
   "outputs": [],
   "source": []
  }
 ],
 "metadata": {
  "kernelspec": {
   "display_name": "Python3-9-12",
   "language": "python",
   "name": "python3-9-12"
  },
  "language_info": {
   "codemirror_mode": {
    "name": "ipython",
    "version": 3
   },
   "file_extension": ".py",
   "mimetype": "text/x-python",
   "name": "python",
   "nbconvert_exporter": "python",
   "pygments_lexer": "ipython3",
   "version": "3.9.12"
  },
  "toc": {
   "base_numbering": 1,
   "nav_menu": {},
   "number_sections": true,
   "sideBar": true,
   "skip_h1_title": false,
   "title_cell": "Table of Contents",
   "title_sidebar": "Contents",
   "toc_cell": false,
   "toc_position": {},
   "toc_section_display": true,
   "toc_window_display": false
  },
  "varInspector": {
   "cols": {
    "lenName": 16,
    "lenType": 16,
    "lenVar": 40
   },
   "kernels_config": {
    "python": {
     "delete_cmd_postfix": "",
     "delete_cmd_prefix": "del ",
     "library": "var_list.py",
     "varRefreshCmd": "print(var_dic_list())"
    },
    "r": {
     "delete_cmd_postfix": ") ",
     "delete_cmd_prefix": "rm(",
     "library": "var_list.r",
     "varRefreshCmd": "cat(var_dic_list()) "
    }
   },
   "types_to_exclude": [
    "module",
    "function",
    "builtin_function_or_method",
    "instance",
    "_Feature"
   ],
   "window_display": false
  }
 },
 "nbformat": 4,
 "nbformat_minor": 5
}
