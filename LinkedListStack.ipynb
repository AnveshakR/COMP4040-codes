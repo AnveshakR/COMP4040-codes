{
 "cells": [
  {
   "cell_type": "markdown",
   "id": "ddffde74",
   "metadata": {},
   "source": [
    "# A linked list implementation of stack\n",
    "\n",
    "<ol>\n",
    "    <li>getSize()– Get the number of items in the stack.\n",
    "    </li>\n",
    "    <li> isEmpty() – Return True if the stack is empty, False otherwise.\n",
    "    </li>\n",
    "    <li> peek() – Return the top item in the stack. If the stack is empty, raise an exception.\n",
    "    </li>\n",
    "    <li> push(value) – Push a value into the head of the stack.\n",
    "    </li>\n",
    "    <li> pop() – Remove and return a value in the head of the stack. If the stack is empty, raise an exception.\n",
    "    </li>\n",
    "</ol>\n",
    "   \n"
   ]
  },
  {
   "cell_type": "code",
   "execution_count": 2,
   "id": "37297c0c",
   "metadata": {
    "ExecuteTime": {
     "end_time": "2022-06-23T03:58:46.846167Z",
     "start_time": "2022-06-23T03:58:46.839761Z"
    }
   },
   "outputs": [
    {
     "name": "stdout",
     "output_type": "stream",
     "text": [
      "Stack: 10 > 9 > 8 > 7 > 6 > 5 > 4 > 3 > 2 > 1\n",
      "Pop: 10\n",
      "Pop: 9\n",
      "Pop: 8\n",
      "Pop: 7\n",
      "Pop: 6\n",
      "Stack: 5 > 4 > 3 > 2 > 1\n"
     ]
    }
   ],
   "source": [
    "# node class\n",
    "\n",
    "class Node:\n",
    "    def __init__(self, value): # constructor\n",
    "        self.value = value # two attributes to define a node: value and ptr\n",
    "        self.next = None\n",
    "        \n",
    "class Stack:\n",
    " \n",
    "    # Initializing a stack.\n",
    "    # Use a dummy node, which is\n",
    "    # easier for handling edge cases.\n",
    "    def __init__(self): # construtor\n",
    "        self.head = Node(\"head\") # \"head\" is the value\n",
    "        self.size = 0\n",
    " \n",
    "    # String representation of the stack\n",
    "    def __str__(self):\n",
    "        cur = self.head.next\n",
    "        out = \"\"\n",
    "        while cur:\n",
    "            out += str(cur.value) + \" > \"\n",
    "            cur = cur.next\n",
    "        return out[:-3]\n",
    " \n",
    "    # Get the current size of the stack\n",
    "    def getSize(self):\n",
    "        return self.size\n",
    " \n",
    "    # Check if the stack is empty\n",
    "    def isEmpty(self):\n",
    "        return self.size == 0\n",
    " \n",
    "    # Get the top item of the stack\n",
    "    def peek(self):\n",
    " \n",
    "        # Sanitary check to see if we\n",
    "        # are peeking an empty stack.\n",
    "        if self.isEmpty():\n",
    "            raise Exception(\"Peeking from an empty stack\")\n",
    "        return self.head.next.value\n",
    " \n",
    "    # Push a value into the stack.\n",
    "    def push(self, value):\n",
    "        node = Node(value)\n",
    "        node.next = self.head.next\n",
    "        self.head.next = node\n",
    "        self.size += 1\n",
    " \n",
    "    # Remove a value from the stack and return.\n",
    "    def pop(self):\n",
    "        if self.isEmpty():\n",
    "            raise Exception(\"Popping from an empty stack\")\n",
    "        remove = self.head.next\n",
    "        self.head.next = self.head.next.next\n",
    "        self.size -= 1\n",
    "        return remove.value\n",
    "\n",
    "# Driver Code to demo ppush and pop\n",
    "if __name__ == \"__main__\":\n",
    "    stack = Stack()\n",
    "    for i in range(1, 11):\n",
    "        stack.push(i)\n",
    "    print(f\"Stack: {stack}\")\n",
    " \n",
    "    for _ in range(1, 6):\n",
    "        remove = stack.pop()\n",
    "        print(f\"Pop: {remove}\")\n",
    "    print(f\"Stack: {stack}\")"
   ]
  },
  {
   "cell_type": "code",
   "execution_count": 7,
   "id": "593bcd06",
   "metadata": {},
   "outputs": [
    {
     "ename": "AttributeError",
     "evalue": "'Stack' object has no attribute 'value'",
     "output_type": "error",
     "traceback": [
      "\u001b[1;31m---------------------------------------------------------------------------\u001b[0m",
      "\u001b[1;31mAttributeError\u001b[0m                            Traceback (most recent call last)",
      "\u001b[1;32mc:\\Users\\anves\\Documents\\UML\\COMP4040\\LinkedListStack.ipynb Cell 3\u001b[0m in \u001b[0;36m<cell line: 1>\u001b[1;34m()\u001b[0m\n\u001b[1;32m----> <a href='vscode-notebook-cell:/c%3A/Users/anves/Documents/UML/COMP4040/LinkedListStack.ipynb#X11sZmlsZQ%3D%3D?line=0'>1</a>\u001b[0m stack\u001b[39m.\u001b[39;49mvalue\n",
      "\u001b[1;31mAttributeError\u001b[0m: 'Stack' object has no attribute 'value'"
     ]
    }
   ],
   "source": []
  },
  {
   "cell_type": "code",
   "execution_count": 1,
   "id": "532bbe44",
   "metadata": {},
   "outputs": [
    {
     "name": "stdout",
     "output_type": "stream",
     "text": [
      "hi\n"
     ]
    }
   ],
   "source": [
    "print(\"hi\")"
   ]
  },
  {
   "cell_type": "markdown",
   "id": "bc4c20a0",
   "metadata": {},
   "source": [
    "# Single Underscore\n",
    "\n",
    "Both the underscore ($\\_$) and the double underscore ($\\_\\_$) hold great significance in the world of Python programming and are excessively used by programmers for different purposes. \n",
    "\n",
    "In a class, names with a single leading underscore means it's non-public, which is a weak \"internal use\" indicator, telling other programmers that the attribute or method is intended to be be used inside that class. Privacy is not enforced in any way. Using leading underscores for functions in a module indicates it should not be imported from somewhere else. \n",
    "\n",
    "# Double Underscores leading a name\n",
    "\n",
    "Double underscores are pretty handy and are frequently encountered in Python code.\n",
    "The leading double underscore of a name (with at most one trailing underscore) tells the Python interpreter to rewrite the name in order to avoid name conflict in a subclass. Interpreter changes variable name with class extension and that feature known as the Mangling. \n",
    "\n",
    "Thus, any identifier of the form $\\_\\_$myname is textually replaced with _classname__myname, where classname is the current class name with leading underscore(s) stripped. This mangling is done without regard to the syntactic position of the identifier, so it can be used to define class-private instance and class variables, methods, variables stored in globals, and even variables stored in instances. private to this class on instances of other classes.\n",
    "\n",
    "\n",
    "# Double underscores leading and trailing a name\n",
    "The name starts with __ and ends with $\\_\\_$ represents a special method in Python. Python provides these methods to use as the operator overloading depending on the user. Python provides this convention to differentiate between the user-defined function with the module’s function "
   ]
  },
  {
   "cell_type": "code",
   "execution_count": 20,
   "id": "0ed68a74",
   "metadata": {
    "ExecuteTime": {
     "end_time": "2022-08-27T14:35:10.334535Z",
     "start_time": "2022-08-27T14:35:10.316847Z"
    }
   },
   "outputs": [
    {
     "name": "stdout",
     "output_type": "stream",
     "text": [
      "['_A__foo', '_A__foo_', '__class__', '__delattr__', '__dict__', '__dir__', '__doc__', '__eq__', '__foo__', '__foo___', '__format__', '__ge__', '__getattribute__', '__gt__', '__hash__', '__init__', '__init_subclass__', '__le__', '__lt__', '__module__', '__ne__', '__new__', '__reduce__', '__reduce_ex__', '__repr__', '__setattr__', '__sizeof__', '__str__', '__subclasshook__', '__weakref__', '_foo', '_foo_', 'foo']\n"
     ]
    }
   ],
   "source": [
    "class A:\n",
    "    def __init__(self):\n",
    "        self.foo = 11\n",
    "        self._foo = 23\n",
    "        self._foo_ = 23\n",
    "        self.__foo = 23\n",
    "        self.__foo_ = 23\n",
    "        self.__foo__ = 23\n",
    "        self.__foo___ = 23\n",
    "x = A()\n",
    "print(dir(x))"
   ]
  },
  {
   "cell_type": "markdown",
   "id": "fd8fdd83",
   "metadata": {},
   "source": [
    "In the code above, we take a class and compare the single underscore, double underscore, and normal elements.\n",
    "\n",
    "The dir() function provides a list of valid attributes of the given object passed as an argument in the function.\n",
    "\n",
    "We can see that the $\\_\\_$foo and $\\_\\_$foo$\\_$ variables have been changed to $\\_$A$\\_\\_$foo and $\\_$A$\\_\\_$foo$\\_$, while the rest of the foo variables with different underscore variations are not changed. This is the process of name tangling occurring on the variable, and it is done to safeguard the variable against getting overridden in subclasses."
   ]
  },
  {
   "cell_type": "markdown",
   "id": "0b59cdc9",
   "metadata": {},
   "source": [
    "# Using lists as queues\n",
    "\n",
    "A queue is a list with one-side in and the other-side out: An item is entered one one side and removed on the other side. Thus, a queue is a first-in-first-out (FIFO) data structure, which is equivalent to last-in-last-out (LILO).\n",
    "\n",
    "Python emplementation of queues using lists are left to you as exercise. (Hint: Implementation is similar to that of stacks.)"
   ]
  },
  {
   "cell_type": "code",
   "execution_count": null,
   "id": "dec3c8d2",
   "metadata": {},
   "outputs": [],
   "source": []
  }
 ],
 "metadata": {
  "kernelspec": {
   "display_name": "Python 3.8.6 64-bit",
   "language": "python",
   "name": "python3"
  },
  "language_info": {
   "codemirror_mode": {
    "name": "ipython",
    "version": 3
   },
   "file_extension": ".py",
   "mimetype": "text/x-python",
   "name": "python",
   "nbconvert_exporter": "python",
   "pygments_lexer": "ipython3",
   "version": "3.8.6"
  },
  "toc": {
   "base_numbering": 1,
   "nav_menu": {},
   "number_sections": true,
   "sideBar": true,
   "skip_h1_title": false,
   "title_cell": "Table of Contents",
   "title_sidebar": "Contents",
   "toc_cell": false,
   "toc_position": {},
   "toc_section_display": true,
   "toc_window_display": true
  },
  "varInspector": {
   "cols": {
    "lenName": 16,
    "lenType": 16,
    "lenVar": 40
   },
   "kernels_config": {
    "python": {
     "delete_cmd_postfix": "",
     "delete_cmd_prefix": "del ",
     "library": "var_list.py",
     "varRefreshCmd": "print(var_dic_list())"
    },
    "r": {
     "delete_cmd_postfix": ") ",
     "delete_cmd_prefix": "rm(",
     "library": "var_list.r",
     "varRefreshCmd": "cat(var_dic_list()) "
    }
   },
   "types_to_exclude": [
    "module",
    "function",
    "builtin_function_or_method",
    "instance",
    "_Feature"
   ],
   "window_display": false
  },
  "vscode": {
   "interpreter": {
    "hash": "e2cde104f4d18245c788b079dac12b495c585d850f7488bacbf703b0b6afa06c"
   }
  }
 },
 "nbformat": 4,
 "nbformat_minor": 5
}
