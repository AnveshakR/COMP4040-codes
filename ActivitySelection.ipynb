{
 "cells": [
  {
   "cell_type": "markdown",
   "id": "111422fc",
   "metadata": {},
   "source": [
    "# Greedy Algorithms\n",
    "\n",
    "We have seen that dynamic programming is often used to solve optimization problems, even though it may also be used to solve unoptimization problems such as computing the Fibonacci sequence and showing that the class P is closed under the Kleene star operation.\n",
    "\n",
    "Some problems that can be solved by dynamic programming can be solved by greedy algorithms in the sense that the recurrence relation only depends on the solution to just ONE subproblem, and that subproblem is your greedy choice. \n",
    "\n",
    "Greedy algorithms are typically faster than DP, but require a more clever selection of the greedy choice in each step of the recurrence and you need to show that your greedy choice works, namely, the greedy choice does indeed lead to an optimal solution to the problem.\n",
    "\n",
    "Greedy algorithms are often easier to code."
   ]
  },
  {
   "cell_type": "markdown",
   "id": "f55d4d0e",
   "metadata": {},
   "source": [
    "# Activity Selection\n",
    "\n",
    "Let's look at an example that a greedy strategy works. \n",
    "\n",
    "Let $A = \\{a_1, a_2, \\ldots, a_n\\}$ be a set of activities indicated by a time frame with the start time and the finish time, namely, $a_i = (s_i, f_i)$ with $f_i > s_i$, all are to take place at the same location. If two activities overlap, then only one can be selected. We treat all activities with the same preference and want to select the maximum number of activites that do not overlap. Two activities $a_i$ and $a_j$ are said to be compatible if they don't overlap, namely, if $f_i \\leq s_j$ or $f_j \\leq s_i$.\n",
    "\n",
    "Let's formulate the problem and come up with a recurrence relation. Sort the activities in ascending order by their finish time and still call them $a_i = (s_i,f_i)$, namely, $f_1 \\leq f_2 \\leq \\cdots \\leq f_n$.  \n",
    "\n",
    "Let $S_{ij}$ with $i < j$ denote the set of activities that are compatible with $a_i$ and $a_j$, namely, \n",
    "$$S_{ij} = \\{a_k \\mid f_i \\leq s_k \\mbox{ and } f_k \\leq s_j\\}.$$ \n",
    "Let $c[i,j]$ denote the size of a maximum selection of activities in $S_{ij}$. Then solving the problem is equivalent to computing $c[1,n]$ and also record the selection. We have\n",
    "$$\n",
    "c[i,j] = \\left\\{\n",
    "\\begin{array}{ll}\n",
    "\\max_{a_k \\in S_{ij}} \\{c[i,k] + c[k,j] + 1\\}, & \\mbox{if $S_{ij} \\not= \\emptyset$},\\\\\n",
    "0, & \\mbox{else.}\n",
    "\\end{array}\n",
    "\\right.\n",
    "$$\n",
    "Using dynamic programming (memorization top-down or no recursion bottom-up), we can compute $c[1,n]$ in\n",
    "$\\Theta(n^3)$ time because there are $\\Theta(n^2)$ different subproblems and the recurrence relation relies on linearlly many subproblems.\n",
    "\n",
    "Now the greedy strategy comes to play to solve the problem in linear time, which is based on the following strategy: \n",
    "\n",
    "Select the activity with the smallest finish time, remove all activities with start time less than the finish time of the newly selected activity, and repeat the same procedure for the remaining activities. \n",
    "\n",
    "This is the greedy algorithm. We need to show that our greedy choice of selecting the acitivity with the smallest finish time works. In other words, let $S$ be a maximum set of activities, if our greedy choice is not in $S$, then we can replace the activity in $S$ with the smallest finsih time with our greedy choice, which is compatible with the rest of the activities. Hence, our greedy choice works."
   ]
  },
  {
   "cell_type": "code",
   "execution_count": 2,
   "id": "d5de6606",
   "metadata": {
    "ExecuteTime": {
     "end_time": "2022-08-31T17:12:44.715969Z",
     "start_time": "2022-08-31T17:12:44.690937Z"
    }
   },
   "outputs": [
    {
     "name": "stdout",
     "output_type": "stream",
     "text": [
      "[('akash', 5), ('rishav', 10), ('gaurav', 15), ('ram', 20)]\n",
      "('akash', 5)\n"
     ]
    }
   ],
   "source": [
    "def Sort_Tuple(tup):\n",
    " \n",
    "    # reverse = None (Sorts in Ascending order)\n",
    "    # key is set to sort using second element of\n",
    "    # sublist lambda has been used\n",
    "    return(sorted(tup, key = lambda x: x[1])) \n",
    " \n",
    "# Driver Code\n",
    "tup = [('rishav', 10), ('akash', 5), ('ram', 20), ('gaurav', 15)]\n",
    " \n",
    "# printing the sorted list of tuples\n",
    "A = Sort_Tuple(tup)\n",
    "print(A)\n",
    "print(A[0])"
   ]
  },
  {
   "cell_type": "code",
   "execution_count": 6,
   "id": "27efb974",
   "metadata": {
    "ExecuteTime": {
     "end_time": "2022-08-31T17:22:15.417376Z",
     "start_time": "2022-08-31T17:22:15.409972Z"
    }
   },
   "outputs": [],
   "source": [
    " def ActivitySelection(A):  \n",
    "    n = len(A)\n",
    "    A = sorted(A, key = lambda x: x[1]) # sort the activities by finish time\n",
    "    print(\"The following activities are selected\")\n",
    " \n",
    "    # The first activity is always selected\n",
    "    i = 0\n",
    "    print(A[0], end = \"\")\n",
    " \n",
    "    # Consider rest of the activities\n",
    "    for j in range(n):\n",
    "        # If this activity has start time greater than\n",
    "        # or equal to the finish time of previously\n",
    "        # selected activity, then select it\n",
    "        if A[j][0] >= A[i][1]:\n",
    "            print(A[j], end = \"\")\n",
    "            i = j"
   ]
  },
  {
   "cell_type": "code",
   "execution_count": 7,
   "id": "93e6b906",
   "metadata": {
    "ExecuteTime": {
     "end_time": "2022-08-31T17:22:20.358942Z",
     "start_time": "2022-08-31T17:22:20.352508Z"
    }
   },
   "outputs": [
    {
     "name": "stdout",
     "output_type": "stream",
     "text": [
      "The following activities are selected\n",
      "[1, 2][3, 4][5, 7][8, 9]"
     ]
    }
   ],
   "source": [
    "# Driver program to test above function\n",
    "s = [1, 3, 0, 5, 8, 5]\n",
    "f = [2, 4, 6, 7, 9, 9]\n",
    "A = [[s[i],f[i]] for i in range(len(s))]\n",
    "ActivitySelection(A)"
   ]
  },
  {
   "cell_type": "code",
   "execution_count": 12,
   "id": "d7c5c392",
   "metadata": {
    "ExecuteTime": {
     "end_time": "2022-08-31T17:27:16.396055Z",
     "start_time": "2022-08-31T17:27:16.391845Z"
    }
   },
   "outputs": [
    {
     "name": "stdout",
     "output_type": "stream",
     "text": [
      "The following activities are selected\n",
      "[2, 4][4, 6][6, 7][7, 8][8, 12][13, 17][18, 19][21, 22][23, 24][24, 25][27, 29][29, 37]"
     ]
    }
   ],
   "source": [
    "import random\n",
    "\n",
    "s = [random.randrange(1, 30) for _ in range(50)]\n",
    "f = [s[i] + random.randrange(1, 10) for i in range(50)]\n",
    "A = [[s[i],f[i]] for i in range(len(s))]\n",
    "ActivitySelection(A)"
   ]
  },
  {
   "cell_type": "code",
   "execution_count": null,
   "id": "04e2f03f",
   "metadata": {},
   "outputs": [],
   "source": []
  }
 ],
 "metadata": {
  "kernelspec": {
   "display_name": "Python3-9-12",
   "language": "python",
   "name": "python3-9-12"
  },
  "language_info": {
   "codemirror_mode": {
    "name": "ipython",
    "version": 3
   },
   "file_extension": ".py",
   "mimetype": "text/x-python",
   "name": "python",
   "nbconvert_exporter": "python",
   "pygments_lexer": "ipython3",
   "version": "3.9.12"
  },
  "toc": {
   "base_numbering": 1,
   "nav_menu": {},
   "number_sections": true,
   "sideBar": true,
   "skip_h1_title": false,
   "title_cell": "Table of Contents",
   "title_sidebar": "Contents",
   "toc_cell": false,
   "toc_position": {},
   "toc_section_display": true,
   "toc_window_display": false
  },
  "varInspector": {
   "cols": {
    "lenName": 16,
    "lenType": 16,
    "lenVar": 40
   },
   "kernels_config": {
    "python": {
     "delete_cmd_postfix": "",
     "delete_cmd_prefix": "del ",
     "library": "var_list.py",
     "varRefreshCmd": "print(var_dic_list())"
    },
    "r": {
     "delete_cmd_postfix": ") ",
     "delete_cmd_prefix": "rm(",
     "library": "var_list.r",
     "varRefreshCmd": "cat(var_dic_list()) "
    }
   },
   "types_to_exclude": [
    "module",
    "function",
    "builtin_function_or_method",
    "instance",
    "_Feature"
   ],
   "window_display": false
  }
 },
 "nbformat": 4,
 "nbformat_minor": 5
}
