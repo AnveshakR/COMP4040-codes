{
 "cells": [
  {
   "cell_type": "code",
   "execution_count": 133,
   "id": "59902162",
   "metadata": {
    "ExecuteTime": {
     "end_time": "2022-09-20T01:33:00.584953Z",
     "start_time": "2022-09-20T01:33:00.573463Z"
    }
   },
   "outputs": [
    {
     "name": "stdout",
     "output_type": "stream",
     "text": [
      "[4, 3]\n"
     ]
    }
   ],
   "source": [
    "# Python3 program to demonstrate\n",
    "# the use of sample() function .\n",
    "  \n",
    "# import random \n",
    "from random import sample\n",
    "  \n",
    "# Prints list of random items of given length\n",
    "list = [1, 2, 3, 4, 5] \n",
    "  \n",
    "print(sample(list,2))"
   ]
  },
  {
   "cell_type": "markdown",
   "id": "7198a071",
   "metadata": {},
   "source": [
    "# Generate 1 with 75% probability and 0 with 25%\n",
    "\n",
    "Given a function rand50() that returns 0 or 1 with equal probability, write a function that returns 1 with 75% probability and 0 with 25% probability using rand50() only. Minimize the number of calls to the rand50() method. Also, the use of any other library function and floating-point arithmetic are not allowed.\n",
    "\n",
    "The idea is to use Bitwise OR. A bitwise OR takes two bits and returns 0 if both bits are 0, while otherwise, the result is 1. So it has 75% probability that it will return 1."
   ]
  },
  {
   "cell_type": "code",
   "execution_count": 42,
   "id": "c1d8ca34",
   "metadata": {
    "ExecuteTime": {
     "end_time": "2022-09-20T00:25:26.138061Z",
     "start_time": "2022-09-20T00:25:26.121085Z"
    }
   },
   "outputs": [
    {
     "name": "stdout",
     "output_type": "stream",
     "text": [
      "10011111111010101110110100111111101111111011111101"
     ]
    }
   ],
   "source": [
    "# Program to print 1 with 75% probability and 0 with 25% probability\n",
    "from random import randrange\n",
    " \n",
    "# Random Function to that returns 0 or 1 with equal probability\n",
    "def rand50():\n",
    "   \n",
    "    # The randrange function will generate integer\n",
    "    # between the half closed interval at end\n",
    "    # Here by passing parameter as 0,2\n",
    "    # the function will generate integer between 0 and 1\n",
    "    return (int)(randrange(0, 2))\n",
    " \n",
    "# Random Function to that returns 1 with 75% probability and 0 with 25% probability using\n",
    "# Bitwise OR\n",
    "def rand75():\n",
    "    return rand50() | rand50()\n",
    " \n",
    "# Driver code to test above functions\n",
    "for i in range(0, 50):\n",
    "    print(rand75(), end=\"\")"
   ]
  },
  {
   "cell_type": "code",
   "execution_count": 135,
   "id": "256a340b",
   "metadata": {
    "ExecuteTime": {
     "end_time": "2022-09-20T01:36:24.417362Z",
     "start_time": "2022-09-20T01:36:24.412860Z"
    }
   },
   "outputs": [],
   "source": [
    "i = 5\n",
    "index = [j for j in range(i)]\n",
    "distribution = [1/i for _ in range(i)]"
   ]
  },
  {
   "cell_type": "code",
   "execution_count": 137,
   "id": "8e0c64dc",
   "metadata": {
    "ExecuteTime": {
     "end_time": "2022-09-20T01:36:39.331439Z",
     "start_time": "2022-09-20T01:36:39.312756Z"
    }
   },
   "outputs": [
    {
     "data": {
      "text/plain": [
       "[0, 1, 2, 3, 4]"
      ]
     },
     "execution_count": 137,
     "metadata": {},
     "output_type": "execute_result"
    }
   ],
   "source": [
    "index"
   ]
  },
  {
   "cell_type": "code",
   "execution_count": 138,
   "id": "b87a232f",
   "metadata": {
    "ExecuteTime": {
     "end_time": "2022-09-20T01:36:44.569063Z",
     "start_time": "2022-09-20T01:36:44.563551Z"
    }
   },
   "outputs": [
    {
     "data": {
      "text/plain": [
       "[0.2, 0.2, 0.2, 0.2, 0.2]"
      ]
     },
     "execution_count": 138,
     "metadata": {},
     "output_type": "execute_result"
    }
   ],
   "source": [
    "distribution"
   ]
  },
  {
   "cell_type": "code",
   "execution_count": 146,
   "id": "4bb8efc3",
   "metadata": {
    "ExecuteTime": {
     "end_time": "2022-09-20T01:38:00.652705Z",
     "start_time": "2022-09-20T01:38:00.646073Z"
    }
   },
   "outputs": [
    {
     "data": {
      "text/plain": [
       "[2]"
      ]
     },
     "execution_count": 146,
     "metadata": {},
     "output_type": "execute_result"
    }
   ],
   "source": [
    "import random\n",
    "random.choices(index, distribution, k =1) # retuan a list of k indexes with the said distribution"
   ]
  },
  {
   "cell_type": "markdown",
   "id": "6bf615d2",
   "metadata": {},
   "source": [
    "# Simulation of Hiring Problem"
   ]
  },
  {
   "cell_type": "code",
   "execution_count": 263,
   "id": "184f3166",
   "metadata": {
    "ExecuteTime": {
     "end_time": "2022-09-20T01:59:44.559108Z",
     "start_time": "2022-09-20T01:59:44.548361Z"
    }
   },
   "outputs": [],
   "source": [
    "def cost(c_i, c_h, n):\n",
    "    cost = c_i * n\n",
    "    for i in range(2, n+1): # the first contractor is always hired\n",
    "        indexes = [j for j in range(i)]\n",
    "        distribution = [1/i for _ in range(i)] # each contractor has an equal chance\n",
    "        v = random.choices(indexes, distribution, k = 1)[0]\n",
    "        if v + 1 == i: # the probability that i-th contractor is hired\n",
    "            cost = cost + c_h\n",
    "    return cost"
   ]
  },
  {
   "cell_type": "code",
   "execution_count": 264,
   "id": "40c76c26",
   "metadata": {
    "ExecuteTime": {
     "end_time": "2022-09-20T01:59:45.419505Z",
     "start_time": "2022-09-20T01:59:45.363526Z"
    }
   },
   "outputs": [
    {
     "name": "stdout",
     "output_type": "stream",
     "text": [
      "[[200, 486.5, 800], [200, 500, 1100], [200, 465.5, 800], [200, 497, 950], [200, 483.5, 950], [200, 482, 950], [200, 477.5, 1250], [200, 494, 950], [200, 485, 1250], [200, 480.5, 950]]\n"
     ]
    }
   ],
   "source": [
    "import statistics\n",
    "\n",
    "c_i = 20\n",
    "c_h = 150\n",
    "n = 10\n",
    "k = 10\n",
    "L = [[]] * k\n",
    "for j in range(k):\n",
    "    cost_list = [cost(c_i, c_h, n) for _ in range(100)]\n",
    "    L[j] = [min(cost_list), statistics.mean(cost_list), max(cost_list)]\n",
    "print(L)"
   ]
  },
  {
   "cell_type": "code",
   "execution_count": 250,
   "id": "eda32ed2",
   "metadata": {
    "ExecuteTime": {
     "end_time": "2022-09-20T01:56:14.010011Z",
     "start_time": "2022-09-20T01:56:13.994337Z"
    }
   },
   "outputs": [
    {
     "data": {
      "text/plain": [
       "1550"
      ]
     },
     "execution_count": 250,
     "metadata": {},
     "output_type": "execute_result"
    }
   ],
   "source": [
    "200 + 9*150 # worst case"
   ]
  },
  {
   "cell_type": "code",
   "execution_count": null,
   "id": "cb0e5b29",
   "metadata": {},
   "outputs": [],
   "source": []
  }
 ],
 "metadata": {
  "kernelspec": {
   "display_name": "Python 3.8.6 64-bit",
   "language": "python",
   "name": "python3"
  },
  "language_info": {
   "codemirror_mode": {
    "name": "ipython",
    "version": 3
   },
   "file_extension": ".py",
   "mimetype": "text/x-python",
   "name": "python",
   "nbconvert_exporter": "python",
   "pygments_lexer": "ipython3",
   "version": "3.8.6"
  },
  "toc": {
   "base_numbering": 1,
   "nav_menu": {},
   "number_sections": true,
   "sideBar": true,
   "skip_h1_title": false,
   "title_cell": "Table of Contents",
   "title_sidebar": "Contents",
   "toc_cell": false,
   "toc_position": {},
   "toc_section_display": true,
   "toc_window_display": false
  },
  "varInspector": {
   "cols": {
    "lenName": 16,
    "lenType": 16,
    "lenVar": 40
   },
   "kernels_config": {
    "python": {
     "delete_cmd_postfix": "",
     "delete_cmd_prefix": "del ",
     "library": "var_list.py",
     "varRefreshCmd": "print(var_dic_list())"
    },
    "r": {
     "delete_cmd_postfix": ") ",
     "delete_cmd_prefix": "rm(",
     "library": "var_list.r",
     "varRefreshCmd": "cat(var_dic_list()) "
    }
   },
   "types_to_exclude": [
    "module",
    "function",
    "builtin_function_or_method",
    "instance",
    "_Feature"
   ],
   "window_display": false
  },
  "vscode": {
   "interpreter": {
    "hash": "e2cde104f4d18245c788b079dac12b495c585d850f7488bacbf703b0b6afa06c"
   }
  }
 },
 "nbformat": 4,
 "nbformat_minor": 5
}
