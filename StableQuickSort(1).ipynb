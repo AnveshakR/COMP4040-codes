{
 "cells": [
  {
   "cell_type": "markdown",
   "id": "4d40f512",
   "metadata": {},
   "source": [
    "# Is QuickSort Stable?\n",
    "\n",
    "No. Reason: Swapping of the pivot element could violoate the stability.\n",
    "\n",
    "Can quickSort be made stable?\n",
    "\n",
    "Yes. Making quickSort stable can be done using extra $O(n)$ space. The idea is to make two separate lists: The first list contains items smaller than or equal to the pivot. The second list contains items greater than or equal to the pivot so that stability on keys equal to the pivot is maintained. Note that this approach changes quicksort to a non-in-place algorithm. "
   ]
  },
  {
   "cell_type": "code",
   "execution_count": 33,
   "id": "5e046629",
   "metadata": {
    "ExecuteTime": {
     "end_time": "2022-09-20T14:48:23.198607Z",
     "start_time": "2022-09-20T14:48:23.170983Z"
    }
   },
   "outputs": [],
   "source": [
    "# Python code to implement Stable QuickSort.\n",
    "# The code uses middle element as pivot.\n",
    "def quickSortStable(A): # A is a list of pairs. Sorting is on the first elementt\n",
    "\n",
    "    # Base case\n",
    "    if len(A) <= 1:\n",
    "        return A\n",
    "    \n",
    "    # Let us choose the middle element as a pivot\n",
    "    else:\n",
    "        mid = len(A)//2\n",
    "        pivot = A[mid]\n",
    "\n",
    "        # key element is used to break the array\n",
    "        # into 2 halves according to their values\n",
    "        smaller, greater = [], []\n",
    "\n",
    "        # Put greater elements in greater list,\n",
    "        # smaller elements in smaller list. Also,\n",
    "        # compare positions to decide where to put.\n",
    "        for indx, val in enumerate(A):\n",
    "            if indx != mid:\n",
    "                if val[0] < pivot[0]:\n",
    "                    smaller.append(val)\n",
    "                elif val[0] > pivot[0]:\n",
    "                    greater.append(val)\n",
    "\n",
    "                # If value is the same, then considering\n",
    "                # position to decide the list\n",
    "                else:\n",
    "                    if indx < mid:\n",
    "                        smaller.append(val)\n",
    "                    else:\n",
    "                        greater.append(val)\n",
    "        return quickSortStable(smaller) + [pivot] + quickSortStable(greater)\n",
    "\n"
   ]
  },
  {
   "cell_type": "code",
   "execution_count": 34,
   "id": "ce517a81",
   "metadata": {
    "ExecuteTime": {
     "end_time": "2022-09-20T14:48:23.920735Z",
     "start_time": "2022-09-20T14:48:23.911683Z"
    }
   },
   "outputs": [
    {
     "name": "stdout",
     "output_type": "stream",
     "text": [
      "[(1, 1), (1, 2), (2, 1), (2, 2), (3, 1), (3, 2), (7, 3), (8, 1), (9, 10), (10, 2)]\n"
     ]
    }
   ],
   "source": [
    "# Driver code to test above\n",
    "A = [(10,2), (7,3), (8,1), (9,10), (1,1), (1,2), (2,1), (2,2), (3,1), (3,2)]\n",
    "sortedA = quickSortStable(A)\n",
    "print(sortedA)"
   ]
  },
  {
   "cell_type": "code",
   "execution_count": null,
   "id": "a8ac68b2",
   "metadata": {},
   "outputs": [],
   "source": []
  }
 ],
 "metadata": {
  "kernelspec": {
   "display_name": "Python 3.8.6 64-bit",
   "language": "python",
   "name": "python3"
  },
  "language_info": {
   "codemirror_mode": {
    "name": "ipython",
    "version": 3
   },
   "file_extension": ".py",
   "mimetype": "text/x-python",
   "name": "python",
   "nbconvert_exporter": "python",
   "pygments_lexer": "ipython3",
   "version": "3.8.6"
  },
  "toc": {
   "base_numbering": 1,
   "nav_menu": {},
   "number_sections": true,
   "sideBar": true,
   "skip_h1_title": false,
   "title_cell": "Table of Contents",
   "title_sidebar": "Contents",
   "toc_cell": false,
   "toc_position": {},
   "toc_section_display": true,
   "toc_window_display": true
  },
  "varInspector": {
   "cols": {
    "lenName": 16,
    "lenType": 16,
    "lenVar": 40
   },
   "kernels_config": {
    "python": {
     "delete_cmd_postfix": "",
     "delete_cmd_prefix": "del ",
     "library": "var_list.py",
     "varRefreshCmd": "print(var_dic_list())"
    },
    "r": {
     "delete_cmd_postfix": ") ",
     "delete_cmd_prefix": "rm(",
     "library": "var_list.r",
     "varRefreshCmd": "cat(var_dic_list()) "
    }
   },
   "types_to_exclude": [
    "module",
    "function",
    "builtin_function_or_method",
    "instance",
    "_Feature"
   ],
   "window_display": false
  },
  "vscode": {
   "interpreter": {
    "hash": "e2cde104f4d18245c788b079dac12b495c585d850f7488bacbf703b0b6afa06c"
   }
  }
 },
 "nbformat": 4,
 "nbformat_minor": 5
}
