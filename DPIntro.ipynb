{
 "cells": [
  {
   "cell_type": "markdown",
   "id": "4a426392",
   "metadata": {},
   "source": [
    "# Introduction to Dynamic Programming\n",
    "\n",
    "Dynamic programming is an efficient tabular method for solving divide-and-conquer problems. Suppose that we have formulated a recurrence relation for solving a problem of size $n$, formulated as $P(n)$, which relies on a number of subprolems $P(k_1), P(k_2), \\ldots, P(k_m)$ with $k_i < n$, where $m$ may be a constant or a polynomial of $n$. We further assume that there are only polynomially many different subproblems. \n",
    "\n",
    "To solve the problem using direct recursion we may end up repeating the computation of many subproblems, which could take exponential time. Instead, we would want to store solutions to the subproblems once they are computed, so that when the recursion comes to call for a solution to a previously computed subproblem, we only need to do a table loopup for its result, instead of recomputing it. \n",
    "\n",
    "There are in general two approaches to carrying out dynamic programming: (1) Top-down recursion with memoization. (2) Bottom-up tabularing without recursion.\n",
    "\n",
    "We will use several examples to explain this technique."
   ]
  },
  {
   "cell_type": "markdown",
   "id": "44212eca",
   "metadata": {},
   "source": [
    "## Fibonacci numbers\n",
    "\n",
    "$$\n",
    "Fib(n) = \\left\\{\n",
    "\\begin{array}{ll}\n",
    "Fib(n-1) + Fib(n-2), & \\mbox{if $n > 1$,} \\\\\n",
    "1, & \\mbox{if $n=0$ or $n=1$.}\n",
    "\\end{array}\n",
    "\\right.\n",
    "$$\n",
    "\n",
    "The following is a direct implementation, which takes over 50 seconds to compute the first 40 Fibonacci numbers."
   ]
  },
  {
   "cell_type": "code",
   "execution_count": 1,
   "id": "a4d2687d",
   "metadata": {
    "ExecuteTime": {
     "end_time": "2022-08-30T15:08:00.601183Z",
     "start_time": "2022-08-30T15:07:07.550900Z"
    }
   },
   "outputs": [
    {
     "name": "stdout",
     "output_type": "stream",
     "text": [
      "1\n",
      "1\n",
      "2\n",
      "3\n",
      "5\n",
      "8\n",
      "13\n",
      "21\n",
      "34\n",
      "55\n",
      "89\n",
      "144\n",
      "233\n",
      "377\n",
      "610\n",
      "987\n",
      "1597\n",
      "2584\n",
      "4181\n",
      "6765\n",
      "10946\n",
      "17711\n",
      "28657\n",
      "46368\n",
      "75025\n",
      "121393\n",
      "196418\n",
      "317811\n",
      "514229\n",
      "832040\n",
      "1346269\n",
      "2178309\n",
      "3524578\n",
      "5702887\n",
      "9227465\n",
      "14930352\n",
      "24157817\n",
      "39088169\n",
      "63245986\n",
      "102334155\n",
      "Done\n"
     ]
    }
   ],
   "source": [
    "def Fib(n):\n",
    "    if n == 0 or n == 1:\n",
    "        return 1\n",
    "    else:\n",
    "        return Fib(n-1) + Fib(n-2)\n",
    "    \n",
    "for n in range(40):\n",
    "    print(Fib(n))\n",
    "print(\"Done\")"
   ]
  },
  {
   "cell_type": "markdown",
   "id": "359b8ed3",
   "metadata": {},
   "source": [
    "# Complexity Analysis\n",
    "\n",
    "Let $T(n)$ denote the time to compute $Fib(n)$. Assuming adding any two numbers takes 1 step, we have\n",
    "\n",
    "$$\n",
    "T(n) = \\left\\{\n",
    "\\begin{array}{ll}\n",
    "T(n-1) + T(n-2) + 1, & \\mbox{if $n > 1$,} \\\\\n",
    "1, & \\mbox{if $n=0$ or $n=1$.}\n",
    "\\end{array}\n",
    "\\right.\n",
    "$$\n",
    "We have\n",
    "\\begin{align*}\n",
    "T(n) &= T(n-1) + T(n-2) + 1 \\\\\n",
    "& \\geq 2T(n-2) + 1 \\\\\n",
    "& \\geq 2^2T(n-2\\cdot 2) + 2 + 1 \\\\\n",
    "& \\geq \\cdots \\\\\n",
    "& \\geq 2^kT(n-2k) + \\sum_{i=0}^{k-1} 2^i \\\\\n",
    "&= 2^kT(n-2k) + 2^k - 1\n",
    "\\end{align*}\n",
    "When $n-2k = 0$ or $n-2k = 1$, the recursion stops, and we know $T(0) = T(1) = 1$.\n",
    "That is, when $k = n/2$ or $k = (n-1)/2$, we have\n",
    "$T(n) \\geq 2^{k+1} -1 > 2^{n/2}$, which is an exponential of $n$.\n",
    "\n",
    "This high complexity is due to recomputations of exponentially many times of the same subproblems. Note that for number $n$, there are only $n$ different subproblems $Fib(0), Fib(1), \\ldots, Fib(n-1)$. Obvously we should just need to compute each subproblem once and store its value for later use."
   ]
  },
  {
   "cell_type": "markdown",
   "id": "bdf097b2",
   "metadata": {},
   "source": [
    "# Dynamic Programming\n",
    "\n",
    "What is needed is to use an extra array to store the results of the previously computed subproblems. It's customary to call this array memo for memoirzation. The following is a slight modification of the naive recursion implementation, which takes only a few micro seconds to run."
   ]
  },
  {
   "cell_type": "code",
   "execution_count": 2,
   "id": "3ebbc4f4",
   "metadata": {
    "ExecuteTime": {
     "end_time": "2022-08-30T15:58:53.029032Z",
     "start_time": "2022-08-30T15:58:53.023426Z"
    }
   },
   "outputs": [],
   "source": [
    "def FIB(n, memo):\n",
    "    if memo[n] != 0: # this subproblem has been computed\n",
    "        return memo[n]\n",
    "    else:\n",
    "        if n <= 1:\n",
    "            v = 1\n",
    "        else:\n",
    "            v = FIB(n-1, memo) + FIB(n-2, memo)\n",
    "        memo[n] = v\n",
    "        return v"
   ]
  },
  {
   "cell_type": "code",
   "execution_count": 3,
   "id": "f5e35437",
   "metadata": {
    "ExecuteTime": {
     "end_time": "2022-08-30T16:03:39.734850Z",
     "start_time": "2022-08-30T16:03:39.728709Z"
    }
   },
   "outputs": [
    {
     "name": "stdout",
     "output_type": "stream",
     "text": [
      "1\n",
      "1\n",
      "2\n",
      "3\n",
      "5\n",
      "8\n",
      "13\n",
      "21\n",
      "34\n",
      "55\n",
      "89\n",
      "144\n",
      "233\n",
      "377\n",
      "610\n",
      "987\n",
      "1597\n",
      "2584\n",
      "4181\n",
      "6765\n",
      "10946\n",
      "17711\n",
      "28657\n",
      "46368\n",
      "75025\n",
      "121393\n",
      "196418\n",
      "317811\n",
      "514229\n",
      "832040\n",
      "1346269\n",
      "2178309\n",
      "3524578\n",
      "5702887\n",
      "9227465\n",
      "14930352\n",
      "24157817\n",
      "39088169\n",
      "63245986\n",
      "102334155\n",
      "Done\n"
     ]
    }
   ],
   "source": [
    "n = 40\n",
    "memo = [0] * n\n",
    "for i in range(n):\n",
    "    print(FIB(i, memo))\n",
    "print(\"Done\")"
   ]
  },
  {
   "cell_type": "markdown",
   "id": "ab4b3dd0",
   "metadata": {},
   "source": [
    "# Complexity Analysis of Dyanmic Programming\n",
    "\n",
    "To compute a new value, it only needs to do two times of table lookup and then perform one addition. Thus, to compute FIB$(n)$, the total number of operations is $3n$."
   ]
  },
  {
   "cell_type": "markdown",
   "id": "bd76b8e7",
   "metadata": {},
   "source": [
    "# Bottom-Up Approach\n",
    "\n",
    "Bottom-up approach starts from the subproblem with the smallest value and builds values on the way up. Hence, it removes recursion."
   ]
  },
  {
   "cell_type": "code",
   "execution_count": 4,
   "id": "1c8b0d28",
   "metadata": {
    "ExecuteTime": {
     "end_time": "2022-08-30T16:10:50.119059Z",
     "start_time": "2022-08-30T16:10:50.113689Z"
    }
   },
   "outputs": [
    {
     "name": "stdout",
     "output_type": "stream",
     "text": [
      "1\n",
      "1\n",
      "2\n",
      "3\n",
      "5\n",
      "8\n",
      "13\n",
      "21\n",
      "34\n",
      "55\n",
      "89\n",
      "144\n",
      "233\n",
      "377\n",
      "610\n",
      "987\n",
      "1597\n",
      "2584\n",
      "4181\n",
      "6765\n",
      "10946\n",
      "17711\n",
      "28657\n",
      "46368\n",
      "75025\n",
      "121393\n",
      "196418\n",
      "317811\n",
      "514229\n",
      "832040\n",
      "1346269\n",
      "2178309\n",
      "3524578\n",
      "5702887\n",
      "9227465\n",
      "14930352\n",
      "24157817\n",
      "39088169\n",
      "63245986\n",
      "102334155\n",
      "Done\n"
     ]
    }
   ],
   "source": [
    "n = 40\n",
    "memo = [0] * n\n",
    "memo[0], memo[1] = 1, 1\n",
    "print(memo[0])\n",
    "print(memo[1])\n",
    "for i in range(2, n):\n",
    "    memo[i] = memo[i-1] + memo[i-2]\n",
    "    print(memo[i])\n",
    "print(\"Done\")\n"
   ]
  },
  {
   "cell_type": "code",
   "execution_count": null,
   "id": "829ab57c",
   "metadata": {},
   "outputs": [],
   "source": []
  }
 ],
 "metadata": {
  "kernelspec": {
   "display_name": "Python 3",
   "language": "python",
   "name": "python3"
  },
  "language_info": {
   "codemirror_mode": {
    "name": "ipython",
    "version": 3
   },
   "file_extension": ".py",
   "mimetype": "text/x-python",
   "name": "python",
   "nbconvert_exporter": "python",
   "pygments_lexer": "ipython3",
   "version": "3.8.6"
  },
  "toc": {
   "base_numbering": 1,
   "nav_menu": {},
   "number_sections": true,
   "sideBar": true,
   "skip_h1_title": false,
   "title_cell": "Table of Contents",
   "title_sidebar": "Contents",
   "toc_cell": false,
   "toc_position": {},
   "toc_section_display": true,
   "toc_window_display": false
  },
  "varInspector": {
   "cols": {
    "lenName": 16,
    "lenType": 16,
    "lenVar": 40
   },
   "kernels_config": {
    "python": {
     "delete_cmd_postfix": "",
     "delete_cmd_prefix": "del ",
     "library": "var_list.py",
     "varRefreshCmd": "print(var_dic_list())"
    },
    "r": {
     "delete_cmd_postfix": ") ",
     "delete_cmd_prefix": "rm(",
     "library": "var_list.r",
     "varRefreshCmd": "cat(var_dic_list()) "
    }
   },
   "types_to_exclude": [
    "module",
    "function",
    "builtin_function_or_method",
    "instance",
    "_Feature"
   ],
   "window_display": false
  },
  "vscode": {
   "interpreter": {
    "hash": "e2cde104f4d18245c788b079dac12b495c585d850f7488bacbf703b0b6afa06c"
   }
  }
 },
 "nbformat": 4,
 "nbformat_minor": 5
}
