{
 "cells": [
  {
   "cell_type": "markdown",
   "id": "9d8e607e",
   "metadata": {},
   "source": [
    "# Rod Cutting\n",
    "\n",
    "Serling Enterprises buys long steel rods and cuts them into shorter rods, which it then sells. Each cut is free. The management of Serling Enterprises wants to know the best way to cut up the rods.\n",
    "\n",
    "We assume that we know, for $i =1 ,2, \\ldots, n$, the price $p_i$ in dollars that Serling\n",
    "Enterprises charges for a rod of length $i$ inches. Rod lengths are always an integral\n",
    "number of inches. \n",
    "\n",
    "We assume that the small length due to cutting is ignored. To figure out how to cut a rod of length $n$ inches to sell for the maximum profit, we will first formulate the problem as recurrence relation. A cut on a rod divides it into two shorter rods that can be cut further, and so we have two subproblems. Repeat this process we will be having a number of cuts, and we want the cuts to add up to the maximum profits. Let $r(i)$ denote the maximum\n",
    "profit we can make from a rod of length $i$. Then we have\n",
    "$$\n",
    "r(i) = \\left\\{\n",
    "\\begin{array}{ll}\n",
    "\\max_{1 \\leq j \\leq i} \\{p_j + r(i-j)\\}, & \\mbox{if $i > 0$,}\\\\\n",
    "0, & \\mbox{if $i=0$}.\n",
    "\\end{array}\n",
    "\\right.\n",
    "$$\n",
    "The following is the direct recursion implementation:"
   ]
  },
  {
   "cell_type": "code",
   "execution_count": null,
   "id": "29fbf6e2",
   "metadata": {
    "ExecuteTime": {
     "end_time": "2022-08-30T19:15:50.532067Z",
     "start_time": "2022-08-30T19:15:50.526835Z"
    }
   },
   "outputs": [],
   "source": [
    "def cut_rod(p, n):\n",
    "    if n == 0:\n",
    "        return 0\n",
    "    q = max([0] + [p[i] + cut_rod(p, n-i) for i in range(1,n+1)])\n",
    "    return q\n"
   ]
  },
  {
   "cell_type": "code",
   "execution_count": null,
   "id": "b6ee38f4",
   "metadata": {
    "ExecuteTime": {
     "end_time": "2022-08-30T19:22:20.292428Z",
     "start_time": "2022-08-30T19:21:53.578412Z"
    }
   },
   "outputs": [],
   "source": [
    "import random\n",
    "\n",
    "# p = [0]+[1, 5, 8, 9, 10, 17, 17, 20, 24, 30] in textbook, too small to feel the pain of inefficiency\n",
    "p = [0] + [random.randrange(10, i*10) for i in range(2,28)]\n",
    "n = len(p)\n",
    "print(p)\n",
    "print(cut_rod(p, n-1))\n",
    "print(\"Done\")"
   ]
  },
  {
   "cell_type": "markdown",
   "id": "7314dd0d",
   "metadata": {},
   "source": [
    "# Complexity Analysis of Straight Implementaion\n",
    "\n",
    "Let $T(n)$ denote the total number of calls made to CUT-ROD when called with its second parameter equal to $n$. We have\n",
    "$$\n",
    "T(n) = \\left\\{\n",
    "\\begin{array}{ll}\n",
    "\\sum_{i=0}^{n-1} T(i) + 1, & \\mbox{if $n > 0$,} \\\\\n",
    "1, & \\mbox{if $n=0$.}\n",
    "\\end{array}\n",
    "\\right.\n",
    "$$\n",
    "It's straightforward to show that $T(n) = 2^n$ by mathematical induction (you should write out the proof yourself as an exercise)."
   ]
  },
  {
   "cell_type": "markdown",
   "id": "4b88e100",
   "metadata": {},
   "source": [
    "# DP Approach\n",
    "\n",
    "Use memoization."
   ]
  },
  {
   "cell_type": "code",
   "execution_count": 3,
   "id": "76f7602a",
   "metadata": {
    "ExecuteTime": {
     "end_time": "2022-08-30T21:06:43.889594Z",
     "start_time": "2022-08-30T21:06:43.883611Z"
    }
   },
   "outputs": [],
   "source": [
    "def memoized_cut_rod(p, n, memo):\n",
    "    if memo[n] > 0:\n",
    "        return memo[n]\n",
    "    if n == 0:\n",
    "        return 0\n",
    "    q = max([0] + [p[i] + memoized_cut_rod(p, n-i, memo) for i in range(1,n+1)])\n",
    "    memo[n] = q\n",
    "    return q"
   ]
  },
  {
   "cell_type": "code",
   "execution_count": 2,
   "id": "07e33e87",
   "metadata": {
    "ExecuteTime": {
     "end_time": "2022-08-30T21:06:31.902419Z",
     "start_time": "2022-08-30T21:06:31.895622Z"
    }
   },
   "outputs": [
    {
     "name": "stdout",
     "output_type": "stream",
     "text": [
      "[0, 12, 13, 22, 10, 50, 17, 46, 15, 77, 71, 94, 85, 41, 50, 105, 67, 57, 181, 38, 48, 128, 122, 163, 199, 136, 29]\n"
     ]
    }
   ],
   "source": [
    "import random\n",
    "\n",
    "p = [0] + [random.randrange(10, i*10) for i in range(2,28)]\n",
    "n = len(p)\n",
    "print(p)"
   ]
  },
  {
   "cell_type": "code",
   "execution_count": null,
   "id": "9335155c",
   "metadata": {
    "ExecuteTime": {
     "end_time": "2022-08-30T20:38:13.651720Z",
     "start_time": "2022-08-30T20:37:46.356162Z"
    }
   },
   "outputs": [],
   "source": [
    "print(cut_rod(p, n-1))\n",
    "print(\"Done\")"
   ]
  },
  {
   "cell_type": "code",
   "execution_count": 4,
   "id": "d5c98571",
   "metadata": {
    "ExecuteTime": {
     "end_time": "2022-08-30T21:06:48.382513Z",
     "start_time": "2022-08-30T21:06:48.377190Z"
    }
   },
   "outputs": [
    {
     "name": "stdout",
     "output_type": "stream",
     "text": [
      "312\n"
     ]
    }
   ],
   "source": [
    "memo = [0] * n\n",
    "print(memoized_cut_rod(p,n-1,memo))\n"
   ]
  },
  {
   "cell_type": "code",
   "execution_count": 5,
   "id": "b88429d3",
   "metadata": {
    "ExecuteTime": {
     "end_time": "2022-08-30T21:06:58.252421Z",
     "start_time": "2022-08-30T21:06:58.239116Z"
    }
   },
   "outputs": [
    {
     "data": {
      "text/plain": [
       "[0,\n",
       " 12,\n",
       " 24,\n",
       " 36,\n",
       " 48,\n",
       " 60,\n",
       " 72,\n",
       " 84,\n",
       " 96,\n",
       " 108,\n",
       " 120,\n",
       " 132,\n",
       " 144,\n",
       " 156,\n",
       " 168,\n",
       " 180,\n",
       " 192,\n",
       " 204,\n",
       " 216,\n",
       " 228,\n",
       " 240,\n",
       " 252,\n",
       " 264,\n",
       " 276,\n",
       " 288,\n",
       " 300,\n",
       " 312]"
      ]
     },
     "execution_count": 5,
     "metadata": {},
     "output_type": "execute_result"
    }
   ],
   "source": [
    "memo"
   ]
  },
  {
   "cell_type": "markdown",
   "id": "701e5871",
   "metadata": {},
   "source": [
    "# Bottom Up\n",
    "\n",
    "Remove recursion"
   ]
  },
  {
   "cell_type": "code",
   "execution_count": 6,
   "id": "acdc200c",
   "metadata": {
    "ExecuteTime": {
     "end_time": "2022-08-30T21:07:02.948208Z",
     "start_time": "2022-08-30T21:07:02.941434Z"
    }
   },
   "outputs": [],
   "source": [
    "def bottom_up_cut_rod(p,n):\n",
    "    r = [0] * (n + 1)\n",
    "    for j in range(1, n + 1):\n",
    "        q = -1\n",
    "        for i in range(1, j + 1):\n",
    "            q = max(q, p[i] + r[j - i])\n",
    "        r[j] = q\n",
    "    return r[n]\n",
    "        "
   ]
  },
  {
   "cell_type": "code",
   "execution_count": 7,
   "id": "2c0ffd72",
   "metadata": {
    "ExecuteTime": {
     "end_time": "2022-08-30T21:07:06.041213Z",
     "start_time": "2022-08-30T21:07:06.038919Z"
    }
   },
   "outputs": [
    {
     "name": "stdout",
     "output_type": "stream",
     "text": [
      "312\n"
     ]
    }
   ],
   "source": [
    "print(bottom_up_cut_rod(p, n - 1))"
   ]
  },
  {
   "cell_type": "markdown",
   "id": "0372a519",
   "metadata": {},
   "source": [
    "# Where to Cut?\n",
    "\n",
    "We'd also need to remember the cuts."
   ]
  },
  {
   "cell_type": "code",
   "execution_count": 29,
   "id": "c17bbead",
   "metadata": {
    "ExecuteTime": {
     "end_time": "2022-08-30T23:45:50.939345Z",
     "start_time": "2022-08-30T23:45:50.923990Z"
    }
   },
   "outputs": [],
   "source": [
    "def extended_bottom_up_cut_rod(p,n):\n",
    "    r = [0] * (n + 1)\n",
    "    s = [0] * (n + 1)\n",
    "    for j in range(1, n + 1):\n",
    "        q = -1\n",
    "        for i in range(1, j + 1):\n",
    "            if q < p[i] + r[j - i]:\n",
    "                q = p[i] + r[j - i] # keep the larger value\n",
    "                s[j] = i # cutting point\n",
    "        r[j] = q\n",
    "    return r, s"
   ]
  },
  {
   "cell_type": "code",
   "execution_count": 25,
   "id": "71403fae",
   "metadata": {
    "ExecuteTime": {
     "end_time": "2022-08-30T21:13:51.228903Z",
     "start_time": "2022-08-30T21:13:51.222410Z"
    }
   },
   "outputs": [],
   "source": [
    "def print_cut_rod_solution(p, n):\n",
    "    (r, s) = extended_bottom_up_cut_rod(p, n)\n",
    "    print(r)\n",
    "    print(s)\n",
    "    while n > 0:\n",
    "        print(s[n])\n",
    "        n = n - s[n]"
   ]
  },
  {
   "cell_type": "code",
   "execution_count": 26,
   "id": "efd5d300",
   "metadata": {
    "ExecuteTime": {
     "end_time": "2022-08-30T21:13:51.750984Z",
     "start_time": "2022-08-30T21:13:51.746596Z"
    }
   },
   "outputs": [],
   "source": [
    "p = [0]+[1, 5, 8, 9, 10, 17, 17, 20, 24, 30]\n",
    "n = len(p)"
   ]
  },
  {
   "cell_type": "code",
   "execution_count": 27,
   "id": "a1fd9853",
   "metadata": {
    "ExecuteTime": {
     "end_time": "2022-08-30T21:13:52.482999Z",
     "start_time": "2022-08-30T21:13:52.478403Z"
    }
   },
   "outputs": [
    {
     "name": "stdout",
     "output_type": "stream",
     "text": [
      "[0, 1, 5, 8, 10, 13, 17, 18, 22, 25, 30]\n",
      "[0, 1, 2, 3, 2, 2, 6, 1, 2, 3, 10]\n",
      "10\n"
     ]
    }
   ],
   "source": [
    "print_cut_rod_solution(p, n-1)"
   ]
  },
  {
   "cell_type": "code",
   "execution_count": 28,
   "id": "b514ba6b",
   "metadata": {
    "ExecuteTime": {
     "end_time": "2022-08-30T21:16:32.864052Z",
     "start_time": "2022-08-30T21:16:32.855814Z"
    }
   },
   "outputs": [
    {
     "name": "stdout",
     "output_type": "stream",
     "text": [
      "[0, 1, 5, 8, 10, 13, 17, 18, 22, 25, 27]\n",
      "[0, 1, 2, 3, 2, 2, 6, 1, 2, 3, 2]\n",
      "2\n",
      "2\n",
      "6\n"
     ]
    }
   ],
   "source": [
    "p = [0]+[1, 5, 8, 9, 10, 17, 17, 20, 24, 25]\n",
    "n = len(p)\n",
    "print_cut_rod_solution(p, n-1)"
   ]
  },
  {
   "cell_type": "markdown",
   "id": "86be2114",
   "metadata": {},
   "source": [
    "# Complexity Analysis of DP Approach\n",
    "\n",
    "The problem depends on $n-1$ subproblems and there are $n-1$ different subproblems. Thus, the complexity of the DP approach is $O(n^2)$."
   ]
  },
  {
   "cell_type": "code",
   "execution_count": null,
   "id": "1fd68294",
   "metadata": {},
   "outputs": [],
   "source": []
  }
 ],
 "metadata": {
  "kernelspec": {
   "display_name": "Python3-9-12",
   "language": "python",
   "name": "python3-9-12"
  },
  "language_info": {
   "codemirror_mode": {
    "name": "ipython",
    "version": 3
   },
   "file_extension": ".py",
   "mimetype": "text/x-python",
   "name": "python",
   "nbconvert_exporter": "python",
   "pygments_lexer": "ipython3",
   "version": "3.9.12"
  },
  "toc": {
   "base_numbering": 1,
   "nav_menu": {},
   "number_sections": true,
   "sideBar": true,
   "skip_h1_title": false,
   "title_cell": "Table of Contents",
   "title_sidebar": "Contents",
   "toc_cell": false,
   "toc_position": {},
   "toc_section_display": true,
   "toc_window_display": false
  },
  "varInspector": {
   "cols": {
    "lenName": 16,
    "lenType": 16,
    "lenVar": 40
   },
   "kernels_config": {
    "python": {
     "delete_cmd_postfix": "",
     "delete_cmd_prefix": "del ",
     "library": "var_list.py",
     "varRefreshCmd": "print(var_dic_list())"
    },
    "r": {
     "delete_cmd_postfix": ") ",
     "delete_cmd_prefix": "rm(",
     "library": "var_list.r",
     "varRefreshCmd": "cat(var_dic_list()) "
    }
   },
   "types_to_exclude": [
    "module",
    "function",
    "builtin_function_or_method",
    "instance",
    "_Feature"
   ],
   "window_display": false
  }
 },
 "nbformat": 4,
 "nbformat_minor": 5
}
