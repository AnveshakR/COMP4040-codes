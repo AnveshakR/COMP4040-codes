{
 "cells": [
  {
   "cell_type": "markdown",
   "id": "9dce0da6",
   "metadata": {},
   "source": [
    "# Order Statistics\n",
    "\n",
    "<!--<img src=\"OrderStatistics.png\" width=600>-->\n",
    "Order statistics is to return the $k$-th smallest element in a list of $n$ numbers. For example, the smallest, the 2nd smallest, the median (which is the $\\lfloor n/2\\rfloor$ element), and so on.\n",
    "\n",
    "Order statistics has a straightforward $O(n\\log n)$-time solution via sorting. It's also straightforward to do in linear time under certain assumption of input arrays via linear-time sorting algorithms.\n",
    "\n",
    "Can order statistics be done in linear time for any inputs?\n",
    "\n",
    "Using divide-and-conquer in the same way as quicksort, but only recursively calling one of the subarrays in each iteration instead of both subarrays as in quicksort. \n",
    "\n",
    "<!--<img src=\"RandomizedSelect.png\" width=400>-->\n",
    "\n",
    "It can be shown that this algorithm has an expected linear running time. "
   ]
  },
  {
   "cell_type": "code",
   "execution_count": 7,
   "id": "11da35d7",
   "metadata": {
    "ExecuteTime": {
     "end_time": "2022-08-25T17:44:28.888727Z",
     "start_time": "2022-08-25T17:44:28.855739Z"
    }
   },
   "outputs": [
    {
     "name": "stdout",
     "output_type": "stream",
     "text": [
      "The 4-th smallest element is 5\n",
      "The median element is 12\n",
      "The 4-th largest element is 26\n"
     ]
    }
   ],
   "source": [
    "# This function returns k'th smallest element\n",
    "# in arr[l..r] using QuickSort based method.\n",
    "# ASSUMPTION: ALL ELEMENTS IN ARR[] ARE DISTINCT\n",
    "import sys\n",
    " \n",
    "def kthSmallest(A, p, r, k):\n",
    "    # If k is smaller than number of elements in array\n",
    "    if (k > 0 and k <= r - p + 1):\n",
    " \n",
    "        # Partition the array around last\n",
    "        # element and get position of pivot\n",
    "        # element in sorted array\n",
    "        q = partition(A, p, r)\n",
    " \n",
    "        # If position is same as k\n",
    "        if (q - p == k - 1):\n",
    "            return A[q]\n",
    "        if (q - p > k - 1):  # If position is more,\n",
    "                              # recur for left subarray\n",
    "            return kthSmallest(A, p, q - 1, k)\n",
    " \n",
    "        # Else recur for right subarray\n",
    "        return kthSmallest(A, q + 1, r,\n",
    "                           k - q + p - 1)\n",
    " \n",
    "    # If k is greater than the number of elements in array\n",
    "    return sys.maxsize\n",
    "\n",
    "def kthLargest(A, p, r, k):\n",
    "    k = len(A) - k + 1\n",
    "    # If k is smaller than number of elements in array\n",
    "    if (k > 0 and k <= r - p + 1):\n",
    " \n",
    "        # Partition the array around last\n",
    "        # element and get position of pivot\n",
    "        # element in sorted array\n",
    "        q = partition(A, p, r)\n",
    " \n",
    "        # If position is same as k\n",
    "        if (q - p == k - 1):\n",
    "            return A[q]\n",
    "        if (q - p > k - 1):  # If position is more,\n",
    "                              # recur for left subarray\n",
    "            return kthSmallest(A, p, q - 1, k)\n",
    " \n",
    "        # Else recur for right subarray\n",
    "        return kthSmallest(A, q + 1, r,\n",
    "                           k - q + p - 1)\n",
    " \n",
    "    # If k is greater than the number of elements in array\n",
    "    return sys.maxsize\n",
    " \n",
    "# Standard partition process of QuickSort().\n",
    "# It considers the last element as pivot and\n",
    "# moves all smaller element to left of it\n",
    "# and greater elements to right\n",
    " \n",
    "def partition(A, p, r):\n",
    " \n",
    "    pivot = A[r]\n",
    "    i = p\n",
    "    for j in range(p, r):\n",
    "        if (A[j] <= pivot):\n",
    "            A[i], A[j] = A[j], A[i]\n",
    "            i += 1\n",
    "    A[i], A[r] = A[r], A[i]\n",
    "    return i\n",
    " \n",
    "# Driver's Code\n",
    "if __name__ == \"__main__\":\n",
    "    A = [12, 3, 3, 5, 7, 4, 19, 26, 26, 25, 28, 30]\n",
    "    n = len(A)\n",
    "    k = 4\n",
    "    print(\"The %i-th smallest element is\" %k, kthSmallest(A, 0, n - 1, k))\n",
    "    print(\"The median element is\", kthSmallest(A, 0, n - 1, (len(A)+1)//2))\n",
    "    print(\"The %i-th largest element is\" %k, kthLargest(A, 0, n - 1, k))"
   ]
  },
  {
   "cell_type": "markdown",
   "id": "cf52d35d",
   "metadata": {},
   "source": [
    "# Complexity Analysis of kthSmallest()\n",
    "\n",
    "Let $n$ be the number of elements in $A$ and $T(n)$ the random varialbe denoting the running time of executing kthSmallest$(A, 0, n-1, k_0)$ on a given value $k_0$. Let $X_k$ denote a random variable such that $X_k =1$ if, after partition, the subarray $A[p..q]$ contains exactly $k$ elements. Assuming the input numbers are distributed uniformly at random, namely, any number has an equal chance to be selected a pivot (if you feel more comfortable to accept this statement, you may randomly permute $A$ first, but which is unnecessary because of our assumption). That is,\n",
    "$p(k) = p(X_k = 1) = 1/n$ for any $k$. Note that $\\sum_{k=1}^n X_k = 1$.\n",
    "Then\n",
    "\\begin{eqnarray*}\n",
    "T(n) &\\leq& \\sum_{k=1}^n X_k \\cdot(T(\\max\\{k-1, n-k\\})+O(n)) \\\\ \n",
    "&=& \\sum_{k=1}^n X_k T(\\max\\{k-1, n-k\\})+O(n)\\sum_{k=1}^n X_k \\\\\n",
    "&=& \\sum_{k=1}^n X_k T(\\max\\{k-1, n-k\\})+O(n).\n",
    "\\end{eqnarray*}\n",
    "Note that $X_k$ and $T(\\max\\{k-1, n-k\\})$ are independent because $T(\\max\\{k-1, n-k\\})$ is the same regardness the pivot. Thus,\n",
    "\\begin{eqnarray*}\n",
    "E[T(n)] &\\leq& E[\\sum_{k=1}^n X_k T(\\max\\{k-1, n-k\\})+O(n)] \\\\\n",
    "&=& \\sum_{k=1}^n E[X_k]E[T(\\max\\{k-1, n-k\\}] + O(n)\n",
    "\\end{eqnarray*}\n",
    "Note that\n",
    "$\\max\\{k-1,n-k\\} = k-1$ if $k > \\lceil n/2\\rceil$ and $n-k$ otherwise.\n",
    "Also note that each $T(k)$ from $k$ from $\\lceil n/2\\rceil$ to $n-1$ appears exactly twise. If $n$ is odd, $T(\\lfloor n/2\\rfloor)$ appears once. Thus,\n",
    "\\begin{eqnarray*}\n",
    "E[T(n)] &\\leq& 2\\sum_{k=\\lfloor n/2\\rfloor}^{n-1} E[T(k)] +O(n) \\\\\n",
    "&\\leq& 2\\cdot\\sum_{k=\\lfloor n/2\\rfloor}^{n-1} ck\\cdot p(k) +an \\mbox{ for some positive $a$ and $c > 4a$} \\\\\n",
    "&=& \\frac{2c}{n}\\left(\\sum_{k=1}^{n-1} k - \\sum_{k=1}^{\\lfloor n/2\\rfloor-1} k\\right) + an \\\\\n",
    "&=& \\frac{2c}{n}\\cdot \\left(\\frac{n(n-1)}{2} - \\frac{\\lfloor n/2\\rfloor(\\lfloor n/2\\rfloor+1)}{2}\\right) + an \\\\\n",
    "&\\leq& \\frac{2c}{n}\\cdot \\left(\\frac{n(n-1)}{2} - \\frac{(n/2-2)(n/2-1)}{2}\\right) + an  \\\\\n",
    "&=& cn \\left(\\frac{3n}{4}+\\frac{1}{2} - \\frac{2}{n}\\right) + an \\\\\n",
    "&<& \\frac{3cn}{4}+\\frac{c}{2} + an \\\\\n",
    "&=& cn -\\left(\\frac{cn}{4} - \\frac{c}{2} - an\\right) \\\\\n",
    "&\\leq& cn~ \\mbox{  (when $n \\geq 2c/(c-4a)$)}.\n",
    "\\end{eqnarray*}\n",
    "Thus, $E[T(n)] = O(n)$."
   ]
  },
  {
   "cell_type": "code",
   "execution_count": 1,
   "id": "27766cbf",
   "metadata": {
    "ExecuteTime": {
     "end_time": "2022-08-25T16:58:03.477538Z",
     "start_time": "2022-08-25T16:58:03.438172Z"
    }
   },
   "outputs": [
    {
     "name": "stdout",
     "output_type": "stream",
     "text": [
      "3\n",
      "5\n",
      "43\n",
      "1\n",
      "3\n"
     ]
    }
   ],
   "source": [
    "\"\"\"\n",
    "Find the kth smallest element in expected linear time using divide and conquer similar to quicksort.\n",
    "Assume all input numbers are distinct.\n",
    "\"\"\"\n",
    "from random import choice\n",
    "from typing import List\n",
    "\n",
    "def random_pivot(A):\n",
    "    \"\"\"\n",
    "    Choose a random pivot from A. A more sophisticated algorithm such as the median-of-medians may be used here\n",
    "    \"\"\"\n",
    "    return choice(A)\n",
    "\n",
    "def kth_order(A: List[int], k: int) -> int:\n",
    "    # pick a pivot and separate into list based on pivot.\n",
    "    pivot = random_pivot(A)\n",
    "\n",
    "    # partition based on pivot\n",
    "    small = [e for e in A if e < pivot]\n",
    "    big = [e for e in A if e > pivot]\n",
    "\n",
    "    # if we get lucky, pivot might be the element we want.\n",
    "    if len(small) == k - 1:\n",
    "        return pivot\n",
    "    # pivot is in elements bigger than k\n",
    "    elif len(small) < k - 1:\n",
    "        return kth_order(big, k - len(small) - 1)\n",
    "    else: # pivot is in elements smaller than k\n",
    "        return kth_order(small, k)\n",
    "    \n",
    "print(kth_order([2, 1, 3, 4, 5], 3))\n",
    "print(kth_order([2, 1, 3, 4, 5], 5))\n",
    "print(kth_order([25, 21, 98, 100, 76, 22, 43, 60, 89, 87], 4))\n",
    "print(kth_order([2, 1, 3, 4, 5, 1], 1))\n",
    "print(kth_order([3, 2, 5, 6, 7, 8], 2))"
   ]
  },
  {
   "cell_type": "markdown",
   "id": "4984c582",
   "metadata": {},
   "source": [
    "# Order Statistics in Worst-Case Linear Time\n",
    "\n",
    "We can push it further to obtain an algorithm that computes order statistics in worst-case linear time using divide-and-conquer in a more sophisticated way, which is more of a theortical interest because in practice, the algorithm based on quicksort partition is sufficient. Thus, we will omit this algorithm. If you like the theoretical challenge to figure it out, please refer to Section 9.3 for details."
   ]
  },
  {
   "cell_type": "code",
   "execution_count": null,
   "id": "c756db2b",
   "metadata": {},
   "outputs": [],
   "source": []
  },
  {
   "cell_type": "code",
   "execution_count": null,
   "id": "2375a4b3",
   "metadata": {},
   "outputs": [],
   "source": []
  }
 ],
 "metadata": {
  "kernelspec": {
   "display_name": "Python 3",
   "language": "python",
   "name": "python3"
  },
  "language_info": {
   "codemirror_mode": {
    "name": "ipython",
    "version": 3
   },
   "file_extension": ".py",
   "mimetype": "text/x-python",
   "name": "python",
   "nbconvert_exporter": "python",
   "pygments_lexer": "ipython3",
   "version": "3.8.6 (tags/v3.8.6:db45529, Sep 23 2020, 15:52:53) [MSC v.1927 64 bit (AMD64)]"
  },
  "toc": {
   "base_numbering": 1,
   "nav_menu": {},
   "number_sections": true,
   "sideBar": true,
   "skip_h1_title": false,
   "title_cell": "Table of Contents",
   "title_sidebar": "Contents",
   "toc_cell": false,
   "toc_position": {},
   "toc_section_display": true,
   "toc_window_display": false
  },
  "varInspector": {
   "cols": {
    "lenName": 16,
    "lenType": 16,
    "lenVar": 40
   },
   "kernels_config": {
    "python": {
     "delete_cmd_postfix": "",
     "delete_cmd_prefix": "del ",
     "library": "var_list.py",
     "varRefreshCmd": "print(var_dic_list())"
    },
    "r": {
     "delete_cmd_postfix": ") ",
     "delete_cmd_prefix": "rm(",
     "library": "var_list.r",
     "varRefreshCmd": "cat(var_dic_list()) "
    }
   },
   "types_to_exclude": [
    "module",
    "function",
    "builtin_function_or_method",
    "instance",
    "_Feature"
   ],
   "window_display": false
  },
  "vscode": {
   "interpreter": {
    "hash": "e2cde104f4d18245c788b079dac12b495c585d850f7488bacbf703b0b6afa06c"
   }
  }
 },
 "nbformat": 4,
 "nbformat_minor": 5
}
