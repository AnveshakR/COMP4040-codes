{
 "cells": [
  {
   "cell_type": "markdown",
   "id": "cb7ef295",
   "metadata": {},
   "source": [
    "# Insertion Sort and Complexity Analysis\n",
    "\n",
    "Given a list $A$ of $n$ numbers $A = [a_0, a_1, \\ldots, a_{n-1}]$, sort the numbers in ascending order (or descending order).\n",
    "\n",
    "Idea: Insert a new number into a sorted list by linear comparisons: Start from an empty list, which is sorted (because it has no numbers in it). Let $L$ be a sorted list of size $k$ and $x$ a new number. Find the first index $i$ such that $L[i-1] \\leq x < L[i]$. If such $i$ exists, shift $L[j]$ one cell to the right (starting from $j = k-1$ backward until $j = i$. Insert $x$ to $L[i]$, with $i$ starting from 0 (we may imagine that $L[-1] = -\\infty$ so that any number is greater than $L[-1]$).\n",
    "\n",
    "Time complexity: \n",
    "1. Let the length of sorted list $L$ be $k$. Then in the worse case, inserting $x$ into $L$ of size $k$ requires $k+1$ operations (also referred to as steps), which breaks down to $i$ comparisons, $k-1 - i + 1 = k -i$ shifts, and 1 assignment, summing up to $k+1$.\n",
    "2. $k$ starts from 0 to $n-1$. Thus, the total number of operations is \n",
    "$$1 + 2 + \\cdots + n = \\frac{n(n+1)}{2} = cn^2 \\text{ for some constant $c > 0$}.$$\n",
    "3. To hide constant details, it's customary to use a big-O notation: We use $O(n^2)$ to represent any function $cn^2$ for some constant $c > 0$. Thus, insertion sort runs in $O(n^2)$ steps. \n",
    "4. Note that we don't need to create a new list $L$; namely, we can simply use $A$ to implement insertion sort to save space.\n",
    "\n",
    "Space complexity: $n$ (space complexity is often not an issue in practice unless we work on big data)."
   ]
  },
  {
   "cell_type": "markdown",
   "id": "0a00e6cd",
   "metadata": {},
   "source": [
    "## Python Implementation of Insertion Sort"
   ]
  },
  {
   "cell_type": "markdown",
   "id": "f6c4ae76",
   "metadata": {},
   "source": []
  },
  {
   "cell_type": "code",
   "execution_count": 1,
   "id": "36d353ad",
   "metadata": {
    "ExecuteTime": {
     "end_time": "2022-08-31T13:34:53.317580Z",
     "start_time": "2022-08-31T13:34:53.303862Z"
    }
   },
   "outputs": [],
   "source": [
    "def insertionSort(A):\n",
    "    # Traverse from 1 to len(A); not from 0, for A[0] is considered sorted to begin with\n",
    "    for i in range(1, len(A)):\n",
    "        x = A[i]  \n",
    "        \"\"\"\n",
    "        Move elements of A[0..i-1], that are\n",
    "        greater than x, to one position ahead\n",
    "        of their current position\n",
    "        \"\"\"\n",
    "        j = i-1\n",
    "        while j >=0 and x < A[j]: # when it fails, it means A[j] <= x < A[j+1] \n",
    "            A[j+1] = A[j] # shift\n",
    "            j -= 1\n",
    "        A[j+1] = x\n",
    "    return A"
   ]
  },
  {
   "cell_type": "code",
   "execution_count": 8,
   "id": "a9604e35",
   "metadata": {
    "ExecuteTime": {
     "end_time": "2022-08-31T13:34:54.129000Z",
     "start_time": "2022-08-31T13:34:54.120825Z"
    }
   },
   "outputs": [],
   "source": [
    "# Let's build a function to run insertion sort contineously\n",
    "def main():\n",
    "    A = input(\"Enter a sequence of numbers, separted by space: \")\n",
    "    A = list(map(int, A.split()))\n",
    "    print(\"original: \", A, \"\\n\")\n",
    "    A = insertionSort(A)\n",
    "    print(\"Sorted in ascending order: \", A)"
   ]
  },
  {
   "cell_type": "code",
   "execution_count": 5,
   "id": "6b6041c7",
   "metadata": {
    "ExecuteTime": {
     "end_time": "2022-08-31T13:35:02.283165Z",
     "start_time": "2022-08-31T13:34:54.961113Z"
    }
   },
   "outputs": [
    {
     "name": "stdout",
     "output_type": "stream",
     "text": [
      "original:  [3, 6, 9, 3, 6, 8, 2, 1] \n",
      "\n",
      "Sorted in ascending order:  [1, 2, 3, 3, 6, 6, 8, 9]\n",
      "\n",
      "\n",
      "Good bye!\n"
     ]
    }
   ],
   "source": [
    "main()"
   ]
  },
  {
   "cell_type": "code",
   "execution_count": null,
   "id": "2bc7bd8c",
   "metadata": {},
   "outputs": [],
   "source": []
  }
 ],
 "metadata": {
  "kernelspec": {
   "display_name": "Python 3.8.6 64-bit",
   "language": "python",
   "name": "python3"
  },
  "language_info": {
   "codemirror_mode": {
    "name": "ipython",
    "version": 3
   },
   "file_extension": ".py",
   "mimetype": "text/x-python",
   "name": "python",
   "nbconvert_exporter": "python",
   "pygments_lexer": "ipython3",
   "version": "3.8.6"
  },
  "toc": {
   "base_numbering": 1,
   "nav_menu": {},
   "number_sections": true,
   "sideBar": true,
   "skip_h1_title": false,
   "title_cell": "Table of Contents",
   "title_sidebar": "Contents",
   "toc_cell": false,
   "toc_position": {},
   "toc_section_display": true,
   "toc_window_display": false
  },
  "varInspector": {
   "cols": {
    "lenName": 16,
    "lenType": 16,
    "lenVar": 40
   },
   "kernels_config": {
    "python": {
     "delete_cmd_postfix": "",
     "delete_cmd_prefix": "del ",
     "library": "var_list.py",
     "varRefreshCmd": "print(var_dic_list())"
    },
    "r": {
     "delete_cmd_postfix": ") ",
     "delete_cmd_prefix": "rm(",
     "library": "var_list.r",
     "varRefreshCmd": "cat(var_dic_list()) "
    }
   },
   "types_to_exclude": [
    "module",
    "function",
    "builtin_function_or_method",
    "instance",
    "_Feature"
   ],
   "window_display": false
  },
  "vscode": {
   "interpreter": {
    "hash": "e2cde104f4d18245c788b079dac12b495c585d850f7488bacbf703b0b6afa06c"
   }
  }
 },
 "nbformat": 4,
 "nbformat_minor": 5
}
