{
 "cells": [
  {
   "cell_type": "markdown",
   "id": "6de927fd",
   "metadata": {},
   "source": [
    "# Divide-and-Conquer: Strassen's Algorithm\n",
    "\n",
    "Let $A = (a_{ij})_{n\\times n}$ and $B = (b_{ij})_{n\\times n}$ be two square matrices of the same dimensions. Then multiplying $A$ and $B$ is defined by\n",
    "$$C = A \\times B = (c_{ij})_{n\\times n},$$\n",
    "where $c_{ij} = \\sum_{k=1}^n a_{ik} \\cdot b_{kj}$.\n",
    "This can be implemented in Python as following:"
   ]
  },
  {
   "cell_type": "code",
   "execution_count": 3,
   "id": "d66b6a4d",
   "metadata": {
    "ExecuteTime": {
     "end_time": "2022-09-14T18:31:13.184286Z",
     "start_time": "2022-09-14T18:31:13.162196Z"
    }
   },
   "outputs": [],
   "source": [
    "import numpy as np\n",
    "def multiply(A, B):\n",
    "    # first check if the inputs are square matrices of the same dimensions\n",
    "    m = A.shape[0]\n",
    "    if A.shape[1] != m:\n",
    "        print(A, \"\\n must be a square matrix.\")\n",
    "        return\n",
    "    n = B.shape[0]\n",
    "    if m != n:\n",
    "        print(\"\\n dimenstion mismatched.\")\n",
    "        return\n",
    "    if B.shape[1] != n:\n",
    "        print(B, \"\\n must be a square matrix.\")\n",
    "        return\n",
    "    # Now compute the product\n",
    "    C = np.zeros((n,n), dtype=np.int64)\n",
    "    for i in range(n):\n",
    "        for j in range(n):\n",
    "            for k in range(n):\n",
    "                C[i,j] += A[i,k] * B[k,j]\n",
    "    return C"
   ]
  },
  {
   "cell_type": "code",
   "execution_count": 4,
   "id": "26f889a9",
   "metadata": {
    "ExecuteTime": {
     "end_time": "2022-09-14T18:31:16.821549Z",
     "start_time": "2022-09-14T18:31:16.814763Z"
    }
   },
   "outputs": [
    {
     "data": {
      "text/plain": [
       "array([[ 45,  40,  14],\n",
       "       [ 28,  24,   8],\n",
       "       [153, 139,  47]], dtype=int64)"
      ]
     },
     "execution_count": 4,
     "metadata": {},
     "output_type": "execute_result"
    }
   ],
   "source": [
    "A = np.matrix([[1, 2 ,3],\n",
    "               [3, 1, 1],\n",
    "               [4, 8 ,9]])\n",
    "\n",
    "B = np.matrix([[4, 3, 1], \n",
    "               [7, 8, 2], \n",
    "               [9, 7, 3]])\n",
    "multiply(A,B)"
   ]
  },
  {
   "cell_type": "markdown",
   "id": "695fc6be",
   "metadata": {},
   "source": [
    "# Time Complexity\n",
    "\n",
    "The time complexity of the matrix multiplication in the straightforward implementation is\n",
    "$n \\cdot n \\cdot (n+n-1) = \\Theta(n^3)$.\n",
    "\n",
    "Question: Can we do better?\n",
    "\n",
    "Let's explore if divide and conquer could help. First we would want to divide the original problem into subproblems. To this end, let's first assume that $n$ is a power of 2 so that it is divisible by 2 recursively. Then $A$ and $B$ can each be divided into four matrics as \n",
    "$$\n",
    "A = \\left(\n",
    "\\begin{array}{cc}\n",
    "a & b \\\\\n",
    "c & d\n",
    "\\end{array}\n",
    "\\right),\n",
    "~~ \n",
    "B = \\left(\n",
    "\\begin{array}{cc}\n",
    "e & f \\\\\n",
    "g & h\n",
    "\\end{array}\n",
    "\\right).\n",
    "$$\n",
    "If we multiple them directly as before, then we have the following recurrence relation:\n",
    "$$\n",
    "C = \\left(\n",
    "\\begin{array}{cc}\n",
    "a\\cdot e + b\\cdot g & a\\cdot f + c\\cdot h \\\\\n",
    "c\\cdot e + d\\cdot g & c\\cdot f + d\\cdot h\n",
    "\\end{array}\n",
    "\\right).\n",
    "$$\n",
    "Let $T(n)$ be the number of operations for multiplying $A$ and $B$. Then\n",
    "$$T(n) = 8T\\left(\\frac{n}{2}\\right) + c\\left(\\frac{n}{2}\\right)^2, ~T(1) = 1,$$\n",
    "for some constant $c > 0$.\n",
    "This gives rise to the following\n",
    "$$\n",
    "T(n) \n",
    "> 8T\\left(\\frac{n}{2}\\right) \n",
    "> 8\\left(8T\\left(\\frac{n}{2^2}\\right)\\right) \n",
    "= 8^2T\\left(\\frac{n}{2^2}\\right) \n",
    "> 8^2\\left(8T\\left(\\frac{n}{2^3}\\right)\\right) \n",
    "= 8^3T\\left(\\frac{n}{2^3}\\right) \n",
    "> \\cdots \n",
    "> 8^kT\\left(\\frac{n}{2^k}\\right). \n",
    "$$\n",
    "When $n/2^k = 1$, namely, when $k = \\log n$, the recurrence stops.\n",
    "Hence, $T(n) > 8^{\\log n}T(1)  = n^3$.\n",
    "This implies that the naive divid and conquer doesn't help. \n",
    "\n",
    "Thankfully, Strassen discovered relations that reduce 8 multiplications to 7 as shown in the following figure,\n",
    "where the combine part doesn't envolve multiplications. \n",
    "\n",
    "<!--![image.png](Strassen.png)-->\n",
    "<div>\n",
    "   <img src=\"Strassen.png\" width=\"450\">\n",
    "</div>\n",
    "\n",
    "This is a big deal because under this new divide and conquer stragety,\n",
    "we have\n",
    "$T(n) = 7T(n/2) + c(n/2)^2$ form some constant $c>1$ and $T(1) = 1$. \n",
    "Now let's compute $T(n)$.\n",
    "\\begin{eqnarray*}\n",
    "T(n) \n",
    "&=& 7T(n/2) + c(n/2)^2 \\\\\n",
    "&=& 7(7T(n/2^2) + c(n/2^2)^2) + cn^2/4 \\\\\n",
    "&=& 7^2T(n/2^2) + 7/2^4 cn^2 + 1/2^2cn^2 \\\\\n",
    "&=& \\cdots \\\\\n",
    "&=& 7^kT(n/2^k) + cn^2/4\\sum_{i=0}^{k-1} 7^i/2^{2i} \\\\\n",
    "&=& 7^kT(n/2^k) + \\Theta(n^2)\n",
    "\\end{eqnarray*}\n",
    "When $k = \\log n$, the recurrence stops and we have $7^kT(n/2^k) = 7^{\\log n}T(1) = 7^{\\log n}$.\n",
    "Note that $\\sum_{i=0}^{k-1} (7/4)^i = ((7/4)^k - 1)/(7/4-1) = c'7^{\\log n}/n^2$. Thus,\n",
    "$T(n) = \\Theta(7^{\\log n})$. Note that $\\log 7 < 2.81 < 3$.\n",
    "\n",
    "When $n$ is not a power of 2, we pad $A$ and $B$. In particular, we may just need to pad one additional column of 0's on the right and one additional row of 0's on the bottom when $n$ is an odd number since $n+1$ is even and so can be divided by 2.\n",
    "Note that $N < 2n$, and so the asymptotic complexity remains the same. That is,\n",
    "$$\n",
    "A' = \\left(\n",
    "\\begin{array}{cc}\n",
    "A & 0 \\\\\n",
    "0 & 0\n",
    "\\end{array}\n",
    "\\right)\n",
    "\\text{ and } \n",
    "B' = \\left(\n",
    "\\begin{array}{cc}\n",
    "B & 0 \\\\\n",
    "0 & 0\n",
    "\\end{array}\n",
    "\\right).\n",
    "$$\n",
    "To compute $A\\cdot B$, it's equivalent to computing \n",
    "$$A'\\cdot B' = \n",
    "\\left(\n",
    "\\begin{array}{cc}\n",
    "A & 0 \\\\\n",
    "0 & 0\n",
    "\\end{array}\n",
    "\\right)\n",
    "\\cdot\n",
    "\\left(\n",
    "\\begin{array}{cc}\n",
    "B & 0 \\\\\n",
    "0 & 0\n",
    "\\end{array}\n",
    "\\right)\n",
    "= \n",
    "\\left(\n",
    "\\begin{array}{cc}\n",
    "AB & 0 \\\\\n",
    "0 & 0\n",
    "\\end{array}\n",
    "\\right).\n",
    "$$\n",
    "We use Strassen's algorithm to compute it in $\\Theta(n^{\\log 7})$ time. After that, we remove\n",
    "1 column from the right and row from the bottom if during the recursion, the corresponding number is padded.\n",
    "This produces the product of $A$ and $B$."
   ]
  },
  {
   "cell_type": "code",
   "execution_count": 5,
   "id": "95daa308",
   "metadata": {
    "ExecuteTime": {
     "end_time": "2022-09-14T15:48:41.725207Z",
     "start_time": "2022-09-14T15:48:41.707498Z"
    }
   },
   "outputs": [],
   "source": [
    "def strassen_algorithm(A, B):\n",
    "    # first check if the inputs are square matrices of the same dimensions\n",
    "    p = A.shape[0]\n",
    "    if A.shape[1] != p:\n",
    "        print(A, \"\\n must be a square matrix.\")\n",
    "        return\n",
    "    q = B.shape[0]\n",
    "    if p != q:\n",
    "        print(\"\\n dimenstion mismatched.\")\n",
    "        return\n",
    "    if B.shape[1] != q:\n",
    "        print(B, \"\\n must be a square matrix.\")\n",
    "        return\n",
    "    \n",
    "    # divide and conquer halting condition\n",
    "    if A.size == 1 or B.size == 1:\n",
    "        return A * B\n",
    "    \n",
    "    n = A.shape[0]\n",
    "    # Let's see if we need to pad\n",
    "    if n % 2 == 1: # n is odd; pad\n",
    "        A = np.pad(A, (0, 1), mode='constant') # add an additional column on the right and a row on the bottom of 0's\n",
    "        B = np.pad(B, (0, 1), mode='constant')\n",
    "    \n",
    "    m = int(np.ceil(n / 2)) # divide\n",
    "    a = A[:m, :m]\n",
    "    b = A[:m, m:]\n",
    "    c = A[m:, :m]\n",
    "    d = A[m:, m:]\n",
    "    e = B[:m, :m]\n",
    "    f = B[:m, m:]\n",
    "    g = B[m:, :m]\n",
    "    h = B[m:, m:]\n",
    "    p1 = strassen_algorithm(a, f - h) # subproblems\n",
    "    p2 = strassen_algorithm(a + b, h)\n",
    "    p3 = strassen_algorithm(c + d, e)\n",
    "    p4 = strassen_algorithm(d, g - e)\n",
    "    p5 = strassen_algorithm(a + d, e + h)\n",
    "    p6 = strassen_algorithm(b - d, g + h)\n",
    "    p7 = strassen_algorithm(a - c, e + f)\n",
    "    C = np.zeros((2 * m, 2 * m), dtype=np.int64)\n",
    "    C[:m, :m] = p5 + p4 - p2 + p6\n",
    "    C[:m, m:] = p1 + p2\n",
    "    C[m:, :m] = p3 + p4\n",
    "    C[m:, m:] = p1 + p5 - p3 - p7\n",
    "\n",
    "    return C[:n, :n]"
   ]
  },
  {
   "cell_type": "code",
   "execution_count": 6,
   "id": "d6e9aabf",
   "metadata": {
    "ExecuteTime": {
     "end_time": "2022-09-14T15:48:43.045629Z",
     "start_time": "2022-09-14T15:48:43.026785Z"
    }
   },
   "outputs": [
    {
     "data": {
      "text/plain": [
       "array([[ 51,  49,  17,  39],\n",
       "       [ 38,  39,  13,  42],\n",
       "       [173, 169,  57, 139],\n",
       "       [103,  89,  33,  57]], dtype=int64)"
      ]
     },
     "execution_count": 6,
     "metadata": {},
     "output_type": "execute_result"
    }
   ],
   "source": [
    "A = np.matrix([[1, 2 ,3, 3],\n",
    "               [3, 1, 1, 5],\n",
    "               [4, 8 ,9, 10],\n",
    "               [2, 3, 8, 1]])\n",
    "\n",
    "B = np.matrix([[4, 3, 1, 4], \n",
    "               [7, 8, 2, 7], \n",
    "               [9, 7, 3, 3],\n",
    "               [2, 3, 1, 4]])\n",
    "strassen_algorithm(A,B)"
   ]
  },
  {
   "cell_type": "code",
   "execution_count": 7,
   "id": "d014ac38",
   "metadata": {
    "ExecuteTime": {
     "end_time": "2022-09-14T17:34:56.034939Z",
     "start_time": "2022-09-14T17:34:55.685598Z"
    }
   },
   "outputs": [],
   "source": [
    "import random\n",
    "\n",
    "m = 9\n",
    "n = 2 ** m\n",
    "L_A = [[]] * n\n",
    "L_B = [[]] * n\n",
    "for i in range(n):\n",
    "    L_A[i] = [random.randrange(1, 100) for i in range(n)] # generate 20k random numbers\n",
    "for i in range(n):\n",
    "    L_B[i] = [random.randrange(1, 100) for i in range(n)] # generate 20k random numbers\n"
   ]
  },
  {
   "cell_type": "code",
   "execution_count": 8,
   "id": "77abe489",
   "metadata": {
    "ExecuteTime": {
     "end_time": "2022-09-14T17:34:57.867984Z",
     "start_time": "2022-09-14T17:34:57.806579Z"
    }
   },
   "outputs": [],
   "source": [
    "M_A = np.matrix(L_A)\n",
    "M_B = np.matrix(L_B)"
   ]
  },
  {
   "cell_type": "code",
   "execution_count": 9,
   "id": "57dbd5e2",
   "metadata": {
    "ExecuteTime": {
     "end_time": "2022-09-14T17:35:03.118259Z",
     "start_time": "2022-09-14T17:35:03.112249Z"
    }
   },
   "outputs": [
    {
     "data": {
      "text/plain": [
       "True"
      ]
     },
     "execution_count": 9,
     "metadata": {},
     "output_type": "execute_result"
    }
   ],
   "source": [
    "M_A.shape[1] == M_A.shape[0]"
   ]
  },
  {
   "cell_type": "code",
   "execution_count": 10,
   "id": "0b6ff04c",
   "metadata": {
    "ExecuteTime": {
     "end_time": "2022-09-14T17:35:06.111449Z",
     "start_time": "2022-09-14T17:35:06.105607Z"
    }
   },
   "outputs": [
    {
     "data": {
      "text/plain": [
       "True"
      ]
     },
     "execution_count": 10,
     "metadata": {},
     "output_type": "execute_result"
    }
   ],
   "source": [
    "M_B.shape[1] == M_B.shape[0]"
   ]
  },
  {
   "cell_type": "code",
   "execution_count": 11,
   "id": "10ce53ad",
   "metadata": {
    "ExecuteTime": {
     "end_time": "2022-09-14T17:44:05.748723Z",
     "start_time": "2022-09-14T17:35:08.842647Z"
    }
   },
   "outputs": [
    {
     "ename": "KeyboardInterrupt",
     "evalue": "",
     "output_type": "error",
     "traceback": [
      "\u001b[1;31m---------------------------------------------------------------------------\u001b[0m",
      "\u001b[1;31mKeyboardInterrupt\u001b[0m                         Traceback (most recent call last)",
      "\u001b[1;32mc:\\Users\\anves\\Documents\\UML\\COMP4040\\Strassen(1).ipynb Cell 11\u001b[0m in \u001b[0;36m<cell line: 1>\u001b[1;34m()\u001b[0m\n\u001b[1;32m----> <a href='vscode-notebook-cell:/c%3A/Users/anves/Documents/UML/COMP4040/Strassen%281%29.ipynb#X13sZmlsZQ%3D%3D?line=0'>1</a>\u001b[0m strassen_algorithm(M_A, M_B)\n",
      "\u001b[1;32mc:\\Users\\anves\\Documents\\UML\\COMP4040\\Strassen(1).ipynb Cell 11\u001b[0m in \u001b[0;36mstrassen_algorithm\u001b[1;34m(A, B)\u001b[0m\n\u001b[0;32m     <a href='vscode-notebook-cell:/c%3A/Users/anves/Documents/UML/COMP4040/Strassen%281%29.ipynb#X13sZmlsZQ%3D%3D?line=32'>33</a>\u001b[0m h \u001b[39m=\u001b[39m B[m:, m:]\n\u001b[0;32m     <a href='vscode-notebook-cell:/c%3A/Users/anves/Documents/UML/COMP4040/Strassen%281%29.ipynb#X13sZmlsZQ%3D%3D?line=33'>34</a>\u001b[0m p1 \u001b[39m=\u001b[39m strassen_algorithm(a, f \u001b[39m-\u001b[39m h) \u001b[39m# subproblems\u001b[39;00m\n\u001b[1;32m---> <a href='vscode-notebook-cell:/c%3A/Users/anves/Documents/UML/COMP4040/Strassen%281%29.ipynb#X13sZmlsZQ%3D%3D?line=34'>35</a>\u001b[0m p2 \u001b[39m=\u001b[39m strassen_algorithm(a \u001b[39m+\u001b[39;49m b, h)\n\u001b[0;32m     <a href='vscode-notebook-cell:/c%3A/Users/anves/Documents/UML/COMP4040/Strassen%281%29.ipynb#X13sZmlsZQ%3D%3D?line=35'>36</a>\u001b[0m p3 \u001b[39m=\u001b[39m strassen_algorithm(c \u001b[39m+\u001b[39m d, e)\n\u001b[0;32m     <a href='vscode-notebook-cell:/c%3A/Users/anves/Documents/UML/COMP4040/Strassen%281%29.ipynb#X13sZmlsZQ%3D%3D?line=36'>37</a>\u001b[0m p4 \u001b[39m=\u001b[39m strassen_algorithm(d, g \u001b[39m-\u001b[39m e)\n",
      "\u001b[1;32mc:\\Users\\anves\\Documents\\UML\\COMP4040\\Strassen(1).ipynb Cell 11\u001b[0m in \u001b[0;36mstrassen_algorithm\u001b[1;34m(A, B)\u001b[0m\n\u001b[0;32m     <a href='vscode-notebook-cell:/c%3A/Users/anves/Documents/UML/COMP4040/Strassen%281%29.ipynb#X13sZmlsZQ%3D%3D?line=32'>33</a>\u001b[0m h \u001b[39m=\u001b[39m B[m:, m:]\n\u001b[0;32m     <a href='vscode-notebook-cell:/c%3A/Users/anves/Documents/UML/COMP4040/Strassen%281%29.ipynb#X13sZmlsZQ%3D%3D?line=33'>34</a>\u001b[0m p1 \u001b[39m=\u001b[39m strassen_algorithm(a, f \u001b[39m-\u001b[39m h) \u001b[39m# subproblems\u001b[39;00m\n\u001b[1;32m---> <a href='vscode-notebook-cell:/c%3A/Users/anves/Documents/UML/COMP4040/Strassen%281%29.ipynb#X13sZmlsZQ%3D%3D?line=34'>35</a>\u001b[0m p2 \u001b[39m=\u001b[39m strassen_algorithm(a \u001b[39m+\u001b[39;49m b, h)\n\u001b[0;32m     <a href='vscode-notebook-cell:/c%3A/Users/anves/Documents/UML/COMP4040/Strassen%281%29.ipynb#X13sZmlsZQ%3D%3D?line=35'>36</a>\u001b[0m p3 \u001b[39m=\u001b[39m strassen_algorithm(c \u001b[39m+\u001b[39m d, e)\n\u001b[0;32m     <a href='vscode-notebook-cell:/c%3A/Users/anves/Documents/UML/COMP4040/Strassen%281%29.ipynb#X13sZmlsZQ%3D%3D?line=36'>37</a>\u001b[0m p4 \u001b[39m=\u001b[39m strassen_algorithm(d, g \u001b[39m-\u001b[39m e)\n",
      "\u001b[1;32mc:\\Users\\anves\\Documents\\UML\\COMP4040\\Strassen(1).ipynb Cell 11\u001b[0m in \u001b[0;36mstrassen_algorithm\u001b[1;34m(A, B)\u001b[0m\n\u001b[0;32m     <a href='vscode-notebook-cell:/c%3A/Users/anves/Documents/UML/COMP4040/Strassen%281%29.ipynb#X13sZmlsZQ%3D%3D?line=33'>34</a>\u001b[0m p1 \u001b[39m=\u001b[39m strassen_algorithm(a, f \u001b[39m-\u001b[39m h) \u001b[39m# subproblems\u001b[39;00m\n\u001b[0;32m     <a href='vscode-notebook-cell:/c%3A/Users/anves/Documents/UML/COMP4040/Strassen%281%29.ipynb#X13sZmlsZQ%3D%3D?line=34'>35</a>\u001b[0m p2 \u001b[39m=\u001b[39m strassen_algorithm(a \u001b[39m+\u001b[39m b, h)\n\u001b[1;32m---> <a href='vscode-notebook-cell:/c%3A/Users/anves/Documents/UML/COMP4040/Strassen%281%29.ipynb#X13sZmlsZQ%3D%3D?line=35'>36</a>\u001b[0m p3 \u001b[39m=\u001b[39m strassen_algorithm(c \u001b[39m+\u001b[39;49m d, e)\n\u001b[0;32m     <a href='vscode-notebook-cell:/c%3A/Users/anves/Documents/UML/COMP4040/Strassen%281%29.ipynb#X13sZmlsZQ%3D%3D?line=36'>37</a>\u001b[0m p4 \u001b[39m=\u001b[39m strassen_algorithm(d, g \u001b[39m-\u001b[39m e)\n\u001b[0;32m     <a href='vscode-notebook-cell:/c%3A/Users/anves/Documents/UML/COMP4040/Strassen%281%29.ipynb#X13sZmlsZQ%3D%3D?line=37'>38</a>\u001b[0m p5 \u001b[39m=\u001b[39m strassen_algorithm(a \u001b[39m+\u001b[39m d, e \u001b[39m+\u001b[39m h)\n",
      "\u001b[1;32mc:\\Users\\anves\\Documents\\UML\\COMP4040\\Strassen(1).ipynb Cell 11\u001b[0m in \u001b[0;36mstrassen_algorithm\u001b[1;34m(A, B)\u001b[0m\n\u001b[0;32m     <a href='vscode-notebook-cell:/c%3A/Users/anves/Documents/UML/COMP4040/Strassen%281%29.ipynb#X13sZmlsZQ%3D%3D?line=36'>37</a>\u001b[0m p4 \u001b[39m=\u001b[39m strassen_algorithm(d, g \u001b[39m-\u001b[39m e)\n\u001b[0;32m     <a href='vscode-notebook-cell:/c%3A/Users/anves/Documents/UML/COMP4040/Strassen%281%29.ipynb#X13sZmlsZQ%3D%3D?line=37'>38</a>\u001b[0m p5 \u001b[39m=\u001b[39m strassen_algorithm(a \u001b[39m+\u001b[39m d, e \u001b[39m+\u001b[39m h)\n\u001b[1;32m---> <a href='vscode-notebook-cell:/c%3A/Users/anves/Documents/UML/COMP4040/Strassen%281%29.ipynb#X13sZmlsZQ%3D%3D?line=38'>39</a>\u001b[0m p6 \u001b[39m=\u001b[39m strassen_algorithm(b \u001b[39m-\u001b[39;49m d, g \u001b[39m+\u001b[39;49m h)\n\u001b[0;32m     <a href='vscode-notebook-cell:/c%3A/Users/anves/Documents/UML/COMP4040/Strassen%281%29.ipynb#X13sZmlsZQ%3D%3D?line=39'>40</a>\u001b[0m p7 \u001b[39m=\u001b[39m strassen_algorithm(a \u001b[39m-\u001b[39m c, e \u001b[39m+\u001b[39m f)\n\u001b[0;32m     <a href='vscode-notebook-cell:/c%3A/Users/anves/Documents/UML/COMP4040/Strassen%281%29.ipynb#X13sZmlsZQ%3D%3D?line=40'>41</a>\u001b[0m C \u001b[39m=\u001b[39m np\u001b[39m.\u001b[39mzeros((\u001b[39m2\u001b[39m \u001b[39m*\u001b[39m m, \u001b[39m2\u001b[39m \u001b[39m*\u001b[39m m), dtype\u001b[39m=\u001b[39mnp\u001b[39m.\u001b[39mint64)\n",
      "\u001b[1;32mc:\\Users\\anves\\Documents\\UML\\COMP4040\\Strassen(1).ipynb Cell 11\u001b[0m in \u001b[0;36mstrassen_algorithm\u001b[1;34m(A, B)\u001b[0m\n\u001b[0;32m     <a href='vscode-notebook-cell:/c%3A/Users/anves/Documents/UML/COMP4040/Strassen%281%29.ipynb#X13sZmlsZQ%3D%3D?line=32'>33</a>\u001b[0m h \u001b[39m=\u001b[39m B[m:, m:]\n\u001b[0;32m     <a href='vscode-notebook-cell:/c%3A/Users/anves/Documents/UML/COMP4040/Strassen%281%29.ipynb#X13sZmlsZQ%3D%3D?line=33'>34</a>\u001b[0m p1 \u001b[39m=\u001b[39m strassen_algorithm(a, f \u001b[39m-\u001b[39m h) \u001b[39m# subproblems\u001b[39;00m\n\u001b[1;32m---> <a href='vscode-notebook-cell:/c%3A/Users/anves/Documents/UML/COMP4040/Strassen%281%29.ipynb#X13sZmlsZQ%3D%3D?line=34'>35</a>\u001b[0m p2 \u001b[39m=\u001b[39m strassen_algorithm(a \u001b[39m+\u001b[39;49m b, h)\n\u001b[0;32m     <a href='vscode-notebook-cell:/c%3A/Users/anves/Documents/UML/COMP4040/Strassen%281%29.ipynb#X13sZmlsZQ%3D%3D?line=35'>36</a>\u001b[0m p3 \u001b[39m=\u001b[39m strassen_algorithm(c \u001b[39m+\u001b[39m d, e)\n\u001b[0;32m     <a href='vscode-notebook-cell:/c%3A/Users/anves/Documents/UML/COMP4040/Strassen%281%29.ipynb#X13sZmlsZQ%3D%3D?line=36'>37</a>\u001b[0m p4 \u001b[39m=\u001b[39m strassen_algorithm(d, g \u001b[39m-\u001b[39m e)\n",
      "\u001b[1;32mc:\\Users\\anves\\Documents\\UML\\COMP4040\\Strassen(1).ipynb Cell 11\u001b[0m in \u001b[0;36mstrassen_algorithm\u001b[1;34m(A, B)\u001b[0m\n\u001b[0;32m     <a href='vscode-notebook-cell:/c%3A/Users/anves/Documents/UML/COMP4040/Strassen%281%29.ipynb#X13sZmlsZQ%3D%3D?line=31'>32</a>\u001b[0m g \u001b[39m=\u001b[39m B[m:, :m]\n\u001b[0;32m     <a href='vscode-notebook-cell:/c%3A/Users/anves/Documents/UML/COMP4040/Strassen%281%29.ipynb#X13sZmlsZQ%3D%3D?line=32'>33</a>\u001b[0m h \u001b[39m=\u001b[39m B[m:, m:]\n\u001b[1;32m---> <a href='vscode-notebook-cell:/c%3A/Users/anves/Documents/UML/COMP4040/Strassen%281%29.ipynb#X13sZmlsZQ%3D%3D?line=33'>34</a>\u001b[0m p1 \u001b[39m=\u001b[39m strassen_algorithm(a, f \u001b[39m-\u001b[39;49m h) \u001b[39m# subproblems\u001b[39;00m\n\u001b[0;32m     <a href='vscode-notebook-cell:/c%3A/Users/anves/Documents/UML/COMP4040/Strassen%281%29.ipynb#X13sZmlsZQ%3D%3D?line=34'>35</a>\u001b[0m p2 \u001b[39m=\u001b[39m strassen_algorithm(a \u001b[39m+\u001b[39m b, h)\n\u001b[0;32m     <a href='vscode-notebook-cell:/c%3A/Users/anves/Documents/UML/COMP4040/Strassen%281%29.ipynb#X13sZmlsZQ%3D%3D?line=35'>36</a>\u001b[0m p3 \u001b[39m=\u001b[39m strassen_algorithm(c \u001b[39m+\u001b[39m d, e)\n",
      "\u001b[1;32mc:\\Users\\anves\\Documents\\UML\\COMP4040\\Strassen(1).ipynb Cell 11\u001b[0m in \u001b[0;36mstrassen_algorithm\u001b[1;34m(A, B)\u001b[0m\n\u001b[0;32m     <a href='vscode-notebook-cell:/c%3A/Users/anves/Documents/UML/COMP4040/Strassen%281%29.ipynb#X13sZmlsZQ%3D%3D?line=35'>36</a>\u001b[0m p3 \u001b[39m=\u001b[39m strassen_algorithm(c \u001b[39m+\u001b[39m d, e)\n\u001b[0;32m     <a href='vscode-notebook-cell:/c%3A/Users/anves/Documents/UML/COMP4040/Strassen%281%29.ipynb#X13sZmlsZQ%3D%3D?line=36'>37</a>\u001b[0m p4 \u001b[39m=\u001b[39m strassen_algorithm(d, g \u001b[39m-\u001b[39m e)\n\u001b[1;32m---> <a href='vscode-notebook-cell:/c%3A/Users/anves/Documents/UML/COMP4040/Strassen%281%29.ipynb#X13sZmlsZQ%3D%3D?line=37'>38</a>\u001b[0m p5 \u001b[39m=\u001b[39m strassen_algorithm(a \u001b[39m+\u001b[39;49m d, e \u001b[39m+\u001b[39;49m h)\n\u001b[0;32m     <a href='vscode-notebook-cell:/c%3A/Users/anves/Documents/UML/COMP4040/Strassen%281%29.ipynb#X13sZmlsZQ%3D%3D?line=38'>39</a>\u001b[0m p6 \u001b[39m=\u001b[39m strassen_algorithm(b \u001b[39m-\u001b[39m d, g \u001b[39m+\u001b[39m h)\n\u001b[0;32m     <a href='vscode-notebook-cell:/c%3A/Users/anves/Documents/UML/COMP4040/Strassen%281%29.ipynb#X13sZmlsZQ%3D%3D?line=39'>40</a>\u001b[0m p7 \u001b[39m=\u001b[39m strassen_algorithm(a \u001b[39m-\u001b[39m c, e \u001b[39m+\u001b[39m f)\n",
      "\u001b[1;32mc:\\Users\\anves\\Documents\\UML\\COMP4040\\Strassen(1).ipynb Cell 11\u001b[0m in \u001b[0;36mstrassen_algorithm\u001b[1;34m(A, B)\u001b[0m\n\u001b[0;32m     <a href='vscode-notebook-cell:/c%3A/Users/anves/Documents/UML/COMP4040/Strassen%281%29.ipynb#X13sZmlsZQ%3D%3D?line=34'>35</a>\u001b[0m p2 \u001b[39m=\u001b[39m strassen_algorithm(a \u001b[39m+\u001b[39m b, h)\n\u001b[0;32m     <a href='vscode-notebook-cell:/c%3A/Users/anves/Documents/UML/COMP4040/Strassen%281%29.ipynb#X13sZmlsZQ%3D%3D?line=35'>36</a>\u001b[0m p3 \u001b[39m=\u001b[39m strassen_algorithm(c \u001b[39m+\u001b[39m d, e)\n\u001b[1;32m---> <a href='vscode-notebook-cell:/c%3A/Users/anves/Documents/UML/COMP4040/Strassen%281%29.ipynb#X13sZmlsZQ%3D%3D?line=36'>37</a>\u001b[0m p4 \u001b[39m=\u001b[39m strassen_algorithm(d, g \u001b[39m-\u001b[39;49m e)\n\u001b[0;32m     <a href='vscode-notebook-cell:/c%3A/Users/anves/Documents/UML/COMP4040/Strassen%281%29.ipynb#X13sZmlsZQ%3D%3D?line=37'>38</a>\u001b[0m p5 \u001b[39m=\u001b[39m strassen_algorithm(a \u001b[39m+\u001b[39m d, e \u001b[39m+\u001b[39m h)\n\u001b[0;32m     <a href='vscode-notebook-cell:/c%3A/Users/anves/Documents/UML/COMP4040/Strassen%281%29.ipynb#X13sZmlsZQ%3D%3D?line=38'>39</a>\u001b[0m p6 \u001b[39m=\u001b[39m strassen_algorithm(b \u001b[39m-\u001b[39m d, g \u001b[39m+\u001b[39m h)\n",
      "\u001b[1;32mc:\\Users\\anves\\Documents\\UML\\COMP4040\\Strassen(1).ipynb Cell 11\u001b[0m in \u001b[0;36mstrassen_algorithm\u001b[1;34m(A, B)\u001b[0m\n\u001b[0;32m     <a href='vscode-notebook-cell:/c%3A/Users/anves/Documents/UML/COMP4040/Strassen%281%29.ipynb#X13sZmlsZQ%3D%3D?line=34'>35</a>\u001b[0m p2 \u001b[39m=\u001b[39m strassen_algorithm(a \u001b[39m+\u001b[39m b, h)\n\u001b[0;32m     <a href='vscode-notebook-cell:/c%3A/Users/anves/Documents/UML/COMP4040/Strassen%281%29.ipynb#X13sZmlsZQ%3D%3D?line=35'>36</a>\u001b[0m p3 \u001b[39m=\u001b[39m strassen_algorithm(c \u001b[39m+\u001b[39m d, e)\n\u001b[1;32m---> <a href='vscode-notebook-cell:/c%3A/Users/anves/Documents/UML/COMP4040/Strassen%281%29.ipynb#X13sZmlsZQ%3D%3D?line=36'>37</a>\u001b[0m p4 \u001b[39m=\u001b[39m strassen_algorithm(d, g \u001b[39m-\u001b[39;49m e)\n\u001b[0;32m     <a href='vscode-notebook-cell:/c%3A/Users/anves/Documents/UML/COMP4040/Strassen%281%29.ipynb#X13sZmlsZQ%3D%3D?line=37'>38</a>\u001b[0m p5 \u001b[39m=\u001b[39m strassen_algorithm(a \u001b[39m+\u001b[39m d, e \u001b[39m+\u001b[39m h)\n\u001b[0;32m     <a href='vscode-notebook-cell:/c%3A/Users/anves/Documents/UML/COMP4040/Strassen%281%29.ipynb#X13sZmlsZQ%3D%3D?line=38'>39</a>\u001b[0m p6 \u001b[39m=\u001b[39m strassen_algorithm(b \u001b[39m-\u001b[39m d, g \u001b[39m+\u001b[39m h)\n",
      "\u001b[1;32mc:\\Users\\anves\\Documents\\UML\\COMP4040\\Strassen(1).ipynb Cell 11\u001b[0m in \u001b[0;36mstrassen_algorithm\u001b[1;34m(A, B)\u001b[0m\n\u001b[0;32m     <a href='vscode-notebook-cell:/c%3A/Users/anves/Documents/UML/COMP4040/Strassen%281%29.ipynb#X13sZmlsZQ%3D%3D?line=14'>15</a>\u001b[0m \u001b[39m# divide and conquer halting condition\u001b[39;00m\n\u001b[0;32m     <a href='vscode-notebook-cell:/c%3A/Users/anves/Documents/UML/COMP4040/Strassen%281%29.ipynb#X13sZmlsZQ%3D%3D?line=15'>16</a>\u001b[0m \u001b[39mif\u001b[39;00m A\u001b[39m.\u001b[39msize \u001b[39m==\u001b[39m \u001b[39m1\u001b[39m \u001b[39mor\u001b[39;00m B\u001b[39m.\u001b[39msize \u001b[39m==\u001b[39m \u001b[39m1\u001b[39m:\n\u001b[1;32m---> <a href='vscode-notebook-cell:/c%3A/Users/anves/Documents/UML/COMP4040/Strassen%281%29.ipynb#X13sZmlsZQ%3D%3D?line=16'>17</a>\u001b[0m     \u001b[39mreturn\u001b[39;00m A \u001b[39m*\u001b[39;49m B\n\u001b[0;32m     <a href='vscode-notebook-cell:/c%3A/Users/anves/Documents/UML/COMP4040/Strassen%281%29.ipynb#X13sZmlsZQ%3D%3D?line=18'>19</a>\u001b[0m n \u001b[39m=\u001b[39m A\u001b[39m.\u001b[39mshape[\u001b[39m0\u001b[39m]\n\u001b[0;32m     <a href='vscode-notebook-cell:/c%3A/Users/anves/Documents/UML/COMP4040/Strassen%281%29.ipynb#X13sZmlsZQ%3D%3D?line=19'>20</a>\u001b[0m \u001b[39m# Let's see if we need to pad\u001b[39;00m\n",
      "File \u001b[1;32mc:\\Users\\anves\\AppData\\Local\\Programs\\Python\\Python38\\lib\\site-packages\\numpy\\matrixlib\\defmatrix.py:218\u001b[0m, in \u001b[0;36mmatrix.__mul__\u001b[1;34m(self, other)\u001b[0m\n\u001b[0;32m    215\u001b[0m \u001b[39mdef\u001b[39;00m \u001b[39m__mul__\u001b[39m(\u001b[39mself\u001b[39m, other):\n\u001b[0;32m    216\u001b[0m     \u001b[39mif\u001b[39;00m \u001b[39misinstance\u001b[39m(other, (N\u001b[39m.\u001b[39mndarray, \u001b[39mlist\u001b[39m, \u001b[39mtuple\u001b[39m)) :\n\u001b[0;32m    217\u001b[0m         \u001b[39m# This promotes 1-D vectors to row vectors\u001b[39;00m\n\u001b[1;32m--> 218\u001b[0m         \u001b[39mreturn\u001b[39;00m N\u001b[39m.\u001b[39;49mdot(\u001b[39mself\u001b[39;49m, asmatrix(other))\n\u001b[0;32m    219\u001b[0m     \u001b[39mif\u001b[39;00m isscalar(other) \u001b[39mor\u001b[39;00m \u001b[39mnot\u001b[39;00m \u001b[39mhasattr\u001b[39m(other, \u001b[39m'\u001b[39m\u001b[39m__rmul__\u001b[39m\u001b[39m'\u001b[39m) :\n\u001b[0;32m    220\u001b[0m         \u001b[39mreturn\u001b[39;00m N\u001b[39m.\u001b[39mdot(\u001b[39mself\u001b[39m, other)\n",
      "File \u001b[1;32m<__array_function__ internals>:5\u001b[0m, in \u001b[0;36mdot\u001b[1;34m(*args, **kwargs)\u001b[0m\n",
      "\u001b[1;31mKeyboardInterrupt\u001b[0m: "
     ]
    }
   ],
   "source": [
    "strassen_algorithm(M_A, M_B)"
   ]
  },
  {
   "cell_type": "code",
   "execution_count": 12,
   "id": "c2b67d1e",
   "metadata": {
    "ExecuteTime": {
     "end_time": "2022-09-14T17:54:24.029416Z",
     "start_time": "2022-09-14T17:44:05.874170Z"
    }
   },
   "outputs": [
    {
     "ename": "KeyboardInterrupt",
     "evalue": "",
     "output_type": "error",
     "traceback": [
      "\u001b[1;31m---------------------------------------------------------------------------\u001b[0m",
      "\u001b[1;31mKeyboardInterrupt\u001b[0m                         Traceback (most recent call last)",
      "\u001b[1;32mc:\\Users\\anves\\Documents\\UML\\COMP4040\\Strassen(1).ipynb Cell 12\u001b[0m in \u001b[0;36m<cell line: 1>\u001b[1;34m()\u001b[0m\n\u001b[1;32m----> <a href='vscode-notebook-cell:/c%3A/Users/anves/Documents/UML/COMP4040/Strassen%281%29.ipynb#X14sZmlsZQ%3D%3D?line=0'>1</a>\u001b[0m multiply(M_A, M_B)\n",
      "\u001b[1;32mc:\\Users\\anves\\Documents\\UML\\COMP4040\\Strassen(1).ipynb Cell 12\u001b[0m in \u001b[0;36mmultiply\u001b[1;34m(A, B)\u001b[0m\n\u001b[0;32m     <a href='vscode-notebook-cell:/c%3A/Users/anves/Documents/UML/COMP4040/Strassen%281%29.ipynb#X14sZmlsZQ%3D%3D?line=17'>18</a>\u001b[0m     \u001b[39mfor\u001b[39;00m j \u001b[39min\u001b[39;00m \u001b[39mrange\u001b[39m(n):\n\u001b[0;32m     <a href='vscode-notebook-cell:/c%3A/Users/anves/Documents/UML/COMP4040/Strassen%281%29.ipynb#X14sZmlsZQ%3D%3D?line=18'>19</a>\u001b[0m         \u001b[39mfor\u001b[39;00m k \u001b[39min\u001b[39;00m \u001b[39mrange\u001b[39m(n):\n\u001b[1;32m---> <a href='vscode-notebook-cell:/c%3A/Users/anves/Documents/UML/COMP4040/Strassen%281%29.ipynb#X14sZmlsZQ%3D%3D?line=19'>20</a>\u001b[0m             C[i,j] \u001b[39m+\u001b[39m\u001b[39m=\u001b[39m A[i,k] \u001b[39m*\u001b[39m B[k,j]\n\u001b[0;32m     <a href='vscode-notebook-cell:/c%3A/Users/anves/Documents/UML/COMP4040/Strassen%281%29.ipynb#X14sZmlsZQ%3D%3D?line=20'>21</a>\u001b[0m \u001b[39mreturn\u001b[39;00m C\n",
      "\u001b[1;31mKeyboardInterrupt\u001b[0m: "
     ]
    }
   ],
   "source": [
    "multiply(M_A, M_B)"
   ]
  },
  {
   "cell_type": "code",
   "execution_count": null,
   "id": "ad101500",
   "metadata": {},
   "outputs": [],
   "source": []
  },
  {
   "cell_type": "code",
   "execution_count": null,
   "id": "11049576",
   "metadata": {},
   "outputs": [],
   "source": []
  }
 ],
 "metadata": {
  "kernelspec": {
   "display_name": "Python 3.8.6 64-bit",
   "language": "python",
   "name": "python3"
  },
  "language_info": {
   "codemirror_mode": {
    "name": "ipython",
    "version": 3
   },
   "file_extension": ".py",
   "mimetype": "text/x-python",
   "name": "python",
   "nbconvert_exporter": "python",
   "pygments_lexer": "ipython3",
   "version": "3.8.6"
  },
  "toc": {
   "base_numbering": 1,
   "nav_menu": {},
   "number_sections": true,
   "sideBar": true,
   "skip_h1_title": false,
   "title_cell": "Table of Contents",
   "title_sidebar": "Contents",
   "toc_cell": false,
   "toc_position": {},
   "toc_section_display": true,
   "toc_window_display": false
  },
  "varInspector": {
   "cols": {
    "lenName": 16,
    "lenType": 16,
    "lenVar": 40
   },
   "kernels_config": {
    "python": {
     "delete_cmd_postfix": "",
     "delete_cmd_prefix": "del ",
     "library": "var_list.py",
     "varRefreshCmd": "print(var_dic_list())"
    },
    "r": {
     "delete_cmd_postfix": ") ",
     "delete_cmd_prefix": "rm(",
     "library": "var_list.r",
     "varRefreshCmd": "cat(var_dic_list()) "
    }
   },
   "types_to_exclude": [
    "module",
    "function",
    "builtin_function_or_method",
    "instance",
    "_Feature"
   ],
   "window_display": false
  },
  "vscode": {
   "interpreter": {
    "hash": "e2cde104f4d18245c788b079dac12b495c585d850f7488bacbf703b0b6afa06c"
   }
  }
 },
 "nbformat": 4,
 "nbformat_minor": 5
}
