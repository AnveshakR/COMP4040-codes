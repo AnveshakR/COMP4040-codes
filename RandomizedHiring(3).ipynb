{
 "cells": [
  {
   "cell_type": "markdown",
   "id": "9424723c",
   "metadata": {},
   "source": [
    "# Randomized algorithm\n",
    "\n",
    "In the hiring problem, Alice could get lucky if the first person she inteviews is actually the best contractor, and she could also be so unlucky that the best contractor is the last person she interviews. This is the worst case which will cost Alice $c_i n + c_h(n-1)$ dollars.\n",
    "\n",
    "Anticipating the worst case could happen, she wonders if there is a way to make the worst case unlikely to happen.\n",
    "\n",
    "Can you think of a mechanism to do this?\n",
    "\n",
    "The answer is shuffling, namely, randomize the order of contractors she is going to interview, then follow the greedy hiring strategy. This is so called a randomized algorithm.\n",
    "\n",
    "The trouble is computers don't flip coins. How can a computer generate random numbers?\n",
    "\n",
    "The answer is to use a pseudorandom number generator (PRNG) to produce numbers that behave like they are randomly generated. PRNGs are deterministic algorithms with seed values, but you cannot predict what the next number would be even you know the history of all the numbers being generated so far, as long as you don't know the seed value. This is so called statistical randomness, namely, the sequence of numbers generated look random from the statistical point of view, even though they are deterministically generated.\n",
    "\n",
    "Does such a pseudorandom number generator exist?\n",
    "\n",
    "Unfortunately, we don't know. The good news is we do know that PRNGs exist under certain computational complexity assumption. On the other hand, we have many good candidates, including all kinds of encryption algorithms. Today, PRNGs come with any programming languages.\n",
    "\n",
    "The following PRNG is an early one due to Von Neumann in a 1949 talk. It's called the middle-square method. The following description is extracted from Wikipedia:\n",
    "\n",
    "``To generate a sequence of n-digit pseudorandom numbers, an n-digit starting value is created and squared, producing a 2n-digit number. If the result has fewer than 2n digits, leading zeroes are added to compensate. The middle n digits of the result would be the next number in the sequence and returned as the result. This process is then repeated to generate more numbers.\n",
    "\n",
    "The value of n must be even in order for the method to work – if the value of n is odd, then there will not necessarily be a uniquely defined \"middle n-digits\" to select from. Consider the following: If a 3-digit number is squared, it can yield a 6-digit number (e.g. 5402 = 291600). If there were to be middle 3 digits, that would leave 6 − 3 = 3 digits to be distributed to the left and right of the middle. It is impossible to evenly distribute these digits equally on both sides of the middle number, and therefore there are no \"middle digits\". It is acceptable to pad the seeds with zeros to the left in order to create an even valued n-digit number (e.g. 540 → 0540).\""
   ]
  },
  {
   "cell_type": "markdown",
   "id": "e89f7e0f",
   "metadata": {},
   "source": [
    "# Python implementation of the middle-square method\n",
    "\n",
    "This is a simple PRNG. Suppose we want to generate a sequence of $k$-digit pseudorandom numbers. \n",
    "Start with a seed value, which is a $k$-digit number. Square it, extract the middle $k$ digits, and convert it to a $k$-digit number. Repeat until there is no more new number that can be generated."
   ]
  },
  {
   "cell_type": "code",
   "execution_count": null,
   "id": "f23575fe",
   "metadata": {
    "ExecuteTime": {
     "end_time": "2022-09-20T18:51:17.158844Z",
     "start_time": "2022-09-20T18:51:17.148081Z"
    }
   },
   "outputs": [],
   "source": [
    "# Python implementation of the middle-square method\n",
    "\n",
    "def middleSquare(k=1):\n",
    "    seed_number = int(input(f\"Please enter a {k}-digit number: \"))\n",
    "    while len(str(seed_number)) != k:\n",
    "        print(f\"the input number is not {k} digits\")\n",
    "        seed_number = int(input(f\"Please enter a {k}-digit number:\"))\n",
    "    \n",
    "    number = seed_number\n",
    "    already_seen = set()\n",
    "    counter = 0\n",
    "\n",
    "    while number not in already_seen:\n",
    "        counter += 1\n",
    "        already_seen.add(number)\n",
    "        l = k - k//2 \n",
    "        r = k + k//2 + 1\n",
    "        number = int(str(number * number).zfill(2*k)[l:r])  # zfill adds padding of zeroes in front\n",
    "        if len(str(number)) == k:\n",
    "            print(f\"#{counter}: {number}\")\n",
    "    \n",
    "    print(f\"We began with {seed_number} and have repeated ourselves after {counter} steps with {number}.\")"
   ]
  },
  {
   "cell_type": "code",
   "execution_count": null,
   "id": "efad3ef4",
   "metadata": {
    "ExecuteTime": {
     "end_time": "2022-09-20T18:51:21.340432Z",
     "start_time": "2022-09-20T18:51:18.269012Z"
    }
   },
   "outputs": [],
   "source": [
    "middleSquare(3)"
   ]
  },
  {
   "cell_type": "code",
   "execution_count": null,
   "id": "4de21967",
   "metadata": {
    "ExecuteTime": {
     "end_time": "2022-09-20T18:51:37.676294Z",
     "start_time": "2022-09-20T18:51:33.379596Z"
    }
   },
   "outputs": [],
   "source": [
    "middleSquare(7)"
   ]
  },
  {
   "cell_type": "code",
   "execution_count": 1,
   "id": "ee8427cf",
   "metadata": {
    "ExecuteTime": {
     "end_time": "2022-09-18T15:28:46.174747Z",
     "start_time": "2022-09-18T15:28:46.168452Z"
    }
   },
   "outputs": [
    {
     "name": "stdout",
     "output_type": "stream",
     "text": [
      "000hel\n",
      "0000000000000000000welcome to the jungle\n",
      "000010.000\n"
     ]
    }
   ],
   "source": [
    "# practice on zfill()\n",
    "a = \"hello\"\n",
    "b = \"welcome to the jungle\"\n",
    "c = \"10.000\"\n",
    "\n",
    "print(a.zfill(10)[2:8])\n",
    "print(b.zfill(40))\n",
    "print(c.zfill(10))"
   ]
  },
  {
   "cell_type": "code",
   "execution_count": 2,
   "id": "02cb7472",
   "metadata": {
    "ExecuteTime": {
     "end_time": "2022-09-18T15:28:31.761468Z",
     "start_time": "2022-09-18T15:28:31.759419Z"
    }
   },
   "outputs": [
    {
     "name": "stdout",
     "output_type": "stream",
     "text": [
      "000000000000000hello\n"
     ]
    }
   ],
   "source": [
    "print(a.zfill(20))"
   ]
  },
  {
   "cell_type": "markdown",
   "id": "4605e7b9",
   "metadata": {},
   "source": [
    "# Random permutation\n",
    "\n",
    "Let A be an array of numbers. We can generate a random permutation for A shuffling it in the following way: swap A[i] with A[random(i)], where random is a PRNG."
   ]
  },
  {
   "cell_type": "code",
   "execution_count": null,
   "id": "ba8a20bd",
   "metadata": {
    "ExecuteTime": {
     "end_time": "2022-08-23T13:16:36.092502Z",
     "start_time": "2022-08-23T13:16:36.084640Z"
    }
   },
   "outputs": [],
   "source": [
    "import random\n",
    "\n",
    "A = [1,2,3,4,5,6,7,8,9]\n",
    "for i in range(9):\n",
    "    j = random.choice(range(9)) # generate an index between 0 and 8\n",
    "    A[i], A[j] = A[j], A[i] # swap A[i] and A[j]\n",
    "print(A)"
   ]
  },
  {
   "cell_type": "markdown",
   "id": "e25c9c18",
   "metadata": {},
   "source": [
    "# Final Remarks\n",
    "\n",
    "Randomized algorithms are often easier to implement but harder to analyze. This is also true for greedy algorithms."
   ]
  }
 ],
 "metadata": {
  "kernelspec": {
   "display_name": "Python 3.8.6 64-bit",
   "language": "python",
   "name": "python3"
  },
  "language_info": {
   "codemirror_mode": {
    "name": "ipython",
    "version": 3
   },
   "file_extension": ".py",
   "mimetype": "text/x-python",
   "name": "python",
   "nbconvert_exporter": "python",
   "pygments_lexer": "ipython3",
   "version": "3.8.6"
  },
  "toc": {
   "base_numbering": 1,
   "nav_menu": {},
   "number_sections": true,
   "sideBar": true,
   "skip_h1_title": false,
   "title_cell": "Table of Contents",
   "title_sidebar": "Contents",
   "toc_cell": false,
   "toc_position": {},
   "toc_section_display": true,
   "toc_window_display": false
  },
  "varInspector": {
   "cols": {
    "lenName": 16,
    "lenType": 16,
    "lenVar": 40
   },
   "kernels_config": {
    "python": {
     "delete_cmd_postfix": "",
     "delete_cmd_prefix": "del ",
     "library": "var_list.py",
     "varRefreshCmd": "print(var_dic_list())"
    },
    "r": {
     "delete_cmd_postfix": ") ",
     "delete_cmd_prefix": "rm(",
     "library": "var_list.r",
     "varRefreshCmd": "cat(var_dic_list()) "
    }
   },
   "types_to_exclude": [
    "module",
    "function",
    "builtin_function_or_method",
    "instance",
    "_Feature"
   ],
   "window_display": false
  },
  "vscode": {
   "interpreter": {
    "hash": "e2cde104f4d18245c788b079dac12b495c585d850f7488bacbf703b0b6afa06c"
   }
  }
 },
 "nbformat": 4,
 "nbformat_minor": 5
}
