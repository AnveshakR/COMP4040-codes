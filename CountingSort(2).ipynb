{
 "cells": [
  {
   "cell_type": "markdown",
   "id": "3fcc55c0",
   "metadata": {},
   "source": [
    "# Counting Sort\n",
    "\n",
    "Given a list $A$ of $n$ non-negative integers. If we know that these values are within a range of $(0,k)$ with $k = n + O(1)$ or even with $k = O(k)$, then we can sort $A$ without using comparisons. That is, we count the frequency of each integer in $A$, compute the total number of $y$'s in $A$ smaller than $x$ for each $x$ in $A$, and place $x$ on the correct position. This algorithm runs in $\\Theta(n)$ time with the help of additional counting memory space of size $k$ and an temporary memory space of size $n$ to hold the sorted numbers. "
   ]
  },
  {
   "cell_type": "code",
   "execution_count": 10,
   "id": "00e5c04b",
   "metadata": {
    "ExecuteTime": {
     "end_time": "2022-09-22T19:00:32.657220Z",
     "start_time": "2022-09-22T19:00:32.645393Z"
    }
   },
   "outputs": [],
   "source": [
    "def countingSort(A): \n",
    "    size = len(A)\n",
    "    k = max(A)\n",
    "    output = [0] * size\n",
    "    count = [0] * (k+1)\n",
    "    print(count)\n",
    "    \n",
    "    for j in range(size):\n",
    "        count[A[j]] += 1  \n",
    "    print(count)\n",
    "    # count[i] now contains the number of elements equal to i\n",
    "    \n",
    "    for i in range(1,k+1):\n",
    "        count[i] += count[i-1]\n",
    "    print(count)\n",
    "    # count[i] now contains the number of elements less than or equal to i\n",
    "    \n",
    "    # Find the index of each element of A in the count array\n",
    "    # place the elements in the output array\n",
    "    j = size - 1 # backward right to left to make sorting stable\n",
    "    while j >= 0:\n",
    "        output[count[A[j]] - 1] = A[j]\n",
    "        count[A[j]] -= 1\n",
    "        j -= 1\n",
    "    print(count)\n",
    "\n",
    "    return output"
   ]
  },
  {
   "cell_type": "code",
   "execution_count": 34,
   "id": "47b38b85",
   "metadata": {},
   "outputs": [],
   "source": [
    "def countingSort3(A):\n",
    "    k = 0\n",
    "    size = len(A)\n",
    "\n",
    "    for i in range(size): # finds the largest number in the array\n",
    "        if A[i] > k:\n",
    "            k = A[i]\n",
    "\n",
    "    count = [0] * (k + 1) # creates an array of size k, i.e. the largest number\n",
    "\n",
    "    for i in A: # iterates over the loop and counts the number of times each number has appeared, and increments the corresponding indice\n",
    "        count[i] += 1\n",
    "\n",
    "    i = 0\n",
    "    for j in reversed(range(k + 1)): # iterates over the loop in a reverse order \n",
    "        for a in range(count[j]):\n",
    "            A[i] = j\n",
    "            i += 1\n",
    "\n",
    "    return A"
   ]
  },
  {
   "cell_type": "code",
   "execution_count": 36,
   "id": "6665add6",
   "metadata": {
    "ExecuteTime": {
     "end_time": "2022-09-22T19:00:10.455346Z",
     "start_time": "2022-09-22T19:00:10.450447Z"
    }
   },
   "outputs": [
    {
     "name": "stdout",
     "output_type": "stream",
     "text": [
      "[0, 0, 0, 0, 0, 0, 0, 0]\n",
      "[2, 2, 3, 2, 2, 2, 1, 1]\n",
      "[7, 6, 5, 5, 4, 4, 3, 3, 2, 2, 2, 1, 1, 0, 0]\n"
     ]
    }
   ],
   "source": [
    "def main():\n",
    "    A = [2, 1, 3, 4, 0, 5, 3, 2, 7, 1, 0, 5, 6, 4, 2]\n",
    "    print(countingSort3(A))\n",
    "\n",
    "main()"
   ]
  },
  {
   "cell_type": "code",
   "execution_count": null,
   "id": "ef4443e9",
   "metadata": {},
   "outputs": [],
   "source": []
  }
 ],
 "metadata": {
  "kernelspec": {
   "display_name": "Python 3.8.6 64-bit",
   "language": "python",
   "name": "python3"
  },
  "language_info": {
   "codemirror_mode": {
    "name": "ipython",
    "version": 3
   },
   "file_extension": ".py",
   "mimetype": "text/x-python",
   "name": "python",
   "nbconvert_exporter": "python",
   "pygments_lexer": "ipython3",
   "version": "3.8.6"
  },
  "toc": {
   "base_numbering": 1,
   "nav_menu": {},
   "number_sections": true,
   "sideBar": true,
   "skip_h1_title": false,
   "title_cell": "Table of Contents",
   "title_sidebar": "Contents",
   "toc_cell": false,
   "toc_position": {},
   "toc_section_display": true,
   "toc_window_display": false
  },
  "varInspector": {
   "cols": {
    "lenName": 16,
    "lenType": 16,
    "lenVar": 40
   },
   "kernels_config": {
    "python": {
     "delete_cmd_postfix": "",
     "delete_cmd_prefix": "del ",
     "library": "var_list.py",
     "varRefreshCmd": "print(var_dic_list())"
    },
    "r": {
     "delete_cmd_postfix": ") ",
     "delete_cmd_prefix": "rm(",
     "library": "var_list.r",
     "varRefreshCmd": "cat(var_dic_list()) "
    }
   },
   "types_to_exclude": [
    "module",
    "function",
    "builtin_function_or_method",
    "instance",
    "_Feature"
   ],
   "window_display": false
  },
  "vscode": {
   "interpreter": {
    "hash": "e2cde104f4d18245c788b079dac12b495c585d850f7488bacbf703b0b6afa06c"
   }
  }
 },
 "nbformat": 4,
 "nbformat_minor": 5
}
