{
 "cells": [
  {
   "cell_type": "markdown",
   "id": "bf1fca74",
   "metadata": {},
   "source": [
    "# Longest Common Subsequence\n",
    "\n",
    "Given a sequence $X[1..n] = \\langle x_1, x_2, \\ldots, x_n\\rangle$, then $\\langle x_{i_1}, x_{i_2}, \\ldots, x_{i_k}\\rangle$ is a subsequence of $X$ with $1 \\leq i_1 < i_2 < \\cdots < i_k \\leq n$. Given two sequences $X$ and $Y$, a longest common subsequence (LCS) $Z$ is a subsequence of both $X$ and $Y$ and for any common subsequence $Z'$ of $X$ and $Y$, we have $|Z'| \\leq |Z|$.\n",
    "\n",
    "How do we find a LCS of $X$ and $Y$?\n",
    "\n",
    "Let's formulate the problem and seek if there is a recurrence relation that can describe the soluton to the problem through solutions to subproblems.Let $X[i..j]$ denote $\\langle x_i, \\ldots, x_j\\rangle$. Let $X = X[1..m]$ and $Y=Y[1..n]$. Denote by $X[i..j]$ the substring $x_i \\cdots x_j$. We first compute the length of the LCS then augment LCS to construct a LCS. \n",
    "\n",
    "Let $LCS(i,j)$ denote the length of the LCS of $X[1..i]$ and $Y[1..j]$. Then $LCS(m,n)$ is the length of an LCS of $X$ and $Y$. We have the following recurrence relation:\n",
    "$$\n",
    "LCS(i,j) = \\left\\{\n",
    "\\begin{array}{ll}\n",
    "LCS(i-1,j-1) + 1, & \\mbox{if $i > 0$, $j > 0$, and $x_i = y_j$,} \\\\\n",
    "\\max\\{LCS(i-1, j), LCS(i,j-1)\\}, & \\mbox{if $i>0$, $j>0$, and $x_i \\not= y_j$} \\\\\n",
    "0, & \\mbox{if $i=0$ or $j=0$.}\n",
    "\\end{array}\n",
    "\\right.\n",
    "$$"
   ]
  },
  {
   "cell_type": "markdown",
   "id": "c64589af",
   "metadata": {},
   "source": [
    "# A Naive Implementation of Recurrsion"
   ]
  },
  {
   "cell_type": "code",
   "execution_count": 2,
   "id": "e765e141",
   "metadata": {
    "ExecuteTime": {
     "end_time": "2022-08-31T00:36:40.601335Z",
     "start_time": "2022-08-31T00:36:16.322991Z"
    }
   },
   "outputs": [
    {
     "ename": "KeyboardInterrupt",
     "evalue": "",
     "output_type": "error",
     "traceback": [
      "\u001b[1;31m---------------------------------------------------------------------------\u001b[0m",
      "\u001b[1;31mKeyboardInterrupt\u001b[0m                         Traceback (most recent call last)",
      "\u001b[1;32mc:\\Users\\anves\\Documents\\UML\\COMP4040\\LCS.ipynb Cell 3\u001b[0m in \u001b[0;36m<cell line: 12>\u001b[1;34m()\u001b[0m\n\u001b[0;32m     <a href='vscode-notebook-cell:/c%3A/Users/anves/Documents/UML/COMP4040/LCS.ipynb#W2sZmlsZQ%3D%3D?line=9'>10</a>\u001b[0m X \u001b[39m=\u001b[39m \u001b[39m\"\u001b[39m\u001b[39mAGGTDACTABCGLAGLADB\u001b[39m\u001b[39m\"\u001b[39m\n\u001b[0;32m     <a href='vscode-notebook-cell:/c%3A/Users/anves/Documents/UML/COMP4040/LCS.ipynb#W2sZmlsZQ%3D%3D?line=10'>11</a>\u001b[0m Y \u001b[39m=\u001b[39m \u001b[39m\"\u001b[39m\u001b[39mGXTACBCACGLACGCGBA\u001b[39m\u001b[39m\"\u001b[39m\n\u001b[1;32m---> <a href='vscode-notebook-cell:/c%3A/Users/anves/Documents/UML/COMP4040/LCS.ipynb#W2sZmlsZQ%3D%3D?line=11'>12</a>\u001b[0m \u001b[39mprint\u001b[39m(\u001b[39m\"\u001b[39m\u001b[39mLength of LCS is \u001b[39m\u001b[39m\"\u001b[39m, lcs(X, Y, \u001b[39mlen\u001b[39;49m(X), \u001b[39mlen\u001b[39;49m(Y)))\n",
      "\u001b[1;32mc:\\Users\\anves\\Documents\\UML\\COMP4040\\LCS.ipynb Cell 3\u001b[0m in \u001b[0;36mlcs\u001b[1;34m(X, Y, i, j)\u001b[0m\n\u001b[0;32m      <a href='vscode-notebook-cell:/c%3A/Users/anves/Documents/UML/COMP4040/LCS.ipynb#W2sZmlsZQ%3D%3D?line=4'>5</a>\u001b[0m     \u001b[39mreturn\u001b[39;00m \u001b[39m1\u001b[39m \u001b[39m+\u001b[39m lcs(X, Y, i\u001b[39m-\u001b[39m\u001b[39m1\u001b[39m, j\u001b[39m-\u001b[39m\u001b[39m1\u001b[39m)\n\u001b[0;32m      <a href='vscode-notebook-cell:/c%3A/Users/anves/Documents/UML/COMP4040/LCS.ipynb#W2sZmlsZQ%3D%3D?line=5'>6</a>\u001b[0m \u001b[39melse\u001b[39;00m:\n\u001b[1;32m----> <a href='vscode-notebook-cell:/c%3A/Users/anves/Documents/UML/COMP4040/LCS.ipynb#W2sZmlsZQ%3D%3D?line=6'>7</a>\u001b[0m     \u001b[39mreturn\u001b[39;00m \u001b[39mmax\u001b[39m(lcs(X, Y, i, j\u001b[39m-\u001b[39m\u001b[39m1\u001b[39m), lcs(X, Y, i\u001b[39m-\u001b[39;49m\u001b[39m1\u001b[39;49m, j))\n",
      "\u001b[1;32mc:\\Users\\anves\\Documents\\UML\\COMP4040\\LCS.ipynb Cell 3\u001b[0m in \u001b[0;36mlcs\u001b[1;34m(X, Y, i, j)\u001b[0m\n\u001b[0;32m      <a href='vscode-notebook-cell:/c%3A/Users/anves/Documents/UML/COMP4040/LCS.ipynb#W2sZmlsZQ%3D%3D?line=4'>5</a>\u001b[0m     \u001b[39mreturn\u001b[39;00m \u001b[39m1\u001b[39m \u001b[39m+\u001b[39m lcs(X, Y, i\u001b[39m-\u001b[39m\u001b[39m1\u001b[39m, j\u001b[39m-\u001b[39m\u001b[39m1\u001b[39m)\n\u001b[0;32m      <a href='vscode-notebook-cell:/c%3A/Users/anves/Documents/UML/COMP4040/LCS.ipynb#W2sZmlsZQ%3D%3D?line=5'>6</a>\u001b[0m \u001b[39melse\u001b[39;00m:\n\u001b[1;32m----> <a href='vscode-notebook-cell:/c%3A/Users/anves/Documents/UML/COMP4040/LCS.ipynb#W2sZmlsZQ%3D%3D?line=6'>7</a>\u001b[0m     \u001b[39mreturn\u001b[39;00m \u001b[39mmax\u001b[39m(lcs(X, Y, i, j\u001b[39m-\u001b[39;49m\u001b[39m1\u001b[39;49m), lcs(X, Y, i\u001b[39m-\u001b[39m\u001b[39m1\u001b[39m, j))\n",
      "    \u001b[1;31m[... skipping similar frames: lcs at line 7 (32 times)]\u001b[0m\n",
      "\u001b[1;32mc:\\Users\\anves\\Documents\\UML\\COMP4040\\LCS.ipynb Cell 3\u001b[0m in \u001b[0;36mlcs\u001b[1;34m(X, Y, i, j)\u001b[0m\n\u001b[0;32m      <a href='vscode-notebook-cell:/c%3A/Users/anves/Documents/UML/COMP4040/LCS.ipynb#W2sZmlsZQ%3D%3D?line=4'>5</a>\u001b[0m     \u001b[39mreturn\u001b[39;00m \u001b[39m1\u001b[39m \u001b[39m+\u001b[39m lcs(X, Y, i\u001b[39m-\u001b[39m\u001b[39m1\u001b[39m, j\u001b[39m-\u001b[39m\u001b[39m1\u001b[39m)\n\u001b[0;32m      <a href='vscode-notebook-cell:/c%3A/Users/anves/Documents/UML/COMP4040/LCS.ipynb#W2sZmlsZQ%3D%3D?line=5'>6</a>\u001b[0m \u001b[39melse\u001b[39;00m:\n\u001b[1;32m----> <a href='vscode-notebook-cell:/c%3A/Users/anves/Documents/UML/COMP4040/LCS.ipynb#W2sZmlsZQ%3D%3D?line=6'>7</a>\u001b[0m     \u001b[39mreturn\u001b[39;00m \u001b[39mmax\u001b[39;49m(lcs(X, Y, i, j\u001b[39m-\u001b[39m\u001b[39m1\u001b[39m), lcs(X, Y, i\u001b[39m-\u001b[39m\u001b[39m1\u001b[39m, j))\n",
      "\u001b[1;31mKeyboardInterrupt\u001b[0m: "
     ]
    }
   ],
   "source": [
    "def lcs(X, Y, i, j):\n",
    "    if i == 0 or j == 0:\n",
    "        return 0\n",
    "    elif X[i-1] == Y[j-1]:\n",
    "        return 1 + lcs(X, Y, i-1, j-1)\n",
    "    else:\n",
    "        return max(lcs(X, Y, i, j-1), lcs(X, Y, i-1, j))\n",
    "\n",
    "# Driver program to test the above function\n",
    "X = \"AGGTDACTABCGLAGLADB\"\n",
    "Y = \"GXTACBCACGLACGCGBA\"\n",
    "print(\"Length of LCS is \", lcs(X, Y, len(X), len(Y)))"
   ]
  },
  {
   "cell_type": "markdown",
   "id": "c561a649",
   "metadata": {},
   "source": [
    "# Complexity Analysis of Naive Recursion\n",
    "\n",
    "Let $T(i,j)$ be the number of steps to compute $LCS(i,j)$. Then \n",
    "$$\n",
    "T(i,j) = \\left\\{\n",
    "\\begin{array}{ll}\n",
    "T(i-1,j-1) + 1, & \\mbox{if $i,j> 0$ and $x_i = y_j$,}  \\\\\n",
    "T(i, j-1) + T(i-1, j), & \\mbox{if $i,j>0$ and $x_i \\not= y_j$,} \\\\\n",
    "1, & \\mbox{if $i=0$ or $j=0$}\n",
    "\\end{array}\n",
    "\\right.\n",
    "$$\n",
    "In the extreme case that the LCS of $X$ and $Y$ is 0, namely, for all $i$ and $j$, $x_i \\not= y_j$, then\n",
    "$T(m,n) = T(m,n-1) + T(m-1,n) > 2T(m-1,n-1) > 2^2T(m-2,n-2) > \\cdots > 2^kT(m-k,n-k)$. Assume that\n",
    "$m = n$, then $T(n,n) > 2^kT(n-k,n-k)$. When $n-k = 0$, we have $T(0,0) = 1$ and $k = n$. Hence,\n",
    "$T(n,n) > 2^n$."
   ]
  },
  {
   "cell_type": "markdown",
   "id": "e813c9a5",
   "metadata": {},
   "source": [
    "# DP Memoization"
   ]
  },
  {
   "cell_type": "code",
   "execution_count": 3,
   "id": "7520343e",
   "metadata": {
    "ExecuteTime": {
     "end_time": "2022-08-31T01:01:35.497560Z",
     "start_time": "2022-08-31T01:01:35.489421Z"
    }
   },
   "outputs": [],
   "source": [
    "def memoized_lcs(X, Y, i, j, memo):\n",
    "    if memo[i][j] >= 0:\n",
    "        return memo[i][j]\n",
    "    if i == 0 or j == 0:\n",
    "        v = 0\n",
    "    elif X[i-1] == Y[j-1]:\n",
    "        v = 1 + memoized_lcs(X, Y, i-1, j-1, memo) \n",
    "    else:\n",
    "        v = max(memoized_lcs(X, Y, i, j-1, memo), memoized_lcs(X, Y, i-1, j, memo))\n",
    "    memo[i][j] = v\n",
    "    return v\n"
   ]
  },
  {
   "cell_type": "code",
   "execution_count": 4,
   "id": "988cbdd2",
   "metadata": {
    "ExecuteTime": {
     "end_time": "2022-08-31T01:03:28.603834Z",
     "start_time": "2022-08-31T01:03:28.595842Z"
    }
   },
   "outputs": [
    {
     "name": "stdout",
     "output_type": "stream",
     "text": [
      "Length of LCS is  11\n"
     ]
    }
   ],
   "source": [
    "# Driver program to test the above function\n",
    "X = \"AGGTDACTABCGLAGLADB\"\n",
    "Y = \"GXTACBCACGLACGCGBA\"\n",
    "m = len(X)\n",
    "n = len(Y)\n",
    "memo = [[-1] * (n + 1) for i in range(m+1)]\n",
    "print(\"Length of LCS is \", memoized_lcs(X, Y, m, n, memo))"
   ]
  },
  {
   "cell_type": "markdown",
   "id": "ef20eb60",
   "metadata": {},
   "source": [
    "# DP Bottom Up"
   ]
  },
  {
   "cell_type": "code",
   "execution_count": 5,
   "id": "54780283",
   "metadata": {
    "ExecuteTime": {
     "end_time": "2022-08-31T00:51:27.262664Z",
     "start_time": "2022-08-31T00:51:27.252303Z"
    }
   },
   "outputs": [],
   "source": [
    "def bottom_up_lcs(X, Y):\n",
    "    # find the length of the strings\n",
    "    m = len(X)\n",
    "    n = len(Y)\n",
    " \n",
    "    # declaring the array for storing the dp values\n",
    "    L = [[None]*(n + 1) for i in range(m + 1)]\n",
    " \n",
    "    for i in range(m + 1):\n",
    "        for j in range(n + 1):\n",
    "            if i == 0 or j == 0 :\n",
    "                L[i][j] = 0\n",
    "            elif X[i-1] == Y[j-1]:\n",
    "                L[i][j] = L[i-1][j-1]+1\n",
    "            else:\n",
    "                L[i][j] = max(L[i-1][j], L[i][j-1])\n",
    " \n",
    "    # L[m][n] contains the length of LCS of X[0..n-1] & Y[0..m-1]\n",
    "    return L[m][n]\n",
    "# end of function lcs"
   ]
  },
  {
   "cell_type": "code",
   "execution_count": 6,
   "id": "81d2e1db",
   "metadata": {
    "ExecuteTime": {
     "end_time": "2022-08-31T00:51:28.278313Z",
     "start_time": "2022-08-31T00:51:28.273140Z"
    }
   },
   "outputs": [
    {
     "name": "stdout",
     "output_type": "stream",
     "text": [
      "Length of LCS is  11\n"
     ]
    }
   ],
   "source": [
    "# Driver program to test the above function\n",
    "X = \"AGGTDACTABCGLAGLADB\"\n",
    "Y = \"GXTACBCACGLACGCGBA\"\n",
    "print(\"Length of LCS is \", bottom_up_lcs(X, Y))"
   ]
  },
  {
   "cell_type": "markdown",
   "id": "df441089",
   "metadata": {},
   "source": [
    "# Complexity Analysis of DP Approach\n",
    "\n",
    "There are $mn$ different subproblems and the recurrence relation relies on at most two subproblems. Then, the time complexity is at most $2mn +O(1) = O(mn)$."
   ]
  },
  {
   "cell_type": "markdown",
   "id": "0ede2c5c",
   "metadata": {},
   "source": [
    "# Construct an LCS\n",
    "\n",
    "We would need to remember which case is encountered in each recurrence step. There are three cases: up for $(i-1, j)$, upleft for $(i-1, j-1)$, and left for $(i,j-1)$. Let $P[1..m, 1..n]$ store the case."
   ]
  },
  {
   "cell_type": "code",
   "execution_count": 7,
   "id": "d5801005",
   "metadata": {
    "ExecuteTime": {
     "end_time": "2022-08-31T01:34:49.791942Z",
     "start_time": "2022-08-31T01:34:49.784011Z"
    }
   },
   "outputs": [],
   "source": [
    "def bottom_up_lcs_path(X, Y):\n",
    "    # find the length of the strings\n",
    "    m = len(X)\n",
    "    n = len(Y)\n",
    " \n",
    "    # declaring the array for storing the dp values\n",
    "    L = [[None]*(n + 1) for i in range(m + 1)]\n",
    "    P = [[0]*(n + 1) for i in range(m + 1)]\n",
    "    for i in range(m + 1):\n",
    "        L[i][0] = 0\n",
    "    for j in range(n + 1):\n",
    "        L[0][j] = 0\n",
    "    for i in range(1, m + 1):\n",
    "        for j in range(1, n + 1):\n",
    "            if X[i-1] == Y[j-1]:\n",
    "                L[i][j] = L[i-1][j-1]+1\n",
    "                P[i][j] = \"upleft\"\n",
    "            elif L[i-1][j] >= L[i][j-1]: \n",
    "                L[i][j] = L[i-1][j]\n",
    "                P[i][j] = \"up\"\n",
    "            else:\n",
    "                L[i][j] = L[i][j-1]\n",
    "                P[i][j] = \"left\"\n",
    "    return L[m][n], P"
   ]
  },
  {
   "cell_type": "code",
   "execution_count": 8,
   "id": "dae3a614",
   "metadata": {
    "ExecuteTime": {
     "end_time": "2022-08-31T01:34:50.502326Z",
     "start_time": "2022-08-31T01:34:50.495462Z"
    }
   },
   "outputs": [
    {
     "name": "stdout",
     "output_type": "stream",
     "text": [
      "Length of LCS is  11\n",
      "Path of LCS is  [[0, 0, 0, 0, 0, 0, 0, 0, 0, 0, 0, 0, 0, 0, 0, 0, 0, 0, 0], [0, 'up', 'up', 'up', 'upleft', 'left', 'left', 'left', 'upleft', 'left', 'left', 'left', 'upleft', 'left', 'left', 'left', 'left', 'left', 'upleft'], [0, 'upleft', 'left', 'left', 'up', 'up', 'up', 'up', 'up', 'up', 'upleft', 'left', 'left', 'left', 'upleft', 'left', 'upleft', 'left', 'left'], [0, 'upleft', 'up', 'up', 'up', 'up', 'up', 'up', 'up', 'up', 'upleft', 'up', 'up', 'up', 'upleft', 'left', 'upleft', 'left', 'left'], [0, 'up', 'up', 'upleft', 'left', 'left', 'left', 'left', 'left', 'left', 'up', 'up', 'up', 'up', 'up', 'up', 'up', 'up', 'up'], [0, 'up', 'up', 'up', 'up', 'up', 'up', 'up', 'up', 'up', 'up', 'up', 'up', 'up', 'up', 'up', 'up', 'up', 'up'], [0, 'up', 'up', 'up', 'upleft', 'left', 'left', 'left', 'upleft', 'left', 'left', 'left', 'upleft', 'left', 'up', 'up', 'up', 'up', 'upleft'], [0, 'up', 'up', 'up', 'up', 'upleft', 'left', 'upleft', 'left', 'upleft', 'left', 'left', 'left', 'upleft', 'left', 'upleft', 'left', 'left', 'up'], [0, 'up', 'up', 'upleft', 'up', 'up', 'up', 'up', 'up', 'up', 'up', 'up', 'up', 'up', 'up', 'up', 'up', 'up', 'up'], [0, 'up', 'up', 'up', 'upleft', 'up', 'up', 'up', 'upleft', 'left', 'left', 'left', 'upleft', 'left', 'left', 'left', 'left', 'left', 'upleft'], [0, 'up', 'up', 'up', 'up', 'up', 'upleft', 'left', 'up', 'up', 'up', 'up', 'up', 'up', 'up', 'up', 'up', 'upleft', 'left'], [0, 'up', 'up', 'up', 'up', 'upleft', 'up', 'upleft', 'left', 'upleft', 'left', 'left', 'left', 'upleft', 'left', 'upleft', 'left', 'up', 'up'], [0, 'upleft', 'up', 'up', 'up', 'up', 'up', 'up', 'up', 'up', 'upleft', 'left', 'left', 'left', 'upleft', 'left', 'upleft', 'left', 'left'], [0, 'up', 'up', 'up', 'up', 'up', 'up', 'up', 'up', 'up', 'up', 'upleft', 'left', 'left', 'left', 'left', 'left', 'left', 'left'], [0, 'up', 'up', 'up', 'upleft', 'up', 'up', 'up', 'upleft', 'left', 'up', 'up', 'upleft', 'left', 'left', 'left', 'left', 'left', 'upleft'], [0, 'upleft', 'up', 'up', 'up', 'up', 'up', 'up', 'up', 'up', 'upleft', 'up', 'up', 'up', 'upleft', 'left', 'upleft', 'left', 'left'], [0, 'up', 'up', 'up', 'up', 'up', 'up', 'up', 'up', 'up', 'up', 'upleft', 'up', 'up', 'up', 'up', 'up', 'up', 'up'], [0, 'up', 'up', 'up', 'upleft', 'up', 'up', 'up', 'upleft', 'up', 'up', 'up', 'upleft', 'left', 'up', 'up', 'up', 'up', 'upleft'], [0, 'up', 'up', 'up', 'up', 'up', 'up', 'up', 'up', 'up', 'up', 'up', 'up', 'up', 'up', 'up', 'up', 'up', 'up'], [0, 'up', 'up', 'up', 'up', 'up', 'upleft', 'up', 'up', 'up', 'up', 'up', 'up', 'up', 'up', 'up', 'up', 'upleft', 'up']]\n"
     ]
    }
   ],
   "source": [
    "# Driver program to test the above function\n",
    "X = \"AGGTDACTABCGLAGLADB\"\n",
    "Y = \"GXTACBCACGLACGCGBA\"\n",
    "print(\"Length of LCS is \", bottom_up_lcs_path(X, Y)[0])\n",
    "print(\"Path of LCS is \", bottom_up_lcs_path(X, Y)[1])"
   ]
  },
  {
   "cell_type": "code",
   "execution_count": 9,
   "id": "0944e4d1",
   "metadata": {
    "ExecuteTime": {
     "end_time": "2022-08-31T01:40:45.314024Z",
     "start_time": "2022-08-31T01:40:45.308549Z"
    }
   },
   "outputs": [
    {
     "name": "stdout",
     "output_type": "stream",
     "text": [
      "Length of LCS is  4\n",
      "Path of LCS is  [[0, 0, 0, 0, 0, 0, 0], [0, 'up', 'up', 'up', 'upleft', 'left', 'upleft'], [0, 'upleft', 'left', 'left', 'up', 'upleft', 'left'], [0, 'up', 'up', 'upleft', 'left', 'up', 'up'], [0, 'upleft', 'up', 'up', 'up', 'upleft', 'left'], [0, 'up', 'upleft', 'up', 'up', 'up', 'up'], [0, 'up', 'up', 'up', 'upleft', 'up', 'upleft'], [0, 'upleft', 'up', 'up', 'up', 'upleft', 'up']]\n"
     ]
    }
   ],
   "source": [
    "# Driver program to test the above function\n",
    "X = \"ABCBDAB\"\n",
    "Y = \"BDCABA\"\n",
    "print(\"Length of LCS is \", bottom_up_lcs_path(X, Y)[0])\n",
    "print(\"Path of LCS is \", bottom_up_lcs_path(X, Y)[1])\n"
   ]
  },
  {
   "cell_type": "code",
   "execution_count": 10,
   "id": "ce65a609",
   "metadata": {
    "ExecuteTime": {
     "end_time": "2022-08-31T01:42:40.843461Z",
     "start_time": "2022-08-31T01:42:40.836661Z"
    }
   },
   "outputs": [],
   "source": [
    "def print_lcs(P, X, i, j):\n",
    "    if i == 0 or j == 0:\n",
    "        return\n",
    "    if P[i][j] == \"upleft\":\n",
    "        print_lcs(P, X, i - 1, j - 1)\n",
    "        print(X[i-1])\n",
    "    elif P[i][j] == \"up\":\n",
    "        print_lcs(P, X, i - 1, j)\n",
    "    else:\n",
    "        print_lcs(P, X, i, j - 1)"
   ]
  },
  {
   "cell_type": "code",
   "execution_count": 11,
   "id": "ff437a3d",
   "metadata": {
    "ExecuteTime": {
     "end_time": "2022-08-31T01:42:41.425927Z",
     "start_time": "2022-08-31T01:42:41.420973Z"
    }
   },
   "outputs": [
    {
     "name": "stdout",
     "output_type": "stream",
     "text": [
      "B\n",
      "C\n",
      "B\n",
      "A\n"
     ]
    }
   ],
   "source": [
    "P = bottom_up_lcs_path(X, Y)[1]\n",
    "m = len(X)\n",
    "n = len(Y)\n",
    "print_lcs(P, X, m, n)"
   ]
  },
  {
   "cell_type": "code",
   "execution_count": 12,
   "id": "d50e6f16",
   "metadata": {
    "ExecuteTime": {
     "end_time": "2022-08-31T01:43:57.737371Z",
     "start_time": "2022-08-31T01:43:57.728445Z"
    }
   },
   "outputs": [
    {
     "name": "stdout",
     "output_type": "stream",
     "text": [
      "G\n",
      "T\n",
      "A\n",
      "C\n",
      "A\n",
      "C\n",
      "G\n",
      "L\n",
      "A\n",
      "G\n",
      "A\n"
     ]
    }
   ],
   "source": [
    "X = \"AGGTDACTABCGLAGLADB\"\n",
    "Y = \"GXTACBCACGLACGCGBA\"\n",
    "P = bottom_up_lcs_path(X, Y)[1]\n",
    "m = len(X)\n",
    "n = len(Y)\n",
    "print_lcs(P, X, m, n)"
   ]
  },
  {
   "cell_type": "code",
   "execution_count": null,
   "id": "9d602335",
   "metadata": {},
   "outputs": [],
   "source": []
  }
 ],
 "metadata": {
  "kernelspec": {
   "display_name": "Python 3.8.6 64-bit",
   "language": "python",
   "name": "python3"
  },
  "language_info": {
   "codemirror_mode": {
    "name": "ipython",
    "version": 3
   },
   "file_extension": ".py",
   "mimetype": "text/x-python",
   "name": "python",
   "nbconvert_exporter": "python",
   "pygments_lexer": "ipython3",
   "version": "3.8.6"
  },
  "toc": {
   "base_numbering": 1,
   "nav_menu": {},
   "number_sections": true,
   "sideBar": true,
   "skip_h1_title": false,
   "title_cell": "Table of Contents",
   "title_sidebar": "Contents",
   "toc_cell": false,
   "toc_position": {},
   "toc_section_display": true,
   "toc_window_display": false
  },
  "varInspector": {
   "cols": {
    "lenName": 16,
    "lenType": 16,
    "lenVar": 40
   },
   "kernels_config": {
    "python": {
     "delete_cmd_postfix": "",
     "delete_cmd_prefix": "del ",
     "library": "var_list.py",
     "varRefreshCmd": "print(var_dic_list())"
    },
    "r": {
     "delete_cmd_postfix": ") ",
     "delete_cmd_prefix": "rm(",
     "library": "var_list.r",
     "varRefreshCmd": "cat(var_dic_list()) "
    }
   },
   "types_to_exclude": [
    "module",
    "function",
    "builtin_function_or_method",
    "instance",
    "_Feature"
   ],
   "window_display": false
  },
  "vscode": {
   "interpreter": {
    "hash": "e2cde104f4d18245c788b079dac12b495c585d850f7488bacbf703b0b6afa06c"
   }
  }
 },
 "nbformat": 4,
 "nbformat_minor": 5
}
