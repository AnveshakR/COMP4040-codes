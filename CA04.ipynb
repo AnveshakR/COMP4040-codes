{
 "cells": [
  {
   "cell_type": "markdown",
   "metadata": {},
   "source": [
    "- operations on d-ary heap:\n",
    "    - heapify()\n",
    "    - buildHeap()\n",
    "    - heapSort()\n",
    "- Merge k sorted arrays into one sorted array in O(n log k) time, where n is the total number of elements in the k arrays."
   ]
  },
  {
   "cell_type": "code",
   "execution_count": 15,
   "metadata": {},
   "outputs": [],
   "source": [
    "# To heapify subtree rooted at index i.\n",
    "# n is size of heap\n",
    "# k is the order of the heap\n",
    "\n",
    "# Build a max heap\n",
    "def heapify_max(A, k, n, i):\n",
    "    largest = i # Initialize largest as root of the subtree\n",
    "\n",
    "    for j in range(1,k+1): # loop through all children and see if greater than root\n",
    "        child = (k*i)+j\n",
    "        if child < n and A[largest] < A[child]:\n",
    "            largest = child # if greater than root then swap\n",
    "\n",
    "    # Change root, if needed\n",
    "    if largest != i:\n",
    "        A[i], A[largest] = A[largest], A[i] # swap\n",
    "        # Heapify the root.\n",
    "        heapify_max(A, k, n, largest)\n",
    "\n",
    "# Build a heap\n",
    "def buildHeap_max(A, k):\n",
    "    n = len(A)\n",
    "    # Build a maxheap.\n",
    "    # Since last parent will be at ((n//2)-1) we can start at that location.\n",
    "    # Build a heap from bottom up\n",
    "    for i in range(n // 2 - 1, -1, -1):\n",
    "        heapify_max(A, k, n, i)\n",
    "\n",
    "# The main function to sort an array of given size\n",
    "def heapSort_max(A, k):\n",
    "    n = len(A)\n",
    "    buildHeap_max(A, k)\n",
    "    # One by one extract elements\n",
    "    print('Sorted array is:', end= \" \")\n",
    "    for i in range(n - 1, -1, -1):\n",
    "        print(A[0], end=\" \")\n",
    "        A[i], A[0] = A[0], A[i] # swap\n",
    "        heapify_max(A, k, i, 0)\n"
   ]
  },
  {
   "cell_type": "code",
   "execution_count": 14,
   "metadata": {},
   "outputs": [
    {
     "name": "stdout",
     "output_type": "stream",
     "text": [
      "Sorted array is: 30 18 17 15 15 15 14 13 8 7 7 6 5 "
     ]
    }
   ],
   "source": [
    "A = [5, 6, 7, 14, 13, 15, 7, 8, 15, 30, 15, 17, 18]\n",
    "k = 2\n",
    "\n",
    "heapSort_max(A, k)"
   ]
  },
  {
   "cell_type": "code",
   "execution_count": 4,
   "metadata": {},
   "outputs": [
    {
     "name": "stdout",
     "output_type": "stream",
     "text": [
      "Merged array is:\n",
      "1 1 2 2 3 3 4 5 5 6 8 8 9 10 11 13 21 3000 4000 5000 \n"
     ]
    }
   ],
   "source": [
    "import sys\n",
    "\n",
    "# assuming min-heap starting at index 0\n",
    "\n",
    "class MinHeapNode: # defining class for each node\n",
    "\telement = 0\n",
    "\n",
    "\ti, j = 0, 0\n",
    "\n",
    "\tdef __init__(self, element, i, j): # node constructor\n",
    "\t\tself.element = element\n",
    "\t\tself.i = i\n",
    "\t\tself.j = j\n",
    "\t\t\n",
    "\n",
    "class MinHeap: #defining class for the entire heap\n",
    "\theap = None\n",
    "\t\n",
    "\theap_size = 0\n",
    "\t\n",
    "\tdef __init__(self, a, size): # heap constructor\n",
    "\t\tself.heap_size = size\n",
    "\t\tself.heap = a\n",
    "\t\ti = int((self.heap_size - 1) / 2)\n",
    "\t\twhile (i >= 0):\n",
    "\t\t\tself.MinHeapify(i)\n",
    "\t\t\ti -= 1\n",
    "\t\t\t\n",
    "\tdef MinHeapify(self, i): # function to heapify subtrees into main tree, assumes subtrees are already heapified\n",
    "\t\tl = self.left(i)\n",
    "\t\tr = self.right(i)\n",
    "\t\tsmallest = i\n",
    "\t\tif (l < self.heap_size and self.heap[l].element < self.heap[i].element):\n",
    "\t\t\tsmallest = l\n",
    "\t\tif (r < self.heap_size and self.heap[r].element < self.heap[smallest].element):\n",
    "\t\t\tsmallest = r\n",
    "\t\tif (smallest != i):\n",
    "\t\t\tself.swap(self.heap, i, smallest)\n",
    "\t\t\tself.MinHeapify(smallest)\n",
    "\t\t\n",
    "\tdef left(self, i): # get index of left child of node at index i\n",
    "\t\treturn (2 * i + 1)\n",
    "\t\n",
    "\tdef right(self, i): # get index of right child of node at index i\n",
    "\t\treturn (2 * i + 2)\n",
    "\t\n",
    "\tdef getMin(self): # get root of heap\n",
    "\t\tif (self.heap_size <= 0):\n",
    "\t\t\tprint(\"Heap underflow\")\n",
    "\t\t\treturn None\n",
    "\t\treturn self.heap[0]\n",
    "\n",
    "\tdef replaceMin(self, root): # replace root with new node if it is smaller \n",
    "\t\tself.heap[0] = root\n",
    "\t\tself.MinHeapify(0)\n",
    "\t\t\n",
    "\tdef swap(self, arr, i, j): # swap two nodes\n",
    "\t\ttemp = arr[i]\n",
    "\t\tarr[i] = arr[j]\n",
    "\t\tarr[j] = temp\n",
    "\t\t\n",
    "\t@staticmethod\n",
    "\tdef printArray(arr): # print the array\n",
    "\t\tfor i in arr:\n",
    "\t\t\tprint(str(i) + \" \", end =\"\")\n",
    "\t\tprint()\n",
    "\t\t\n",
    "\t@staticmethod\n",
    "\tdef mergeKSortedArrays(arr, K): # merges k sorted arrays\n",
    "\t\theap = [None] * (K)\n",
    "\t\tresultSize = 0\n",
    "\t\ti = 0\n",
    "\t\twhile (i < len(arr)):\n",
    "\t\t\tnode = MinHeapNode(arr[i][0], i, 1)\n",
    "\t\t\theap[i] = node\n",
    "\t\t\tresultSize += len(arr[i])\n",
    "\t\t\ti += 1\n",
    "\t\t\t\n",
    "\t\tmh = MinHeap(heap, K) # create min-heap with first element of every array\n",
    "\t\tresult = [0] * (resultSize)\n",
    "\t\n",
    "\t\ti = 0\n",
    "\t\twhile (i < resultSize): # heapify, get minimum element, remove it and replace with next number from same array\n",
    "\t\t\n",
    "\t\t\troot = mh.getMin()\n",
    "\t\t\tresult[i] = root.element\n",
    "\n",
    "\t\t\tif (root.j < len(arr[root.i])):\n",
    "\t\t\t\troot.element = arr[root.i][root.j]\n",
    "\t\t\t\troot.j += 1\n",
    "\t\t\telse:\n",
    "\t\t\t\troot.element = sys.maxsize\n",
    "\n",
    "\t\t\tmh.replaceMin(root)\n",
    "\t\t\ti += 1\n",
    "\t\tMinHeap.printArray(result)\n",
    "\t\n",
    "\t@staticmethod\n",
    "\tdef main(args): # main method\n",
    "\t\tarr = [[2, 4, 6, 8, 10, 5000], [1, 3, 5, 9, 11, 4000], [1, 2, 3, 5, 8, 13, 21, 3000]]\n",
    "\t\tprint(\"Merged array is:\")\n",
    "\n",
    "\t\tMinHeap.mergeKSortedArrays(arr, len(arr))\n",
    "\t\n",
    "if __name__==\"__main__\":\n",
    "\tMinHeap.main([])"
   ]
  },
  {
   "cell_type": "code",
   "execution_count": null,
   "metadata": {},
   "outputs": [],
   "source": []
  }
 ],
 "metadata": {
  "kernelspec": {
   "display_name": "Python 3.8.6 64-bit",
   "language": "python",
   "name": "python3"
  },
  "language_info": {
   "codemirror_mode": {
    "name": "ipython",
    "version": 3
   },
   "file_extension": ".py",
   "mimetype": "text/x-python",
   "name": "python",
   "nbconvert_exporter": "python",
   "pygments_lexer": "ipython3",
   "version": "3.8.6 (tags/v3.8.6:db45529, Sep 23 2020, 15:52:53) [MSC v.1927 64 bit (AMD64)]"
  },
  "orig_nbformat": 4,
  "vscode": {
   "interpreter": {
    "hash": "e2cde104f4d18245c788b079dac12b495c585d850f7488bacbf703b0b6afa06c"
   }
  }
 },
 "nbformat": 4,
 "nbformat_minor": 2
}
