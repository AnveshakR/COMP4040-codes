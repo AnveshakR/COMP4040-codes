{
 "cells": [
  {
   "cell_type": "markdown",
   "id": "acd226a6",
   "metadata": {},
   "source": [
    "# Quicksort\n",
    "\n",
    "Quicksort is a three-way divide-and-conquer procedure for sorting an array. Let $A[p..r]$ be a subarray.\n",
    "\n",
    "Divide: Partition (rearrange) the array $A[p..r]$ into two (possibly empty) subarrays $A[p..q-1]$ and $A[q+1..r]$\n",
    "such that each element of $A[p..q-1]$ is less than or equal to $A[q]$, which, in turn, is less than or equal to\n",
    "every element of $A[q+1..r]$. Compute the index $q$ as part of the partition process. Instead of selecting at random a pivot from $A[p..r]$, in practice, we may simply use the leftmost or the rightmost element as the pivot. For example, let us use $A[r]$ as the pivot and a pointer ptr initially set to $p$. For each number in $A[p..r-1]$, if it is less than the pivot then swap the number and the pivot and increase the pointer by 1. At the end, swap the pivot $A[r]$ with $A[ptr]$, where $q$ is the value of the pointer.\n",
    "\n",
    "Conquer: Sort the two subarrays $A[p..q-1]$ and $A[q+1..r]$ by recursive calls to quicksort.\n",
    "\n",
    "Combine: Because the subarrays are already sorted, no work is needed to combine them: the entire array $A[p..r]$\n",
    "is now sorted.\n"
   ]
  },
  {
   "cell_type": "code",
   "execution_count": 21,
   "id": "9f0382c0",
   "metadata": {
    "ExecuteTime": {
     "end_time": "2022-09-20T13:48:14.830952Z",
     "start_time": "2022-09-20T13:48:14.803327Z"
    }
   },
   "outputs": [],
   "source": [
    "# Python program for implementation of Quicksort Sort\n",
    " \n",
    "# This implementation utilizes pivot as the last element in A\n",
    "# It has a pointer to keep track of the elements smaller than the pivot\n",
    "# At the very end of partition() function, the pointer is swapped with the pivot\n",
    "# to come up with a \"sorted\" nums relative to the pivot\n",
    " \n",
    "def partition(A, p, r):\n",
    "    # Last element will be the pivot and the first element the pointer\n",
    "    pivot, ptr = A[r], p\n",
    "    for i in range(p, r):\n",
    "        if A[i] < pivot: ### Pivot comparison\n",
    "            # Swapping values smaller than the pivot to the front\n",
    "            A[i], A[ptr] = A[ptr], A[i]\n",
    "            ptr += 1\n",
    "    # Finally swapping the last element with the pointer indexed number\n",
    "    A[ptr], A[r] = A[r], A[ptr]\n",
    "    return ptr\n",
    " \n",
    "# With quicksort() function, we will be utilizing the above code to obtain the pointer\n",
    "# at which the left values are all smaller than the number at pointer index and vice versa\n",
    "# for the right values.\n",
    " \n",
    "def quickSort(A, p, r):\n",
    "    if len(A) == 1:  # Terminating Condition for recursion. VERY IMPORTANT!\n",
    "        return A\n",
    "    if p < r:\n",
    "        q = partition(A, p, r)\n",
    "        quickSort(A, p, q-1)  # Recursively sorting the left values\n",
    "        quickSort(A, q+1, r)  # Recursively sorting the right values\n",
    "    return A\n",
    " "
   ]
  },
  {
   "cell_type": "code",
   "execution_count": 22,
   "id": "a55aab4b",
   "metadata": {
    "ExecuteTime": {
     "end_time": "2022-09-20T13:48:15.509467Z",
     "start_time": "2022-09-20T13:48:15.500357Z"
    }
   },
   "outputs": [
    {
     "name": "stdout",
     "output_type": "stream",
     "text": [
      "[0, 1, 2, 3, 4, 5]\n",
      "[1, 2, 2, 3, 4, 4, 5, 6, 6, 7, 8]\n"
     ]
    }
   ],
   "source": [
    "A = [4, 5, 1, 2, 3, 0]\n",
    "#A = [1, 2, 3, 4, 5]\n",
    "print(quickSort(A, 0, len(A)-1))\n",
    " \n",
    "B = [2, 5, 6, 1, 4, 6, 2, 4, 7, 8, 3]\n",
    "#B = [1, 2, 2, 4, 4, 5, 6, 6, 7, 8]\n",
    "# As you can see, it works for duplicates too\n",
    "print(quickSort(B, 0, len(B)-1))"
   ]
  },
  {
   "cell_type": "markdown",
   "id": "3948d399",
   "metadata": {},
   "source": [
    "# Complexity Analysis\n",
    "\n",
    "The time complexity depends on whether the partition component of the algorithm separates the current array into two subarrays of proximately the same size. If it is, then the running time of quick sort can be determined by the following recurrence relation:\n",
    "$$T(n) = 2T(n/2) + cn$$\n",
    "for some positive constant $c$.\n",
    "Using the technique we learned earlier, it's straightforward to show that\n",
    "$T(n) = \\Theta(n\\log n)$.\n",
    "\n",
    "However, in the worst case of partitioning, one subarray may always end up with only 1 element each time, leading to the worst-case complexity of $\\Theta(n\\cdot n) = \\Theta(n^2)$ because partitioning $A[p..q]$ takes $\\Theta(q-p) = \\Theta(n)$ time and\n",
    "the number of partitioning is $(q-p)/2 = \\Theta(n)$.\n",
    "\n",
    "One way to improve the performance of quicksort is to use randomization. We can do so in two ways: (1) Perform random permutation on the input array each time. (2) Sample at random from the input array a pivot. With minor modifications to the Python code above, it's straightforward to implement these two modifications, which are left to you to work it out. "
   ]
  },
  {
   "cell_type": "markdown",
   "id": "ed16ae2d",
   "metadata": {},
   "source": [
    "# Probabilistic Analysis\n",
    "\n",
    "Now let's perform a probabilistic analysis.\n",
    "As discussed before, the running time of quicksort depends on partitioning, which really depends on the total number $X$ of comparisons to the pivots in all iterations. Since there may be $O(n)$ pivots, quicksort runs in time $O(n+X)$. However, we don't know what the value $X$ is before executing quicksort on a given input array. \n",
    "\n",
    "Probabilistic analysis comes to our aid, for it's possible to figure out the expected value of $X$ under the assumption that each number in the input array appears equally likely. To do so, we'd need to understand exactly when quicksort compares two elements of the input array and when it does not. For ease of analysis, we\n",
    "rename the elements of $A$ as $z_1, z_2, \\ldots, z_n$ with $z_i$ being the $i$-th smallest.\n",
    "Let $Z_{ij} =\\{z_i, \\ldots, z_j\\}$ with $i < j$.\n",
    "\n",
    "When does quickshort compare $z_i$ and $z_j$?\n",
    "To answer this question, we first\n",
    "observe that each pair of elements is compared at most once. Reason: Elements\n",
    "are compared only to the pivot element and, after a particular call of partition(A, p, r)\n",
    "finishes, the pivot element used in that call is never again compared to any other\n",
    "elements.\n",
    "\n",
    "Let $X_{ij}$ be a random variable such that $X_{ij} = 1$ if $z_i$ is compared to $z_j$ and 0 otherwise. Then\n",
    "$$X = \\sum_{i=1}^{n-1}\\sum_{j=i+1}^n X_{ij}.$$\n",
    "Once we figure this out, what we want to do is to compute $E[X]$, the expected value of $X$, under the assumption that\n",
    "any element in $Z_{ij}$ is equally likely to be chosen as a pivot. In other words, $p(\\mbox{$z_k \\in Z_{ij}$ is chosen as pivot}) = 1/(j-i+1)$. Thus,\n",
    "\n",
    "\\begin{eqnarray*}\n",
    "E[X] &=& \\sum_{i=1}^{n-1}\\sum_{j=i+1}^n E[X_{ij}] \\\\\n",
    "&=& \\sum_{i=1}^{n-1}\\sum_{j=i+1}^n 1 \\cdot p(X_{ij} = 1) \\\\\n",
    "&=& \\sum_{i=1}^{n-1}\\sum_{j=i+1}^n p(\\mbox{either $z_i$ or $z_j$ is chosen as pivot}) \\\\\n",
    "&=& \\sum_{i=1}^{n-1}\\sum_{j=i+1}^n (p(\\mbox{either $z_i$ is chosen as pivot}) + p(\\mbox{either $z_j$ is chosen as pivot}))\\\\\n",
    "&=& \\sum_{i=1}^{n-1}\\sum_{j=i+1}^n(1/(j-i+1) + 1/(j-i+1)) \\\\\n",
    "&=& \\sum_{i=1}^{n-1}\\sum_{j=i+1}^n(2/(j-i+1)).\n",
    "\\end{eqnarray*}\n",
    "Let $k = j-i$, then\n",
    "\\begin{eqnarray*}\n",
    "E[X] &=& 2\\sum_{i=1}^{n-1}\\sum_{k=1}^{n-i}\\frac{1}{k+1} \\\\\n",
    "&<& 2\\sum_{i=1}^{n-1}\\sum_{k=1}^{n}\\frac{1}{k} \\\\\n",
    "&=& \\sum{i=1}^{n-1}O(\\log n) \\\\\n",
    "&=& O(n\\log n).\n",
    "\\end{eqnarray*}\n",
    "Thus, quicksort runs in $O(n\\log n)$ expected time under the assumption that each number in $A$ appears equally likely.\n",
    "\n"
   ]
  },
  {
   "cell_type": "markdown",
   "id": "70e0f4c0",
   "metadata": {},
   "source": [
    "# Is QuickSort Stable?\n",
    "\n",
    "No. Reason: Swapping of the pivot element could violoate the stability.\n",
    "\n",
    "Can quickSort be made stable?\n",
    "\n",
    "Yes. Making quickSort stable can be done using extra $O(n)$ space. The idea is to make two separate lists: The first list contains items smaller than or equal to the pivot. The second list contains items greater than or equal to the pivot so that stability on keys equal to the pivot is maintained."
   ]
  },
  {
   "cell_type": "code",
   "execution_count": 33,
   "id": "1aeedf12",
   "metadata": {
    "ExecuteTime": {
     "end_time": "2022-09-20T14:48:23.198607Z",
     "start_time": "2022-09-20T14:48:23.170983Z"
    }
   },
   "outputs": [],
   "source": [
    "# Python code to implement Stable QuickSort.\n",
    "# The code uses middle element as pivot.\n",
    "def quickSortStable(A): # A is a list of pairs. Sorting is on the first elementt\n",
    "\n",
    "    # Base case\n",
    "    if len(A) <= 1:\n",
    "        return A\n",
    "    \n",
    "    # Let us choose the middle element as a pivot\n",
    "    else:\n",
    "        mid = len(A)//2\n",
    "        pivot = A[mid]\n",
    "\n",
    "        # key element is used to break the array\n",
    "        # into 2 halves according to their values\n",
    "        smaller, greater = [], []\n",
    "\n",
    "        # Put greater elements in greater list,\n",
    "        # smaller elements in smaller list. Also,\n",
    "        # compare positions to decide where to put.\n",
    "        for indx, val in enumerate(A):\n",
    "            if indx != mid:\n",
    "                if val[0] < pivot[0]:\n",
    "                    smaller.append(val)\n",
    "                elif val[0] > pivot[0]:\n",
    "                    greater.append(val)\n",
    "\n",
    "                # If value is the same, then considering\n",
    "                # position to decide the list\n",
    "                else:\n",
    "                    if indx < mid:\n",
    "                        smaller.append(val)\n",
    "                    else:\n",
    "                        greater.append(val)\n",
    "        return quickSortStable(smaller) + [pivot] + quickSortStable(greater)\n",
    "\n"
   ]
  },
  {
   "cell_type": "code",
   "execution_count": 34,
   "id": "ddd1a660",
   "metadata": {
    "ExecuteTime": {
     "end_time": "2022-09-20T14:48:23.920735Z",
     "start_time": "2022-09-20T14:48:23.911683Z"
    }
   },
   "outputs": [
    {
     "name": "stdout",
     "output_type": "stream",
     "text": [
      "[(1, 1), (1, 2), (2, 1), (2, 2), (3, 1), (3, 2), (7, 3), (8, 1), (9, 10), (10, 2)]\n"
     ]
    }
   ],
   "source": [
    "# Driver code to test above\n",
    "A = [(10,2), (7,3), (8,1), (9,10), (1,1), (1,2), (2,1), (2,2), (3,1), (3,2)]\n",
    "sortedA = quickSortStable(A)\n",
    "print(sortedA)"
   ]
  },
  {
   "cell_type": "code",
   "execution_count": null,
   "id": "f25b0430",
   "metadata": {},
   "outputs": [],
   "source": []
  }
 ],
 "metadata": {
  "kernelspec": {
   "display_name": "Python 3 (ipykernel)",
   "language": "python",
   "name": "python3"
  },
  "language_info": {
   "codemirror_mode": {
    "name": "ipython",
    "version": 3
   },
   "file_extension": ".py",
   "mimetype": "text/x-python",
   "name": "python",
   "nbconvert_exporter": "python",
   "pygments_lexer": "ipython3",
   "version": "3.8.6"
  },
  "toc": {
   "base_numbering": 1,
   "nav_menu": {},
   "number_sections": true,
   "sideBar": true,
   "skip_h1_title": false,
   "title_cell": "Table of Contents",
   "title_sidebar": "Contents",
   "toc_cell": false,
   "toc_position": {
    "height": "calc(100% - 180px)",
    "left": "10px",
    "top": "150px",
    "width": "165px"
   },
   "toc_section_display": true,
   "toc_window_display": true
  },
  "varInspector": {
   "cols": {
    "lenName": 16,
    "lenType": 16,
    "lenVar": 40
   },
   "kernels_config": {
    "python": {
     "delete_cmd_postfix": "",
     "delete_cmd_prefix": "del ",
     "library": "var_list.py",
     "varRefreshCmd": "print(var_dic_list())"
    },
    "r": {
     "delete_cmd_postfix": ") ",
     "delete_cmd_prefix": "rm(",
     "library": "var_list.r",
     "varRefreshCmd": "cat(var_dic_list()) "
    }
   },
   "types_to_exclude": [
    "module",
    "function",
    "builtin_function_or_method",
    "instance",
    "_Feature"
   ],
   "window_display": false
  },
  "vscode": {
   "interpreter": {
    "hash": "e2cde104f4d18245c788b079dac12b495c585d850f7488bacbf703b0b6afa06c"
   }
  }
 },
 "nbformat": 4,
 "nbformat_minor": 5
}
