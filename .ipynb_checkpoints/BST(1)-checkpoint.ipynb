{
 "cells": [
  {
   "cell_type": "markdown",
   "id": "54ad5e28",
   "metadata": {},
   "source": [
    "# Binary Search Trees (BST)\n",
    "\n",
    "A binary search tree is a data structure that stores keys (numerical values or ordered items) in a binary tree such that the value of each internal node is greater than or equal to that of its left child (if exists) and strictly less than that of its right child (if exists).\n",
    "\n",
    "It is evident that the inorder traversal sorts the keys in the ascending order. \n",
    "\n",
    "Bineary tree operations including insert a key, delete a key, and inorder traversal of the tree.\n",
    "\n",
    "To insert a key $k$, repeat the following: if $k$ is less than or equal to that of the root, \n",
    "go to its left child; otherwise go to its right child until it reaches Null. If the Null node is the left child of its parent node $prev$, insert $k$ as the left child of the parent $prev$, otherwise, insert $k$ as the right child of $prev\". (Note that this insertion would wind up sorting unstable. How to modify the insertion procedure to make sorting stable is left to the reader as an exercise.)\n",
    "\n",
    "To delete a key $k$, repeat the following: start from the root and compare $k$ with the key $k'$ of the current node. If $k < k'$, go to its left child. If $k > k'$, go to its right child. If $k = k'$, delete the current node, and replace it with the rightmost node of its left substree or the leftmost node of its right subtree, whichever is available. If both are available, then replace it with either one if you're not asked to balance the tree.\n",
    "\n",
    "To balance a BST and maintain it, insertion and deletion would require extra operations. AVL trees (you should have seen it in Computing II) and red-black trees are balanced BSTs."
   ]
  },
  {
   "cell_type": "code",
   "execution_count": 1,
   "id": "456a5516",
   "metadata": {
    "ExecuteTime": {
     "end_time": "2022-08-28T19:31:24.372743Z",
     "start_time": "2022-08-28T19:31:24.349244Z"
    }
   },
   "outputs": [],
   "source": [
    "class BST:\n",
    "    def __init__(self, val=None):\n",
    "        self.left = None\n",
    "        self.right = None\n",
    "        self.val = val\n",
    "\n",
    "    def insert(self, val):\n",
    "        if not self.val: # if empty node\n",
    "            self.val = val\n",
    "            return\n",
    "\n",
    "        # if self.val == val:\n",
    "        #    need to do something to make sorting stable. For now, we ignore it.\n",
    "\n",
    "        if val <= self.val:\n",
    "            if self.left: # if left link is not null\n",
    "                self.left.insert(val)\n",
    "                return\n",
    "            self.left = BST(val)\n",
    "            return\n",
    "\n",
    "        if self.right:\n",
    "            self.right.insert(val)\n",
    "            return\n",
    "        self.right = BST(val)\n",
    "\n",
    "    def delete(self, val):\n",
    "        if self == None:\n",
    "            print(val, \"is not found.\")\n",
    "            return self\n",
    "        if val < self.val:\n",
    "            if self.left:\n",
    "                self.left = self.left.delete(val)\n",
    "            return self\n",
    "        if val > self.val:\n",
    "            if self.right:\n",
    "                self.right = self.right.delete(val)\n",
    "            return self\n",
    "        if self.right == None:\n",
    "            return self.left\n",
    "        if self.left == None:\n",
    "            return self.right\n",
    "        min_larger_node = self.right # find the smallest key in the right subtree\n",
    "        while min_larger_node.left:\n",
    "            min_larger_node = min_larger_node.left\n",
    "        self.val = min_larger_node.val \n",
    "        # The node to be deleted is not physically deleted, but with its value replaced with min_larger_node\n",
    "        self.right = self.right.delete(min_larger_node.val)\n",
    "        return self\n",
    "    \n",
    "    def get_min(self):\n",
    "        current = self\n",
    "        while current.left is not None:\n",
    "            current = current.left\n",
    "        return current.val\n",
    "\n",
    "    def get_max(self):\n",
    "        current = self\n",
    "        while current.right is not None:\n",
    "            current = current.right\n",
    "        return current.val\n",
    "\n",
    "    def exists(self, val):\n",
    "        if val == self.val:\n",
    "            return True\n",
    "\n",
    "        if val < self.val:\n",
    "            if self.left == None:\n",
    "                return False\n",
    "            return self.left.exists(val)\n",
    "\n",
    "        if self.right == None:\n",
    "            return False\n",
    "        return self.right.exists(val)\n",
    "\n",
    "    def preorder(self, vals):\n",
    "        if self.val is not None:\n",
    "            vals.append(self.val)\n",
    "        if self.left is not None:\n",
    "            self.left.preorder(vals)\n",
    "        if self.right is not None:\n",
    "            self.right.preorder(vals)\n",
    "        return vals\n",
    "\n",
    "    def inorder(self, vals):\n",
    "        if self.left is not None:\n",
    "            self.left.inorder(vals)\n",
    "        if self.val is not None:\n",
    "            vals.append(self.val)\n",
    "        if self.right is not None:\n",
    "            self.right.inorder(vals)\n",
    "        return vals\n",
    "\n",
    "    def postorder(self, vals):\n",
    "        if self.left is not None:\n",
    "            self.left.postorder(vals)\n",
    "        if self.right is not None:\n",
    "            self.right.postorder(vals)\n",
    "        if self.val is not None:\n",
    "            vals.append(self.val)\n",
    "        return vals"
   ]
  },
  {
   "cell_type": "code",
   "execution_count": 5,
   "id": "be3d0b76",
   "metadata": {
    "ExecuteTime": {
     "end_time": "2022-08-28T19:38:25.857908Z",
     "start_time": "2022-08-28T19:38:25.845802Z"
    }
   },
   "outputs": [
    {
     "name": "stdout",
     "output_type": "stream",
     "text": [
      "[30, 15, 10, 20, 50, 40, 40, 60]\n",
      "[10, 15, 20, 30, 40, 40, 50, 60]\n",
      "[10, 20, 15, 40, 40, 60, 50, 30]\n"
     ]
    }
   ],
   "source": [
    "class Test :\n",
    "    @staticmethod\n",
    "    def main(args):\n",
    "        tree = BST()\n",
    "        tree.insert(30)\n",
    "        tree.insert(50)\n",
    "        tree.insert(15)\n",
    "        tree.insert(20)\n",
    "        tree.insert(10)\n",
    "        tree.insert(40)\n",
    "        tree.insert(40)\n",
    "        tree.insert(60)\n",
    "        vals =[]\n",
    "        tree.preorder(vals)\n",
    "        print(vals)\n",
    "        vals =[]\n",
    "        tree.inorder(vals)\n",
    "        print(vals)\n",
    "        vals = []\n",
    "        tree.postorder(vals)\n",
    "        print(vals)\n",
    "        \n",
    "if __name__== \"__main__\":\n",
    "    Test.main([])"
   ]
  },
  {
   "cell_type": "markdown",
   "id": "bd295a08",
   "metadata": {},
   "source": [
    "# Complexity Analysis\n",
    "\n",
    "If the BST is balanced, namely, the height of the tree is $\\log n$ with $n$ being the number of nodes in the tree, then inserting or deleting a node each takes $O(\\log n)$ steps. Thus, Constructing a BST for $n$ numbers takes $O(n\\log n)$ time if the tree resulting from each insertion is balanced.\n",
    "\n"
   ]
  },
  {
   "cell_type": "code",
   "execution_count": null,
   "id": "6215ec0a",
   "metadata": {},
   "outputs": [],
   "source": []
  }
 ],
 "metadata": {
  "kernelspec": {
   "display_name": "Python 3 (ipykernel)",
   "language": "python",
   "name": "python3"
  },
  "language_info": {
   "codemirror_mode": {
    "name": "ipython",
    "version": 3
   },
   "file_extension": ".py",
   "mimetype": "text/x-python",
   "name": "python",
   "nbconvert_exporter": "python",
   "pygments_lexer": "ipython3",
   "version": "3.8.6"
  },
  "toc": {
   "base_numbering": 1,
   "nav_menu": {},
   "number_sections": true,
   "sideBar": true,
   "skip_h1_title": false,
   "title_cell": "Table of Contents",
   "title_sidebar": "Contents",
   "toc_cell": false,
   "toc_position": {},
   "toc_section_display": true,
   "toc_window_display": false
  },
  "varInspector": {
   "cols": {
    "lenName": 16,
    "lenType": 16,
    "lenVar": 40
   },
   "kernels_config": {
    "python": {
     "delete_cmd_postfix": "",
     "delete_cmd_prefix": "del ",
     "library": "var_list.py",
     "varRefreshCmd": "print(var_dic_list())"
    },
    "r": {
     "delete_cmd_postfix": ") ",
     "delete_cmd_prefix": "rm(",
     "library": "var_list.r",
     "varRefreshCmd": "cat(var_dic_list()) "
    }
   },
   "types_to_exclude": [
    "module",
    "function",
    "builtin_function_or_method",
    "instance",
    "_Feature"
   ],
   "window_display": false
  }
 },
 "nbformat": 4,
 "nbformat_minor": 5
}
