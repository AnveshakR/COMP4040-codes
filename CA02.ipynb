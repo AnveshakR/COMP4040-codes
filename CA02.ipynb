{
 "cells": [
  {
   "cell_type": "code",
   "execution_count": 21,
   "metadata": {},
   "outputs": [],
   "source": [
    "a = [5, 8, 10, 45, 67, 22, 30]"
   ]
  },
  {
   "cell_type": "code",
   "execution_count": 23,
   "metadata": {},
   "outputs": [
    {
     "name": "stdout",
     "output_type": "stream",
     "text": [
      "Unsorted:  [5, 8, 10, 22, 30, 45, 67]\n",
      "Sorted:  [5, 8, 10, 22, 30, 45, 67]\n"
     ]
    }
   ],
   "source": [
    "def mergeSort(a): # driver function\n",
    "\n",
    "    width = 1 # assuming size of smallest array as 1\n",
    "    n = len(a)\n",
    "    while (width < n):\n",
    "        l=0 # starting from left of array\n",
    "        while (l < n): \n",
    "            r = min(l+(width*2-1), n-1)         \n",
    "            m = min(l+width-1,n-1) # consideration for non 2-power sized input         \n",
    "            merge(a, l, m, r)\n",
    "            l += width*2\n",
    "        width *= 2 # increasing sub array size by powers of 2\n",
    "    return a\n",
    "    \n",
    "def merge(a, l, m, r): # main merge function\n",
    "    n1 = m - l + 1\n",
    "    n2 = r - m \n",
    "    L = [0] * n1 \n",
    "    R = [0] * n2 \n",
    "    for i in range(0, n1): \n",
    "        L[i] = a[l + i] \n",
    "    for i in range(0, n2): \n",
    "        R[i] = a[m + i + 1] \n",
    "  \n",
    "    i, j, k = 0, 0, l \n",
    "    while i < n1 and j < n2: \n",
    "        if L[i] <= R[j]: \n",
    "            a[k] = L[i] \n",
    "            i += 1\n",
    "        else: \n",
    "            a[k] = R[j] \n",
    "            j += 1\n",
    "        k += 1\n",
    "  \n",
    "    while i < n1: \n",
    "        a[k] = L[i] \n",
    "        i += 1\n",
    "        k += 1\n",
    "  \n",
    "    while j < n2: \n",
    "        a[k] = R[j] \n",
    "        j += 1\n",
    "        k += 1\n",
    "  \n",
    "  \n",
    "print(\"Unsorted: \", a)\n",
    "  \n",
    "print(\"Sorted: \", mergeSort(a))"
   ]
  },
  {
   "cell_type": "code",
   "execution_count": null,
   "metadata": {},
   "outputs": [],
   "source": []
  }
 ],
 "metadata": {
  "kernelspec": {
   "display_name": "Python 3.8.6 64-bit",
   "language": "python",
   "name": "python3"
  },
  "language_info": {
   "codemirror_mode": {
    "name": "ipython",
    "version": 3
   },
   "file_extension": ".py",
   "mimetype": "text/x-python",
   "name": "python",
   "nbconvert_exporter": "python",
   "pygments_lexer": "ipython3",
   "version": "3.8.6"
  },
  "orig_nbformat": 4,
  "vscode": {
   "interpreter": {
    "hash": "e2cde104f4d18245c788b079dac12b495c585d850f7488bacbf703b0b6afa06c"
   }
  }
 },
 "nbformat": 4,
 "nbformat_minor": 2
}
