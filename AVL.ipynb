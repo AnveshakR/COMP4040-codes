{
 "cells": [
  {
   "cell_type": "markdown",
   "id": "887d4b68",
   "metadata": {},
   "source": [
    "# Review of AVL Trees\n",
    "\n",
    "AVL stands for Adelson-Velskii-Landis. A binary search tree is called an AVL tree if the difference between the heights of the right subtree and left subtree of every node is either -1, 0 or 1. The difference between the heights of the subtree is maintained by an attributed named as balance factor. The balance factor equals the height of the left subtree - the height of the right subtree. In an AVL tree, each node has an extra attribute of height.\n"
   ]
  },
  {
   "cell_type": "code",
   "execution_count": 2,
   "id": "547b28c7",
   "metadata": {
    "ExecuteTime": {
     "end_time": "2022-10-13T01:50:29.544653Z",
     "start_time": "2022-10-13T01:50:29.496128Z"
    }
   },
   "outputs": [],
   "source": [
    "class treeNode(object):\n",
    "    def __init__(self, value):\n",
    "        self.value = value\n",
    "        self.l = None\n",
    "        self.r = None\n",
    "        self.h = 1\n",
    "\n",
    "class AVLTree(object):\n",
    "\n",
    "    def insert(self, root, key):\n",
    "    \n",
    "        if not root:\n",
    "            return treeNode(key)\n",
    "        elif key < root.value:\n",
    "            root.l = self.insert(root.l, key)\n",
    "        else:\n",
    "            root.r = self.insert(root.r, key)\n",
    "\n",
    "        root.h = 1 + max(self.getHeight(root.l), self.getHeight(root.r))\n",
    "\n",
    "        b = self.getBal(root)\n",
    "\n",
    "        if b > 1 and key < root.l.value:\n",
    "            return self.rRotate(root)\n",
    "\n",
    "        if b < -1 and key > root.r.value:\n",
    "            return self.lRotate(root)\n",
    "\n",
    "        if b > 1 and key > root.l.value:\n",
    "            root.l = self.lRotate(root.l)\n",
    "            return self.rRotate(root)\n",
    "\n",
    "        if b < -1 and key < root.r.value:\n",
    "            root.r = self.rRotate(root.r)\n",
    "            return self.lRotate(root)\n",
    "\n",
    "        return root\n",
    "\n",
    "    def lRotate(self, z):\n",
    "\n",
    "        y = z.r\n",
    "        T2 = y.l\n",
    "\n",
    "        y.l = z\n",
    "        z.r = T2\n",
    "\n",
    "        z.h = 1 + max(self.getHeight(z.l), self.getHeight(z.r))\n",
    "        y.h = 1 + max(self.getHeight(y.l), self.getHeight(y.r))\n",
    "\n",
    "        return y\n",
    "\n",
    "    def rRotate(self, z):\n",
    "\n",
    "        y = z.l\n",
    "        T3 = y.r\n",
    "\n",
    "        y.r = z\n",
    "        z.l = T3\n",
    "\n",
    "        z.h = 1 + max(self.getHeight(z.l), self.getHeight(z.r))\n",
    "        y.h = 1 + max(self.getHeight(y.l), self.getHeight(y.r))\n",
    "\n",
    "        return y\n",
    "\n",
    "    def getHeight(self, root):\n",
    "        if not root:\n",
    "            return 0\n",
    "\n",
    "        return root.h\n",
    "\n",
    "    def getBal(self, root):\n",
    "        if not root:\n",
    "            return 0\n",
    "\n",
    "        return self.getHeight(root.l) - self.getHeight(root.r)\n",
    "\n",
    "    def preOrder(self, root):\n",
    "        if not root:\n",
    "            return\n",
    "\n",
    "        print(\"{0} \".format(root.value), end=\"\")\n",
    "        self.preOrder(root.l)\n",
    "        self.preOrder(root.r)\n",
    "    \n",
    "    def inOrder(self, root):\n",
    "        if not root:\n",
    "            return\n",
    "        \n",
    "        self.inOrder(root.l)\n",
    "        print(\"{0} \".format(root.value), end=\"\")\n",
    "        self.inOrder(root.r)\n",
    "        \n",
    "    def postOrder(self, root):\n",
    "        if not root:\n",
    "            return\n",
    "        \n",
    "        self.inOrder(root.l)\n",
    "        self.inOrder(root.r)\n",
    "        print(\"{0} \".format(root.value), end=\"\")\n"
   ]
  },
  {
   "cell_type": "code",
   "execution_count": 13,
   "id": "c41158e9",
   "metadata": {
    "ExecuteTime": {
     "end_time": "2022-10-13T01:50:42.547112Z",
     "start_time": "2022-10-13T01:50:42.536120Z"
    }
   },
   "outputs": [
    {
     "name": "stdout",
     "output_type": "stream",
     "text": [
      "Preorder traversal of the constructed AVL tree is\n",
      "20 11 6 3 3 3 7 10 15 12 13 18 24 21 20 24 24 24 28 \n",
      "3 3 3 6 7 10 11 12 13 15 18 20 20 21 24 24 24 24 28 \n",
      "3 3 3 6 7 10 11 12 13 15 18 20 21 24 24 24 24 28 20 \n"
     ]
    }
   ],
   "source": [
    "# driver's code\n",
    "import random\n",
    "\n",
    "Tree = AVLTree()\n",
    "root = None\n",
    "\n",
    "for _ in range(1, 20):\n",
    "    root = Tree.insert(root, random.randrange(1,30))\n",
    "\n",
    "# Preorder Traversal\n",
    "print(\"Preorder traversal of the\", \"constructed AVL tree is\")\n",
    "Tree.preOrder(root)\n",
    "print()\n",
    "Tree.inOrder(root)\n",
    "print()\n",
    "Tree.postOrder(root)\n",
    "print()"
   ]
  },
  {
   "cell_type": "code",
   "execution_count": 12,
   "id": "fcddb934",
   "metadata": {},
   "outputs": [
    {
     "name": "stdout",
     "output_type": "stream",
     "text": [
      "Preorder traversal of the constructed AVL tree is\n",
      "3 2 1 5 4 9 7 \n",
      "1 2 3 4 5 7 9 \n",
      "1 2 4 5 7 9 3 \n"
     ]
    }
   ],
   "source": [
    "Tree = AVLTree()\n",
    "root = None\n",
    "\n",
    "key = [5, 1, 9, 2, 3, 4, 7]\n",
    "\n",
    "for x in key:\n",
    "    root = Tree.insert(root, x)\n",
    "\n",
    "# Preorder Traversal\n",
    "print(\"Preorder traversal of the\", \"constructed AVL tree is\")\n",
    "Tree.preOrder(root)\n",
    "print()\n",
    "Tree.inOrder(root)\n",
    "print()\n",
    "Tree.postOrder(root)\n",
    "print()"
   ]
  },
  {
   "cell_type": "code",
   "execution_count": null,
   "id": "572f3da4",
   "metadata": {},
   "outputs": [],
   "source": []
  }
 ],
 "metadata": {
  "kernelspec": {
   "display_name": "Python 3 (ipykernel)",
   "language": "python",
   "name": "python3"
  },
  "language_info": {
   "codemirror_mode": {
    "name": "ipython",
    "version": 3
   },
   "file_extension": ".py",
   "mimetype": "text/x-python",
   "name": "python",
   "nbconvert_exporter": "python",
   "pygments_lexer": "ipython3",
   "version": "3.8.6"
  },
  "toc": {
   "base_numbering": 1,
   "nav_menu": {},
   "number_sections": true,
   "sideBar": true,
   "skip_h1_title": false,
   "title_cell": "Table of Contents",
   "title_sidebar": "Contents",
   "toc_cell": false,
   "toc_position": {},
   "toc_section_display": true,
   "toc_window_display": false
  },
  "varInspector": {
   "cols": {
    "lenName": 16,
    "lenType": 16,
    "lenVar": 40
   },
   "kernels_config": {
    "python": {
     "delete_cmd_postfix": "",
     "delete_cmd_prefix": "del ",
     "library": "var_list.py",
     "varRefreshCmd": "print(var_dic_list())"
    },
    "r": {
     "delete_cmd_postfix": ") ",
     "delete_cmd_prefix": "rm(",
     "library": "var_list.r",
     "varRefreshCmd": "cat(var_dic_list()) "
    }
   },
   "types_to_exclude": [
    "module",
    "function",
    "builtin_function_or_method",
    "instance",
    "_Feature"
   ],
   "window_display": false
  },
  "vscode": {
   "interpreter": {
    "hash": "e2cde104f4d18245c788b079dac12b495c585d850f7488bacbf703b0b6afa06c"
   }
  }
 },
 "nbformat": 4,
 "nbformat_minor": 5
}
